{
 "cells": [
  {
   "cell_type": "code",
   "execution_count": 1,
   "metadata": {},
   "outputs": [
    {
     "data": {
      "text/plain": [
       "['apple', 'orange', 'grape', 'banana', 'guva']"
      ]
     },
     "execution_count": 1,
     "metadata": {},
     "output_type": "execute_result"
    }
   ],
   "source": [
    "s=\"apple;orange;grape;banana;guva\"\n",
    "s.split(\";\")"
   ]
  },
  {
   "cell_type": "code",
   "execution_count": 2,
   "metadata": {},
   "outputs": [
    {
     "data": {
      "text/plain": [
       "'apple$orange$grape$banana$guva'"
      ]
     },
     "execution_count": 2,
     "metadata": {},
     "output_type": "execute_result"
    }
   ],
   "source": [
    "s=\"apple;orange;grape;banana;guva\"\n",
    "s.replace(\";\",\"$\")"
   ]
  },
  {
   "cell_type": "code",
   "execution_count": 3,
   "metadata": {},
   "outputs": [
    {
     "name": "stdout",
     "output_type": "stream",
     "text": [
      "['apple', 'orange', 'grape', 'banana', 'guva']\n"
     ]
    }
   ],
   "source": [
    "s='apple$orange$grape$banana$guva'\n",
    "print(s.split('$'))"
   ]
  },
  {
   "cell_type": "code",
   "execution_count": 5,
   "metadata": {},
   "outputs": [
    {
     "name": "stdout",
     "output_type": "stream",
     "text": [
      "['apple', 'orange', 'grape', 'banana']\n"
     ]
    }
   ],
   "source": [
    "s='apple$orange%grape&banana#guva'\n",
    "sub=\"\"\n",
    "res=[]\n",
    "for i in s:\n",
    "    if i.isalnum():\n",
    "        sub=sub+i\n",
    "    else:\n",
    "        res.append(sub)\n",
    "        sub=\"\"\n",
    "print(res)\n",
    "        "
   ]
  },
  {
   "cell_type": "code",
   "execution_count": 6,
   "metadata": {},
   "outputs": [
    {
     "data": {
      "text/plain": [
       "['apple', 'orange', 'grape', 'banana', 'guva']"
      ]
     },
     "execution_count": 6,
     "metadata": {},
     "output_type": "execute_result"
    }
   ],
   "source": [
    "s='apple$orange%grape&banana#guva'\n",
    "import re\n",
    "re.split(\"[^0-9a-z]\",s)\n",
    "        "
   ]
  },
  {
   "cell_type": "code",
   "execution_count": 7,
   "metadata": {},
   "outputs": [
    {
     "name": "stdout",
     "output_type": "stream",
     "text": [
      "\n",
      "id,name,phone\n",
      "1,name1,9676622023\n",
      "2,name2,9676622024\n"
     ]
    }
   ],
   "source": [
    "s=\"\"\"\n",
    "id,name,phone\n",
    "1,name1,9676622023\n",
    "2,name2,9676622024\n",
    "\"\"\"\n",
    "for i in s.splitlines():\n",
    "    print(i)"
   ]
  },
  {
   "cell_type": "code",
   "execution_count": 8,
   "metadata": {},
   "outputs": [
    {
     "name": "stdout",
     "output_type": "stream",
     "text": [
      "['']\n",
      "['id', 'name', 'phone']\n",
      "['1', 'name1', '9676622023']\n",
      "['2', 'name2', '9676622024']\n"
     ]
    }
   ],
   "source": [
    "s=\"\"\"\n",
    "id,name,phone\n",
    "1,name1,9676622023\n",
    "2,name2,9676622024\n",
    "\"\"\"\n",
    "for i in s.splitlines():\n",
    "    print(i.split(','))"
   ]
  },
  {
   "cell_type": "code",
   "execution_count": 9,
   "metadata": {},
   "outputs": [
    {
     "name": "stdout",
     "output_type": "stream",
     "text": [
      "['id', 'name', 'phone']\n",
      "['1', 'name1', '9676622023']\n",
      "['2', 'name2', '9676622024']\n"
     ]
    }
   ],
   "source": [
    "s=\"\"\"id,name,phone\n",
    "1,name1,9676622023\n",
    "2,name2,9676622024\n",
    "\"\"\"\n",
    "for i in s.splitlines():\n",
    "    print(i.split(','))"
   ]
  },
  {
   "cell_type": "code",
   "execution_count": 10,
   "metadata": {},
   "outputs": [
    {
     "name": "stdout",
     "output_type": "stream",
     "text": [
      "phone\n",
      "9676622023\n",
      "9676622024\n"
     ]
    }
   ],
   "source": [
    "s=\"\"\"id,name,phone\n",
    "1,name1,9676622023\n",
    "2,name2,9676622024\n",
    "\"\"\"\n",
    "for i in s.splitlines():\n",
    "    print(i.split(',')[-1])"
   ]
  },
  {
   "cell_type": "code",
   "execution_count": 11,
   "metadata": {},
   "outputs": [
    {
     "name": "stdout",
     "output_type": "stream",
     "text": [
      "9676622023\n",
      "name2\n"
     ]
    }
   ],
   "source": [
    "s=\"\"\"1,name1,9676622023\n",
    "2,9676622024,name2\n",
    "\"\"\"\n",
    "for i in s.splitlines():\n",
    "    print(i.split(',')[-1])"
   ]
  },
  {
   "cell_type": "code",
   "execution_count": 12,
   "metadata": {},
   "outputs": [
    {
     "data": {
      "text/plain": [
       "['9676622023', '9676622024']"
      ]
     },
     "execution_count": 12,
     "metadata": {},
     "output_type": "execute_result"
    }
   ],
   "source": [
    "s=\"\"\"1,name1,9676622023,NAME1@gmail.com\n",
    "2,9676622024,Name2@yahoo.co.in,name2\n",
    "\"\"\"\n",
    "import re\n",
    "re.findall(\"[0-9]{10}\",s)"
   ]
  },
  {
   "cell_type": "code",
   "execution_count": 13,
   "metadata": {},
   "outputs": [
    {
     "name": "stdout",
     "output_type": "stream",
     "text": [
      "['1', '1', '2', '2', '0', '2', '3', '1', '2', '2', '2', '0', '2', '2', '2']\n"
     ]
    }
   ],
   "source": [
    "s=\"\"\"1,name1,9676622023,NAME1@gmail.com\n",
    "2,9676622024,Name2@yahoo.co.in,name2\n",
    "\"\"\"\n",
    "print(re.findall(\"[0123]\",s))"
   ]
  },
  {
   "cell_type": "code",
   "execution_count": 14,
   "metadata": {},
   "outputs": [
    {
     "name": "stdout",
     "output_type": "stream",
     "text": [
      "['a', 'a', 'c', 'a', 'a', 'c', 'a']\n"
     ]
    }
   ],
   "source": [
    "s=\"\"\"1,name1,9676622023,NAME1@gmail.com\n",
    "2,9676622024,Name2@yahoo.co.in,name2\n",
    "\"\"\"\n",
    "print(re.findall(\"[abc]\",s))"
   ]
  },
  {
   "cell_type": "code",
   "execution_count": 15,
   "metadata": {},
   "outputs": [
    {
     "name": "stdout",
     "output_type": "stream",
     "text": [
      "['n', 'a', 'm', 'e', 'g', 'm', 'a', 'i', 'l', 'c', 'o', 'm', 'a', 'm', 'e', 'y', 'a', 'h', 'o', 'o', 'c', 'o', 'i', 'n', 'n', 'a', 'm', 'e']\n"
     ]
    }
   ],
   "source": [
    "s=\"\"\"1,name1,9676622023,NAME1@gmail.com\n",
    "2,9676622024,Name2@yahoo.co.in,name2\n",
    "\"\"\"\n",
    "print(re.findall(\"[a-z]\",s))"
   ]
  },
  {
   "cell_type": "code",
   "execution_count": 16,
   "metadata": {},
   "outputs": [
    {
     "name": "stdout",
     "output_type": "stream",
     "text": [
      "['n', 'a', 'm', 'e', 'N', 'A', 'M', 'E', 'g', 'm', 'a', 'i', 'l', 'c', 'o', 'm', 'N', 'a', 'm', 'e', 'y', 'a', 'h', 'o', 'o', 'c', 'o', 'i', 'n', 'n', 'a', 'm', 'e']\n"
     ]
    }
   ],
   "source": [
    "s=\"\"\"1,name1,9676622023,NAME1@gmail.com\n",
    "2,9676622024,Name2@yahoo.co.in,name2\n",
    "\"\"\"\n",
    "print(re.findall(\"[a-z]\",s,re.I))"
   ]
  },
  {
   "cell_type": "code",
   "execution_count": 17,
   "metadata": {},
   "outputs": [
    {
     "name": "stdout",
     "output_type": "stream",
     "text": [
      "['na', 'me', 'NA', 'ME', 'gm', 'ai', 'co', 'Na', 'me', 'ya', 'ho', 'co', 'in', 'na', 'me']\n"
     ]
    }
   ],
   "source": [
    "s=\"\"\"1,name1,9676622023,NAME1@gmail.com\n",
    "2,9676622024,Name2@yahoo.co.in,name2\n",
    "\"\"\"\n",
    "print(re.findall(\"[a-z][a-z]\",s,re.I))"
   ]
  },
  {
   "cell_type": "code",
   "execution_count": 18,
   "metadata": {},
   "outputs": [
    {
     "name": "stdout",
     "output_type": "stream",
     "text": [
      "['1', '1', '9', '6', '7', '6', '6', '2', '2', '0', '2', '3', '1', '2', '9', '6', '7', '6', '6', '2', '2', '0', '2', '4', '2', '2']\n"
     ]
    }
   ],
   "source": [
    "s=\"\"\"1,name1,9676622023,NAME1@gmail.com\n",
    "2,9676622024,Name2@yahoo.co.in,name2\n",
    "\"\"\"\n",
    "print(re.findall(\"[0-9]\",s,re.I))"
   ]
  },
  {
   "cell_type": "code",
   "execution_count": 19,
   "metadata": {},
   "outputs": [
    {
     "name": "stdout",
     "output_type": "stream",
     "text": [
      "['9676622023', '9676622024']\n"
     ]
    }
   ],
   "source": [
    "s=\"\"\"1,name1,9676622023,NAME1@gmail.com\n",
    "2,9676622024,Name2@yahoo.co.in,name2\n",
    "\"\"\"\n",
    "print(re.findall(\"[0-9][0-9][0-9][0-9][0-9][0-9][0-9][0-9][0-9][0-9]\",s,re.I))"
   ]
  },
  {
   "cell_type": "code",
   "execution_count": 20,
   "metadata": {},
   "outputs": [
    {
     "name": "stdout",
     "output_type": "stream",
     "text": [
      "['9676622023', '9676622024']\n"
     ]
    }
   ],
   "source": [
    "s=\"\"\"1,name1,9676622023,NAME1@gmail.com\n",
    "2,9676622024,Name2@yahoo.co.in,name2\n",
    "\"\"\"\n",
    "print(re.findall(\"[0-9]{10}\",s,re.I))"
   ]
  },
  {
   "cell_type": "code",
   "execution_count": 21,
   "metadata": {},
   "outputs": [
    {
     "name": "stdout",
     "output_type": "stream",
     "text": [
      "['9676622023', '9676622024', '9676622025', '9676622026']\n"
     ]
    }
   ],
   "source": [
    "s=\"\"\"1,name1,9676622023,NAME1@gmail.com\n",
    "2,9676622024,Name2@yahoo.co.in,name2,\n",
    "9,9676622025,Name3@yahoo.co.in,name3,\n",
    "8,9676622026,Name4@yahoo.co.in,name4\n",
    "\"\"\"\n",
    "print(re.findall(\"[0-9]{10}\",s,re.I))"
   ]
  },
  {
   "cell_type": "code",
   "execution_count": 22,
   "metadata": {},
   "outputs": [
    {
     "name": "stdout",
     "output_type": "stream",
     "text": [
      "['1', '1', '9676622023', '1', '2', '9676622024', '2', '2', '9', '9676622025', '3', '3', '8', '9676622026', '4', '4']\n"
     ]
    }
   ],
   "source": [
    "s=\"\"\"1,name1,9676622023,NAME1@gmail.com\n",
    "2,9676622024,Name2@yahoo.co.in,name2,\n",
    "9,9676622025,Name3@yahoo.co.in,name3,\n",
    "8,9676622026,Name4@yahoo.co.in,name4\n",
    "\"\"\"\n",
    "print(re.findall(\"[0-9]{1,10}\",s,re.I))"
   ]
  },
  {
   "cell_type": "code",
   "execution_count": 23,
   "metadata": {},
   "outputs": [
    {
     "name": "stdout",
     "output_type": "stream",
     "text": [
      "['1', '1', '9676622023', '1', '2', '9676622024', '2', '2', '9', '9676622025', '3', '3', '8', '9676622026', '4', '4']\n"
     ]
    }
   ],
   "source": [
    "s=\"\"\"1,name1,9676622023,NAME1@gmail.com\n",
    "2,9676622024,Name2@yahoo.co.in,name2,\n",
    "9,9676622025,Name3@yahoo.co.in,name3,\n",
    "8,9676622026,Name4@yahoo.co.in,name4\n",
    "\"\"\"\n",
    "print(re.findall(\"[0-9]{1,}\",s,re.I))"
   ]
  },
  {
   "cell_type": "code",
   "execution_count": 24,
   "metadata": {},
   "outputs": [
    {
     "name": "stdout",
     "output_type": "stream",
     "text": [
      "['1', '1', '9676622023', '1', '2', '9676622024', '2', '2', '9', '9676622025', '3', '3', '8', '9676622026', '4', '4']\n"
     ]
    }
   ],
   "source": [
    "s=\"\"\"1,name1,9676622023,NAME1@gmail.com\n",
    "2,9676622024,Name2@yahoo.co.in,name2,\n",
    "9,9676622025,Name3@yahoo.co.in,name3,\n",
    "8,9676622026,Name4@yahoo.co.in,name4\n",
    "\"\"\"\n",
    "print(re.findall(\"[0-9]+\",s,re.I))"
   ]
  },
  {
   "cell_type": "code",
   "execution_count": 25,
   "metadata": {},
   "outputs": [
    {
     "name": "stdout",
     "output_type": "stream",
     "text": [
      "['1', '', '', '', '', '', '1', '', '9676622023', '', '', '', '', '', '1', '', '', '', '', '', '', '', '', '', '', '', '2', '', '9676622024', '', '', '', '', '', '2', '', '', '', '', '', '', '', '', '', '', '', '', '', '', '', '', '', '2', '', '', '9', '', '9676622025', '', '', '', '', '', '3', '', '', '', '', '', '', '', '', '', '', '', '', '', '', '', '', '', '3', '', '', '8', '', '9676622026', '', '', '', '', '', '4', '', '', '', '', '', '', '', '', '', '', '', '', '', '', '', '', '', '4', '', '']\n"
     ]
    }
   ],
   "source": [
    "s=\"\"\"1,name1,9676622023,NAME1@gmail.com\n",
    "2,9676622024,Name2@yahoo.co.in,name2,\n",
    "9,9676622025,Name3@yahoo.co.in,name3,\n",
    "8,9676622026,Name4@yahoo.co.in,name4\n",
    "\"\"\"\n",
    "print(re.findall(\"[0-9]{0,}\",s,re.I))"
   ]
  },
  {
   "cell_type": "code",
   "execution_count": 26,
   "metadata": {},
   "outputs": [
    {
     "name": "stdout",
     "output_type": "stream",
     "text": [
      "['1', '', '', '', '', '', '1', '', '9676622023', '', '', '', '', '', '1', '', '', '', '', '', '', '', '', '', '', '', '2', '', '9676622024', '', '', '', '', '', '2', '', '', '', '', '', '', '', '', '', '', '', '', '', '', '', '', '', '2', '', '', '9', '', '9676622025', '', '', '', '', '', '3', '', '', '', '', '', '', '', '', '', '', '', '', '', '', '', '', '', '3', '', '', '8', '', '9676622026', '', '', '', '', '', '4', '', '', '', '', '', '', '', '', '', '', '', '', '', '', '', '', '', '4', '', '']\n"
     ]
    }
   ],
   "source": [
    "s=\"\"\"1,name1,9676622023,NAME1@gmail.com\n",
    "2,9676622024,Name2@yahoo.co.in,name2,\n",
    "9,9676622025,Name3@yahoo.co.in,name3,\n",
    "8,9676622026,Name4@yahoo.co.in,name4\n",
    "\"\"\"\n",
    "print(re.findall(\"[0-9]*\",s,re.I))"
   ]
  },
  {
   "cell_type": "code",
   "execution_count": 29,
   "metadata": {},
   "outputs": [
    {
     "name": "stdout",
     "output_type": "stream",
     "text": [
      "['1', '', '', '', '', '', '1', '', '9', '6', '7', '6', '6', '2', '2', '0', '2', '3', '', '', '', '', '', '1', '', '', '', '', '', '', '', '', '', '', '', '2', '', '9', '6', '7', '6', '6', '2', '2', '0', '2', '4', '', '', '', '', '', '2', '', '', '', '', '', '', '', '', '', '', '', '', '', '', '', '', '', '2', '', '', '9', '', '9', '6', '7', '6', '6', '2', '2', '0', '2', '5', '', '', '', '', '', '3', '', '', '', '', '', '', '', '', '', '', '', '', '', '', '', '', '', '3', '', '', '8', '', '9', '6', '7', '6', '6', '2', '2', '0', '2', '6', '', '', '', '', '', '4', '', '', '', '', '', '', '', '', '', '', '', '', '', '', '', '', '', '4', '', '']\n"
     ]
    }
   ],
   "source": [
    "s=\"\"\"1,name1,9676622023,NAME1@gmail.com\n",
    "2,9676622024,Name2@yahoo.co.in,name2,\n",
    "9,9676622025,Name3@yahoo.co.in,name3,\n",
    "8,9676622026,Name4@yahoo.co.in,name4\n",
    "\"\"\"\n",
    "print(re.findall(\"[0-9]{0,1}\",s,re.I))"
   ]
  },
  {
   "cell_type": "code",
   "execution_count": 28,
   "metadata": {},
   "outputs": [
    {
     "name": "stdout",
     "output_type": "stream",
     "text": [
      "['1', '', '', '', '', '', '1', '', '9', '6', '7', '6', '6', '2', '2', '0', '2', '3', '', '', '', '', '', '1', '', '', '', '', '', '', '', '', '', '', '', '2', '', '9', '6', '7', '6', '6', '2', '2', '0', '2', '4', '', '', '', '', '', '2', '', '', '', '', '', '', '', '', '', '', '', '', '', '', '', '', '', '2', '', '', '9', '', '9', '6', '7', '6', '6', '2', '2', '0', '2', '5', '', '', '', '', '', '3', '', '', '', '', '', '', '', '', '', '', '', '', '', '', '', '', '', '3', '', '', '8', '', '9', '6', '7', '6', '6', '2', '2', '0', '2', '6', '', '', '', '', '', '4', '', '', '', '', '', '', '', '', '', '', '', '', '', '', '', '', '', '4', '', '']\n"
     ]
    }
   ],
   "source": [
    "s=\"\"\"1,name1,9676622023,NAME1@gmail.com\n",
    "2,9676622024,Name2@yahoo.co.in,name2,\n",
    "9,9676622025,Name3@yahoo.co.in,name3,\n",
    "8,9676622026,Name4@yahoo.co.in,name4\n",
    "\"\"\"\n",
    "print(re.findall(\"[0-9]?\",s,re.I))"
   ]
  },
  {
   "cell_type": "code",
   "execution_count": 30,
   "metadata": {},
   "outputs": [
    {
     "name": "stdout",
     "output_type": "stream",
     "text": [
      "[',name', ',', ',NAME', '@gmail.com\\n', ',', ',Name', '@yahoo.co.in,name', ',\\n', ',', ',Name', '@yahoo.co.in,name', ',\\n', ',', ',Name', '@yahoo.co.in,name', '\\n']\n"
     ]
    }
   ],
   "source": [
    "s=\"\"\"1,name1,9676622023,NAME1@gmail.com\n",
    "2,9676622024,Name2@yahoo.co.in,name2,\n",
    "9,9676622025,Name3@yahoo.co.in,name3,\n",
    "8,9676622026,Name4@yahoo.co.in,name4\n",
    "\"\"\"\n",
    "print(re.findall(\"[^0-9]+\",s,re.I))"
   ]
  },
  {
   "cell_type": "code",
   "execution_count": 31,
   "metadata": {},
   "outputs": [
    {
     "name": "stdout",
     "output_type": "stream",
     "text": [
      "['1']\n"
     ]
    }
   ],
   "source": [
    "s=\"\"\"1,name1,9676622023,NAME1@gmail.com\n",
    "2,9676622024,Name2@yahoo.co.in,name2,\n",
    "9,9676622025,Name3@yahoo.co.in,name3,\n",
    "8,9676622026,Name4@yahoo.co.in,name4\n",
    "\"\"\"\n",
    "print(re.findall(\"^[0-9]+\",s,re.I))"
   ]
  },
  {
   "cell_type": "code",
   "execution_count": 32,
   "metadata": {},
   "outputs": [
    {
     "name": "stdout",
     "output_type": "stream",
     "text": [
      "['1', '2', '9', '8']\n"
     ]
    }
   ],
   "source": [
    "s=\"\"\"1,name1,9676622023,NAME1@gmail.com\n",
    "2,9676622024,Name2@yahoo.co.in,name2,\n",
    "9,9676622025,Name3@yahoo.co.in,name3,\n",
    "8,9676622026,Name4@yahoo.co.in,name4\n",
    "\"\"\"\n",
    "print(re.findall(\"^[0-9]+\",s,re.M))"
   ]
  },
  {
   "cell_type": "code",
   "execution_count": 33,
   "metadata": {},
   "outputs": [
    {
     "name": "stdout",
     "output_type": "stream",
     "text": [
      "['4']\n"
     ]
    }
   ],
   "source": [
    "s=\"\"\"1,name1,9676622023,NAME1@gmail.com\n",
    "2,9676622024,Name2@yahoo.co.in,name2,\n",
    "9,9676622025,Name3@yahoo.co.in,name3,\n",
    "8,9676622026,Name4@yahoo.co.in,name4\n",
    "\"\"\"\n",
    "print(re.findall(\"[0-9]+$\",s,re.M))"
   ]
  },
  {
   "cell_type": "code",
   "execution_count": 34,
   "metadata": {},
   "outputs": [
    {
     "name": "stdout",
     "output_type": "stream",
     "text": [
      "['2', '3', '4']\n"
     ]
    }
   ],
   "source": [
    "s=\"\"\"1,name1,9676622023,NAME1@gmail.com\n",
    "2,9676622024,Name2@yahoo.co.in,name2\n",
    "9,9676622025,Name3@yahoo.co.in,name3\n",
    "8,9676622026,Name4@yahoo.co.in,name4\n",
    "\"\"\"\n",
    "print(re.findall(\"[0-9]+$\",s,re.M))"
   ]
  },
  {
   "cell_type": "code",
   "execution_count": 35,
   "metadata": {},
   "outputs": [
    {
     "name": "stdout",
     "output_type": "stream",
     "text": [
      "['1', ',', 'n', 'a', 'm', 'e', '1', ',', '9', '6', '7', '6', '6', '2', '2', '0', '2', '3', ',', 'N', 'A', 'M', 'E', '1', '@', 'g', 'm', 'a', 'i', 'l', '.', 'c', 'o', 'm', '2', ',', '9', '6', '7', '6', '6', '2', '2', '0', '2', '4', ',', 'N', 'a', 'm', 'e', '2', '@', 'y', 'a', 'h', 'o', 'o', '.', 'c', 'o', '.', 'i', 'n', ',', 'n', 'a', 'm', 'e', '2', '9', ',', '9', '6', '7', '6', '6', '2', '2', '0', '2', '5', ',', 'N', 'a', 'm', 'e', '3', '@', 'y', 'a', 'h', 'o', 'o', '.', 'c', 'o', '.', 'i', 'n', ',', 'n', 'a', 'm', 'e', '3', '8', ',', '9', '6', '7', '6', '6', '2', '2', '0', '2', '6', ',', 'N', 'a', 'm', 'e', '4', '@', 'y', 'a', 'h', 'o', 'o', '.', 'c', 'o', '.', 'i', 'n', ',', 'n', 'a', 'm', 'e', '4']\n"
     ]
    }
   ],
   "source": [
    "s=\"\"\"1,name1,9676622023,NAME1@gmail.com\n",
    "2,9676622024,Name2@yahoo.co.in,name2\n",
    "9,9676622025,Name3@yahoo.co.in,name3\n",
    "8,9676622026,Name4@yahoo.co.in,name4\n",
    "\"\"\"\n",
    "print(re.findall(\".\",s))"
   ]
  },
  {
   "cell_type": "code",
   "execution_count": 36,
   "metadata": {},
   "outputs": [
    {
     "name": "stdout",
     "output_type": "stream",
     "text": [
      "['1', ',', 'n', 'a', 'm', 'e', '1', ',', '9', '6', '7', '6', '6', '2', '2', '0', '2', '3', ',', 'N', 'A', 'M', 'E', '1', '@', 'g', 'm', 'a', 'i', 'l', '.', 'c', 'o', 'm', '\\n', '2', ',', '9', '6', '7', '6', '6', '2', '2', '0', '2', '4', ',', 'N', 'a', 'm', 'e', '2', '@', 'y', 'a', 'h', 'o', 'o', '.', 'c', 'o', '.', 'i', 'n', ',', 'n', 'a', 'm', 'e', '2', '\\n', '9', ',', '9', '6', '7', '6', '6', '2', '2', '0', '2', '5', ',', 'N', 'a', 'm', 'e', '3', '@', 'y', 'a', 'h', 'o', 'o', '.', 'c', 'o', '.', 'i', 'n', ',', 'n', 'a', 'm', 'e', '3', '\\n', '8', ',', '9', '6', '7', '6', '6', '2', '2', '0', '2', '6', ',', 'N', 'a', 'm', 'e', '4', '@', 'y', 'a', 'h', 'o', 'o', '.', 'c', 'o', '.', 'i', 'n', ',', 'n', 'a', 'm', 'e', '4', '\\n']\n"
     ]
    }
   ],
   "source": [
    "s=\"\"\"1,name1,9676622023,NAME1@gmail.com\n",
    "2,9676622024,Name2@yahoo.co.in,name2\n",
    "9,9676622025,Name3@yahoo.co.in,name3\n",
    "8,9676622026,Name4@yahoo.co.in,name4\n",
    "\"\"\"\n",
    "print(re.findall(\".\",s,re.DOTALL))"
   ]
  },
  {
   "cell_type": "code",
   "execution_count": 37,
   "metadata": {},
   "outputs": [
    {
     "name": "stdout",
     "output_type": "stream",
     "text": [
      "['.', '.', '.', '.', '.', '.', '.']\n"
     ]
    }
   ],
   "source": [
    "s=\"\"\"1,name1,9676622023,NAME1@gmail.com\n",
    "2,9676622024,Name2@yahoo.co.in,name2\n",
    "9,9676622025,Name3@yahoo.co.in,name3\n",
    "8,9676622026,Name4@yahoo.co.in,name4\n",
    "\"\"\"\n",
    "print(re.findall(\"[.]\",s,re.DOTALL))"
   ]
  },
  {
   "cell_type": "code",
   "execution_count": 38,
   "metadata": {},
   "outputs": [
    {
     "name": "stdout",
     "output_type": "stream",
     "text": [
      "['.', '.', '.', '.', '.', '.', '.']\n"
     ]
    }
   ],
   "source": [
    "s=\"\"\"1,name1,9676622023,NAME1@gmail.com\n",
    "2,9676622024,Name2@yahoo.co.in,name2\n",
    "9,9676622025,Name3@yahoo.co.in,name3\n",
    "8,9676622026,Name4@yahoo.co.in,name4\n",
    "\"\"\"\n",
    "print(re.findall(\"\\.\",s,re.DOTALL))"
   ]
  },
  {
   "cell_type": "code",
   "execution_count": 2,
   "metadata": {},
   "outputs": [
    {
     "name": "stdout",
     "output_type": "stream",
     "text": [
      "['NAME1@gmail.com', 'Name2@yahoo.co.in', 'Name3@yahoo.co.in', 'Name4@yahoo.co.in']\n"
     ]
    }
   ],
   "source": [
    "import re\n",
    "s=\"\"\"1,name1,9676622023,NAME1@gmail.com\n",
    "2,9676622024,Name2@yahoo.co.in,name2\n",
    "9,9676622025,Name3@yahoo.co.in,name3\n",
    "8,9676622026,Name4@yahoo.co.in,name4\n",
    "\"\"\"\n",
    "print(re.findall(\"[a-z0-9_-]+@[a-z]+\\.[a-z.]+\",s,re.I))"
   ]
  },
  {
   "cell_type": "code",
   "execution_count": 3,
   "metadata": {},
   "outputs": [
    {
     "name": "stdout",
     "output_type": "stream",
     "text": [
      "['1', 'name1', '9676622023', 'NAME1', 'gmail', 'com', '2', '9676622024', 'Name2', 'yahoo', 'co', 'in', 'name2', '9', '9676622025', 'Name3', 'yahoo', 'co', 'in', 'name3', '8', '9676622026', 'Name4', 'yahoo', 'co', 'in', 'name4']\n"
     ]
    }
   ],
   "source": [
    "import re\n",
    "s=\"\"\"1,name1,9676622023,NAME1@gmail.com\n",
    "2,9676622024,Name2@yahoo.co.in,name2\n",
    "9,9676622025,Name3@yahoo.co.in,name3\n",
    "8,9676622026,Name4@yahoo.co.in,name4\n",
    "\"\"\"\n",
    "print(re.findall(\"\\w+\",s,re.I))"
   ]
  },
  {
   "cell_type": "code",
   "execution_count": 4,
   "metadata": {},
   "outputs": [
    {
     "name": "stdout",
     "output_type": "stream",
     "text": [
      "['NAME1@gmail.com', 'Name2@yahoo.co.in', 'Name3@yahoo.co.in', 'Name4@yahoo.co.in']\n"
     ]
    }
   ],
   "source": [
    "import re\n",
    "s=\"\"\"1,name1,9676622023,NAME1@gmail.com\n",
    "2,9676622024,Name2@yahoo.co.in,name2\n",
    "9,9676622025,Name3@yahoo.co.in,name3\n",
    "8,9676622026,Name4@yahoo.co.in,name4\n",
    "\"\"\"\n",
    "print(re.findall(\"\\w+@[a-z]+\\.[a-z.]+\",s,re.I))"
   ]
  },
  {
   "cell_type": "code",
   "execution_count": 5,
   "metadata": {},
   "outputs": [
    {
     "name": "stdout",
     "output_type": "stream",
     "text": [
      "['1', '1', '9', '6', '7', '6', '6', '2', '2', '0', '2', '3', '1', '2', '9', '6', '7', '6', '6', '2', '2', '0', '2', '4', '2', '2', '9', '9', '6', '7', '6', '6', '2', '2', '0', '2', '5', '3', '3', '8', '9', '6', '7', '6', '6', '2', '2', '0', '2', '6', '4', '4']\n"
     ]
    }
   ],
   "source": [
    "import re\n",
    "s=\"\"\"1,name1,9676622023,NAME1@gmail.com\n",
    "2,9676622024,Name2@yahoo.co.in,name2\n",
    "9,9676622025,Name3@yahoo.co.in,name3\n",
    "8,9676622026,Name4@yahoo.co.in,name4\n",
    "\"\"\"\n",
    "print(re.findall(\"\\d\",s,re.I))"
   ]
  },
  {
   "cell_type": "code",
   "execution_count": 6,
   "metadata": {},
   "outputs": [
    {
     "name": "stdout",
     "output_type": "stream",
     "text": [
      "['1', '1', '9676622023', '1', '2', '9676622024', '2', '2', '9', '9676622025', '3', '3', '8', '9676622026', '4', '4']\n"
     ]
    }
   ],
   "source": [
    "import re\n",
    "s=\"\"\"1,name1,9676622023,NAME1@gmail.com\n",
    "2,9676622024,Name2@yahoo.co.in,name2\n",
    "9,9676622025,Name3@yahoo.co.in,name3\n",
    "8,9676622026,Name4@yahoo.co.in,name4\n",
    "\"\"\"\n",
    "print(re.findall(\"\\d+\",s,re.I))"
   ]
  },
  {
   "cell_type": "code",
   "execution_count": 7,
   "metadata": {},
   "outputs": [
    {
     "name": "stdout",
     "output_type": "stream",
     "text": [
      "[',name', ',', ',NAME', '@gmail.com\\n', ',', ',Name', '@yahoo.co.in,name', '\\n', ',', ',Name', '@yahoo.co.in,name', '\\n', ',', ',Name', '@yahoo.co.in,name', '\\n']\n"
     ]
    }
   ],
   "source": [
    "import re\n",
    "s=\"\"\"1,name1,9676622023,NAME1@gmail.com\n",
    "2,9676622024,Name2@yahoo.co.in,name2\n",
    "9,9676622025,Name3@yahoo.co.in,name3\n",
    "8,9676622026,Name4@yahoo.co.in,name4\n",
    "\"\"\"\n",
    "print(re.findall(\"\\D+\",s,re.I))"
   ]
  },
  {
   "cell_type": "code",
   "execution_count": 8,
   "metadata": {},
   "outputs": [
    {
     "name": "stdout",
     "output_type": "stream",
     "text": [
      "['\\n', '\\n', '\\n', '\\n']\n"
     ]
    }
   ],
   "source": [
    "import re\n",
    "s=\"\"\"1,name1,9676622023,NAME1@gmail.com\n",
    "2,9676622024,Name2@yahoo.co.in,name2\n",
    "9,9676622025,Name3@yahoo.co.in,name3\n",
    "8,9676622026,Name4@yahoo.co.in,name4\n",
    "\"\"\"\n",
    "print(re.findall(\"\\s+\",s,re.I))"
   ]
  },
  {
   "cell_type": "code",
   "execution_count": 10,
   "metadata": {},
   "outputs": [
    {
     "name": "stdout",
     "output_type": "stream",
     "text": [
      "['1', 'n', 'a', 'm', 'e', '1', '9', '6', '7', '6', '6', '2', '2', '0', '2', '3', 'N', 'A', 'M', 'E', '1', 'g', 'm', 'a', 'i', 'l', 'c', 'o', 'm', '2', '9', '6', '7', '6', '6', '2', '2', '0', '2', '4', 'N', 'a', 'm', 'e', '2', 'y', 'a', 'h', 'o', 'o', 'c', 'o', 'i', 'n', 'n', 'a', 'm', 'e', '2', '9', '9', '6', '7', '6', '6', '2', '2', '0', '2', '5', 'N', 'a', 'm', 'e', '3', 'y', 'a', 'h', 'o', 'o', 'c', 'o', 'i', 'n', 'n', 'a', 'm', 'e', '3', '8', '9', '6', '7', '6', '6', '2', '2', '0', '2', '6', 'N', 'a', 'm', 'e', '4', 'y', 'a', 'h', 'o', 'o', 'c', 'o', 'i', 'n', 'n', 'a', 'm', 'e', '4']\n"
     ]
    }
   ],
   "source": [
    "import re\n",
    "s=\"\"\"1,name1,9676622023,NAME1@gmail.com\n",
    "2,9676622024,Name2@yahoo.co.in,name2\n",
    "9,9676622025,Name3@yahoo.co.in,name3\n",
    "8,9676622026,Name4@yahoo.co.in,name4\n",
    "\"\"\"\n",
    "print(re.findall(\"[a-z0-9]\",s,re.I))"
   ]
  },
  {
   "cell_type": "code",
   "execution_count": 11,
   "metadata": {},
   "outputs": [
    {
     "name": "stdout",
     "output_type": "stream",
     "text": [
      "[',', ',', ',', '@', '.', '\\n', ',', ',', '@', '.', '.', ',', '\\n', ',', ',', '@', '.', '.', ',', '\\n', ',', ',', '@', '.', '.', ',', '\\n']\n"
     ]
    }
   ],
   "source": [
    "import re\n",
    "s=\"\"\"1,name1,9676622023,NAME1@gmail.com\n",
    "2,9676622024,Name2@yahoo.co.in,name2\n",
    "9,9676622025,Name3@yahoo.co.in,name3\n",
    "8,9676622026,Name4@yahoo.co.in,name4\n",
    "\"\"\"\n",
    "print(re.findall(\"[^a-z0-9]\",s,re.I))"
   ]
  },
  {
   "cell_type": "code",
   "execution_count": 12,
   "metadata": {},
   "outputs": [
    {
     "name": "stdout",
     "output_type": "stream",
     "text": [
      "<re.Match object; span=(0, 1), match='1'>\n"
     ]
    }
   ],
   "source": [
    "import re\n",
    "s=\"\"\"1,name1,9676622023,NAME1@gmail.com\n",
    "2,9676622024,Name2@yahoo.co.in,name2\n",
    "9,9676622025,Name3@yahoo.co.in,name3\n",
    "8,9676622026,Name4@yahoo.co.in,name4\n",
    "\"\"\"\n",
    "print(re.match(\"[0-9]\",s,re.I))"
   ]
  },
  {
   "cell_type": "code",
   "execution_count": 14,
   "metadata": {},
   "outputs": [
    {
     "name": "stdout",
     "output_type": "stream",
     "text": [
      "1\n"
     ]
    }
   ],
   "source": [
    "import re\n",
    "s=\"\"\"1,name1,9676622023,NAME1@gmail.com\n",
    "2,9676622024,Name2@yahoo.co.in,name2\n",
    "9,9676622025,Name3@yahoo.co.in,name3\n",
    "8,9676622026,Name4@yahoo.co.in,name4\n",
    "\"\"\"\n",
    "match_obj = re.match(\"[0-9]\",s,re.I)\n",
    "print(match_obj.group(0))"
   ]
  },
  {
   "cell_type": "code",
   "execution_count": 15,
   "metadata": {},
   "outputs": [
    {
     "name": "stdout",
     "output_type": "stream",
     "text": [
      "None\n"
     ]
    }
   ],
   "source": [
    "import re\n",
    "s=\"\"\"1,name1,9676622023,NAME1@gmail.com\n",
    "2,9676622024,Name2@yahoo.co.in,name2\n",
    "9,9676622025,Name3@yahoo.co.in,name3\n",
    "8,9676622026,Name4@yahoo.co.in,name4\n",
    "\"\"\"\n",
    "match_obj = re.match(\"[a-z]\",s,re.I)\n",
    "print(match_obj)"
   ]
  },
  {
   "cell_type": "code",
   "execution_count": 16,
   "metadata": {},
   "outputs": [
    {
     "name": "stdout",
     "output_type": "stream",
     "text": [
      "<re.Match object; span=(2, 3), match='n'>\n"
     ]
    }
   ],
   "source": [
    "import re\n",
    "s=\"\"\"1,name1,9676622023,NAME1@gmail.com\n",
    "2,9676622024,Name2@yahoo.co.in,name2\n",
    "9,9676622025,Name3@yahoo.co.in,name3\n",
    "8,9676622026,Name4@yahoo.co.in,name4\n",
    "\"\"\"\n",
    "match_obj = re.search(\"[a-z]\",s,re.I)\n",
    "print(match_obj)"
   ]
  },
  {
   "cell_type": "code",
   "execution_count": 17,
   "metadata": {},
   "outputs": [
    {
     "name": "stdout",
     "output_type": "stream",
     "text": [
      "n\n"
     ]
    }
   ],
   "source": [
    "import re\n",
    "s=\"\"\"1,name1,9676622023,NAME1@gmail.com\n",
    "2,9676622024,Name2@yahoo.co.in,name2\n",
    "9,9676622025,Name3@yahoo.co.in,name3\n",
    "8,9676622026,Name4@yahoo.co.in,name4\n",
    "\"\"\"\n",
    "match_obj = re.search(\"[a-z]\",s,re.I)\n",
    "print(match_obj.group(0))"
   ]
  },
  {
   "cell_type": "code",
   "execution_count": 18,
   "metadata": {},
   "outputs": [
    {
     "name": "stdout",
     "output_type": "stream",
     "text": [
      "['NAME1@gmail.com', 'Name2@yahoo.co.in', 'Name3@yahoo.co.in', 'Name4@yahoo.co.in']\n"
     ]
    }
   ],
   "source": [
    "import re\n",
    "s=\"\"\"1,name1,9676622023,NAME1@gmail.com\n",
    "2,9676622024,Name2@yahoo.co.in,name2\n",
    "9,9676622025,Name3@yahoo.co.in,name3\n",
    "8,9676622026,Name4@yahoo.co.in,name4\n",
    "\"\"\"\n",
    "# constants.py\n",
    "email_reg_exp = re.compile(\"[a-z0-9_-]+@[a-z]+\\.[a-z.]+\",re.I)\n",
    "#sales.py\n",
    "#from constants import email_reg_exp\n",
    "print(email_reg_exp.findall(s))"
   ]
  },
  {
   "cell_type": "code",
   "execution_count": 19,
   "metadata": {},
   "outputs": [
    {
     "name": "stdout",
     "output_type": "stream",
     "text": [
      "<callable_iterator object at 0x7f7d996d4f28>\n"
     ]
    }
   ],
   "source": [
    "import re\n",
    "s=\"\"\"1,name1,9676622023,NAME1@gmail.com\n",
    "2,9676622024,Name2@yahoo.co.in,name2\n",
    "9,9676622025,Name3@yahoo.co.in,name3\n",
    "8,9676622026,Name4@yahoo.co.in,name4\n",
    "\"\"\"\n",
    "# constants.py\n",
    "email_reg_exp = re.compile(\"[a-z0-9_-]+@[a-z]+\\.[a-z.]+\",re.I)\n",
    "#sales.py\n",
    "#from constants import email_reg_exp\n",
    "print(email_reg_exp.finditer(s))"
   ]
  },
  {
   "cell_type": "code",
   "execution_count": 20,
   "metadata": {},
   "outputs": [
    {
     "name": "stdout",
     "output_type": "stream",
     "text": [
      "<re.Match object; span=(19, 34), match='NAME1@gmail.com'>\n",
      "<re.Match object; span=(48, 65), match='Name2@yahoo.co.in'>\n",
      "<re.Match object; span=(85, 102), match='Name3@yahoo.co.in'>\n",
      "<re.Match object; span=(122, 139), match='Name4@yahoo.co.in'>\n"
     ]
    }
   ],
   "source": [
    "import re\n",
    "s=\"\"\"1,name1,9676622023,NAME1@gmail.com\n",
    "2,9676622024,Name2@yahoo.co.in,name2\n",
    "9,9676622025,Name3@yahoo.co.in,name3\n",
    "8,9676622026,Name4@yahoo.co.in,name4\n",
    "\"\"\"\n",
    "# constants.py\n",
    "email_reg_exp = re.compile(\"[a-z0-9_-]+@[a-z]+\\.[a-z.]+\",re.I)\n",
    "#sales.py\n",
    "#from constants import email_reg_exp\n",
    "for i in email_reg_exp.finditer(s):\n",
    "    print(i)"
   ]
  },
  {
   "cell_type": "code",
   "execution_count": 21,
   "metadata": {},
   "outputs": [
    {
     "name": "stdout",
     "output_type": "stream",
     "text": [
      "NAME1@gmail.com\n",
      "Name2@yahoo.co.in\n",
      "Name3@yahoo.co.in\n",
      "Name4@yahoo.co.in\n"
     ]
    }
   ],
   "source": [
    "import re\n",
    "s=\"\"\"1,name1,9676622023,NAME1@gmail.com\n",
    "2,9676622024,Name2@yahoo.co.in,name2\n",
    "9,9676622025,Name3@yahoo.co.in,name3\n",
    "8,9676622026,Name4@yahoo.co.in,name4\n",
    "\"\"\"\n",
    "# constants.py\n",
    "email_reg_exp = re.compile(\"[a-z0-9_-]+@[a-z]+\\.[a-z.]+\",re.I)\n",
    "#sales.py\n",
    "#from constants import email_reg_exp\n",
    "for i in email_reg_exp.finditer(s):\n",
    "    print(i.group(0))"
   ]
  },
  {
   "cell_type": "code",
   "execution_count": null,
   "metadata": {},
   "outputs": [],
   "source": []
  }
 ],
 "metadata": {
  "kernelspec": {
   "display_name": "Python 3",
   "language": "python",
   "name": "python3"
  },
  "language_info": {
   "codemirror_mode": {
    "name": "ipython",
    "version": 3
   },
   "file_extension": ".py",
   "mimetype": "text/x-python",
   "name": "python",
   "nbconvert_exporter": "python",
   "pygments_lexer": "ipython3",
   "version": "3.7.3"
  }
 },
 "nbformat": 4,
 "nbformat_minor": 2
}

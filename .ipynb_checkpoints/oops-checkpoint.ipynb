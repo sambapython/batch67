{
 "cells": [
  {
   "cell_type": "code",
   "execution_count": null,
   "metadata": {},
   "outputs": [],
   "source": [
    "# slot booking(user,time,court,price)\n",
    "class Court:\n",
    "    def booking\n",
    "    \n",
    "class User:\n",
    "    name\n",
    "    phone\n",
    "    address\n",
    "    id_proof\n",
    "    \n",
    "    "
   ]
  },
  {
   "cell_type": "code",
   "execution_count": null,
   "metadata": {},
   "outputs": [],
   "source": [
    "class User:\n",
    "    name\n",
    "    phone\n",
    "    address\n",
    "    id_proof\n",
    "    \n",
    "    def create():\n",
    "        \n",
    "    "
   ]
  },
  {
   "cell_type": "code",
   "execution_count": 1,
   "metadata": {},
   "outputs": [
    {
     "ename": "NameError",
     "evalue": "name 'phone' is not defined",
     "output_type": "error",
     "traceback": [
      "\u001b[0;31m---------------------------------------------------------------------------\u001b[0m",
      "\u001b[0;31mNameError\u001b[0m                                 Traceback (most recent call last)",
      "\u001b[0;32m<ipython-input-1-3d4a0b3d0202>\u001b[0m in \u001b[0;36m<module>\u001b[0;34m\u001b[0m\n\u001b[1;32m      1\u001b[0m \u001b[0;32mclass\u001b[0m \u001b[0mUser\u001b[0m\u001b[0;34m:\u001b[0m\u001b[0;34m\u001b[0m\u001b[0;34m\u001b[0m\u001b[0m\n\u001b[1;32m      2\u001b[0m     \u001b[0mphone\u001b[0m\u001b[0;34m=\u001b[0m\u001b[0;36m9676622023\u001b[0m\u001b[0;34m\u001b[0m\u001b[0;34m\u001b[0m\u001b[0m\n\u001b[0;32m----> 3\u001b[0;31m \u001b[0mprint\u001b[0m\u001b[0;34m(\u001b[0m\u001b[0mphone\u001b[0m\u001b[0;34m)\u001b[0m\u001b[0;34m\u001b[0m\u001b[0;34m\u001b[0m\u001b[0m\n\u001b[0m",
      "\u001b[0;31mNameError\u001b[0m: name 'phone' is not defined"
     ]
    }
   ],
   "source": [
    "class User:\n",
    "    phone=9676622023\n",
    "print(phone)"
   ]
  },
  {
   "cell_type": "code",
   "execution_count": 2,
   "metadata": {},
   "outputs": [
    {
     "name": "stdout",
     "output_type": "stream",
     "text": [
      "9676622023\n"
     ]
    }
   ],
   "source": [
    "class User:\n",
    "    phone=9676622023\n",
    "\"\"\"\n",
    "User reference in the stack, it will create a class object in the heap\n",
    "User frame also in the stack. In that fram it will add phone\n",
    "\"\"\"\n",
    "print(User.phone)"
   ]
  },
  {
   "cell_type": "code",
   "execution_count": 3,
   "metadata": {},
   "outputs": [
    {
     "name": "stdout",
     "output_type": "stream",
     "text": [
      "9676622023\n",
      "verifying phone number\n",
      "None\n"
     ]
    }
   ],
   "source": [
    "class User:\n",
    "    phone=9676622023\n",
    "    def verify_phone(x):\n",
    "        print(\"verifying phone number\")\n",
    "        \n",
    "\"\"\"\n",
    "User reference in the stack, it will create a class object in the heap\n",
    "User frame also in the stack. In that frame it will add phone and verify_phone references.\n",
    "The verify_phone reference refers that <fun_main> object and phone referes the \"9676622023\"\n",
    "object\n",
    "\"\"\"\n",
    "print(User.phone)\n",
    "print(User.verify_phone(10))"
   ]
  },
  {
   "cell_type": "code",
   "execution_count": 4,
   "metadata": {},
   "outputs": [
    {
     "name": "stdout",
     "output_type": "stream",
     "text": [
      "9676622023\n",
      "verifying phone number\n",
      "None\n"
     ]
    }
   ],
   "source": [
    "class User:\n",
    "    phone=9676622023\n",
    "    def verify_phone():\n",
    "        print(\"verifying phone number\")\n",
    "        \n",
    "\"\"\"\n",
    "User reference in the stack, it will create a class object in the heap\n",
    "User frame also in the stack. In that frame it will add phone and verify_phone references.\n",
    "The verify_phone reference refers that <fun_main> object and phone referes the \"9676622023\"\n",
    "object\n",
    "\"\"\"\n",
    "print(User.phone)\n",
    "print(User.verify_phone())"
   ]
  },
  {
   "cell_type": "code",
   "execution_count": 5,
   "metadata": {},
   "outputs": [
    {
     "name": "stdout",
     "output_type": "stream",
     "text": [
      "9676622023\n",
      "verifying phone number\n",
      "None\n"
     ]
    }
   ],
   "source": [
    "class User:\n",
    "    phone=9676622023\n",
    "    def verify_phone():\n",
    "        print(\"verifying phone number\")\n",
    "        \n",
    "\"\"\"\n",
    "User reference in the stack, it will create a class object in the heap\n",
    "User frame also in the stack. In that frame it will add phone and verify_phone references.\n",
    "The verify_phone reference refers that <fun_main> object and phone referes the \"9676622023\"\n",
    "object\n",
    "\"\"\"\n",
    "print(User.phone)\n",
    "print(User.verify_phone())"
   ]
  },
  {
   "cell_type": "code",
   "execution_count": 7,
   "metadata": {},
   "outputs": [
    {
     "name": "stdout",
     "output_type": "stream",
     "text": [
      "9676622023\n"
     ]
    },
    {
     "ename": "NameError",
     "evalue": "name 'phone' is not defined",
     "output_type": "error",
     "traceback": [
      "\u001b[0;31m---------------------------------------------------------------------------\u001b[0m",
      "\u001b[0;31mNameError\u001b[0m                                 Traceback (most recent call last)",
      "\u001b[0;32m<ipython-input-7-e9d17e517b6b>\u001b[0m in \u001b[0;36m<module>\u001b[0;34m\u001b[0m\n\u001b[1;32m      5\u001b[0m \u001b[0;34m\u001b[0m\u001b[0m\n\u001b[1;32m      6\u001b[0m \u001b[0mprint\u001b[0m\u001b[0;34m(\u001b[0m\u001b[0mUser\u001b[0m\u001b[0;34m.\u001b[0m\u001b[0mphone\u001b[0m\u001b[0;34m)\u001b[0m\u001b[0;34m\u001b[0m\u001b[0;34m\u001b[0m\u001b[0m\n\u001b[0;32m----> 7\u001b[0;31m \u001b[0mprint\u001b[0m\u001b[0;34m(\u001b[0m\u001b[0mUser\u001b[0m\u001b[0;34m.\u001b[0m\u001b[0mverify_phone\u001b[0m\u001b[0;34m(\u001b[0m\u001b[0;34m)\u001b[0m\u001b[0;34m)\u001b[0m\u001b[0;34m\u001b[0m\u001b[0;34m\u001b[0m\u001b[0m\n\u001b[0m",
      "\u001b[0;32m<ipython-input-7-e9d17e517b6b>\u001b[0m in \u001b[0;36mverify_phone\u001b[0;34m()\u001b[0m\n\u001b[1;32m      2\u001b[0m     \u001b[0mphone\u001b[0m\u001b[0;34m=\u001b[0m\u001b[0;36m9676622023\u001b[0m\u001b[0;34m\u001b[0m\u001b[0;34m\u001b[0m\u001b[0m\n\u001b[1;32m      3\u001b[0m     \u001b[0;32mdef\u001b[0m \u001b[0mverify_phone\u001b[0m\u001b[0;34m(\u001b[0m\u001b[0;34m)\u001b[0m\u001b[0;34m:\u001b[0m\u001b[0;34m\u001b[0m\u001b[0;34m\u001b[0m\u001b[0m\n\u001b[0;32m----> 4\u001b[0;31m         \u001b[0mprint\u001b[0m\u001b[0;34m(\u001b[0m\u001b[0mphone\u001b[0m\u001b[0;34m)\u001b[0m\u001b[0;34m\u001b[0m\u001b[0;34m\u001b[0m\u001b[0m\n\u001b[0m\u001b[1;32m      5\u001b[0m \u001b[0;34m\u001b[0m\u001b[0m\n\u001b[1;32m      6\u001b[0m \u001b[0mprint\u001b[0m\u001b[0;34m(\u001b[0m\u001b[0mUser\u001b[0m\u001b[0;34m.\u001b[0m\u001b[0mphone\u001b[0m\u001b[0;34m)\u001b[0m\u001b[0;34m\u001b[0m\u001b[0;34m\u001b[0m\u001b[0m\n",
      "\u001b[0;31mNameError\u001b[0m: name 'phone' is not defined"
     ]
    }
   ],
   "source": [
    "class User:\n",
    "    phone=9676622023\n",
    "    def verify_phone():\n",
    "        print(phone)\n",
    "        \n",
    "print(User.phone)\n",
    "print(User.verify_phone())"
   ]
  },
  {
   "cell_type": "code",
   "execution_count": 8,
   "metadata": {},
   "outputs": [
    {
     "name": "stdout",
     "output_type": "stream",
     "text": [
      "9676622023\n",
      "9676622023\n",
      "None\n"
     ]
    }
   ],
   "source": [
    "class User:\n",
    "    phone=9676622023\n",
    "    def verify_phone(x):\n",
    "        print(x.phone)\n",
    "        \n",
    "print(User.phone)\n",
    "print(User.verify_phone(User))"
   ]
  },
  {
   "cell_type": "code",
   "execution_count": 9,
   "metadata": {},
   "outputs": [
    {
     "name": "stdout",
     "output_type": "stream",
     "text": [
      "325345\n"
     ]
    }
   ],
   "source": [
    "class User:\n",
    "    def verify_phone(x):\n",
    "        print(x.phone)\n",
    "priyanka = User() # data object\n",
    "priyanka.phone=4223423\n",
    "samba=User()\n",
    "samba.phone=9676622023\n",
    "amar=User()\n",
    "amar.phone=325345\n",
    "User.verify_phone(amar)"
   ]
  },
  {
   "cell_type": "code",
   "execution_count": 10,
   "metadata": {},
   "outputs": [
    {
     "name": "stdout",
     "output_type": "stream",
     "text": [
      "9676622023\n"
     ]
    }
   ],
   "source": [
    "class User:\n",
    "    def verify_phone(x):\n",
    "        print(x.phone)\n",
    "priyanka = User() # data object\n",
    "priyanka.phone=4223423\n",
    "samba=User()\n",
    "samba.phone=9676622023\n",
    "amar=User()\n",
    "amar.phone=325345\n",
    "User.verify_phone(samba)"
   ]
  },
  {
   "cell_type": "code",
   "execution_count": 11,
   "metadata": {},
   "outputs": [
    {
     "name": "stdout",
     "output_type": "stream",
     "text": [
      "4223423\n"
     ]
    }
   ],
   "source": [
    "class User:\n",
    "    def verify_phone(x):\n",
    "        print(x.phone)\n",
    "priyanka = User() # data object\n",
    "priyanka.phone=4223423\n",
    "samba=User()\n",
    "samba.phone=9676622023\n",
    "amar=User()\n",
    "amar.phone=325345\n",
    "User.verify_phone(priyanka)"
   ]
  },
  {
   "cell_type": "code",
   "execution_count": 14,
   "metadata": {},
   "outputs": [
    {
     "name": "stdout",
     "output_type": "stream",
     "text": [
      "9676622024\n",
      "9676622023\n"
     ]
    }
   ],
   "source": [
    "class User:\n",
    "    def setup(x,name,phone,address,id_proof):\n",
    "        x.phone=phone\n",
    "        x.name=name\n",
    "        x.address=address\n",
    "        x.id=id_proof\n",
    "        \n",
    "    def verify_phone(x):\n",
    "        print(x.phone)\n",
    "samba=User()\n",
    "User.setup(samba,\"sambasiva\",9676622023,\"devender nagar\",\"BRjgkl456\")\n",
    "amar=User()\n",
    "User.setup(amar,\"Amar\",9676622024,\"hyd\",\"asdfsdf\")\n",
    "User.verify_phone(amar)\n",
    "User.verify_phone(samba)"
   ]
  },
  {
   "cell_type": "code",
   "execution_count": 15,
   "metadata": {},
   "outputs": [
    {
     "ename": "AttributeError",
     "evalue": "type object 'User' has no attribute 'name'",
     "output_type": "error",
     "traceback": [
      "\u001b[0;31m---------------------------------------------------------------------------\u001b[0m",
      "\u001b[0;31mAttributeError\u001b[0m                            Traceback (most recent call last)",
      "\u001b[0;32m<ipython-input-15-584749c56ac9>\u001b[0m in \u001b[0;36m<module>\u001b[0;34m\u001b[0m\n\u001b[1;32m     11\u001b[0m \u001b[0mamar\u001b[0m\u001b[0;34m=\u001b[0m\u001b[0mUser\u001b[0m\u001b[0;34m(\u001b[0m\u001b[0;34m)\u001b[0m\u001b[0;34m\u001b[0m\u001b[0;34m\u001b[0m\u001b[0m\n\u001b[1;32m     12\u001b[0m \u001b[0mUser\u001b[0m\u001b[0;34m.\u001b[0m\u001b[0msetup\u001b[0m\u001b[0;34m(\u001b[0m\u001b[0mamar\u001b[0m\u001b[0;34m,\u001b[0m\u001b[0;34m\"Amar\"\u001b[0m\u001b[0;34m,\u001b[0m\u001b[0;36m9676622024\u001b[0m\u001b[0;34m,\u001b[0m\u001b[0;34m\"hyd\"\u001b[0m\u001b[0;34m,\u001b[0m\u001b[0;34m\"asdfsdf\"\u001b[0m\u001b[0;34m)\u001b[0m\u001b[0;34m\u001b[0m\u001b[0;34m\u001b[0m\u001b[0m\n\u001b[0;32m---> 13\u001b[0;31m \u001b[0mprint\u001b[0m\u001b[0;34m(\u001b[0m\u001b[0mUser\u001b[0m\u001b[0;34m.\u001b[0m\u001b[0mname\u001b[0m\u001b[0;34m)\u001b[0m\u001b[0;34m\u001b[0m\u001b[0;34m\u001b[0m\u001b[0m\n\u001b[0m",
      "\u001b[0;31mAttributeError\u001b[0m: type object 'User' has no attribute 'name'"
     ]
    }
   ],
   "source": [
    "class User:\n",
    "    def setup(x,name,phone,address,id_proof):\n",
    "        x.phone=phone\n",
    "        x.name=name\n",
    "        x.address=address\n",
    "        x.id=id_proof\n",
    "    def verify_phone(x):\n",
    "        print(x.phone)\n",
    "samba=User()\n",
    "User.setup(samba,\"sambasiva\",9676622023,\"devender nagar\",\"BRjgkl456\")\n",
    "amar=User()\n",
    "User.setup(amar,\"Amar\",9676622024,\"hyd\",\"asdfsdf\")\n",
    "print(User.name)"
   ]
  },
  {
   "cell_type": "code",
   "execution_count": 16,
   "metadata": {},
   "outputs": [
    {
     "name": "stdout",
     "output_type": "stream",
     "text": [
      "9676622024\n",
      "9676622023\n"
     ]
    },
    {
     "ename": "AttributeError",
     "evalue": "'User' object has no attribute 'name'",
     "output_type": "error",
     "traceback": [
      "\u001b[0;31m---------------------------------------------------------------------------\u001b[0m",
      "\u001b[0;31mAttributeError\u001b[0m                            Traceback (most recent call last)",
      "\u001b[0;32m<ipython-input-16-9e33958017d1>\u001b[0m in \u001b[0;36m<module>\u001b[0;34m\u001b[0m\n\u001b[1;32m     18\u001b[0m \u001b[0;31m#User.verify_phone(samba)\u001b[0m\u001b[0;34m\u001b[0m\u001b[0;34m\u001b[0m\u001b[0;34m\u001b[0m\u001b[0m\n\u001b[1;32m     19\u001b[0m \u001b[0mjay\u001b[0m\u001b[0;34m=\u001b[0m\u001b[0mUser\u001b[0m\u001b[0;34m(\u001b[0m\u001b[0;34m)\u001b[0m\u001b[0;34m\u001b[0m\u001b[0;34m\u001b[0m\u001b[0m\n\u001b[0;32m---> 20\u001b[0;31m \u001b[0mprint\u001b[0m\u001b[0;34m(\u001b[0m\u001b[0mjay\u001b[0m\u001b[0;34m.\u001b[0m\u001b[0mname\u001b[0m\u001b[0;34m)\u001b[0m\u001b[0;34m\u001b[0m\u001b[0;34m\u001b[0m\u001b[0m\n\u001b[0m",
      "\u001b[0;31mAttributeError\u001b[0m: 'User' object has no attribute 'name'"
     ]
    }
   ],
   "source": [
    "class User: # User is a reference of class object(setup,verify_phone)\n",
    "    def setup(x,name,phone,address,id_proof):\n",
    "        x.phone=phone\n",
    "        x.name=name\n",
    "        x.address=address\n",
    "        x.id=id_proof\n",
    "    def verify_phone(x):\n",
    "        print(x.phone)\n",
    "samba=User() # samba is the reference of data object(phone,name,address,id)\n",
    "samba.setup(\"sambasiva\",9676622023,\"devender nagar\",\"BRjgkl456\")\n",
    "#User.setup(samba,\"sambasiva\",9676622023,\"devender nagar\",\"BRjgkl456\")\n",
    "amar=User()\n",
    "amar.setup(\"Amar\",9676622024,\"hyd\",\"asdfsdf\")\n",
    "#User.setup(amar,\"Amar\",9676622024,\"hyd\",\"asdfsdf\")\n",
    "amar.verify_phone()\n",
    "#User.verify_phone(amar)\n",
    "samba.verify_phone()\n",
    "#User.verify_phone(samba)\n",
    "jay=User()\n",
    "print(jay.name)"
   ]
  },
  {
   "cell_type": "code",
   "execution_count": null,
   "metadata": {},
   "outputs": [],
   "source": []
  }
 ],
 "metadata": {
  "kernelspec": {
   "display_name": "Python 3",
   "language": "python",
   "name": "python3"
  },
  "language_info": {
   "codemirror_mode": {
    "name": "ipython",
    "version": 3
   },
   "file_extension": ".py",
   "mimetype": "text/x-python",
   "name": "python",
   "nbconvert_exporter": "python",
   "pygments_lexer": "ipython3",
   "version": "3.7.3"
  }
 },
 "nbformat": 4,
 "nbformat_minor": 2
}

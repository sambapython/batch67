{
 "cells": [
  {
   "cell_type": "code",
   "execution_count": 1,
   "metadata": {},
   "outputs": [
    {
     "name": "stdout",
     "output_type": "stream",
     "text": [
      "Jayaram 2.8 12.456789 3.45456456\n"
     ]
    }
   ],
   "source": [
    "name=\"Jayaram\"\n",
    "age=2.8\n",
    "weight=12.456789\n",
    "height=3.45456456\n",
    "print(name,age,weight,height)"
   ]
  },
  {
   "cell_type": "code",
   "execution_count": 2,
   "metadata": {},
   "outputs": [
    {
     "name": "stdout",
     "output_type": "stream",
     "text": [
      "Jayaram 2.8 12.456789 3.45456456\n",
      "The person details:\n",
      "Name: Jayaram\n",
      "Age: 2.8\n",
      "weight: 12.456789\n",
      "Height: 3.45456456\n"
     ]
    }
   ],
   "source": [
    "name=\"Jayaram\"\n",
    "age=2.8\n",
    "weight=12.456789\n",
    "height=3.45456456\n",
    "print(name,age,weight,height)\n",
    "print(\"The person details:\")\n",
    "print(\"Name:\",name)\n",
    "print(\"Age:\",age)\n",
    "print(\"weight:\",weight)\n",
    "print(\"Height:\",height)"
   ]
  },
  {
   "cell_type": "code",
   "execution_count": 3,
   "metadata": {},
   "outputs": [
    {
     "name": "stdout",
     "output_type": "stream",
     "text": [
      "Jayaram 2.8 12.456789 3.45456456\n",
      "The person details:\n",
      "\tName: Jayaram\n",
      "\tAge: 2.8\n",
      "\tweight: 12.456789\n",
      "\tHeight: 3.45456456\n"
     ]
    }
   ],
   "source": [
    "name=\"Jayaram\"\n",
    "age=2.8\n",
    "weight=12.456789\n",
    "height=3.45456456\n",
    "print(name,age,weight,height)\n",
    "print(\"The person details:\")\n",
    "print(\"\\tName:\",name)\n",
    "print(\"\\tAge:\",age)\n",
    "print(\"\\tweight:\",weight)\n",
    "print(\"\\tHeight:\",height)"
   ]
  },
  {
   "cell_type": "code",
   "execution_count": 4,
   "metadata": {},
   "outputs": [
    {
     "name": "stdout",
     "output_type": "stream",
     "text": [
      "The person details: \tName: Jayaram\n",
      "\tAge: 2.8\n",
      "\tweight: 12.456789\n",
      "\tHeight: 3.45456456\n"
     ]
    }
   ],
   "source": [
    "name=\"Jayaram\"\n",
    "age=2.8\n",
    "weight=12.456789\n",
    "height=3.45456456\n",
    "print(\"The person details:\",\"\\tName:\",name)\n",
    "print(\"\\tAge:\",age)\n",
    "print(\"\\tweight:\",weight)\n",
    "print(\"\\tHeight:\",height)"
   ]
  },
  {
   "cell_type": "code",
   "execution_count": 5,
   "metadata": {},
   "outputs": [
    {
     "name": "stdout",
     "output_type": "stream",
     "text": [
      "The person details:\n",
      " \tName: Jayaram\n",
      "\tAge: 2.8\n",
      "\tweight: 12.456789\n",
      "\tHeight: 3.45456456\n"
     ]
    }
   ],
   "source": [
    "name=\"Jayaram\"\n",
    "age=2.8\n",
    "weight=12.456789\n",
    "height=3.45456456\n",
    "print(\"The person details:\\n\",\"\\tName:\",name)\n",
    "print(\"\\tAge:\",age)\n",
    "print(\"\\tweight:\",weight)\n",
    "print(\"\\tHeight:\",height)"
   ]
  },
  {
   "cell_type": "code",
   "execution_count": 6,
   "metadata": {},
   "outputs": [
    {
     "name": "stdout",
     "output_type": "stream",
     "text": [
      "The person details:\n",
      " \tName: Jayaram \tAge: 2.8\n",
      "\tweight: 12.456789\n",
      "\tHeight: 3.45456456\n"
     ]
    }
   ],
   "source": [
    "name=\"Jayaram\"\n",
    "age=2.8\n",
    "weight=12.456789\n",
    "height=3.45456456\n",
    "print(\"The person details:\\n\",\"\\tName:\",name,\"\\tAge:\",age)\n",
    "print(\"\\tweight:\",weight)\n",
    "print(\"\\tHeight:\",height)"
   ]
  },
  {
   "cell_type": "code",
   "execution_count": 7,
   "metadata": {},
   "outputs": [
    {
     "name": "stdout",
     "output_type": "stream",
     "text": [
      "The person details:\n",
      " \tName: Jayaram \n",
      "\tAge: 2.8\n",
      "\tweight: 12.456789\n",
      "\tHeight: 3.45456456\n"
     ]
    }
   ],
   "source": [
    "name=\"Jayaram\"\n",
    "age=2.8\n",
    "weight=12.456789\n",
    "height=3.45456456\n",
    "print(\"The person details:\\n\",\"\\tName:\",name,\"\\n\\tAge:\",age)\n",
    "print(\"\\tweight:\",weight)\n",
    "print(\"\\tHeight:\",height)"
   ]
  },
  {
   "cell_type": "code",
   "execution_count": 8,
   "metadata": {},
   "outputs": [
    {
     "name": "stdout",
     "output_type": "stream",
     "text": [
      "The person details:\n",
      " \tName: Jayaram \n",
      "\tAge: 2.8 \n",
      "\tweight: 12.456789 \n",
      "\tHeight: 3.45456456\n"
     ]
    }
   ],
   "source": [
    "name=\"Jayaram\"\n",
    "age=2.8\n",
    "weight=12.456789\n",
    "height=3.45456456\n",
    "print(\"The person details:\\n\",\"\\tName:\",name,\"\\n\\tAge:\",age,\"\\n\\tweight:\",weight,\"\\n\\tHeight:\",height)"
   ]
  },
  {
   "cell_type": "code",
   "execution_count": 9,
   "metadata": {},
   "outputs": [
    {
     "name": "stdout",
     "output_type": "stream",
     "text": [
      "The person details:\n",
      " \tName: Jayaram \n",
      "\tAge: 2.8 \n",
      "\tweight: 12.456789 \n",
      "\tHeight: 3.45456456\n"
     ]
    }
   ],
   "source": [
    "name=\"Jayaram\"\n",
    "age=2.8\n",
    "weight=12.456789\n",
    "height=3.45456456\n",
    "print(\"The person details:\\n\",\n",
    "      \"\\tName:\",name,\"\\n\\tAge:\",age,\"\\n\\tweight:\",weight,\"\\n\\tHeight:\",height)"
   ]
  },
  {
   "cell_type": "code",
   "execution_count": 10,
   "metadata": {},
   "outputs": [
    {
     "ename": "SyntaxError",
     "evalue": "EOL while scanning string literal (<ipython-input-10-715419a59e4c>, line 1)",
     "output_type": "error",
     "traceback": [
      "\u001b[0;36m  File \u001b[0;32m\"<ipython-input-10-715419a59e4c>\"\u001b[0;36m, line \u001b[0;32m1\u001b[0m\n\u001b[0;31m    print(\"sdfsdfsdfsdfs\u001b[0m\n\u001b[0m                        ^\u001b[0m\n\u001b[0;31mSyntaxError\u001b[0m\u001b[0;31m:\u001b[0m EOL while scanning string literal\n"
     ]
    }
   ],
   "source": [
    "print(\"sdfsdfsdfsdfs\n",
    "      dfsd\")"
   ]
  },
  {
   "cell_type": "code",
   "execution_count": 11,
   "metadata": {},
   "outputs": [
    {
     "ename": "SyntaxError",
     "evalue": "EOL while scanning string literal (<ipython-input-11-aa19deb185f3>, line 1)",
     "output_type": "error",
     "traceback": [
      "\u001b[0;36m  File \u001b[0;32m\"<ipython-input-11-aa19deb185f3>\"\u001b[0;36m, line \u001b[0;32m1\u001b[0m\n\u001b[0;31m    print(\"sdfsdfsdfsdfssdlkjf;sakjfgopiwhejowej0i9r[u2ew9rjweoijuhf9iuqt\u001b[0m\n\u001b[0m                                                                         ^\u001b[0m\n\u001b[0;31mSyntaxError\u001b[0m\u001b[0;31m:\u001b[0m EOL while scanning string literal\n"
     ]
    }
   ],
   "source": [
    "print(\"sdfsdfsdfsdfssdlkjf;sakjfgopiwhejowej0i9r[u2ew9rjweoijuhf9iuqt\n",
    "      q2ru23ursfgafdfsdsagfsddsgfdgfdhedyertrwweArdfsd\")"
   ]
  },
  {
   "cell_type": "code",
   "execution_count": 12,
   "metadata": {},
   "outputs": [
    {
     "name": "stdout",
     "output_type": "stream",
     "text": [
      "sdfsdfsdfsdfssdlkjf;sakjfgopiwhejowej0i9r[u2ew9rjweoijuhf9iuqt      q2ru23ursfgafdfsdsagfsddsgfdgfdhedyertrwweArdfsd\n"
     ]
    }
   ],
   "source": [
    "print(\"sdfsdfsdfsdfssdlkjf;sakjfgopiwhejowej0i9r[u2ew9rjweoijuhf9iuqt\\\n",
    "      q2ru23ursfgafdfsdsagfsddsgfdgfdhedyertrwweArdfsd\")"
   ]
  },
  {
   "cell_type": "code",
   "execution_count": 13,
   "metadata": {},
   "outputs": [
    {
     "name": "stdout",
     "output_type": "stream",
     "text": [
      "sdfdsf\n",
      "sfsd\n"
     ]
    }
   ],
   "source": [
    "print(\"sdfdsf\")\n",
    "print(\"sfsd\")"
   ]
  },
  {
   "cell_type": "code",
   "execution_count": 14,
   "metadata": {},
   "outputs": [
    {
     "name": "stdout",
     "output_type": "stream",
     "text": [
      "sdfdsf\n",
      "sfsd\n"
     ]
    }
   ],
   "source": [
    "print(\"sdfdsf\");print(\"sfsd\")"
   ]
  },
  {
   "cell_type": "code",
   "execution_count": 15,
   "metadata": {},
   "outputs": [
    {
     "name": "stdout",
     "output_type": "stream",
     "text": [
      "The person details:\n",
      " \tName: Jayaram \n",
      "\tAge: 2.8 \n",
      "\tweight: 12.456789 \n",
      "\tHeight: 3.45456456\n",
      "Name:name\n"
     ]
    }
   ],
   "source": [
    "name=\"Jayaram\"\n",
    "age=2.8\n",
    "weight=12.456789\n",
    "height=3.45456456\n",
    "print(\"The person details:\\n\",\n",
    "      \"\\tName:\",name,\"\\n\\tAge:\",age,\"\\n\\tweight:\",weight,\"\\n\\tHeight:\",height)\n",
    "print(\"Name:name\")"
   ]
  },
  {
   "cell_type": "code",
   "execution_count": 16,
   "metadata": {},
   "outputs": [
    {
     "name": "stdout",
     "output_type": "stream",
     "text": [
      "The person details:\n",
      " \tName: Jayaram \n",
      "\tAge: 2.8 \n",
      "\tweight: 12.456789 \n",
      "\tHeight: 3.45456456\n",
      "Name:{name}\n"
     ]
    }
   ],
   "source": [
    "name=\"Jayaram\"\n",
    "age=2.8\n",
    "weight=12.456789\n",
    "height=3.45456456\n",
    "print(\"The person details:\\n\",\n",
    "      \"\\tName:\",name,\"\\n\\tAge:\",age,\"\\n\\tweight:\",weight,\"\\n\\tHeight:\",height)\n",
    "print(\"Name:{name}\")"
   ]
  },
  {
   "cell_type": "code",
   "execution_count": 17,
   "metadata": {},
   "outputs": [
    {
     "name": "stdout",
     "output_type": "stream",
     "text": [
      "The person details:\n",
      " \tName: Jayaram \n",
      "\tAge: 2.8 \n",
      "\tweight: 12.456789 \n",
      "\tHeight: 3.45456456\n",
      "Name:Jayaram\n"
     ]
    }
   ],
   "source": [
    "name=\"Jayaram\"\n",
    "age=2.8\n",
    "weight=12.456789\n",
    "height=3.45456456\n",
    "print(\"The person details:\\n\",\n",
    "      \"\\tName:\",name,\"\\n\\tAge:\",age,\"\\n\\tweight:\",weight,\"\\n\\tHeight:\",height)\n",
    "print(f\"Name:{name}\")"
   ]
  },
  {
   "cell_type": "code",
   "execution_count": 18,
   "metadata": {},
   "outputs": [
    {
     "name": "stdout",
     "output_type": "stream",
     "text": [
      "The person details:\n",
      " \tName: Jayaram \n",
      "\tAge: 2.8 \n",
      "\tweight: 12.456789 \n",
      "\tHeight: 3.45456456\n",
      "The person details:\n",
      " \tName:Jayaram\n",
      "\tAge:2.8\n",
      "\tweight:12.456789\n",
      "\tHeight:3.45456456\n"
     ]
    }
   ],
   "source": [
    "name=\"Jayaram\"\n",
    "age=2.8\n",
    "weight=12.456789\n",
    "height=3.45456456\n",
    "print(\"The person details:\\n\",\n",
    "      \"\\tName:\",name,\"\\n\\tAge:\",age,\"\\n\\tweight:\",weight,\"\\n\\tHeight:\",height)\n",
    "print(\"The person details:\\n\",\n",
    "      f\"\\tName:{name}\\n\\tAge:{age}\\n\\tweight:{weight}\\n\\tHeight:{height}\")"
   ]
  },
  {
   "cell_type": "code",
   "execution_count": 19,
   "metadata": {},
   "outputs": [
    {
     "name": "stdout",
     "output_type": "stream",
     "text": [
      "The person details:\n",
      " \tName:Jayaram\n",
      "\tAge:2.8\n",
      "\tweight:12.456789\n",
      "\tHeight:3.45456456\n",
      "Jayaram\n"
     ]
    }
   ],
   "source": [
    "name=\"Jayaram\"\n",
    "age=2.8\n",
    "weight=12.456789\n",
    "height=3.45456456\n",
    "print(\"The person details:\\n\",\n",
    "      f\"\\tName:{name}\\n\\tAge:{age}\\n\\tweight:{weight}\\n\\tHeight:{height}\")\n",
    "#{jayaram}\n",
    "print(f\"{name}\")"
   ]
  },
  {
   "cell_type": "code",
   "execution_count": 20,
   "metadata": {},
   "outputs": [
    {
     "name": "stdout",
     "output_type": "stream",
     "text": [
      "Jayaram\n"
     ]
    }
   ],
   "source": [
    "name=\"Jayaram\"\n",
    "age=2.8\n",
    "weight=12.456789\n",
    "height=3.45456456\n",
    "'''\n",
    "print(\"The person details:\\n\",\n",
    "      f\"\\tName:{name}\\n\\tAge:{age}\\n\\tweight:{weight}\\n\\tHeight:{height}\")\n",
    "'''\n",
    "#{jayaram}\n",
    "print(f\"{name}\")"
   ]
  },
  {
   "cell_type": "code",
   "execution_count": 21,
   "metadata": {},
   "outputs": [
    {
     "name": "stdout",
     "output_type": "stream",
     "text": [
      "{name}\n"
     ]
    }
   ],
   "source": [
    "name=\"Jayaram\"\n",
    "age=2.8\n",
    "weight=12.456789\n",
    "height=3.45456456\n",
    "'''\n",
    "print(\"The person details:\\n\",\n",
    "      f\"\\tName:{name}\\n\\tAge:{age}\\n\\tweight:{weight}\\n\\tHeight:{height}\")\n",
    "'''\n",
    "#{jayaram}\n",
    "print(f\"{{name}}\")"
   ]
  },
  {
   "cell_type": "code",
   "execution_count": 22,
   "metadata": {},
   "outputs": [
    {
     "ename": "SyntaxError",
     "evalue": "f-string: expecting '}' (<ipython-input-22-d6807fea885e>, line 10)",
     "output_type": "error",
     "traceback": [
      "\u001b[0;36m  File \u001b[0;32m\"<ipython-input-22-d6807fea885e>\"\u001b[0;36m, line \u001b[0;32m10\u001b[0m\n\u001b[0;31m    print(f\"{\")\u001b[0m\n\u001b[0m         ^\u001b[0m\n\u001b[0;31mSyntaxError\u001b[0m\u001b[0;31m:\u001b[0m f-string: expecting '}'\n"
     ]
    }
   ],
   "source": [
    "name=\"Jayaram\"\n",
    "age=2.8\n",
    "weight=12.456789\n",
    "height=3.45456456\n",
    "'''\n",
    "print(\"The person details:\\n\",\n",
    "      f\"\\tName:{name}\\n\\tAge:{age}\\n\\tweight:{weight}\\n\\tHeight:{height}\")\n",
    "'''\n",
    "#{jayaram}\n",
    "print(f\"{\")"
   ]
  },
  {
   "cell_type": "code",
   "execution_count": 23,
   "metadata": {},
   "outputs": [
    {
     "name": "stdout",
     "output_type": "stream",
     "text": [
      "{\n"
     ]
    }
   ],
   "source": [
    "name=\"Jayaram\"\n",
    "age=2.8\n",
    "weight=12.456789\n",
    "height=3.45456456\n",
    "'''\n",
    "print(\"The person details:\\n\",\n",
    "      f\"\\tName:{name}\\n\\tAge:{age}\\n\\tweight:{weight}\\n\\tHeight:{height}\")\n",
    "'''\n",
    "#{jayaram}\n",
    "print(\"{\")"
   ]
  },
  {
   "cell_type": "code",
   "execution_count": 24,
   "metadata": {},
   "outputs": [
    {
     "name": "stdout",
     "output_type": "stream",
     "text": [
      "{\n"
     ]
    }
   ],
   "source": [
    "name=\"Jayaram\"\n",
    "age=2.8\n",
    "weight=12.456789\n",
    "height=3.45456456\n",
    "'''\n",
    "print(\"The person details:\\n\",\n",
    "      f\"\\tName:{name}\\n\\tAge:{age}\\n\\tweight:{weight}\\n\\tHeight:{height}\")\n",
    "'''\n",
    "#{jayaram}\n",
    "print(f\"{{\")"
   ]
  },
  {
   "cell_type": "code",
   "execution_count": 25,
   "metadata": {},
   "outputs": [
    {
     "name": "stdout",
     "output_type": "stream",
     "text": [
      "{}\n"
     ]
    }
   ],
   "source": [
    "name=\"Jayaram\"\n",
    "age=2.8\n",
    "weight=12.456789\n",
    "height=3.45456456\n",
    "'''\n",
    "print(\"The person details:\\n\",\n",
    "      f\"\\tName:{name}\\n\\tAge:{age}\\n\\tweight:{weight}\\n\\tHeight:{height}\")\n",
    "'''\n",
    "#{jayaram}\n",
    "print(f\"{{}}\")"
   ]
  },
  {
   "cell_type": "code",
   "execution_count": 26,
   "metadata": {},
   "outputs": [
    {
     "name": "stdout",
     "output_type": "stream",
     "text": [
      "{Jayaram}\n"
     ]
    }
   ],
   "source": [
    "name=\"Jayaram\"\n",
    "age=2.8\n",
    "weight=12.456789\n",
    "height=3.45456456\n",
    "'''\n",
    "print(\"The person details:\\n\",\n",
    "      f\"\\tName:{name}\\n\\tAge:{age}\\n\\tweight:{weight}\\n\\tHeight:{height}\")\n",
    "'''\n",
    "#{jayaram}\n",
    "print(f\"{{{name}}}\")"
   ]
  },
  {
   "cell_type": "code",
   "execution_count": 27,
   "metadata": {},
   "outputs": [
    {
     "name": "stdout",
     "output_type": "stream",
     "text": [
      "({Jayaram}\n"
     ]
    }
   ],
   "source": [
    "name=\"Jayaram\"\n",
    "age=2.8\n",
    "weight=12.456789\n",
    "height=3.45456456\n",
    "'''\n",
    "print(\"The person details:\\n\",\n",
    "      f\"\\tName:{name}\\n\\tAge:{age}\\n\\tweight:{weight}\\n\\tHeight:{height}\")\n",
    "'''\n",
    "#{jayaram}\n",
    "print(f\"({{{name}}}\")"
   ]
  },
  {
   "cell_type": "code",
   "execution_count": 28,
   "metadata": {},
   "outputs": [
    {
     "name": "stdout",
     "output_type": "stream",
     "text": [
      "Name:\tJayaram\n"
     ]
    }
   ],
   "source": [
    "print(f\"Name:\\t{name}\")"
   ]
  },
  {
   "cell_type": "code",
   "execution_count": 29,
   "metadata": {},
   "outputs": [
    {
     "name": "stdout",
     "output_type": "stream",
     "text": [
      "Name:\\tJayaram\n"
     ]
    }
   ],
   "source": [
    "print(f\"Name:\\\\t{name}\")"
   ]
  },
  {
   "cell_type": "code",
   "execution_count": 30,
   "metadata": {},
   "outputs": [
    {
     "ename": "SyntaxError",
     "evalue": "EOL while scanning string literal (<ipython-input-30-dff1232de400>, line 1)",
     "output_type": "error",
     "traceback": [
      "\u001b[0;36m  File \u001b[0;32m\"<ipython-input-30-dff1232de400>\"\u001b[0;36m, line \u001b[0;32m1\u001b[0m\n\u001b[0;31m    print(\"\\\")\u001b[0m\n\u001b[0m              ^\u001b[0m\n\u001b[0;31mSyntaxError\u001b[0m\u001b[0;31m:\u001b[0m EOL while scanning string literal\n"
     ]
    }
   ],
   "source": [
    "print(\"\\\")"
   ]
  },
  {
   "cell_type": "code",
   "execution_count": 31,
   "metadata": {},
   "outputs": [
    {
     "name": "stdout",
     "output_type": "stream",
     "text": [
      "\n",
      "\n"
     ]
    }
   ],
   "source": [
    "print(\"\\n\")"
   ]
  },
  {
   "cell_type": "code",
   "execution_count": 32,
   "metadata": {},
   "outputs": [
    {
     "name": "stdout",
     "output_type": "stream",
     "text": [
      "\t\n"
     ]
    }
   ],
   "source": [
    "print(\"\\t\")"
   ]
  },
  {
   "cell_type": "code",
   "execution_count": 33,
   "metadata": {},
   "outputs": [
    {
     "name": "stdout",
     "output_type": "stream",
     "text": [
      "\\s\n"
     ]
    }
   ],
   "source": [
    "print(\"\\s\")"
   ]
  },
  {
   "cell_type": "code",
   "execution_count": 34,
   "metadata": {},
   "outputs": [
    {
     "name": "stdout",
     "output_type": "stream",
     "text": [
      "\\\n"
     ]
    }
   ],
   "source": [
    "print(\"\\\\\")"
   ]
  },
  {
   "cell_type": "code",
   "execution_count": 35,
   "metadata": {},
   "outputs": [
    {
     "name": "stdout",
     "output_type": "stream",
     "text": [
      "\\n\n"
     ]
    }
   ],
   "source": [
    "print(\"\\\\n\")"
   ]
  },
  {
   "cell_type": "code",
   "execution_count": 36,
   "metadata": {},
   "outputs": [
    {
     "name": "stdout",
     "output_type": "stream",
     "text": [
      "25.0\n"
     ]
    }
   ],
   "source": [
    "#y=mx+b\n",
    "m=0.2\n",
    "x=10\n",
    "b=23\n",
    "y=m*x+b\n",
    "print(y)"
   ]
  },
  {
   "cell_type": "code",
   "execution_count": 37,
   "metadata": {},
   "outputs": [
    {
     "name": "stdout",
     "output_type": "stream",
     "text": [
      "134.0\n"
     ]
    }
   ],
   "source": [
    "#y=mx+b\n",
    "m=0.2\n",
    "x1=256\n",
    "x2=23\n",
    "x3=156\n",
    "x4=120\n",
    "\n",
    "b=23\n",
    "y=m*(x1+x2+x3+x4)+b\n",
    "print(y)"
   ]
  },
  {
   "cell_type": "code",
   "execution_count": null,
   "metadata": {},
   "outputs": [],
   "source": []
  }
 ],
 "metadata": {
  "kernelspec": {
   "display_name": "Python 3",
   "language": "python",
   "name": "python3"
  },
  "language_info": {
   "codemirror_mode": {
    "name": "ipython",
    "version": 3
   },
   "file_extension": ".py",
   "mimetype": "text/x-python",
   "name": "python",
   "nbconvert_exporter": "python",
   "pygments_lexer": "ipython3",
   "version": "3.7.3"
  }
 },
 "nbformat": 4,
 "nbformat_minor": 2
}

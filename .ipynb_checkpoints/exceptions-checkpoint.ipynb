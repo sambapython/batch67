{
 "cells": [
  {
   "cell_type": "code",
   "execution_count": 1,
   "metadata": {},
   "outputs": [
    {
     "name": "stdout",
     "output_type": "stream",
     "text": [
      "Enter number1:12\n",
      "Enter number2:34\n",
      "46\n"
     ]
    }
   ],
   "source": [
    "number1 = input(\"Enter number1:\")\n",
    "number2 = input(\"Enter number2:\")\n",
    "number1=int(number1)\n",
    "number2 = int(number2)\n",
    "print(number1+number2)"
   ]
  },
  {
   "cell_type": "code",
   "execution_count": 2,
   "metadata": {},
   "outputs": [
    {
     "name": "stdout",
     "output_type": "stream",
     "text": [
      "Enter number1:12.34\n",
      "Enter number2:56.78\n"
     ]
    },
    {
     "ename": "ValueError",
     "evalue": "invalid literal for int() with base 10: '12.34'",
     "output_type": "error",
     "traceback": [
      "\u001b[0;31m---------------------------------------------------------------------------\u001b[0m",
      "\u001b[0;31mValueError\u001b[0m                                Traceback (most recent call last)",
      "\u001b[0;32m<ipython-input-2-1a101b28881b>\u001b[0m in \u001b[0;36m<module>\u001b[0;34m\u001b[0m\n\u001b[1;32m      1\u001b[0m \u001b[0mnumber1\u001b[0m \u001b[0;34m=\u001b[0m \u001b[0minput\u001b[0m\u001b[0;34m(\u001b[0m\u001b[0;34m\"Enter number1:\"\u001b[0m\u001b[0;34m)\u001b[0m\u001b[0;34m\u001b[0m\u001b[0;34m\u001b[0m\u001b[0m\n\u001b[1;32m      2\u001b[0m \u001b[0mnumber2\u001b[0m \u001b[0;34m=\u001b[0m \u001b[0minput\u001b[0m\u001b[0;34m(\u001b[0m\u001b[0;34m\"Enter number2:\"\u001b[0m\u001b[0;34m)\u001b[0m\u001b[0;34m\u001b[0m\u001b[0;34m\u001b[0m\u001b[0m\n\u001b[0;32m----> 3\u001b[0;31m \u001b[0mnumber1\u001b[0m\u001b[0;34m=\u001b[0m\u001b[0mint\u001b[0m\u001b[0;34m(\u001b[0m\u001b[0mnumber1\u001b[0m\u001b[0;34m)\u001b[0m\u001b[0;34m\u001b[0m\u001b[0;34m\u001b[0m\u001b[0m\n\u001b[0m\u001b[1;32m      4\u001b[0m \u001b[0mnumber2\u001b[0m \u001b[0;34m=\u001b[0m \u001b[0mint\u001b[0m\u001b[0;34m(\u001b[0m\u001b[0mnumber2\u001b[0m\u001b[0;34m)\u001b[0m\u001b[0;34m\u001b[0m\u001b[0;34m\u001b[0m\u001b[0m\n\u001b[1;32m      5\u001b[0m \u001b[0mprint\u001b[0m\u001b[0;34m(\u001b[0m\u001b[0mnumber1\u001b[0m\u001b[0;34m+\u001b[0m\u001b[0mnumber2\u001b[0m\u001b[0;34m)\u001b[0m\u001b[0;34m\u001b[0m\u001b[0;34m\u001b[0m\u001b[0m\n",
      "\u001b[0;31mValueError\u001b[0m: invalid literal for int() with base 10: '12.34'"
     ]
    }
   ],
   "source": [
    "number1 = input(\"Enter number1:\")\n",
    "number2 = input(\"Enter number2:\")\n",
    "number1=int(number1)\n",
    "number2 = int(number2)\n",
    "print(number1+number2)"
   ]
  },
  {
   "cell_type": "code",
   "execution_count": 3,
   "metadata": {},
   "outputs": [
    {
     "name": "stdout",
     "output_type": "stream",
     "text": [
      "welcome\n",
      "Enter number1:12\n",
      "number 1 inserted\n",
      "Enter number2:34\n",
      "number2 inserted\n",
      "46\n",
      "end\n"
     ]
    }
   ],
   "source": [
    "print(\"welcome\")\n",
    "number1 = input(\"Enter number1:\")\n",
    "print(\"number 1 inserted\")\n",
    "number2 = input(\"Enter number2:\")\n",
    "print(\"number2 inserted\")\n",
    "number1=int(number1)\n",
    "number2 = int(number2)\n",
    "print(number1+number2)\n",
    "print(\"end\")"
   ]
  },
  {
   "cell_type": "code",
   "execution_count": 4,
   "metadata": {},
   "outputs": [
    {
     "ename": "SyntaxError",
     "evalue": "EOL while scanning string literal (<ipython-input-4-a71011fdc5a8>, line 5)",
     "output_type": "error",
     "traceback": [
      "\u001b[0;36m  File \u001b[0;32m\"<ipython-input-4-a71011fdc5a8>\"\u001b[0;36m, line \u001b[0;32m5\u001b[0m\n\u001b[0;31m    print(\"number2 inserted)\u001b[0m\n\u001b[0m                            ^\u001b[0m\n\u001b[0;31mSyntaxError\u001b[0m\u001b[0;31m:\u001b[0m EOL while scanning string literal\n"
     ]
    }
   ],
   "source": [
    "print(\"welcome\")\n",
    "number1 = input(\"Enter number1:\")\n",
    "print(\"number 1 inserted\")\n",
    "number2 = input(\"Enter number2:\")\n",
    "print(\"number2 inserted)\n",
    "number1=int(number1)\n",
    "number2 = int(number2)\n",
    "print(number1+number2)\n",
    "print(\"end\")"
   ]
  },
  {
   "cell_type": "code",
   "execution_count": 5,
   "metadata": {},
   "outputs": [
    {
     "name": "stdout",
     "output_type": "stream",
     "text": [
      "welcome\n",
      "Enter number1:12\n",
      "number 1 inserted\n",
      "Enter number2:34.56\n",
      "number2 inserted\n"
     ]
    },
    {
     "ename": "ValueError",
     "evalue": "invalid literal for int() with base 10: '34.56'",
     "output_type": "error",
     "traceback": [
      "\u001b[0;31m---------------------------------------------------------------------------\u001b[0m",
      "\u001b[0;31mValueError\u001b[0m                                Traceback (most recent call last)",
      "\u001b[0;32m<ipython-input-5-30821199ef18>\u001b[0m in \u001b[0;36m<module>\u001b[0;34m\u001b[0m\n\u001b[1;32m      5\u001b[0m \u001b[0mprint\u001b[0m\u001b[0;34m(\u001b[0m\u001b[0;34m\"number2 inserted\"\u001b[0m\u001b[0;34m)\u001b[0m\u001b[0;34m\u001b[0m\u001b[0;34m\u001b[0m\u001b[0m\n\u001b[1;32m      6\u001b[0m \u001b[0mnumber1\u001b[0m\u001b[0;34m=\u001b[0m\u001b[0mint\u001b[0m\u001b[0;34m(\u001b[0m\u001b[0mnumber1\u001b[0m\u001b[0;34m)\u001b[0m\u001b[0;34m\u001b[0m\u001b[0;34m\u001b[0m\u001b[0m\n\u001b[0;32m----> 7\u001b[0;31m \u001b[0mnumber2\u001b[0m \u001b[0;34m=\u001b[0m \u001b[0mint\u001b[0m\u001b[0;34m(\u001b[0m\u001b[0mnumber2\u001b[0m\u001b[0;34m)\u001b[0m\u001b[0;34m\u001b[0m\u001b[0;34m\u001b[0m\u001b[0m\n\u001b[0m\u001b[1;32m      8\u001b[0m \u001b[0mprint\u001b[0m\u001b[0;34m(\u001b[0m\u001b[0mnumber1\u001b[0m\u001b[0;34m+\u001b[0m\u001b[0mnumber2\u001b[0m\u001b[0;34m)\u001b[0m\u001b[0;34m\u001b[0m\u001b[0;34m\u001b[0m\u001b[0m\n\u001b[1;32m      9\u001b[0m \u001b[0mprint\u001b[0m\u001b[0;34m(\u001b[0m\u001b[0;34m\"end\"\u001b[0m\u001b[0;34m)\u001b[0m\u001b[0;34m\u001b[0m\u001b[0;34m\u001b[0m\u001b[0m\n",
      "\u001b[0;31mValueError\u001b[0m: invalid literal for int() with base 10: '34.56'"
     ]
    }
   ],
   "source": [
    "print(\"welcome\")\n",
    "number1 = input(\"Enter number1:\")\n",
    "print(\"number 1 inserted\")\n",
    "number2 = input(\"Enter number2:\")\n",
    "print(\"number2 inserted\")\n",
    "number1=int(number1)\n",
    "number2 = int(number2)\n",
    "print(number1+number2)\n",
    "print(\"end\")"
   ]
  },
  {
   "cell_type": "code",
   "execution_count": 6,
   "metadata": {},
   "outputs": [
    {
     "name": "stdout",
     "output_type": "stream",
     "text": [
      "welcome\n",
      "Enter number1:12\n",
      "Enter number2:6\n",
      "before conversion: number1:12,number2:6\n",
      "after conversion: number1:12,number2:6\n",
      "2.0\n",
      "end\n"
     ]
    }
   ],
   "source": [
    "print(\"welcome\")\n",
    "number1 = input(\"Enter number1:\")\n",
    "number2 = input(\"Enter number2:\")\n",
    "print(f\"before conversion: number1:{number1},number2:{number2}\")\n",
    "number1=int(number1)\n",
    "number2 = int(number2)\n",
    "print(f\"after conversion: number1:{number1},number2:{number2}\")\n",
    "res = number1/number2\n",
    "print(res)\n",
    "print(\"end\")"
   ]
  },
  {
   "cell_type": "code",
   "execution_count": 7,
   "metadata": {},
   "outputs": [
    {
     "name": "stdout",
     "output_type": "stream",
     "text": [
      "welcome\n",
      "Enter number1:2.34\n",
      "Enter number2:56.78\n",
      "before conversion: number1:2.34,number2:56.78\n"
     ]
    },
    {
     "ename": "ValueError",
     "evalue": "invalid literal for int() with base 10: '2.34'",
     "output_type": "error",
     "traceback": [
      "\u001b[0;31m---------------------------------------------------------------------------\u001b[0m",
      "\u001b[0;31mValueError\u001b[0m                                Traceback (most recent call last)",
      "\u001b[0;32m<ipython-input-7-bf65f31c8ba2>\u001b[0m in \u001b[0;36m<module>\u001b[0;34m\u001b[0m\n\u001b[1;32m      3\u001b[0m \u001b[0mnumber2\u001b[0m \u001b[0;34m=\u001b[0m \u001b[0minput\u001b[0m\u001b[0;34m(\u001b[0m\u001b[0;34m\"Enter number2:\"\u001b[0m\u001b[0;34m)\u001b[0m\u001b[0;34m\u001b[0m\u001b[0;34m\u001b[0m\u001b[0m\n\u001b[1;32m      4\u001b[0m \u001b[0mprint\u001b[0m\u001b[0;34m(\u001b[0m\u001b[0;34mf\"before conversion: number1:{number1},number2:{number2}\"\u001b[0m\u001b[0;34m)\u001b[0m\u001b[0;34m\u001b[0m\u001b[0;34m\u001b[0m\u001b[0m\n\u001b[0;32m----> 5\u001b[0;31m \u001b[0mnumber1\u001b[0m\u001b[0;34m=\u001b[0m\u001b[0mint\u001b[0m\u001b[0;34m(\u001b[0m\u001b[0mnumber1\u001b[0m\u001b[0;34m)\u001b[0m\u001b[0;34m\u001b[0m\u001b[0;34m\u001b[0m\u001b[0m\n\u001b[0m\u001b[1;32m      6\u001b[0m \u001b[0mnumber2\u001b[0m \u001b[0;34m=\u001b[0m \u001b[0mint\u001b[0m\u001b[0;34m(\u001b[0m\u001b[0mnumber2\u001b[0m\u001b[0;34m)\u001b[0m\u001b[0;34m\u001b[0m\u001b[0;34m\u001b[0m\u001b[0m\n\u001b[1;32m      7\u001b[0m \u001b[0mprint\u001b[0m\u001b[0;34m(\u001b[0m\u001b[0;34mf\"after conversion: number1:{number1},number2:{number2}\"\u001b[0m\u001b[0;34m)\u001b[0m\u001b[0;34m\u001b[0m\u001b[0;34m\u001b[0m\u001b[0m\n",
      "\u001b[0;31mValueError\u001b[0m: invalid literal for int() with base 10: '2.34'"
     ]
    }
   ],
   "source": [
    "print(\"welcome\")\n",
    "number1 = input(\"Enter number1:\")\n",
    "number2 = input(\"Enter number2:\")\n",
    "print(f\"before conversion: number1:{number1},number2:{number2}\")\n",
    "number1=int(number1)\n",
    "number2 = int(number2)\n",
    "print(f\"after conversion: number1:{number1},number2:{number2}\")\n",
    "res = number1/number2\n",
    "print(res)\n",
    "print(\"end\")"
   ]
  },
  {
   "cell_type": "code",
   "execution_count": 8,
   "metadata": {},
   "outputs": [
    {
     "name": "stdout",
     "output_type": "stream",
     "text": [
      "welcome\n",
      "Enter number1:12\n",
      "Enter number2:\n",
      "before conversion: number1:12,number2:\n"
     ]
    },
    {
     "ename": "ValueError",
     "evalue": "invalid literal for int() with base 10: ''",
     "output_type": "error",
     "traceback": [
      "\u001b[0;31m---------------------------------------------------------------------------\u001b[0m",
      "\u001b[0;31mValueError\u001b[0m                                Traceback (most recent call last)",
      "\u001b[0;32m<ipython-input-8-bf65f31c8ba2>\u001b[0m in \u001b[0;36m<module>\u001b[0;34m\u001b[0m\n\u001b[1;32m      4\u001b[0m \u001b[0mprint\u001b[0m\u001b[0;34m(\u001b[0m\u001b[0;34mf\"before conversion: number1:{number1},number2:{number2}\"\u001b[0m\u001b[0;34m)\u001b[0m\u001b[0;34m\u001b[0m\u001b[0;34m\u001b[0m\u001b[0m\n\u001b[1;32m      5\u001b[0m \u001b[0mnumber1\u001b[0m\u001b[0;34m=\u001b[0m\u001b[0mint\u001b[0m\u001b[0;34m(\u001b[0m\u001b[0mnumber1\u001b[0m\u001b[0;34m)\u001b[0m\u001b[0;34m\u001b[0m\u001b[0;34m\u001b[0m\u001b[0m\n\u001b[0;32m----> 6\u001b[0;31m \u001b[0mnumber2\u001b[0m \u001b[0;34m=\u001b[0m \u001b[0mint\u001b[0m\u001b[0;34m(\u001b[0m\u001b[0mnumber2\u001b[0m\u001b[0;34m)\u001b[0m\u001b[0;34m\u001b[0m\u001b[0;34m\u001b[0m\u001b[0m\n\u001b[0m\u001b[1;32m      7\u001b[0m \u001b[0mprint\u001b[0m\u001b[0;34m(\u001b[0m\u001b[0;34mf\"after conversion: number1:{number1},number2:{number2}\"\u001b[0m\u001b[0;34m)\u001b[0m\u001b[0;34m\u001b[0m\u001b[0;34m\u001b[0m\u001b[0m\n\u001b[1;32m      8\u001b[0m \u001b[0mres\u001b[0m \u001b[0;34m=\u001b[0m \u001b[0mnumber1\u001b[0m\u001b[0;34m/\u001b[0m\u001b[0mnumber2\u001b[0m\u001b[0;34m\u001b[0m\u001b[0;34m\u001b[0m\u001b[0m\n",
      "\u001b[0;31mValueError\u001b[0m: invalid literal for int() with base 10: ''"
     ]
    }
   ],
   "source": [
    "print(\"welcome\")\n",
    "number1 = input(\"Enter number1:\")\n",
    "number2 = input(\"Enter number2:\")\n",
    "print(f\"before conversion: number1:{number1},number2:{number2}\")\n",
    "number1=int(number1)\n",
    "number2 = int(number2)\n",
    "print(f\"after conversion: number1:{number1},number2:{number2}\")\n",
    "res = number1/number2\n",
    "print(res)\n",
    "print(\"end\")"
   ]
  },
  {
   "cell_type": "code",
   "execution_count": 9,
   "metadata": {},
   "outputs": [
    {
     "name": "stdout",
     "output_type": "stream",
     "text": [
      "welcome\n",
      "Enter number1:12\n",
      "Enter number2:9\n",
      "before conversion: number1:12,number2:9\n",
      "after conversion: number1:12,number2:9\n",
      "1.3333333333333333\n",
      "end\n"
     ]
    }
   ],
   "source": [
    "print(\"welcome\")\n",
    "number1 = input(\"Enter number1:\")\n",
    "number2 = input(\"Enter number2:\")\n",
    "print(f\"before conversion: number1:{number1},number2:{number2}\")\n",
    "number1=int(number1)\n",
    "number2 = int(number2)\n",
    "print(f\"after conversion: number1:{number1},number2:{number2}\")\n",
    "res = number1/number2\n",
    "print(res)\n",
    "print(\"end\")"
   ]
  },
  {
   "cell_type": "code",
   "execution_count": 10,
   "metadata": {},
   "outputs": [
    {
     "name": "stdout",
     "output_type": "stream",
     "text": [
      "welcome\n",
      "Enter number1:12\n",
      "Enter number2:0\n",
      "before conversion: number1:12,number2:0\n",
      "after conversion: number1:12,number2:0\n"
     ]
    },
    {
     "ename": "ZeroDivisionError",
     "evalue": "division by zero",
     "output_type": "error",
     "traceback": [
      "\u001b[0;31m---------------------------------------------------------------------------\u001b[0m",
      "\u001b[0;31mZeroDivisionError\u001b[0m                         Traceback (most recent call last)",
      "\u001b[0;32m<ipython-input-10-bf65f31c8ba2>\u001b[0m in \u001b[0;36m<module>\u001b[0;34m\u001b[0m\n\u001b[1;32m      6\u001b[0m \u001b[0mnumber2\u001b[0m \u001b[0;34m=\u001b[0m \u001b[0mint\u001b[0m\u001b[0;34m(\u001b[0m\u001b[0mnumber2\u001b[0m\u001b[0;34m)\u001b[0m\u001b[0;34m\u001b[0m\u001b[0;34m\u001b[0m\u001b[0m\n\u001b[1;32m      7\u001b[0m \u001b[0mprint\u001b[0m\u001b[0;34m(\u001b[0m\u001b[0;34mf\"after conversion: number1:{number1},number2:{number2}\"\u001b[0m\u001b[0;34m)\u001b[0m\u001b[0;34m\u001b[0m\u001b[0;34m\u001b[0m\u001b[0m\n\u001b[0;32m----> 8\u001b[0;31m \u001b[0mres\u001b[0m \u001b[0;34m=\u001b[0m \u001b[0mnumber1\u001b[0m\u001b[0;34m/\u001b[0m\u001b[0mnumber2\u001b[0m\u001b[0;34m\u001b[0m\u001b[0;34m\u001b[0m\u001b[0m\n\u001b[0m\u001b[1;32m      9\u001b[0m \u001b[0mprint\u001b[0m\u001b[0;34m(\u001b[0m\u001b[0mres\u001b[0m\u001b[0;34m)\u001b[0m\u001b[0;34m\u001b[0m\u001b[0;34m\u001b[0m\u001b[0m\n\u001b[1;32m     10\u001b[0m \u001b[0mprint\u001b[0m\u001b[0;34m(\u001b[0m\u001b[0;34m\"end\"\u001b[0m\u001b[0;34m)\u001b[0m\u001b[0;34m\u001b[0m\u001b[0;34m\u001b[0m\u001b[0m\n",
      "\u001b[0;31mZeroDivisionError\u001b[0m: division by zero"
     ]
    }
   ],
   "source": [
    "print(\"welcome\")\n",
    "number1 = input(\"Enter number1:\")\n",
    "number2 = input(\"Enter number2:\")\n",
    "print(f\"before conversion: number1:{number1},number2:{number2}\")\n",
    "number1=int(number1)\n",
    "number2 = int(number2)\n",
    "print(f\"after conversion: number1:{number1},number2:{number2}\")\n",
    "res = number1/number2\n",
    "print(res)\n",
    "print(\"end\")"
   ]
  },
  {
   "cell_type": "code",
   "execution_count": 11,
   "metadata": {},
   "outputs": [
    {
     "name": "stdout",
     "output_type": "stream",
     "text": [
      "welcome\n",
      "Enter number1:werw\n",
      "Enter number2:wer\n",
      "before conversion: number1:werw,number2:wer\n"
     ]
    },
    {
     "ename": "ValueError",
     "evalue": "invalid literal for int() with base 10: 'werw'",
     "output_type": "error",
     "traceback": [
      "\u001b[0;31m---------------------------------------------------------------------------\u001b[0m",
      "\u001b[0;31mValueError\u001b[0m                                Traceback (most recent call last)",
      "\u001b[0;32m<ipython-input-11-bf65f31c8ba2>\u001b[0m in \u001b[0;36m<module>\u001b[0;34m\u001b[0m\n\u001b[1;32m      3\u001b[0m \u001b[0mnumber2\u001b[0m \u001b[0;34m=\u001b[0m \u001b[0minput\u001b[0m\u001b[0;34m(\u001b[0m\u001b[0;34m\"Enter number2:\"\u001b[0m\u001b[0;34m)\u001b[0m\u001b[0;34m\u001b[0m\u001b[0;34m\u001b[0m\u001b[0m\n\u001b[1;32m      4\u001b[0m \u001b[0mprint\u001b[0m\u001b[0;34m(\u001b[0m\u001b[0;34mf\"before conversion: number1:{number1},number2:{number2}\"\u001b[0m\u001b[0;34m)\u001b[0m\u001b[0;34m\u001b[0m\u001b[0;34m\u001b[0m\u001b[0m\n\u001b[0;32m----> 5\u001b[0;31m \u001b[0mnumber1\u001b[0m\u001b[0;34m=\u001b[0m\u001b[0mint\u001b[0m\u001b[0;34m(\u001b[0m\u001b[0mnumber1\u001b[0m\u001b[0;34m)\u001b[0m\u001b[0;34m\u001b[0m\u001b[0;34m\u001b[0m\u001b[0m\n\u001b[0m\u001b[1;32m      6\u001b[0m \u001b[0mnumber2\u001b[0m \u001b[0;34m=\u001b[0m \u001b[0mint\u001b[0m\u001b[0;34m(\u001b[0m\u001b[0mnumber2\u001b[0m\u001b[0;34m)\u001b[0m\u001b[0;34m\u001b[0m\u001b[0;34m\u001b[0m\u001b[0m\n\u001b[1;32m      7\u001b[0m \u001b[0mprint\u001b[0m\u001b[0;34m(\u001b[0m\u001b[0;34mf\"after conversion: number1:{number1},number2:{number2}\"\u001b[0m\u001b[0;34m)\u001b[0m\u001b[0;34m\u001b[0m\u001b[0;34m\u001b[0m\u001b[0m\n",
      "\u001b[0;31mValueError\u001b[0m: invalid literal for int() with base 10: 'werw'"
     ]
    }
   ],
   "source": [
    "print(\"welcome\")\n",
    "number1 = input(\"Enter number1:\")\n",
    "number2 = input(\"Enter number2:\")\n",
    "print(f\"before conversion: number1:{number1},number2:{number2}\")\n",
    "number1=int(number1)\n",
    "number2 = int(number2)\n",
    "print(f\"after conversion: number1:{number1},number2:{number2}\")\n",
    "res = number1/number2\n",
    "print(res)\n",
    "print(\"end\")"
   ]
  },
  {
   "cell_type": "code",
   "execution_count": 12,
   "metadata": {},
   "outputs": [
    {
     "name": "stdout",
     "output_type": "stream",
     "text": [
      "welcome\n",
      "Enter number1:12.34\n",
      "Enter number2:56.78\n",
      "before conversion: number1:12.34,number2:56.78\n"
     ]
    },
    {
     "ename": "ValueError",
     "evalue": "invalid literal for int() with base 10: '12.34'",
     "output_type": "error",
     "traceback": [
      "\u001b[0;31m---------------------------------------------------------------------------\u001b[0m",
      "\u001b[0;31mValueError\u001b[0m                                Traceback (most recent call last)",
      "\u001b[0;32m<ipython-input-12-bf65f31c8ba2>\u001b[0m in \u001b[0;36m<module>\u001b[0;34m\u001b[0m\n\u001b[1;32m      3\u001b[0m \u001b[0mnumber2\u001b[0m \u001b[0;34m=\u001b[0m \u001b[0minput\u001b[0m\u001b[0;34m(\u001b[0m\u001b[0;34m\"Enter number2:\"\u001b[0m\u001b[0;34m)\u001b[0m\u001b[0;34m\u001b[0m\u001b[0;34m\u001b[0m\u001b[0m\n\u001b[1;32m      4\u001b[0m \u001b[0mprint\u001b[0m\u001b[0;34m(\u001b[0m\u001b[0;34mf\"before conversion: number1:{number1},number2:{number2}\"\u001b[0m\u001b[0;34m)\u001b[0m\u001b[0;34m\u001b[0m\u001b[0;34m\u001b[0m\u001b[0m\n\u001b[0;32m----> 5\u001b[0;31m \u001b[0mnumber1\u001b[0m\u001b[0;34m=\u001b[0m\u001b[0mint\u001b[0m\u001b[0;34m(\u001b[0m\u001b[0mnumber1\u001b[0m\u001b[0;34m)\u001b[0m\u001b[0;34m\u001b[0m\u001b[0;34m\u001b[0m\u001b[0m\n\u001b[0m\u001b[1;32m      6\u001b[0m \u001b[0mnumber2\u001b[0m \u001b[0;34m=\u001b[0m \u001b[0mint\u001b[0m\u001b[0;34m(\u001b[0m\u001b[0mnumber2\u001b[0m\u001b[0;34m)\u001b[0m\u001b[0;34m\u001b[0m\u001b[0;34m\u001b[0m\u001b[0m\n\u001b[1;32m      7\u001b[0m \u001b[0mprint\u001b[0m\u001b[0;34m(\u001b[0m\u001b[0;34mf\"after conversion: number1:{number1},number2:{number2}\"\u001b[0m\u001b[0;34m)\u001b[0m\u001b[0;34m\u001b[0m\u001b[0;34m\u001b[0m\u001b[0m\n",
      "\u001b[0;31mValueError\u001b[0m: invalid literal for int() with base 10: '12.34'"
     ]
    }
   ],
   "source": [
    "print(\"welcome\")\n",
    "number1 = input(\"Enter number1:\")\n",
    "number2 = input(\"Enter number2:\")\n",
    "print(f\"before conversion: number1:{number1},number2:{number2}\")\n",
    "number1=int(number1)\n",
    "number2 = int(number2)\n",
    "print(f\"after conversion: number1:{number1},number2:{number2}\")\n",
    "res = number1/number2\n",
    "print(res)\n",
    "print(\"end\")"
   ]
  },
  {
   "cell_type": "code",
   "execution_count": 13,
   "metadata": {},
   "outputs": [
    {
     "name": "stdout",
     "output_type": "stream",
     "text": [
      "welcome\n",
      "Enter number1:12.34\n",
      "Enter number2:56.78\n",
      "before conversion: number1:12.34,number2:56.78\n",
      "after conversion: number1:12.34,number2:56.78\n",
      "0.2173300457907714\n",
      "end\n"
     ]
    }
   ],
   "source": [
    "print(\"welcome\")\n",
    "number1 = input(\"Enter number1:\")\n",
    "number2 = input(\"Enter number2:\")\n",
    "print(f\"before conversion: number1:{number1},number2:{number2}\")\n",
    "number1=float(number1)\n",
    "number2 = float(number2)\n",
    "print(f\"after conversion: number1:{number1},number2:{number2}\")\n",
    "res = number1/number2\n",
    "print(res)\n",
    "print(\"end\")"
   ]
  },
  {
   "cell_type": "code",
   "execution_count": 14,
   "metadata": {},
   "outputs": [
    {
     "name": "stdout",
     "output_type": "stream",
     "text": [
      "welcome\n",
      "Enter number1:wqer\n",
      "Enter number2:qwe\n",
      "before conversion: number1:wqer,number2:qwe\n"
     ]
    },
    {
     "ename": "ValueError",
     "evalue": "could not convert string to float: 'wqer'",
     "output_type": "error",
     "traceback": [
      "\u001b[0;31m---------------------------------------------------------------------------\u001b[0m",
      "\u001b[0;31mValueError\u001b[0m                                Traceback (most recent call last)",
      "\u001b[0;32m<ipython-input-14-8dcebea71879>\u001b[0m in \u001b[0;36m<module>\u001b[0;34m\u001b[0m\n\u001b[1;32m      3\u001b[0m \u001b[0mnumber2\u001b[0m \u001b[0;34m=\u001b[0m \u001b[0minput\u001b[0m\u001b[0;34m(\u001b[0m\u001b[0;34m\"Enter number2:\"\u001b[0m\u001b[0;34m)\u001b[0m\u001b[0;34m\u001b[0m\u001b[0;34m\u001b[0m\u001b[0m\n\u001b[1;32m      4\u001b[0m \u001b[0mprint\u001b[0m\u001b[0;34m(\u001b[0m\u001b[0;34mf\"before conversion: number1:{number1},number2:{number2}\"\u001b[0m\u001b[0;34m)\u001b[0m\u001b[0;34m\u001b[0m\u001b[0;34m\u001b[0m\u001b[0m\n\u001b[0;32m----> 5\u001b[0;31m \u001b[0mnumber1\u001b[0m\u001b[0;34m=\u001b[0m\u001b[0mfloat\u001b[0m\u001b[0;34m(\u001b[0m\u001b[0mnumber1\u001b[0m\u001b[0;34m)\u001b[0m\u001b[0;34m\u001b[0m\u001b[0;34m\u001b[0m\u001b[0m\n\u001b[0m\u001b[1;32m      6\u001b[0m \u001b[0mnumber2\u001b[0m \u001b[0;34m=\u001b[0m \u001b[0mfloat\u001b[0m\u001b[0;34m(\u001b[0m\u001b[0mnumber2\u001b[0m\u001b[0;34m)\u001b[0m\u001b[0;34m\u001b[0m\u001b[0;34m\u001b[0m\u001b[0m\n\u001b[1;32m      7\u001b[0m \u001b[0mprint\u001b[0m\u001b[0;34m(\u001b[0m\u001b[0;34mf\"after conversion: number1:{number1},number2:{number2}\"\u001b[0m\u001b[0;34m)\u001b[0m\u001b[0;34m\u001b[0m\u001b[0;34m\u001b[0m\u001b[0m\n",
      "\u001b[0;31mValueError\u001b[0m: could not convert string to float: 'wqer'"
     ]
    }
   ],
   "source": [
    "print(\"welcome\")\n",
    "number1 = input(\"Enter number1:\")\n",
    "number2 = input(\"Enter number2:\")\n",
    "print(f\"before conversion: number1:{number1},number2:{number2}\")\n",
    "number1=float(number1)\n",
    "number2 = float(number2)\n",
    "print(f\"after conversion: number1:{number1},number2:{number2}\")\n",
    "res = number1/number2\n",
    "print(res)\n",
    "print(\"end\")"
   ]
  },
  {
   "cell_type": "code",
   "execution_count": 15,
   "metadata": {},
   "outputs": [
    {
     "name": "stdout",
     "output_type": "stream",
     "text": [
      "welcome\n",
      "Enter number1:12\n",
      "Enter number2:34\n",
      "before conversion: number1:12,number2:34\n",
      "after conversion: number1:12.0,number2:34.0\n",
      "0.35294117647058826\n",
      "end\n"
     ]
    }
   ],
   "source": [
    "try:\n",
    "    print(\"welcome\")\n",
    "    number1 = input(\"Enter number1:\")\n",
    "    number2 = input(\"Enter number2:\")\n",
    "    print(f\"before conversion: number1:{number1},number2:{number2}\")\n",
    "    number1=float(number1)\n",
    "    number2 = float(number2)\n",
    "    print(f\"after conversion: number1:{number1},number2:{number2}\")\n",
    "    res = number1/number2\n",
    "    print(res)\n",
    "    print(\"end\")\n",
    "except:\n",
    "    print(\"some issue\")"
   ]
  },
  {
   "cell_type": "code",
   "execution_count": 16,
   "metadata": {},
   "outputs": [
    {
     "name": "stdout",
     "output_type": "stream",
     "text": [
      "welcome\n",
      "Enter number1:12\n",
      "Enter number2:0\n",
      "before conversion: number1:12,number2:0\n",
      "after conversion: number1:12.0,number2:0.0\n",
      "some issue\n"
     ]
    }
   ],
   "source": [
    "try:\n",
    "    print(\"welcome\")\n",
    "    number1 = input(\"Enter number1:\")\n",
    "    number2 = input(\"Enter number2:\")\n",
    "    print(f\"before conversion: number1:{number1},number2:{number2}\")\n",
    "    number1=float(number1)\n",
    "    number2 = float(number2)\n",
    "    print(f\"after conversion: number1:{number1},number2:{number2}\")\n",
    "    res = number1/number2\n",
    "    print(res)\n",
    "    print(\"end\")\n",
    "except:\n",
    "    print(\"some issue\")"
   ]
  },
  {
   "cell_type": "code",
   "execution_count": null,
   "metadata": {},
   "outputs": [],
   "source": [
    "try:\n",
    "    print(\"welcome\")\n",
    "    number1 = input(\"Enter number1:\")\n",
    "    number2 = input(\"Enter number2:\")\n",
    "    print(f\"before conversion: number1:{number1},number2:{number2}\")\n",
    "    number1=float(number1)\n",
    "    number2 = float(number2)\n",
    "    print(f\"after conversion: number1:{number1},number2:{number2}\")\n",
    "    res = number1/number2\n",
    "    print(res)\n",
    "    print(\"end\")\n",
    "except:\n",
    "    print(\"some issue\")"
   ]
  },
  {
   "cell_type": "code",
   "execution_count": 17,
   "metadata": {},
   "outputs": [
    {
     "name": "stdout",
     "output_type": "stream",
     "text": [
      "0\n",
      "0\n"
     ]
    }
   ],
   "source": [
    "s=\"python program\"\n",
    "print(s.index(\"python\"))\n",
    "print(s.find(\"python\"))"
   ]
  },
  {
   "cell_type": "code",
   "execution_count": 18,
   "metadata": {},
   "outputs": [
    {
     "name": "stdout",
     "output_type": "stream",
     "text": [
      "welcome\n",
      "Enter number1:12\n",
      "Enter number2:0\n",
      "before conversion: number1:12,number2:0\n",
      "after conversion: number1:12.0,number2:0.0\n",
      "some issue\n",
      "continue with main\n",
      "end\n"
     ]
    }
   ],
   "source": [
    "print(\"welcome\")\n",
    "number1 = input(\"Enter number1:\")\n",
    "number2 = input(\"Enter number2:\")\n",
    "print(f\"before conversion: number1:{number1},number2:{number2}\")\n",
    "try:\n",
    "    number1=float(number1)\n",
    "    number2 = float(number2)\n",
    "    print(f\"after conversion: number1:{number1},number2:{number2}\")\n",
    "    res = number1/number2\n",
    "    print(res)\n",
    "    \n",
    "except:\n",
    "    print(\"some issue\")\n",
    "print(\"continue with main\")\n",
    "print(\"end\")"
   ]
  },
  {
   "cell_type": "code",
   "execution_count": 19,
   "metadata": {},
   "outputs": [
    {
     "name": "stdout",
     "output_type": "stream",
     "text": [
      "welcome\n",
      "Enter number1:12\n",
      "Enter number2:6\n",
      "before conversion: number1:12,number2:6\n",
      "after conversion: number1:12.0,number2:6.0\n",
      "2.0\n",
      "continue with main\n",
      "end\n"
     ]
    }
   ],
   "source": [
    "print(\"welcome\")\n",
    "number1 = input(\"Enter number1:\")\n",
    "number2 = input(\"Enter number2:\")\n",
    "print(f\"before conversion: number1:{number1},number2:{number2}\")\n",
    "try:\n",
    "    number1=float(number1)\n",
    "    number2 = float(number2)\n",
    "    print(f\"after conversion: number1:{number1},number2:{number2}\")\n",
    "    res = number1/number2\n",
    "    print(res)\n",
    "    \n",
    "except:\n",
    "    print(\"some issue\")\n",
    "print(\"continue with main\")\n",
    "print(\"end\")"
   ]
  },
  {
   "cell_type": "code",
   "execution_count": 20,
   "metadata": {},
   "outputs": [
    {
     "name": "stdout",
     "output_type": "stream",
     "text": [
      "welcome\n",
      "Enter number1:12\n",
      "Enter number2:6\n",
      "before conversion: number1:12,number2:6\n",
      "after conversion: number1:12.0,number2:6.0\n",
      "2.0\n",
      "continue with main\n",
      "end\n"
     ]
    }
   ],
   "source": [
    "print(\"welcome\")\n",
    "number1 = input(\"Enter number1:\")\n",
    "number2 = input(\"Enter number2:\")\n",
    "print(f\"before conversion: number1:{number1},number2:{number2}\")\n",
    "try:\n",
    "    number1=float(number1)\n",
    "    number2 = float(number2)\n",
    "    print(f\"after conversion: number1:{number1},number2:{number2}\")\n",
    "    res = number1/number2\n",
    "    print(res)\n",
    "    \n",
    "except Exception as err:\n",
    "    print(\"some issue: %s\"%err)\n",
    "print(\"continue with main\")\n",
    "print(\"end\")"
   ]
  },
  {
   "cell_type": "code",
   "execution_count": 21,
   "metadata": {},
   "outputs": [
    {
     "name": "stdout",
     "output_type": "stream",
     "text": [
      "welcome\n",
      "Enter number1:12\n",
      "Enter number2:0\n",
      "before conversion: number1:12,number2:0\n",
      "after conversion: number1:12.0,number2:0.0\n",
      "some issue: float division by zero\n",
      "continue with main\n",
      "end\n"
     ]
    }
   ],
   "source": [
    "print(\"welcome\")\n",
    "number1 = input(\"Enter number1:\")\n",
    "number2 = input(\"Enter number2:\")\n",
    "print(f\"before conversion: number1:{number1},number2:{number2}\")\n",
    "try:\n",
    "    number1=float(number1)\n",
    "    number2 = float(number2)\n",
    "    print(f\"after conversion: number1:{number1},number2:{number2}\")\n",
    "    res = number1/number2\n",
    "    print(res)\n",
    "    \n",
    "except Exception as err:\n",
    "    print(\"some issue: %s\"%err)\n",
    "print(\"continue with main\")\n",
    "print(\"end\")"
   ]
  },
  {
   "cell_type": "code",
   "execution_count": 22,
   "metadata": {},
   "outputs": [
    {
     "name": "stdout",
     "output_type": "stream",
     "text": [
      "welcome\n",
      "Enter number1:w\n",
      "Enter number2:wer\n",
      "before conversion: number1:w,number2:wer\n",
      "some issue: could not convert string to float: 'w'\n",
      "continue with main\n",
      "end\n"
     ]
    }
   ],
   "source": [
    "print(\"welcome\")\n",
    "number1 = input(\"Enter number1:\")\n",
    "number2 = input(\"Enter number2:\")\n",
    "print(f\"before conversion: number1:{number1},number2:{number2}\")\n",
    "try:\n",
    "    number1=float(number1)\n",
    "    number2 = float(number2)\n",
    "    print(f\"after conversion: number1:{number1},number2:{number2}\")\n",
    "    res = number1/number2\n",
    "    print(res)\n",
    "    \n",
    "except Exception as err:\n",
    "    print(\"some issue: %s\"%err)\n",
    "print(\"continue with main\")\n",
    "print(\"end\")"
   ]
  },
  {
   "cell_type": "code",
   "execution_count": 23,
   "metadata": {},
   "outputs": [
    {
     "name": "stdout",
     "output_type": "stream",
     "text": [
      "welcome\n",
      "Enter number1:12\n",
      "Enter number2:6\n",
      "before conversion: number1:12,number2:6\n",
      "after conversion: number1:12.0,number2:6.0\n",
      "2.0\n",
      "continue with main\n",
      "end\n"
     ]
    }
   ],
   "source": [
    "print(\"welcome\")\n",
    "number1 = input(\"Enter number1:\")\n",
    "number2 = input(\"Enter number2:\")\n",
    "print(f\"before conversion: number1:{number1},number2:{number2}\")\n",
    "try:\n",
    "    number1=float(number1)\n",
    "    number2 = float(number2)\n",
    "    print(f\"after conversion: number1:{number1},number2:{number2}\")\n",
    "    res = number1/number2\n",
    "    print(res)\n",
    "except ValueError as err:\n",
    "    print(\"exepecting digits only\")\n",
    "except ZeroDivisionError as err:\n",
    "    print(\"number should not exquals to zero\")\n",
    "except Exception as err:\n",
    "    print(\"some issue: %s\"%err)\n",
    "print(\"continue with main\")\n",
    "print(\"end\")"
   ]
  },
  {
   "cell_type": "code",
   "execution_count": 24,
   "metadata": {},
   "outputs": [
    {
     "name": "stdout",
     "output_type": "stream",
     "text": [
      "welcome\n",
      "Enter number1:12\n",
      "Enter number2:0\n",
      "before conversion: number1:12,number2:0\n",
      "after conversion: number1:12.0,number2:0.0\n",
      "number should not exquals to zero\n",
      "continue with main\n",
      "end\n"
     ]
    }
   ],
   "source": [
    "print(\"welcome\")\n",
    "number1 = input(\"Enter number1:\")\n",
    "number2 = input(\"Enter number2:\")\n",
    "print(f\"before conversion: number1:{number1},number2:{number2}\")\n",
    "try:\n",
    "    number1=float(number1)\n",
    "    number2 = float(number2)\n",
    "    print(f\"after conversion: number1:{number1},number2:{number2}\")\n",
    "    res = number1/number2\n",
    "    print(res)\n",
    "except ValueError as err:\n",
    "    print(\"exepecting digits only\")\n",
    "except ZeroDivisionError as err:\n",
    "    print(\"number should not exquals to zero\")\n",
    "except Exception as err:\n",
    "    print(\"some issue: %s\"%err)\n",
    "print(\"continue with main\")\n",
    "print(\"end\")"
   ]
  },
  {
   "cell_type": "code",
   "execution_count": 25,
   "metadata": {},
   "outputs": [
    {
     "name": "stdout",
     "output_type": "stream",
     "text": [
      "welcome\n",
      "Enter number1:qwe\n",
      "Enter number2:324\n",
      "before conversion: number1:qwe,number2:324\n",
      "exepecting digits only\n",
      "continue with main\n",
      "end\n"
     ]
    }
   ],
   "source": [
    "print(\"welcome\")\n",
    "number1 = input(\"Enter number1:\")\n",
    "number2 = input(\"Enter number2:\")\n",
    "print(f\"before conversion: number1:{number1},number2:{number2}\")\n",
    "try:\n",
    "    number1=float(number1)\n",
    "    number2 = float(number2)\n",
    "    print(f\"after conversion: number1:{number1},number2:{number2}\")\n",
    "    res = number1/number2\n",
    "    print(res)\n",
    "except ValueError as err:\n",
    "    print(\"exepecting digits only\")\n",
    "except ZeroDivisionError as err:\n",
    "    print(\"number should not exquals to zero\")\n",
    "except Exception as err:\n",
    "    print(\"some issue: %s\"%err)\n",
    "print(\"continue with main\")\n",
    "print(\"end\")"
   ]
  },
  {
   "cell_type": "code",
   "execution_count": 26,
   "metadata": {},
   "outputs": [
    {
     "name": "stdout",
     "output_type": "stream",
     "text": [
      "welcome\n",
      "Enter number1:12.34.56\n",
      "Enter number2:34.56\n",
      "before conversion: number1:12.34.56,number2:34.56\n",
      "exepecting digits only\n",
      "continue with main\n",
      "end\n"
     ]
    }
   ],
   "source": [
    "print(\"welcome\")\n",
    "number1 = input(\"Enter number1:\")\n",
    "number2 = input(\"Enter number2:\")\n",
    "print(f\"before conversion: number1:{number1},number2:{number2}\")\n",
    "try:\n",
    "    number1=float(number1)\n",
    "    number2 = float(number2)\n",
    "    print(f\"after conversion: number1:{number1},number2:{number2}\")\n",
    "    res = number1/number2\n",
    "    print(res)\n",
    "except ValueError as err:\n",
    "    print(\"exepecting digits only\")\n",
    "except ZeroDivisionError as err:\n",
    "    print(\"number should not exquals to zero\")\n",
    "except Exception as err:\n",
    "    print(\"some issue: %s\"%err)\n",
    "print(\"continue with main\")\n",
    "print(\"end\")"
   ]
  },
  {
   "cell_type": "code",
   "execution_count": 27,
   "metadata": {},
   "outputs": [
    {
     "name": "stdout",
     "output_type": "stream",
     "text": [
      "welcome\n",
      "Enter number1:wer\n",
      "Enter number2:0\n",
      "before conversion: number1:wer,number2:0\n",
      "exepecting digits only\n",
      "continue with main\n",
      "end\n"
     ]
    }
   ],
   "source": [
    "print(\"welcome\")\n",
    "number1 = input(\"Enter number1:\")\n",
    "number2 = input(\"Enter number2:\")\n",
    "print(f\"before conversion: number1:{number1},number2:{number2}\")\n",
    "try:\n",
    "    number1=float(number1)\n",
    "    number2 = float(number2)\n",
    "    print(f\"after conversion: number1:{number1},number2:{number2}\")\n",
    "    res = number1/number2\n",
    "    print(res)\n",
    "except ValueError as err:\n",
    "    print(\"exepecting digits only\")\n",
    "except ZeroDivisionError as err:\n",
    "    print(\"number should not exquals to zero\")\n",
    "except Exception as err:\n",
    "    print(\"some issue: %s\"%err)\n",
    "print(\"continue with main\")\n",
    "print(\"end\")"
   ]
  },
  {
   "cell_type": "code",
   "execution_count": null,
   "metadata": {},
   "outputs": [],
   "source": []
  }
 ],
 "metadata": {
  "kernelspec": {
   "display_name": "Python 3",
   "language": "python",
   "name": "python3"
  },
  "language_info": {
   "codemirror_mode": {
    "name": "ipython",
    "version": 3
   },
   "file_extension": ".py",
   "mimetype": "text/x-python",
   "name": "python",
   "nbconvert_exporter": "python",
   "pygments_lexer": "ipython3",
   "version": "3.7.3"
  }
 },
 "nbformat": 4,
 "nbformat_minor": 2
}

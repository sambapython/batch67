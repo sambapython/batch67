{
 "cells": [
  {
   "cell_type": "code",
   "execution_count": 1,
   "metadata": {},
   "outputs": [
    {
     "name": "stdout",
     "output_type": "stream",
     "text": [
      "sjlkjsf\n",
      "sdfs\tdgfd\n",
      "dfgfd\tdfgfd\n",
      "sfsd\tsdfdsndsfds\t\n"
     ]
    }
   ],
   "source": [
    "s=\"sjlkjsf\\nsdfs\\tdgfd\\ndfgfd\\tdfgfd\\nsfsd\\tsdfdsndsfds\\t\"\n",
    "print(s)"
   ]
  },
  {
   "cell_type": "code",
   "execution_count": 2,
   "metadata": {},
   "outputs": [
    {
     "name": "stdout",
     "output_type": "stream",
     "text": [
      "sjlkjsf\\nsdfs\\tdgfd\\ndfgfd\\tdfgfd\\nsfsd\\tsdfdsndsfds\\t\n"
     ]
    }
   ],
   "source": [
    "s=\"sjlkjsf\\\\nsdfs\\\\tdgfd\\\\ndfgfd\\\\tdfgfd\\\\nsfsd\\\\tsdfdsndsfds\\\\t\"\n",
    "print(s)"
   ]
  },
  {
   "cell_type": "code",
   "execution_count": 3,
   "metadata": {},
   "outputs": [
    {
     "name": "stdout",
     "output_type": "stream",
     "text": [
      "sjlkjsf\\nsdfs\\tdgfd\\ndfgfd\\tdfgfd\\nsfsd\\tsdfdsndsfds\\t <class 'str'>\n"
     ]
    }
   ],
   "source": [
    "s=r\"sjlkjsf\\nsdfs\\tdgfd\\ndfgfd\\tdfgfd\\nsfsd\\tsdfdsndsfds\\t\"\n",
    "print(s,type(s))"
   ]
  },
  {
   "cell_type": "code",
   "execution_count": 4,
   "metadata": {},
   "outputs": [
    {
     "name": "stdout",
     "output_type": "stream",
     "text": [
      "14\n"
     ]
    }
   ],
   "source": [
    "s=\"python program\"\n",
    "print(len(s))"
   ]
  },
  {
   "cell_type": "code",
   "execution_count": 5,
   "metadata": {},
   "outputs": [
    {
     "name": "stdout",
     "output_type": "stream",
     "text": [
      "18\n"
     ]
    }
   ],
   "source": [
    "s=\"\\npython\\n \\nprogram\\n\"\n",
    "print(len(s))"
   ]
  },
  {
   "cell_type": "code",
   "execution_count": 6,
   "metadata": {},
   "outputs": [
    {
     "name": "stdout",
     "output_type": "stream",
     "text": [
      "22\n"
     ]
    }
   ],
   "source": [
    "s=r\"\\npython\\n \\nprogram\\n\"\n",
    "print(len(s))"
   ]
  },
  {
   "cell_type": "code",
   "execution_count": 7,
   "metadata": {},
   "outputs": [
    {
     "name": "stdout",
     "output_type": "stream",
     "text": [
      "Mi xiomi 7 pro\n"
     ]
    }
   ],
   "source": [
    "mrp=12000.45656856\n",
    "name=\"Mi xiomi 7 pro\"\n",
    "discount=1000\n",
    "# display the product details with sales price\n",
    "print(name)"
   ]
  },
  {
   "cell_type": "code",
   "execution_count": 8,
   "metadata": {},
   "outputs": [
    {
     "name": "stdout",
     "output_type": "stream",
     "text": [
      "Mi xiomi 7 pro\n"
     ]
    }
   ],
   "source": [
    "mrp=12000.45656856\n",
    "name=\"Mi xiomi 7 pro\"\n",
    "discount=1000\n",
    "# display the product details with sales price\n",
    "print(f\"{name}\")"
   ]
  },
  {
   "cell_type": "code",
   "execution_count": 9,
   "metadata": {},
   "outputs": [
    {
     "name": "stdout",
     "output_type": "stream",
     "text": [
      "{name}\n"
     ]
    }
   ],
   "source": [
    "mrp=12000.45656856\n",
    "name=\"Mi xiomi 7 pro\"\n",
    "discount=1000\n",
    "# display the product details with sales price\n",
    "print(\"{name}\")"
   ]
  },
  {
   "cell_type": "code",
   "execution_count": 10,
   "metadata": {},
   "outputs": [
    {
     "name": "stdout",
     "output_type": "stream",
     "text": [
      "Name:Mi xiomi 7 pro, MRP: 12000.45656856, Discount: 1000, Sales price: 11000.45656856\n"
     ]
    }
   ],
   "source": [
    "mrp=12000.45656856\n",
    "name=\"Mi xiomi 7 pro\"\n",
    "discount=1000\n",
    "# display the product details with sales price\n",
    "print(f\"Name:{name}, MRP: {mrp}, Discount: {discount}, Sales price: {mrp-discountount}\")"
   ]
  },
  {
   "cell_type": "code",
   "execution_count": 12,
   "metadata": {},
   "outputs": [
    {
     "name": "stdout",
     "output_type": "stream",
     "text": [
      "Name:Mi xiomi 7 pro, MRP: 12000.45656856, Discount: 1000, Sales price: 11000.46\n"
     ]
    }
   ],
   "source": [
    "mrp=12000.45656856\n",
    "name=\"Mi xiomi 7 pro\"\n",
    "discount=1000\n",
    "# display the product details with sales price\n",
    "print(f\"Name:{name}, MRP: {mrp}, Discount: {discount}, Sales price: {round(mrp-discount,2)}\")"
   ]
  },
  {
   "cell_type": "code",
   "execution_count": 13,
   "metadata": {},
   "outputs": [
    {
     "name": "stdout",
     "output_type": "stream",
     "text": [
      "Name:Mi xiomi 7 pro, MRP: 12000.45656856, Discount: 1000, Sales price: 11000.46\n",
      "Name: %s, MRP: %s, Discount: %s, Sales Price: %s ('Mi xiomi 7 pro', 12000.45656856, 1000, 11000.45656856)\n"
     ]
    }
   ],
   "source": [
    "mrp=12000.45656856\n",
    "name=\"Mi xiomi 7 pro\"\n",
    "discount=1000\n",
    "# display the product details with sales price\n",
    "print(f\"Name:{name}, MRP: {mrp}, Discount: {discount}, Sales price: {round(mrp-discount,2)}\")\n",
    "print(\"Name: %s, MRP: %s, Discount: %s, Sales Price: %s\",(name,mrp,discount,mrp-discount))"
   ]
  },
  {
   "cell_type": "code",
   "execution_count": 14,
   "metadata": {},
   "outputs": [
    {
     "name": "stdout",
     "output_type": "stream",
     "text": [
      "Name:Mi xiomi 7 pro, MRP: 12000.45656856, Discount: 1000, Sales price: 11000.46\n",
      "Name: Mi xiomi 7 pro, MRP: 12000.45656856, Discount: 1000, Sales Price: 11000.45656856\n"
     ]
    }
   ],
   "source": [
    "mrp=12000.45656856\n",
    "name=\"Mi xiomi 7 pro\"\n",
    "discount=1000\n",
    "# display the product details with sales price\n",
    "print(f\"Name:{name}, MRP: {mrp}, Discount: {discount}, Sales price: {round(mrp-discount,2)}\")\n",
    "print(\"Name: %s, MRP: %s, Discount: %s, Sales Price: %s\"%(name,mrp,discount,mrp-discount))"
   ]
  },
  {
   "cell_type": "code",
   "execution_count": 15,
   "metadata": {},
   "outputs": [
    {
     "name": "stdout",
     "output_type": "stream",
     "text": [
      "Name:Mi xiomi 7 pro, MRP: 12000.45656856, Discount: 1000, Sales price: 11000.46\n",
      "Name: Mi xiomi 7 pro, MRP: 12000.45656856, Discount: 1000, Sales Price: 11000\n"
     ]
    }
   ],
   "source": [
    "mrp=12000.45656856\n",
    "name=\"Mi xiomi 7 pro\"\n",
    "discount=1000\n",
    "# display the product details with sales price\n",
    "print(f\"Name:{name}, MRP: {mrp}, Discount: {discount}, Sales price: {round(mrp-discount,2)}\")\n",
    "print(\"Name: %s, MRP: %s, Discount: %s, Sales Price: %d\"%(name,mrp,discount,mrp-discount))"
   ]
  },
  {
   "cell_type": "code",
   "execution_count": 16,
   "metadata": {},
   "outputs": [
    {
     "name": "stdout",
     "output_type": "stream",
     "text": [
      "Name:Mi xiomi 7 pro, MRP: 12000.45656856, Discount: 1000, Sales price: 11000.46\n",
      "Name: Mi xiomi 7 pro, MRP: 12000.456569, Discount: 1000, Sales Price: 11000\n"
     ]
    }
   ],
   "source": [
    "mrp=12000.45656856\n",
    "name=\"Mi xiomi 7 pro\"\n",
    "discount=1000\n",
    "# display the product details with sales price\n",
    "print(f\"Name:{name}, MRP: {mrp}, Discount: {discount}, Sales price: {round(mrp-discount,2)}\")\n",
    "print(\"Name: %s, MRP: %f, Discount: %s, Sales Price: %d\"%(name,mrp,discount,mrp-discount))"
   ]
  },
  {
   "cell_type": "code",
   "execution_count": 17,
   "metadata": {},
   "outputs": [
    {
     "name": "stdout",
     "output_type": "stream",
     "text": [
      "Name:Mi xiomi 7 pro, MRP: 12000.45656856, Discount: 1000, Sales price: 11000.46\n",
      "Name: Mi xiomi 7 pro, MRP: 12000.46, Discount: 1000, Sales Price: 11000\n"
     ]
    }
   ],
   "source": [
    "mrp=12000.45656856\n",
    "name=\"Mi xiomi 7 pro\"\n",
    "discount=1000\n",
    "# display the product details with sales price\n",
    "print(f\"Name:{name}, MRP: {mrp}, Discount: {discount}, Sales price: {round(mrp-discount,2)}\")\n",
    "print(\"Name: %s, MRP: %.2f, Discount: %s, Sales Price: %d\"%(name,mrp,discount,mrp-discount))"
   ]
  },
  {
   "cell_type": "code",
   "execution_count": null,
   "metadata": {},
   "outputs": [],
   "source": [
    "mrp=12000.45656856\n",
    "name=\"Mi xiomi 7 pro\"\n",
    "discount=1000\n",
    "# display the product details with sales price\n",
    "#print(f\"Name:{name}, MRP: {mrp}, Discount: {discount}, Sales price: {round(mrp-discount,2)}\")\n",
    "print(\"Name: %s, MRP: %.2f, Discount: %s, Sales Price: %d\"%(name,mrp,discount,mrp-discount))"
   ]
  },
  {
   "cell_type": "code",
   "execution_count": 18,
   "metadata": {},
   "outputs": [
    {
     "data": {
      "text/plain": [
       "3.46"
      ]
     },
     "execution_count": 18,
     "metadata": {},
     "output_type": "execute_result"
    }
   ],
   "source": [
    "round(3.456,2)"
   ]
  },
  {
   "cell_type": "code",
   "execution_count": 19,
   "metadata": {},
   "outputs": [
    {
     "data": {
      "text/plain": [
       "3.45"
      ]
     },
     "execution_count": 19,
     "metadata": {},
     "output_type": "execute_result"
    }
   ],
   "source": [
    "round(3.454,2)"
   ]
  },
  {
   "cell_type": "code",
   "execution_count": 20,
   "metadata": {},
   "outputs": [],
   "source": [
    "import math"
   ]
  },
  {
   "cell_type": "code",
   "execution_count": 22,
   "metadata": {},
   "outputs": [
    {
     "data": {
      "text/plain": [
       "3"
      ]
     },
     "execution_count": 22,
     "metadata": {},
     "output_type": "execute_result"
    }
   ],
   "source": [
    "math.floor(3.4556)"
   ]
  },
  {
   "cell_type": "code",
   "execution_count": 23,
   "metadata": {},
   "outputs": [
    {
     "data": {
      "text/plain": [
       "3"
      ]
     },
     "execution_count": 23,
     "metadata": {},
     "output_type": "execute_result"
    }
   ],
   "source": [
    "math.floor(3.6556)"
   ]
  },
  {
   "cell_type": "code",
   "execution_count": 24,
   "metadata": {},
   "outputs": [
    {
     "data": {
      "text/plain": [
       "4"
      ]
     },
     "execution_count": 24,
     "metadata": {},
     "output_type": "execute_result"
    }
   ],
   "source": [
    "math.ceil(3.6556)"
   ]
  },
  {
   "cell_type": "code",
   "execution_count": 25,
   "metadata": {},
   "outputs": [
    {
     "data": {
      "text/plain": [
       "4"
      ]
     },
     "execution_count": 25,
     "metadata": {},
     "output_type": "execute_result"
    }
   ],
   "source": [
    "math.ceil(3.4556)"
   ]
  },
  {
   "cell_type": "code",
   "execution_count": 26,
   "metadata": {},
   "outputs": [
    {
     "data": {
      "text/plain": [
       "4"
      ]
     },
     "execution_count": 26,
     "metadata": {},
     "output_type": "execute_result"
    }
   ],
   "source": [
    "math.ceil(3.1)"
   ]
  },
  {
   "cell_type": "code",
   "execution_count": 27,
   "metadata": {},
   "outputs": [
    {
     "name": "stdout",
     "output_type": "stream",
     "text": [
      "['3', '456567']\n"
     ]
    }
   ],
   "source": [
    "number = 3.456567\n",
    "s=str(number)\n",
    "print(s.split(\".\"))"
   ]
  },
  {
   "cell_type": "code",
   "execution_count": 31,
   "metadata": {},
   "outputs": [
    {
     "name": "stdout",
     "output_type": "stream",
     "text": [
      "3.45\n"
     ]
    }
   ],
   "source": [
    "number = 3.456567\n",
    "s=str(number)\n",
    "l=s.split(\".\")\n",
    "s1=l[0]\n",
    "s2=l[1][:2]\n",
    "print(\".\".join([s1,s2]))"
   ]
  },
  {
   "cell_type": "code",
   "execution_count": 32,
   "metadata": {},
   "outputs": [
    {
     "name": "stdout",
     "output_type": "stream",
     "text": [
      "sjlkjsf\n",
      "sdfs\tdgfd\n",
      "dfgfd\tdfgfd\n",
      "sfsd\tsdfdsndsfds\t\n"
     ]
    }
   ],
   "source": [
    "s=\"sjlkjsf\\nsdfs\\tdgfd\\ndfgfd\\tdfgfd\\nsfsd\\tsdfdsndsfds\\t\"\n",
    "print(s)"
   ]
  },
  {
   "cell_type": "code",
   "execution_count": 33,
   "metadata": {},
   "outputs": [
    {
     "name": "stdout",
     "output_type": "stream",
     "text": [
      "sjlkjsf\\nsdfs\\tdgfd\\ndfgfd\\tdfgfd\\nsfsd\\tsdfdsndsfds\\t\n"
     ]
    }
   ],
   "source": [
    "s=r\"sjlkjsf\\nsdfs\\tdgfd\\ndfgfd\\tdfgfd\\nsfsd\\tsdfdsndsfds\\t\"\n",
    "print(s)"
   ]
  },
  {
   "cell_type": "code",
   "execution_count": 34,
   "metadata": {},
   "outputs": [
    {
     "ename": "SyntaxError",
     "evalue": "EOL while scanning string literal (<ipython-input-34-51feab9470c2>, line 2)",
     "output_type": "error",
     "traceback": [
      "\u001b[0;36m  File \u001b[0;32m\"<ipython-input-34-51feab9470c2>\"\u001b[0;36m, line \u001b[0;32m2\u001b[0m\n\u001b[0;31m    s1=r\"s\u001b[0m\n\u001b[0m          ^\u001b[0m\n\u001b[0;31mSyntaxError\u001b[0m\u001b[0;31m:\u001b[0m EOL while scanning string literal\n"
     ]
    }
   ],
   "source": [
    "s=\"sjlkjsf\\nsdfs\\tdgfd\\ndfgfd\\tdfgfd\\nsfsd\\tsdfdsndsfds\\t\"\n",
    "s1=r\"s"
   ]
  },
  {
   "cell_type": "code",
   "execution_count": 35,
   "metadata": {},
   "outputs": [
    {
     "name": "stdout",
     "output_type": "stream",
     "text": [
      "sjlkjsf\n",
      "sdfs\tdgfd\n",
      "dfgfd\tdfgfd\n",
      "sfsd\tsdfdsndsfds\t\n"
     ]
    }
   ],
   "source": [
    "s=\"sjlkjsf\\nsdfs\\tdgfd\\ndfgfd\\tdfgfd\\nsfsd\\tsdfdsndsfds\\t\"\n",
    "print(\"%s\"%s)"
   ]
  },
  {
   "cell_type": "code",
   "execution_count": 36,
   "metadata": {},
   "outputs": [
    {
     "name": "stdout",
     "output_type": "stream",
     "text": [
      "'sjlkjsf\\nsdfs\\tdgfd\\ndfgfd\\tdfgfd\\nsfsd\\tsdfdsndsfds\\t'\n"
     ]
    }
   ],
   "source": [
    "s=\"sjlkjsf\\nsdfs\\tdgfd\\ndfgfd\\tdfgfd\\nsfsd\\tsdfdsndsfds\\t\"\n",
    "print(\"%r\"%s)"
   ]
  },
  {
   "cell_type": "code",
   "execution_count": 37,
   "metadata": {},
   "outputs": [
    {
     "name": "stdout",
     "output_type": "stream",
     "text": [
      "cost: 23.46\n"
     ]
    }
   ],
   "source": [
    "cost=23.45678\n",
    "# cost:23.46\n",
    "print(\"cost:\",round(cost,2))"
   ]
  },
  {
   "cell_type": "code",
   "execution_count": 38,
   "metadata": {},
   "outputs": [
    {
     "name": "stdout",
     "output_type": "stream",
     "text": [
      "cost mrp discount\n"
     ]
    }
   ],
   "source": [
    "print(\"cost\",\"mrp\",\"discount\")"
   ]
  },
  {
   "cell_type": "code",
   "execution_count": 39,
   "metadata": {},
   "outputs": [
    {
     "name": "stdout",
     "output_type": "stream",
     "text": [
      "cost;mrp;discount\n"
     ]
    }
   ],
   "source": [
    "print(\"cost\",\"mrp\",\"discount\",sep=\";\")"
   ]
  },
  {
   "cell_type": "code",
   "execution_count": 40,
   "metadata": {},
   "outputs": [
    {
     "name": "stdout",
     "output_type": "stream",
     "text": [
      "cost.mrp.discount\n"
     ]
    }
   ],
   "source": [
    "print(\"cost\",\"mrp\",\"discount\",sep=\".\")"
   ]
  },
  {
   "cell_type": "code",
   "execution_count": 41,
   "metadata": {},
   "outputs": [
    {
     "name": "stdout",
     "output_type": "stream",
     "text": [
      "cost:23.46\n"
     ]
    }
   ],
   "source": [
    "cost=23.45678\n",
    "# cost:23.46\n",
    "print(\"cost:\",round(cost,2),sep=\"\")"
   ]
  },
  {
   "cell_type": "code",
   "execution_count": 42,
   "metadata": {},
   "outputs": [
    {
     "name": "stdout",
     "output_type": "stream",
     "text": [
      "cost:23.46\n",
      "cost:23.46\n"
     ]
    }
   ],
   "source": [
    "cost=23.45678\n",
    "# cost:23.46\n",
    "print(\"cost:\",round(cost,2),sep=\"\")\n",
    "print(\"cost:%.2f\"%cost)"
   ]
  },
  {
   "cell_type": "code",
   "execution_count": 43,
   "metadata": {},
   "outputs": [
    {
     "ename": "TypeError",
     "evalue": "%c requires int or char",
     "output_type": "error",
     "traceback": [
      "\u001b[0;31m---------------------------------------------------------------------------\u001b[0m",
      "\u001b[0;31mTypeError\u001b[0m                                 Traceback (most recent call last)",
      "\u001b[0;32m<ipython-input-43-8e6c803ee957>\u001b[0m in \u001b[0;36m<module>\u001b[0;34m\u001b[0m\n\u001b[1;32m      1\u001b[0m \u001b[0mcost\u001b[0m\u001b[0;34m=\u001b[0m\u001b[0;36m23.45678\u001b[0m\u001b[0;34m\u001b[0m\u001b[0;34m\u001b[0m\u001b[0m\n\u001b[0;32m----> 2\u001b[0;31m \u001b[0mprint\u001b[0m\u001b[0;34m(\u001b[0m\u001b[0;34m\"%cost:%.2f\"\u001b[0m\u001b[0;34m%\u001b[0m\u001b[0mcost\u001b[0m\u001b[0;34m)\u001b[0m\u001b[0;34m\u001b[0m\u001b[0;34m\u001b[0m\u001b[0m\n\u001b[0m",
      "\u001b[0;31mTypeError\u001b[0m: %c requires int or char"
     ]
    }
   ],
   "source": [
    "cost=23.45678\n",
    "print(\"%cost:%.2f\"%cost)"
   ]
  },
  {
   "cell_type": "code",
   "execution_count": 44,
   "metadata": {},
   "outputs": [
    {
     "ename": "TypeError",
     "evalue": "not enough arguments for format string",
     "output_type": "error",
     "traceback": [
      "\u001b[0;31m---------------------------------------------------------------------------\u001b[0m",
      "\u001b[0;31mTypeError\u001b[0m                                 Traceback (most recent call last)",
      "\u001b[0;32m<ipython-input-44-0bc7ce21d54d>\u001b[0m in \u001b[0;36m<module>\u001b[0;34m\u001b[0m\n\u001b[1;32m      1\u001b[0m \u001b[0mcost\u001b[0m\u001b[0;34m=\u001b[0m\u001b[0;36m23.45678\u001b[0m\u001b[0;34m\u001b[0m\u001b[0;34m\u001b[0m\u001b[0m\n\u001b[0;32m----> 2\u001b[0;31m \u001b[0mprint\u001b[0m\u001b[0;34m(\u001b[0m\u001b[0;34m\"%gcost:%.2f\"\u001b[0m\u001b[0;34m%\u001b[0m\u001b[0mcost\u001b[0m\u001b[0;34m)\u001b[0m\u001b[0;34m\u001b[0m\u001b[0;34m\u001b[0m\u001b[0m\n\u001b[0m",
      "\u001b[0;31mTypeError\u001b[0m: not enough arguments for format string"
     ]
    }
   ],
   "source": [
    "cost=23.45678\n",
    "print(\"%gcost:%.2f\"%cost)"
   ]
  },
  {
   "cell_type": "code",
   "execution_count": 45,
   "metadata": {},
   "outputs": [
    {
     "name": "stdout",
     "output_type": "stream",
     "text": [
      "%cost:23.46\n"
     ]
    }
   ],
   "source": [
    "cost=23.45678\n",
    "print(\"%%cost:%.2f\"%cost)"
   ]
  },
  {
   "cell_type": "code",
   "execution_count": 47,
   "metadata": {},
   "outputs": [
    {
     "ename": "TypeError",
     "evalue": "not enough arguments for format string",
     "output_type": "error",
     "traceback": [
      "\u001b[0;31m---------------------------------------------------------------------------\u001b[0m",
      "\u001b[0;31mTypeError\u001b[0m                                 Traceback (most recent call last)",
      "\u001b[0;32m<ipython-input-47-81479cc4043e>\u001b[0m in \u001b[0;36m<module>\u001b[0;34m\u001b[0m\n\u001b[1;32m      1\u001b[0m \u001b[0mname\u001b[0m\u001b[0;34m=\u001b[0m\u001b[0;34m\"mi\"\u001b[0m\u001b[0;34m\u001b[0m\u001b[0;34m\u001b[0m\u001b[0m\n\u001b[0;32m----> 2\u001b[0;31m \u001b[0mprint\u001b[0m\u001b[0;34m(\u001b[0m\u001b[0;34m\"name:%s,cost:%s\"\u001b[0m\u001b[0;34m%\u001b[0m\u001b[0mname\u001b[0m\u001b[0;34m)\u001b[0m\u001b[0;34m\u001b[0m\u001b[0;34m\u001b[0m\u001b[0m\n\u001b[0m",
      "\u001b[0;31mTypeError\u001b[0m: not enough arguments for format string"
     ]
    }
   ],
   "source": [
    "name=\"mi\"\n",
    "print(\"name:%s,cost:%s\"%name)"
   ]
  },
  {
   "cell_type": "code",
   "execution_count": 49,
   "metadata": {},
   "outputs": [
    {
     "name": "stdout",
     "output_type": "stream",
     "text": [
      "name:mi,cost:23\n"
     ]
    }
   ],
   "source": [
    "name=\"mi\"\n",
    "print(\"name:%s,cost:%s\"%(name,23))"
   ]
  },
  {
   "cell_type": "code",
   "execution_count": 50,
   "metadata": {},
   "outputs": [
    {
     "ename": "TypeError",
     "evalue": "not all arguments converted during string formatting",
     "output_type": "error",
     "traceback": [
      "\u001b[0;31m---------------------------------------------------------------------------\u001b[0m",
      "\u001b[0;31mTypeError\u001b[0m                                 Traceback (most recent call last)",
      "\u001b[0;32m<ipython-input-50-793b4ad9c803>\u001b[0m in \u001b[0;36m<module>\u001b[0;34m\u001b[0m\n\u001b[1;32m      1\u001b[0m \u001b[0mname\u001b[0m\u001b[0;34m=\u001b[0m\u001b[0;34m\"mi\"\u001b[0m\u001b[0;34m\u001b[0m\u001b[0;34m\u001b[0m\u001b[0m\n\u001b[0;32m----> 2\u001b[0;31m \u001b[0mprint\u001b[0m\u001b[0;34m(\u001b[0m\u001b[0;34m\"name:%s,cost:%s\"\u001b[0m\u001b[0;34m%\u001b[0m\u001b[0;34m(\u001b[0m\u001b[0mname\u001b[0m\u001b[0;34m,\u001b[0m\u001b[0;36m23\u001b[0m\u001b[0;34m,\u001b[0m\u001b[0;36m3456\u001b[0m\u001b[0;34m)\u001b[0m\u001b[0;34m)\u001b[0m\u001b[0;34m\u001b[0m\u001b[0;34m\u001b[0m\u001b[0m\n\u001b[0m",
      "\u001b[0;31mTypeError\u001b[0m: not all arguments converted during string formatting"
     ]
    }
   ],
   "source": [
    "name=\"mi\"\n",
    "print(\"name:%s,cost:%s\"%(name,23,3456))"
   ]
  },
  {
   "cell_type": "code",
   "execution_count": 54,
   "metadata": {},
   "outputs": [
    {
     "name": "stdout",
     "output_type": "stream",
     "text": [
      "Name: Mi xiomi 7 pro, MRP: 12000.46, Discount: 1000, Sales price: 11000.46\n",
      "Name: Mi xiomi 7 pro, MRP: 12000.46, Discount: 1000, Sales Price: 11000.46\n",
      "Name: Mi xiomi 7 pro MRP: 12000.46 Discount: 1000 Sales Price: 11000.46\n"
     ]
    }
   ],
   "source": [
    "mrp=12000.45656856\n",
    "name=\"Mi xiomi 7 pro\"\n",
    "discount=1000\n",
    "# display the product details with sales price\n",
    "print(f\"Name: {name}, MRP: {round(mrp,2)}, Discount: {round(discount,2)}, Sales price: {round(mrp-discount,2)}\")\n",
    "print(\"Name: %s, MRP: %.2f, Discount: %s, Sales Price: %.2f\"%(name,mrp,discount,mrp-discount))\n",
    "print(\"Name:\",name,\"MRP:\",round(mrp,2),\"Discount:\",round(discount,2),\"Sales Price:\",round(mrp-discount,2))"
   ]
  },
  {
   "cell_type": "code",
   "execution_count": 55,
   "metadata": {},
   "outputs": [
    {
     "name": "stdout",
     "output_type": "stream",
     "text": [
      "61a8\n",
      "25000.000000\n",
      "60650\n",
      "61A8\n"
     ]
    }
   ],
   "source": [
    "n=25000\n",
    "print(\"%x\"%n)\n",
    "print(\"%f\"%n)\n",
    "print(\"%o\"%n)\n",
    "print(\"%X\"%n)"
   ]
  },
  {
   "cell_type": "code",
   "execution_count": 56,
   "metadata": {},
   "outputs": [
    {
     "name": "stdout",
     "output_type": "stream",
     "text": [
      "61a8\n",
      "25000.000000\n",
      "60650\n",
      "61A8\n",
      "25000\n",
      "25000\n"
     ]
    }
   ],
   "source": [
    "n=25000\n",
    "print(\"%x\"%n)\n",
    "print(\"%f\"%n)\n",
    "print(\"%o\"%n)\n",
    "print(\"%X\"%n)\n",
    "print(\"%s\"%n)\n",
    "print(\"%d\"%n)"
   ]
  },
  {
   "cell_type": "code",
   "execution_count": 57,
   "metadata": {},
   "outputs": [
    {
     "name": "stdout",
     "output_type": "stream",
     "text": [
      "23\n"
     ]
    }
   ],
   "source": [
    "n=23.457\n",
    "print(\"%d\"%n)"
   ]
  },
  {
   "cell_type": "code",
   "execution_count": 58,
   "metadata": {},
   "outputs": [
    {
     "name": "stdout",
     "output_type": "stream",
     "text": [
      "(23+0j)\n"
     ]
    }
   ],
   "source": [
    "n=23\n",
    "print(complex(n))"
   ]
  },
  {
   "cell_type": "code",
   "execution_count": 59,
   "metadata": {},
   "outputs": [
    {
     "ename": "TypeError",
     "evalue": "can't convert complex to int",
     "output_type": "error",
     "traceback": [
      "\u001b[0;31m---------------------------------------------------------------------------\u001b[0m",
      "\u001b[0;31mTypeError\u001b[0m                                 Traceback (most recent call last)",
      "\u001b[0;32m<ipython-input-59-77e018cb3d86>\u001b[0m in \u001b[0;36m<module>\u001b[0;34m\u001b[0m\n\u001b[1;32m      1\u001b[0m \u001b[0mc\u001b[0m\u001b[0;34m=\u001b[0m\u001b[0;36m1\u001b[0m\u001b[0;34m+\u001b[0m\u001b[0;36m2j\u001b[0m\u001b[0;34m\u001b[0m\u001b[0;34m\u001b[0m\u001b[0m\n\u001b[0;32m----> 2\u001b[0;31m \u001b[0mprint\u001b[0m\u001b[0;34m(\u001b[0m\u001b[0mint\u001b[0m\u001b[0;34m(\u001b[0m\u001b[0mc\u001b[0m\u001b[0;34m)\u001b[0m\u001b[0;34m)\u001b[0m\u001b[0;34m\u001b[0m\u001b[0;34m\u001b[0m\u001b[0m\n\u001b[0m",
      "\u001b[0;31mTypeError\u001b[0m: can't convert complex to int"
     ]
    }
   ],
   "source": [
    "c=1+2j\n",
    "print(int(c))"
   ]
  },
  {
   "cell_type": "code",
   "execution_count": 60,
   "metadata": {},
   "outputs": [
    {
     "name": "stdout",
     "output_type": "stream",
     "text": [
      "1.0\n"
     ]
    }
   ],
   "source": [
    "c=1+2j\n",
    "print(c.real)"
   ]
  },
  {
   "cell_type": "code",
   "execution_count": 61,
   "metadata": {},
   "outputs": [
    {
     "name": "stdout",
     "output_type": "stream",
     "text": [
      "['__abs__', '__add__', '__bool__', '__class__', '__delattr__', '__dir__', '__divmod__', '__doc__', '__eq__', '__float__', '__floordiv__', '__format__', '__ge__', '__getattribute__', '__getnewargs__', '__gt__', '__hash__', '__init__', '__init_subclass__', '__int__', '__le__', '__lt__', '__mod__', '__mul__', '__ne__', '__neg__', '__new__', '__pos__', '__pow__', '__radd__', '__rdivmod__', '__reduce__', '__reduce_ex__', '__repr__', '__rfloordiv__', '__rmod__', '__rmul__', '__rpow__', '__rsub__', '__rtruediv__', '__setattr__', '__sizeof__', '__str__', '__sub__', '__subclasshook__', '__truediv__', 'conjugate', 'imag', 'real']\n"
     ]
    }
   ],
   "source": [
    "print(dir(c))"
   ]
  },
  {
   "cell_type": "code",
   "execution_count": 62,
   "metadata": {},
   "outputs": [
    {
     "name": "stdout",
     "output_type": "stream",
     "text": [
      "1.0\n"
     ]
    }
   ],
   "source": [
    "c=1+2j\n",
    "print(c.real)"
   ]
  },
  {
   "cell_type": "code",
   "execution_count": 63,
   "metadata": {},
   "outputs": [
    {
     "name": "stdout",
     "output_type": "stream",
     "text": [
      "2.0\n"
     ]
    }
   ],
   "source": [
    "c=1+2j\n",
    "print(c.imag)"
   ]
  },
  {
   "cell_type": "code",
   "execution_count": 64,
   "metadata": {},
   "outputs": [
    {
     "ename": "ValueError",
     "evalue": "unsupported format character 'b' (0x62) at index 1",
     "output_type": "error",
     "traceback": [
      "\u001b[0;31m---------------------------------------------------------------------------\u001b[0m",
      "\u001b[0;31mValueError\u001b[0m                                Traceback (most recent call last)",
      "\u001b[0;32m<ipython-input-64-23614f05660c>\u001b[0m in \u001b[0;36m<module>\u001b[0;34m\u001b[0m\n\u001b[1;32m      1\u001b[0m \u001b[0ma\u001b[0m\u001b[0;34m=\u001b[0m\u001b[0;36m123\u001b[0m\u001b[0;34m\u001b[0m\u001b[0;34m\u001b[0m\u001b[0m\n\u001b[0;32m----> 2\u001b[0;31m \u001b[0mprint\u001b[0m\u001b[0;34m(\u001b[0m\u001b[0;34m\"%b\"\u001b[0m\u001b[0;34m%\u001b[0m\u001b[0ma\u001b[0m\u001b[0;34m)\u001b[0m\u001b[0;34m\u001b[0m\u001b[0;34m\u001b[0m\u001b[0m\n\u001b[0m",
      "\u001b[0;31mValueError\u001b[0m: unsupported format character 'b' (0x62) at index 1"
     ]
    }
   ],
   "source": [
    "a=123\n",
    "print(\"%b\"%a)"
   ]
  },
  {
   "cell_type": "code",
   "execution_count": 65,
   "metadata": {},
   "outputs": [
    {
     "name": "stdout",
     "output_type": "stream",
     "text": [
      "0b1111011\n"
     ]
    }
   ],
   "source": [
    "a=123\n",
    "print(bin(a))"
   ]
  },
  {
   "cell_type": "code",
   "execution_count": 66,
   "metadata": {},
   "outputs": [
    {
     "data": {
      "text/plain": [
       "False"
      ]
     },
     "execution_count": 66,
     "metadata": {},
     "output_type": "execute_result"
    }
   ],
   "source": [
    "a=100\n",
    "b=200\n",
    "a>b"
   ]
  },
  {
   "cell_type": "code",
   "execution_count": 67,
   "metadata": {},
   "outputs": [
    {
     "name": "stdout",
     "output_type": "stream",
     "text": [
      "2345\n",
      "2345.0\n",
      "(2345+0j)\n",
      "0b100100101001\n",
      "0x929\n",
      "0o4451\n"
     ]
    }
   ],
   "source": [
    "a=2345\n",
    "print(str(a))\n",
    "print(float(a))\n",
    "print(complex(a))\n",
    "print(bin(a))\n",
    "print(hex(a))\n",
    "print(oct(a))\n"
   ]
  },
  {
   "cell_type": "code",
   "execution_count": 68,
   "metadata": {},
   "outputs": [
    {
     "name": "stdout",
     "output_type": "stream",
     "text": [
      "2345\n",
      "2345.0\n",
      "(2345+0j)\n",
      "0b100100101001\n",
      "0x929\n",
      "0o4451\n",
      "True\n"
     ]
    }
   ],
   "source": [
    "a=2345\n",
    "print(str(a))\n",
    "print(float(a))\n",
    "print(complex(a))\n",
    "print(bin(a))\n",
    "print(hex(a))\n",
    "print(oct(a))\n",
    "\n",
    "\n",
    "print(bool(a))"
   ]
  },
  {
   "cell_type": "code",
   "execution_count": 69,
   "metadata": {},
   "outputs": [
    {
     "name": "stdout",
     "output_type": "stream",
     "text": [
      "True\n"
     ]
    }
   ],
   "source": [
    "a=2345\n",
    "print(bool(a))"
   ]
  },
  {
   "cell_type": "code",
   "execution_count": 70,
   "metadata": {},
   "outputs": [
    {
     "name": "stdout",
     "output_type": "stream",
     "text": [
      "True\n"
     ]
    }
   ],
   "source": [
    "print(bool(10))"
   ]
  },
  {
   "cell_type": "code",
   "execution_count": 71,
   "metadata": {},
   "outputs": [
    {
     "name": "stdout",
     "output_type": "stream",
     "text": [
      "True\n"
     ]
    }
   ],
   "source": [
    "print(bool(1))"
   ]
  },
  {
   "cell_type": "code",
   "execution_count": 72,
   "metadata": {},
   "outputs": [
    {
     "name": "stdout",
     "output_type": "stream",
     "text": [
      "False\n"
     ]
    }
   ],
   "source": [
    "print(bool(0))"
   ]
  },
  {
   "cell_type": "code",
   "execution_count": 73,
   "metadata": {},
   "outputs": [
    {
     "name": "stdout",
     "output_type": "stream",
     "text": [
      "True\n"
     ]
    }
   ],
   "source": [
    "print(bool(\"python\"))"
   ]
  },
  {
   "cell_type": "code",
   "execution_count": 74,
   "metadata": {},
   "outputs": [
    {
     "name": "stdout",
     "output_type": "stream",
     "text": [
      "True\n"
     ]
    }
   ],
   "source": [
    "print(bool(\" \"))"
   ]
  },
  {
   "cell_type": "code",
   "execution_count": 75,
   "metadata": {},
   "outputs": [
    {
     "name": "stdout",
     "output_type": "stream",
     "text": [
      "False\n"
     ]
    }
   ],
   "source": [
    "print(bool(\"\"))"
   ]
  },
  {
   "cell_type": "code",
   "execution_count": 76,
   "metadata": {},
   "outputs": [
    {
     "name": "stdout",
     "output_type": "stream",
     "text": [
      "False\n"
     ]
    }
   ],
   "source": [
    "print(bool([]))"
   ]
  },
  {
   "cell_type": "code",
   "execution_count": 77,
   "metadata": {},
   "outputs": [
    {
     "name": "stdout",
     "output_type": "stream",
     "text": [
      "False\n"
     ]
    }
   ],
   "source": [
    "print(bool(()))"
   ]
  },
  {
   "cell_type": "code",
   "execution_count": 78,
   "metadata": {},
   "outputs": [
    {
     "name": "stdout",
     "output_type": "stream",
     "text": [
      "False\n"
     ]
    }
   ],
   "source": [
    "print(bool({}))"
   ]
  },
  {
   "cell_type": "code",
   "execution_count": 79,
   "metadata": {},
   "outputs": [
    {
     "name": "stdout",
     "output_type": "stream",
     "text": [
      "True\n"
     ]
    }
   ],
   "source": [
    "print(bool([1,2,3,4]))"
   ]
  },
  {
   "cell_type": "code",
   "execution_count": 80,
   "metadata": {},
   "outputs": [
    {
     "name": "stdout",
     "output_type": "stream",
     "text": [
      "True\n"
     ]
    }
   ],
   "source": [
    "print(bool((1,2,3,4)))"
   ]
  },
  {
   "cell_type": "code",
   "execution_count": 81,
   "metadata": {},
   "outputs": [
    {
     "name": "stdout",
     "output_type": "stream",
     "text": [
      "True\n"
     ]
    }
   ],
   "source": [
    "print(bool({1:2,3:4}))"
   ]
  },
  {
   "cell_type": "code",
   "execution_count": 82,
   "metadata": {},
   "outputs": [
    {
     "name": "stdout",
     "output_type": "stream",
     "text": [
      "True\n"
     ]
    }
   ],
   "source": [
    "print(bool({1,2,3,4}))"
   ]
  },
  {
   "cell_type": "code",
   "execution_count": 83,
   "metadata": {},
   "outputs": [
    {
     "name": "stdout",
     "output_type": "stream",
     "text": [
      "True\n"
     ]
    }
   ],
   "source": [
    "print(bool(-10))"
   ]
  },
  {
   "cell_type": "code",
   "execution_count": 84,
   "metadata": {},
   "outputs": [
    {
     "name": "stdout",
     "output_type": "stream",
     "text": [
      "False\n"
     ]
    }
   ],
   "source": [
    "print(bool(0))"
   ]
  },
  {
   "cell_type": "code",
   "execution_count": 85,
   "metadata": {},
   "outputs": [
    {
     "name": "stdout",
     "output_type": "stream",
     "text": [
      "False\n"
     ]
    }
   ],
   "source": [
    "print(bool(0.0000000000))"
   ]
  },
  {
   "cell_type": "code",
   "execution_count": 86,
   "metadata": {},
   "outputs": [
    {
     "name": "stdout",
     "output_type": "stream",
     "text": [
      "True\n"
     ]
    }
   ],
   "source": [
    "print(bool(0.000001))"
   ]
  },
  {
   "cell_type": "code",
   "execution_count": 87,
   "metadata": {},
   "outputs": [
    {
     "name": "stdout",
     "output_type": "stream",
     "text": [
      "False\n"
     ]
    }
   ],
   "source": [
    "print(bool(\"\"))"
   ]
  },
  {
   "cell_type": "code",
   "execution_count": 88,
   "metadata": {},
   "outputs": [
    {
     "name": "stdout",
     "output_type": "stream",
     "text": [
      "True\n"
     ]
    }
   ],
   "source": [
    "print(bool(\"0\"))"
   ]
  },
  {
   "cell_type": "code",
   "execution_count": 89,
   "metadata": {},
   "outputs": [
    {
     "name": "stdout",
     "output_type": "stream",
     "text": [
      "True\n"
     ]
    }
   ],
   "source": [
    "print(bool([0]))"
   ]
  },
  {
   "cell_type": "code",
   "execution_count": 90,
   "metadata": {},
   "outputs": [
    {
     "name": "stdout",
     "output_type": "stream",
     "text": [
      "False\n"
     ]
    }
   ],
   "source": [
    "print(bool((0)))"
   ]
  },
  {
   "cell_type": "code",
   "execution_count": 91,
   "metadata": {},
   "outputs": [
    {
     "name": "stdout",
     "output_type": "stream",
     "text": [
      "(1, 2, 3) <class 'tuple'>\n"
     ]
    }
   ],
   "source": [
    "a=(1,2,3)\n",
    "print(a, type(a))"
   ]
  },
  {
   "cell_type": "code",
   "execution_count": 92,
   "metadata": {},
   "outputs": [
    {
     "name": "stdout",
     "output_type": "stream",
     "text": [
      "(1, 2, 3) <class 'tuple'>\n",
      "2 <class 'int'>\n"
     ]
    }
   ],
   "source": [
    "a=(1,2,3)\n",
    "print(a, type(a))\n",
    "a1=(2)\n",
    "print(a1,type(a1))"
   ]
  },
  {
   "cell_type": "code",
   "execution_count": 93,
   "metadata": {},
   "outputs": [
    {
     "name": "stdout",
     "output_type": "stream",
     "text": [
      "(1, 2, 3) <class 'tuple'>\n",
      "(2,) <class 'tuple'>\n"
     ]
    }
   ],
   "source": [
    "a=(1,2,3)\n",
    "print(a, type(a))\n",
    "a1=(2,)\n",
    "print(a1,type(a1))"
   ]
  },
  {
   "cell_type": "code",
   "execution_count": 94,
   "metadata": {},
   "outputs": [
    {
     "name": "stdout",
     "output_type": "stream",
     "text": [
      "<class 'list'>\n"
     ]
    }
   ],
   "source": [
    "a=[1]\n",
    "print(type(a))"
   ]
  },
  {
   "cell_type": "code",
   "execution_count": 95,
   "metadata": {},
   "outputs": [
    {
     "name": "stdout",
     "output_type": "stream",
     "text": [
      "<class 'set'>\n"
     ]
    }
   ],
   "source": [
    "a={1}\n",
    "print(type(a))"
   ]
  },
  {
   "cell_type": "code",
   "execution_count": 97,
   "metadata": {},
   "outputs": [
    {
     "name": "stdout",
     "output_type": "stream",
     "text": [
      "True\n"
     ]
    }
   ],
   "source": [
    "print(bool(\"+\"))"
   ]
  },
  {
   "cell_type": "markdown",
   "metadata": {},
   "source": [
    "# "
   ]
  },
  {
   "cell_type": "code",
   "execution_count": 98,
   "metadata": {},
   "outputs": [
    {
     "name": "stdout",
     "output_type": "stream",
     "text": [
      "1000 140179907180912\n",
      "1000 140179907180880\n"
     ]
    }
   ],
   "source": [
    "a=1000\n",
    "b=1000\n",
    "print(a,id(a))\n",
    "print(b, id(b))"
   ]
  },
  {
   "cell_type": "code",
   "execution_count": 99,
   "metadata": {},
   "outputs": [
    {
     "name": "stdout",
     "output_type": "stream",
     "text": [
      "10 94266305828160\n",
      "10 94266305828160\n"
     ]
    }
   ],
   "source": [
    "a=10\n",
    "b=10\n",
    "print(a,id(a))\n",
    "print(b,id(b))"
   ]
  },
  {
   "cell_type": "code",
   "execution_count": 100,
   "metadata": {},
   "outputs": [
    {
     "name": "stdout",
     "output_type": "stream",
     "text": [
      "1000 140179907844720\n",
      "1000 140179907844720\n"
     ]
    }
   ],
   "source": [
    "a=1000\n",
    "b=a\n",
    "print(a,id(a))\n",
    "print(b, id(b))"
   ]
  },
  {
   "cell_type": "code",
   "execution_count": 101,
   "metadata": {},
   "outputs": [
    {
     "name": "stdout",
     "output_type": "stream",
     "text": [
      "257 140179907845776\n",
      "257 140179907845904\n"
     ]
    }
   ],
   "source": [
    "a=257\n",
    "b=257\n",
    "print(a,id(a))\n",
    "print(b,id(b))"
   ]
  },
  {
   "cell_type": "code",
   "execution_count": 102,
   "metadata": {},
   "outputs": [
    {
     "name": "stdout",
     "output_type": "stream",
     "text": [
      "255 94266305836000\n",
      "255 94266305836000\n"
     ]
    }
   ],
   "source": [
    "a=255\n",
    "b=255\n",
    "print(a,id(a))\n",
    "print(b,id(b))"
   ]
  },
  {
   "cell_type": "code",
   "execution_count": 103,
   "metadata": {},
   "outputs": [
    {
     "name": "stdout",
     "output_type": "stream",
     "text": [
      "-4 94266305827712\n",
      "-4 94266305827712\n"
     ]
    }
   ],
   "source": [
    "a=-4\n",
    "b=-4\n",
    "print(a,id(a))\n",
    "print(b,id(b))"
   ]
  },
  {
   "cell_type": "code",
   "execution_count": 104,
   "metadata": {},
   "outputs": [
    {
     "name": "stdout",
     "output_type": "stream",
     "text": [
      "-6 140179907845904\n",
      "-6 140179907846000\n"
     ]
    }
   ],
   "source": [
    "a=-6\n",
    "b=-6\n",
    "print(a,id(a))\n",
    "print(b,id(b))"
   ]
  },
  {
   "cell_type": "code",
   "execution_count": 105,
   "metadata": {},
   "outputs": [
    {
     "name": "stdout",
     "output_type": "stream",
     "text": [
      "hello\n"
     ]
    }
   ],
   "source": [
    "print(\"hello\")"
   ]
  },
  {
   "cell_type": "code",
   "execution_count": null,
   "metadata": {},
   "outputs": [],
   "source": []
  }
 ],
 "metadata": {
  "kernelspec": {
   "display_name": "Python 3",
   "language": "python",
   "name": "python3"
  },
  "language_info": {
   "codemirror_mode": {
    "name": "ipython",
    "version": 3
   },
   "file_extension": ".py",
   "mimetype": "text/x-python",
   "name": "python",
   "nbconvert_exporter": "python",
   "pygments_lexer": "ipython3",
   "version": "3.7.3"
  }
 },
 "nbformat": 4,
 "nbformat_minor": 2
}

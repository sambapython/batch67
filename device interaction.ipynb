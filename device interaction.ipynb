{
 "cells": [
  {
   "cell_type": "code",
   "execution_count": 1,
   "metadata": {},
   "outputs": [],
   "source": [
    "import os"
   ]
  },
  {
   "cell_type": "code",
   "execution_count": 2,
   "metadata": {},
   "outputs": [
    {
     "data": {
      "text/plain": [
       "0"
      ]
     },
     "execution_count": 2,
     "metadata": {},
     "output_type": "execute_result"
    }
   ],
   "source": [
    "os.system(\"mkdir folder1\")"
   ]
  },
  {
   "cell_type": "code",
   "execution_count": 3,
   "metadata": {},
   "outputs": [
    {
     "data": {
      "text/plain": [
       "0"
      ]
     },
     "execution_count": 3,
     "metadata": {},
     "output_type": "execute_result"
    }
   ],
   "source": [
    "os.system(\"rm -rf folder1\")"
   ]
  },
  {
   "cell_type": "code",
   "execution_count": 4,
   "metadata": {},
   "outputs": [
    {
     "data": {
      "text/plain": [
       "0"
      ]
     },
     "execution_count": 4,
     "metadata": {},
     "output_type": "execute_result"
    }
   ],
   "source": [
    "os.system(\"ls -l\")"
   ]
  },
  {
   "cell_type": "code",
   "execution_count": 5,
   "metadata": {},
   "outputs": [],
   "source": [
    "from subprocess import check_output"
   ]
  },
  {
   "cell_type": "code",
   "execution_count": 6,
   "metadata": {},
   "outputs": [],
   "source": [
    "resp = check_output([\"ls\",\"-l\"])"
   ]
  },
  {
   "cell_type": "code",
   "execution_count": 8,
   "metadata": {},
   "outputs": [
    {
     "name": "stdout",
     "output_type": "stream",
     "text": [
      "b'total 4628\\n-rw-rw-r-- 1 khyaathipyndj khyaathipyndj     443 Nov 28 08:48 app.py\\n-rw-r--r-- 1 khyaathipyndj khyaathipyndj   18501 Nov  8 10:05 Assignments.docx\\n-rw-r--r-- 1 khyaathipyndj khyaathipyndj   29384 Nov  8 09:12 Assignments.odt\\n-rw-r--r-- 1 khyaathipyndj khyaathipyndj   31172 Oct 31 10:00 automatic memory management.jpg\\n-rw-r--r-- 1 khyaathipyndj khyaathipyndj   17712 Nov 18 09:56 comprehensions.ipynb\\n-rw-r--r-- 1 khyaathipyndj khyaathipyndj   56561 Nov  2 09:57 conditional statements.ipynb\\n-rw-r--r-- 1 khyaathipyndj khyaathipyndj    9129 Nov 24 09:13 databases.ipynb\\n-rw-rw-r-- 1 khyaathipyndj khyaathipyndj   25505 Nov 22 09:55 data.csv\\n-rw-r--r-- 1 khyaathipyndj khyaathipyndj      86 Nov 24 08:07 data.json\\n-rw-r--r-- 1 khyaathipyndj khyaathipyndj      92 Nov 22 09:19 data.txt\\n-rw-r--r-- 1 khyaathipyndj khyaathipyndj      68 Nov 24 08:07 data.yaml\\n-rw-r--r-- 1 khyaathipyndj khyaathipyndj    8192 Nov 24 08:34 db1\\n-rw-r--r-- 1 khyaathipyndj khyaathipyndj   22289 Nov 29 09:21 decorators.ipynb\\n-rw-r--r-- 1 khyaathipyndj khyaathipyndj    1781 Dec  1 08:31 device interaction.ipynb\\n-rw-r--r-- 1 khyaathipyndj khyaathipyndj   41467 Nov 16 09:28 dictionaries.ipynb\\n-rw-r--r-- 1 khyaathipyndj khyaathipyndj   45529 Nov 30 09:08 exceptions.ipynb\\n-rw-r--r-- 1 khyaathipyndj khyaathipyndj   11304 Oct 31 10:00 expression evaluation.ipynb\\n-rw-r--r-- 1 khyaathipyndj khyaathipyndj   16488 Nov 24 08:16 file_bkp.jpg\\n-rw-rw-r-- 1 khyaathipyndj khyaathipyndj   16488 Nov 21 09:59 file.jpg\\n-rw-r--r-- 1 khyaathipyndj khyaathipyndj  396818 Nov 24 08:26 files.ipynb\\n-rw-r--r-- 1 khyaathipyndj khyaathipyndj      59 Oct 31 10:00 first.py\\n-rw-r--r-- 1 khyaathipyndj khyaathipyndj   56240 Nov  8 10:00 functions.ipynb\\n-rw-rw-r-- 1 khyaathipyndj khyaathipyndj   15968 Nov  7 10:11 fun_mem1.jpg\\n-rw-rw-r-- 1 khyaathipyndj khyaathipyndj   34036 Nov  7 10:08 fun_mem.jpg\\n-rw-r--r-- 1 khyaathipyndj khyaathipyndj   12116 Oct 31 10:00 input.ipynb\\n-rw-r--r-- 1 khyaathipyndj khyaathipyndj   22833 Oct 31 10:00 int mem.jpg\\n-rw-r--r-- 1 khyaathipyndj khyaathipyndj   66764 Oct 31 10:00 list and string mem.jpg\\n-rw-r--r-- 1 khyaathipyndj khyaathipyndj   38855 Nov 16 08:24 lists.ipynb\\ndrwxr-xr-x 2 khyaathipyndj khyaathipyndj    4096 Nov 30 08:31 log\\n-rw-r--r-- 1 khyaathipyndj khyaathipyndj 3199192 Nov  5 09:38 looping.ipynb\\n-rw-rw-r-- 1 khyaathipyndj khyaathipyndj     546 Nov 28 08:50 module1.py\\n-rw-rw-r-- 1 khyaathipyndj khyaathipyndj     388 Nov 28 08:35 module2.py\\ndrwxr-xr-x 4 khyaathipyndj khyaathipyndj    4096 Nov 21 09:41 modules\\n-rw-r--r-- 1 khyaathipyndj khyaathipyndj    4058 Oct 31 10:00 mutability,immutability.ipynb\\n-rw-r--r-- 1 khyaathipyndj khyaathipyndj   45972 Oct 31 10:00 mutable_immutable.jpg\\n-rw-r--r-- 1 khyaathipyndj khyaathipyndj   88576 Nov 28 10:04 oops.ipynb\\n-rw-r--r-- 1 khyaathipyndj khyaathipyndj   19517 Oct 31 10:00 print and format specifiers, template strings, raw strings.ipynb\\n-rw-r--r-- 1 khyaathipyndj khyaathipyndj   39016 Oct 31 09:59 print, rawstrings, format spevifiers.ipynb\\ndrwxr-xr-x 2 khyaathipyndj khyaathipyndj    4096 Nov 28 08:39 __pycache__\\n-rw-r--r-- 1 khyaathipyndj khyaathipyndj   35230 Oct 31 10:00 python program execution.jpg\\n-rw-r--r-- 1 khyaathipyndj khyaathipyndj   33431 Nov 30 08:23 REG.ipynb\\n-rw-r--r-- 1 khyaathipyndj khyaathipyndj   32466 Nov 19 09:55 sets.ipynb\\n-rw-r--r-- 1 khyaathipyndj khyaathipyndj   65084 Nov 15 09:36 strings.ipynb\\ndrwxr-xr-x 3 khyaathipyndj khyaathipyndj    4096 Nov 30 09:03 unit_test\\n-rw-r--r-- 1 khyaathipyndj khyaathipyndj   11210 Nov  2 10:09 Untitled1.ipynb\\n-rw-r--r-- 1 khyaathipyndj khyaathipyndj     555 Nov 11 09:12 Untitled2.ipynb\\n-rw-r--r-- 1 khyaathipyndj khyaathipyndj   11558 Oct 31 10:00 Untitled.ipynb\\n-rw-r--r-- 1 khyaathipyndj khyaathipyndj   37047 Oct 31 10:00 vars.ipynb\\n'\n"
     ]
    }
   ],
   "source": [
    "print(resp)"
   ]
  },
  {
   "cell_type": "code",
   "execution_count": 12,
   "metadata": {},
   "outputs": [
    {
     "ename": "AttributeError",
     "evalue": "'list_iterator' object has no attribute 'next'",
     "output_type": "error",
     "traceback": [
      "\u001b[0;31m---------------------------------------------------------------------------\u001b[0m",
      "\u001b[0;31mAttributeError\u001b[0m                            Traceback (most recent call last)",
      "\u001b[0;32m<ipython-input-12-c697b59f5c0e>\u001b[0m in \u001b[0;36m<module>\u001b[0;34m\u001b[0m\n\u001b[1;32m      1\u001b[0m \u001b[0;32mfrom\u001b[0m \u001b[0mgooglesearch\u001b[0m\u001b[0;34m.\u001b[0m\u001b[0mgooglesearch\u001b[0m \u001b[0;32mimport\u001b[0m \u001b[0mGoogleSearch\u001b[0m\u001b[0;34m\u001b[0m\u001b[0;34m\u001b[0m\u001b[0m\n\u001b[0;32m----> 2\u001b[0;31m \u001b[0mresponse\u001b[0m \u001b[0;34m=\u001b[0m \u001b[0mGoogleSearch\u001b[0m\u001b[0;34m(\u001b[0m\u001b[0;34m)\u001b[0m\u001b[0;34m.\u001b[0m\u001b[0msearch\u001b[0m\u001b[0;34m(\u001b[0m\u001b[0;34m\"python module for google search\"\u001b[0m\u001b[0;34m)\u001b[0m\u001b[0;34m\u001b[0m\u001b[0;34m\u001b[0m\u001b[0m\n\u001b[0m\u001b[1;32m      3\u001b[0m \u001b[0;32mfor\u001b[0m \u001b[0mresult\u001b[0m \u001b[0;32min\u001b[0m \u001b[0mresponse\u001b[0m\u001b[0;34m.\u001b[0m\u001b[0mresults\u001b[0m\u001b[0;34m:\u001b[0m\u001b[0;34m\u001b[0m\u001b[0;34m\u001b[0m\u001b[0m\n\u001b[1;32m      4\u001b[0m     \u001b[0mprint\u001b[0m\u001b[0;34m(\u001b[0m\u001b[0;34m\"Title: \"\u001b[0m \u001b[0;34m+\u001b[0m \u001b[0mresult\u001b[0m\u001b[0;34m.\u001b[0m\u001b[0mtitle\u001b[0m\u001b[0;34m)\u001b[0m\u001b[0;34m\u001b[0m\u001b[0;34m\u001b[0m\u001b[0m\n\u001b[1;32m      5\u001b[0m     \u001b[0mprint\u001b[0m\u001b[0;34m(\u001b[0m\u001b[0;34m\"Content: \"\u001b[0m \u001b[0;34m+\u001b[0m \u001b[0mresult\u001b[0m\u001b[0;34m.\u001b[0m\u001b[0mgetText\u001b[0m\u001b[0;34m(\u001b[0m\u001b[0;34m)\u001b[0m\u001b[0;34m)\u001b[0m\u001b[0;34m\u001b[0m\u001b[0;34m\u001b[0m\u001b[0m\n",
      "\u001b[0;32m~/anaconda3/lib/python3.7/site-packages/googlesearch/googlesearch.py\u001b[0m in \u001b[0;36msearch\u001b[0;34m(self, query, num_results, prefetch_pages, prefetch_threads, language)\u001b[0m\n\u001b[1;32m     40\u001b[0m             \u001b[0mresponse\u001b[0m\u001b[0;34m.\u001b[0m\u001b[0mclose\u001b[0m\u001b[0;34m(\u001b[0m\u001b[0;34m)\u001b[0m\u001b[0;34m\u001b[0m\u001b[0;34m\u001b[0m\u001b[0m\n\u001b[1;32m     41\u001b[0m             \u001b[0;32mif\u001b[0m \u001b[0mtotal\u001b[0m \u001b[0;32mis\u001b[0m \u001b[0;32mNone\u001b[0m\u001b[0;34m:\u001b[0m\u001b[0;34m\u001b[0m\u001b[0;34m\u001b[0m\u001b[0m\n\u001b[0;32m---> 42\u001b[0;31m                 \u001b[0mtotalText\u001b[0m \u001b[0;34m=\u001b[0m \u001b[0mnext\u001b[0m\u001b[0;34m(\u001b[0m\u001b[0msoup\u001b[0m\u001b[0;34m.\u001b[0m\u001b[0mselect\u001b[0m\u001b[0;34m(\u001b[0m\u001b[0mGoogleSearch\u001b[0m\u001b[0;34m.\u001b[0m\u001b[0mTOTAL_SELECTOR\u001b[0m\u001b[0;34m)\u001b[0m\u001b[0;34m[\u001b[0m\u001b[0;36m0\u001b[0m\u001b[0;34m]\u001b[0m\u001b[0;34m.\u001b[0m\u001b[0mchildren\u001b[0m\u001b[0;34m)\u001b[0m\u001b[0;34m.\u001b[0m\u001b[0mencode\u001b[0m\u001b[0;34m(\u001b[0m\u001b[0;34m'utf-8'\u001b[0m\u001b[0;34m)\u001b[0m\u001b[0;34m\u001b[0m\u001b[0;34m\u001b[0m\u001b[0m\n\u001b[0m\u001b[1;32m     43\u001b[0m                 \u001b[0mtotal\u001b[0m \u001b[0;34m=\u001b[0m \u001b[0mlong\u001b[0m\u001b[0;34m(\u001b[0m\u001b[0mre\u001b[0m\u001b[0;34m.\u001b[0m\u001b[0msub\u001b[0m\u001b[0;34m(\u001b[0m\u001b[0;34m\"[',\\. ]\"\u001b[0m\u001b[0;34m,\u001b[0m \u001b[0;34m\"\"\u001b[0m\u001b[0;34m,\u001b[0m \u001b[0mre\u001b[0m\u001b[0;34m.\u001b[0m\u001b[0msearch\u001b[0m\u001b[0;34m(\u001b[0m\u001b[0;34m\"(([0-9]+[',\\. ])*[0-9]+)\"\u001b[0m\u001b[0;34m,\u001b[0m \u001b[0mtotalText\u001b[0m\u001b[0;34m)\u001b[0m\u001b[0;34m.\u001b[0m\u001b[0mgroup\u001b[0m\u001b[0;34m(\u001b[0m\u001b[0;36m1\u001b[0m\u001b[0;34m)\u001b[0m\u001b[0;34m)\u001b[0m\u001b[0;34m)\u001b[0m\u001b[0;34m\u001b[0m\u001b[0;34m\u001b[0m\u001b[0m\n\u001b[1;32m     44\u001b[0m             \u001b[0mresults\u001b[0m \u001b[0;34m=\u001b[0m \u001b[0mself\u001b[0m\u001b[0;34m.\u001b[0m\u001b[0mparseResults\u001b[0m\u001b[0;34m(\u001b[0m\u001b[0msoup\u001b[0m\u001b[0;34m.\u001b[0m\u001b[0mselect\u001b[0m\u001b[0;34m(\u001b[0m\u001b[0mGoogleSearch\u001b[0m\u001b[0;34m.\u001b[0m\u001b[0mRESULT_SELECTOR\u001b[0m\u001b[0;34m)\u001b[0m\u001b[0;34m)\u001b[0m\u001b[0;34m\u001b[0m\u001b[0;34m\u001b[0m\u001b[0m\n",
      "\u001b[0;31mAttributeError\u001b[0m: 'list_iterator' object has no attribute 'next'"
     ]
    }
   ],
   "source": [
    "from googlesearch.googlesearch import GoogleSearch\n",
    "response = GoogleSearch().search(\"python module for google search\")\n",
    "for result in response.results:\n",
    "    print(\"Title: \" + result.title)\n",
    "    print(\"Content: \" + result.getText())"
   ]
  },
  {
   "cell_type": "code",
   "execution_count": 13,
   "metadata": {},
   "outputs": [],
   "source": [
    "from github import Github\n",
    "username=\"\"\n",
    "password=\"\"\n",
    "g = Github(username, password)"
   ]
  },
  {
   "cell_type": "code",
   "execution_count": 14,
   "metadata": {},
   "outputs": [
    {
     "data": {
      "text/plain": [
       "<github.MainClass.Github at 0x7fd89e84eb70>"
      ]
     },
     "execution_count": 14,
     "metadata": {},
     "output_type": "execute_result"
    }
   ],
   "source": [
    "g"
   ]
  },
  {
   "cell_type": "code",
   "execution_count": 15,
   "metadata": {},
   "outputs": [
    {
     "name": "stdout",
     "output_type": "stream",
     "text": [
      "['FIX_REPO_GET_GIT_REF', '_Github__get_FIX_REPO_GET_GIT_REF', '_Github__get_per_page', '_Github__requester', '_Github__set_FIX_REPO_GET_GIT_REF', '_Github__set_per_page', '__class__', '__delattr__', '__dict__', '__dir__', '__doc__', '__eq__', '__format__', '__ge__', '__getattribute__', '__gt__', '__hash__', '__init__', '__init_subclass__', '__le__', '__lt__', '__module__', '__ne__', '__new__', '__reduce__', '__reduce_ex__', '__repr__', '__setattr__', '__sizeof__', '__str__', '__subclasshook__', '__weakref__', 'create_from_raw_data', 'dump', 'get_emojis', 'get_gist', 'get_gists', 'get_gitignore_template', 'get_gitignore_templates', 'get_hook', 'get_hooks', 'get_installation', 'get_license', 'get_licenses', 'get_organization', 'get_organizations', 'get_project', 'get_rate_limit', 'get_repo', 'get_repos', 'get_user', 'get_users', 'load', 'oauth_scopes', 'per_page', 'rate_limiting', 'rate_limiting_resettime', 'render_markdown', 'search_code', 'search_commits', 'search_issues', 'search_repositories', 'search_topics', 'search_users']\n"
     ]
    }
   ],
   "source": [
    "print(dir(g))"
   ]
  },
  {
   "cell_type": "code",
   "execution_count": 16,
   "metadata": {},
   "outputs": [],
   "source": [
    "user = g.get_user()"
   ]
  },
  {
   "cell_type": "code",
   "execution_count": 19,
   "metadata": {},
   "outputs": [
    {
     "name": "stdout",
     "output_type": "stream",
     "text": [
      "['CHECK_AFTER_INIT_FLAG', '_CompletableGithubObject__complete', '_CompletableGithubObject__completed', '_GithubObject__makeSimpleAttribute', '_GithubObject__makeSimpleListAttribute', '_GithubObject__makeTransformedAttribute', '__class__', '__delattr__', '__dict__', '__dir__', '__doc__', '__eq__', '__format__', '__ge__', '__getattribute__', '__gt__', '__hash__', '__init__', '__init_subclass__', '__le__', '__lt__', '__module__', '__ne__', '__new__', '__reduce__', '__reduce_ex__', '__repr__', '__setattr__', '__sizeof__', '__str__', '__subclasshook__', '__weakref__', '_avatar_url', '_bio', '_blog', '_collaborators', '_company', '_completeIfNeeded', '_completeIfNotSet', '_created_at', '_disk_usage', '_email', '_events_url', '_followers', '_followers_url', '_following', '_following_url', '_gists_url', '_gravatar_id', '_headers', '_hireable', '_html_url', '_id', '_initAttributes', '_location', '_login', '_makeBoolAttribute', '_makeClassAttribute', '_makeDatetimeAttribute', '_makeDictAttribute', '_makeDictOfStringsToClassesAttribute', '_makeIntAttribute', '_makeListOfClassesAttribute', '_makeListOfDictsAttribute', '_makeListOfIntsAttribute', '_makeListOfListOfStringsAttribute', '_makeListOfStringsAttribute', '_makeStringAttribute', '_makeTimestampAttribute', '_name', '_node_id', '_organizations_url', '_owned_private_repos', '_parentUrl', '_plan', '_private_gists', '_public_gists', '_public_repos', '_rawData', '_received_events_url', '_repos_url', '_requester', '_site_admin', '_starred_url', '_storeAndUseAttributes', '_subscriptions_url', '_total_private_repos', '_type', '_updated_at', '_url', '_useAttributes', 'accept_invitation', 'add_to_emails', 'add_to_following', 'add_to_starred', 'add_to_subscriptions', 'add_to_watched', 'avatar_url', 'bio', 'blog', 'collaborators', 'company', 'create_authorization', 'create_fork', 'create_gist', 'create_key', 'create_migration', 'create_repo', 'created_at', 'disk_usage', 'edit', 'email', 'etag', 'events_url', 'followers', 'followers_url', 'following', 'following_url', 'get__repr__', 'get_authorization', 'get_authorizations', 'get_emails', 'get_events', 'get_followers', 'get_following', 'get_gists', 'get_invitations', 'get_issues', 'get_key', 'get_keys', 'get_migrations', 'get_notification', 'get_notifications', 'get_organization_events', 'get_organization_membership', 'get_orgs', 'get_repo', 'get_repos', 'get_starred', 'get_starred_gists', 'get_subscriptions', 'get_teams', 'get_user_issues', 'get_watched', 'gists_url', 'gravatar_id', 'has_in_following', 'has_in_starred', 'has_in_subscriptions', 'has_in_watched', 'hireable', 'html_url', 'id', 'last_modified', 'location', 'login', 'mark_notifications_as_read', 'name', 'node_id', 'organizations_url', 'owned_private_repos', 'plan', 'private_gists', 'public_gists', 'public_repos', 'raw_data', 'raw_headers', 'received_events_url', 'remove_from_emails', 'remove_from_following', 'remove_from_starred', 'remove_from_subscriptions', 'remove_from_watched', 'repos_url', 'setCheckAfterInitFlag', 'site_admin', 'starred_url', 'subscriptions_url', 'total_private_repos', 'type', 'update', 'updated_at', 'url']\n"
     ]
    }
   ],
   "source": [
    "print(dir(user))"
   ]
  },
  {
   "cell_type": "code",
   "execution_count": 20,
   "metadata": {},
   "outputs": [
    {
     "data": {
      "text/plain": [
       "Repository(full_name=\"Samba-Odoo-Apps/api_1\")"
      ]
     },
     "execution_count": 20,
     "metadata": {},
     "output_type": "execute_result"
    }
   ],
   "source": [
    "user.create_repo(\"api_1\")"
   ]
  },
  {
   "cell_type": "code",
   "execution_count": 21,
   "metadata": {},
   "outputs": [],
   "source": [
    "repo = user.get_repo(\"api_1\")"
   ]
  },
  {
   "cell_type": "code",
   "execution_count": 22,
   "metadata": {},
   "outputs": [
    {
     "name": "stdout",
     "output_type": "stream",
     "text": [
      "Repository(full_name=\"Samba-Odoo-Apps/api_1\")\n"
     ]
    }
   ],
   "source": [
    "print(repo)"
   ]
  },
  {
   "cell_type": "code",
   "execution_count": 23,
   "metadata": {},
   "outputs": [
    {
     "name": "stdout",
     "output_type": "stream",
     "text": [
      "['CHECK_AFTER_INIT_FLAG', '_CompletableGithubObject__complete', '_CompletableGithubObject__completed', '_GithubObject__makeSimpleAttribute', '_GithubObject__makeSimpleListAttribute', '_GithubObject__makeTransformedAttribute', '_Repository__create_pull', '_Repository__create_pull_1', '_Repository__create_pull_2', '__class__', '__delattr__', '__dict__', '__dir__', '__doc__', '__eq__', '__format__', '__ge__', '__getattribute__', '__gt__', '__hash__', '__init__', '__init_subclass__', '__le__', '__lt__', '__module__', '__ne__', '__new__', '__reduce__', '__reduce_ex__', '__repr__', '__setattr__', '__sizeof__', '__str__', '__subclasshook__', '__weakref__', '_allow_merge_commit', '_allow_rebase_merge', '_allow_squash_merge', '_archive_url', '_archived', '_assignees_url', '_blobs_url', '_branches_url', '_clone_url', '_collaborators_url', '_comments_url', '_commits_url', '_compare_url', '_completeIfNeeded', '_completeIfNotSet', '_contents_url', '_contributors_url', '_created_at', '_default_branch', '_description', '_downloads_url', '_events_url', '_fork', '_forks', '_forks_count', '_forks_url', '_full_name', '_git_commits_url', '_git_refs_url', '_git_tags_url', '_git_url', '_has_downloads', '_has_issues', '_has_projects', '_has_wiki', '_headers', '_homepage', '_hooks_url', '_html_url', '_hub', '_id', '_identity', '_initAttributes', '_issue_comment_url', '_issue_events_url', '_issues_url', '_keys_url', '_labels_url', '_language', '_languages_url', '_legacy_convert_issue', '_makeBoolAttribute', '_makeClassAttribute', '_makeDatetimeAttribute', '_makeDictAttribute', '_makeDictOfStringsToClassesAttribute', '_makeIntAttribute', '_makeListOfClassesAttribute', '_makeListOfDictsAttribute', '_makeListOfIntsAttribute', '_makeListOfListOfStringsAttribute', '_makeListOfStringsAttribute', '_makeStringAttribute', '_makeTimestampAttribute', '_master_branch', '_merges_url', '_milestones_url', '_mirror_url', '_name', '_network_count', '_notifications_url', '_open_issues', '_open_issues_count', '_organization', '_owner', '_parent', '_parentUrl', '_permissions', '_private', '_pulls_url', '_pushed_at', '_rawData', '_requester', '_size', '_source', '_ssh_url', '_stargazers_count', '_stargazers_url', '_statuses_url', '_storeAndUseAttributes', '_subscribers_count', '_subscribers_url', '_subscription_url', '_svn_url', '_tags_url', '_teams_url', '_topics', '_trees_url', '_updated_at', '_url', '_useAttributes', '_watchers', '_watchers_count', 'add_to_collaborators', 'allow_merge_commit', 'allow_rebase_merge', 'allow_squash_merge', 'archive_url', 'archived', 'assignees_url', 'blobs_url', 'branches_url', 'clone_url', 'collaborators_url', 'comments_url', 'commits_url', 'compare', 'compare_url', 'contents_url', 'contributors_url', 'create_file', 'create_git_blob', 'create_git_commit', 'create_git_ref', 'create_git_release', 'create_git_tag', 'create_git_tag_and_release', 'create_git_tree', 'create_hook', 'create_issue', 'create_key', 'create_label', 'create_milestone', 'create_project', 'create_pull', 'create_source_import', 'created_at', 'default_branch', 'delete', 'delete_file', 'description', 'disable_automated_security_fixes', 'disable_vulnerability_alert', 'downloads_url', 'edit', 'enable_automated_security_fixes', 'enable_vulnerability_alert', 'etag', 'events_url', 'fork', 'forks', 'forks_count', 'forks_url', 'full_name', 'get__repr__', 'get_archive_link', 'get_assignees', 'get_branch', 'get_branches', 'get_clones_traffic', 'get_collaborator_permission', 'get_collaborators', 'get_comment', 'get_comments', 'get_commit', 'get_commits', 'get_contents', 'get_contributors', 'get_dir_contents', 'get_download', 'get_downloads', 'get_events', 'get_forks', 'get_git_blob', 'get_git_commit', 'get_git_ref', 'get_git_refs', 'get_git_tag', 'get_git_tree', 'get_hook', 'get_hooks', 'get_issue', 'get_issues', 'get_issues_comments', 'get_issues_event', 'get_issues_events', 'get_key', 'get_keys', 'get_label', 'get_labels', 'get_languages', 'get_latest_release', 'get_license', 'get_milestone', 'get_milestones', 'get_network_events', 'get_notifications', 'get_pending_invitations', 'get_projects', 'get_pull', 'get_pulls', 'get_pulls_comments', 'get_pulls_review_comments', 'get_readme', 'get_release', 'get_release_asset', 'get_releases', 'get_source_import', 'get_stargazers', 'get_stargazers_with_dates', 'get_stats_code_frequency', 'get_stats_commit_activity', 'get_stats_contributors', 'get_stats_participation', 'get_stats_punch_card', 'get_subscribers', 'get_tags', 'get_teams', 'get_top_paths', 'get_top_referrers', 'get_topics', 'get_views_traffic', 'get_vulnerability_alert', 'get_watchers', 'git_commits_url', 'git_refs_url', 'git_tags_url', 'git_url', 'has_downloads', 'has_in_assignees', 'has_in_collaborators', 'has_issues', 'has_projects', 'has_wiki', 'homepage', 'hooks_url', 'html_url', 'id', 'issue_comment_url', 'issue_events_url', 'issues_url', 'keys_url', 'labels_url', 'language', 'languages_url', 'last_modified', 'legacy_search_issues', 'mark_notifications_as_read', 'master_branch', 'merge', 'merges_url', 'milestones_url', 'mirror_url', 'name', 'network_count', 'notifications_url', 'open_issues', 'open_issues_count', 'organization', 'owner', 'parent', 'permissions', 'private', 'pulls_url', 'pushed_at', 'raw_data', 'raw_headers', 'remove_from_collaborators', 'remove_invitation', 'replace_topics', 'setCheckAfterInitFlag', 'size', 'source', 'ssh_url', 'stargazers_count', 'stargazers_url', 'statuses_url', 'subscribe_to_hub', 'subscribers_count', 'subscribers_url', 'subscription_url', 'svn_url', 'tags_url', 'teams_url', 'topics', 'trees_url', 'unsubscribe_from_hub', 'update', 'update_file', 'updated_at', 'url', 'watchers', 'watchers_count']\n"
     ]
    }
   ],
   "source": [
    "print(dir(repo))"
   ]
  },
  {
   "cell_type": "code",
   "execution_count": 24,
   "metadata": {},
   "outputs": [],
   "source": [
    "repo.create_file?"
   ]
  },
  {
   "cell_type": "code",
   "execution_count": 25,
   "metadata": {},
   "outputs": [
    {
     "data": {
      "text/plain": [
       "{'content': ContentFile(path=\"file1.txt\"),\n",
       " 'commit': Commit(sha=\"13b32798420e85689a6e9709eff3b4d9249f6a5f\")}"
      ]
     },
     "execution_count": 25,
     "metadata": {},
     "output_type": "execute_result"
    }
   ],
   "source": [
    "repo.create_file(\"file1.txt\",\"adding file\",\"This is the file added through api\")"
   ]
  },
  {
   "cell_type": "code",
   "execution_count": 26,
   "metadata": {},
   "outputs": [],
   "source": [
    "import requests"
   ]
  },
  {
   "cell_type": "code",
   "execution_count": 29,
   "metadata": {},
   "outputs": [],
   "source": [
    "url = \"https://api.github.com/user/repos\"\n",
    "resp = requests.get(url,auth=(username,password))"
   ]
  },
  {
   "cell_type": "code",
   "execution_count": 30,
   "metadata": {},
   "outputs": [
    {
     "name": "stdout",
     "output_type": "stream",
     "text": [
      "<Response [200]>\n"
     ]
    }
   ],
   "source": [
    "print(resp)"
   ]
  },
  {
   "cell_type": "code",
   "execution_count": 31,
   "metadata": {},
   "outputs": [
    {
     "name": "stdout",
     "output_type": "stream",
     "text": [
      "[{'id': 36020166, 'node_id': 'MDEwOlJlcG9zaXRvcnkzNjAyMDE2Ng==', 'name': '8.0', 'full_name': 'Samba-Odoo-Apps/8.0', 'private': False, 'owner': {'login': 'Samba-Odoo-Apps', 'id': 12547053, 'node_id': 'MDQ6VXNlcjEyNTQ3MDUz', 'avatar_url': 'https://avatars0.githubusercontent.com/u/12547053?v=4', 'gravatar_id': '', 'url': 'https://api.github.com/users/Samba-Odoo-Apps', 'html_url': 'https://github.com/Samba-Odoo-Apps', 'followers_url': 'https://api.github.com/users/Samba-Odoo-Apps/followers', 'following_url': 'https://api.github.com/users/Samba-Odoo-Apps/following{/other_user}', 'gists_url': 'https://api.github.com/users/Samba-Odoo-Apps/gists{/gist_id}', 'starred_url': 'https://api.github.com/users/Samba-Odoo-Apps/starred{/owner}{/repo}', 'subscriptions_url': 'https://api.github.com/users/Samba-Odoo-Apps/subscriptions', 'organizations_url': 'https://api.github.com/users/Samba-Odoo-Apps/orgs', 'repos_url': 'https://api.github.com/users/Samba-Odoo-Apps/repos', 'events_url': 'https://api.github.com/users/Samba-Odoo-Apps/events{/privacy}', 'received_events_url': 'https://api.github.com/users/Samba-Odoo-Apps/received_events', 'type': 'User', 'site_admin': False}, 'html_url': 'https://github.com/Samba-Odoo-Apps/8.0', 'description': 'Apps developed by samba', 'fork': False, 'url': 'https://api.github.com/repos/Samba-Odoo-Apps/8.0', 'forks_url': 'https://api.github.com/repos/Samba-Odoo-Apps/8.0/forks', 'keys_url': 'https://api.github.com/repos/Samba-Odoo-Apps/8.0/keys{/key_id}', 'collaborators_url': 'https://api.github.com/repos/Samba-Odoo-Apps/8.0/collaborators{/collaborator}', 'teams_url': 'https://api.github.com/repos/Samba-Odoo-Apps/8.0/teams', 'hooks_url': 'https://api.github.com/repos/Samba-Odoo-Apps/8.0/hooks', 'issue_events_url': 'https://api.github.com/repos/Samba-Odoo-Apps/8.0/issues/events{/number}', 'events_url': 'https://api.github.com/repos/Samba-Odoo-Apps/8.0/events', 'assignees_url': 'https://api.github.com/repos/Samba-Odoo-Apps/8.0/assignees{/user}', 'branches_url': 'https://api.github.com/repos/Samba-Odoo-Apps/8.0/branches{/branch}', 'tags_url': 'https://api.github.com/repos/Samba-Odoo-Apps/8.0/tags', 'blobs_url': 'https://api.github.com/repos/Samba-Odoo-Apps/8.0/git/blobs{/sha}', 'git_tags_url': 'https://api.github.com/repos/Samba-Odoo-Apps/8.0/git/tags{/sha}', 'git_refs_url': 'https://api.github.com/repos/Samba-Odoo-Apps/8.0/git/refs{/sha}', 'trees_url': 'https://api.github.com/repos/Samba-Odoo-Apps/8.0/git/trees{/sha}', 'statuses_url': 'https://api.github.com/repos/Samba-Odoo-Apps/8.0/statuses/{sha}', 'languages_url': 'https://api.github.com/repos/Samba-Odoo-Apps/8.0/languages', 'stargazers_url': 'https://api.github.com/repos/Samba-Odoo-Apps/8.0/stargazers', 'contributors_url': 'https://api.github.com/repos/Samba-Odoo-Apps/8.0/contributors', 'subscribers_url': 'https://api.github.com/repos/Samba-Odoo-Apps/8.0/subscribers', 'subscription_url': 'https://api.github.com/repos/Samba-Odoo-Apps/8.0/subscription', 'commits_url': 'https://api.github.com/repos/Samba-Odoo-Apps/8.0/commits{/sha}', 'git_commits_url': 'https://api.github.com/repos/Samba-Odoo-Apps/8.0/git/commits{/sha}', 'comments_url': 'https://api.github.com/repos/Samba-Odoo-Apps/8.0/comments{/number}', 'issue_comment_url': 'https://api.github.com/repos/Samba-Odoo-Apps/8.0/issues/comments{/number}', 'contents_url': 'https://api.github.com/repos/Samba-Odoo-Apps/8.0/contents/{+path}', 'compare_url': 'https://api.github.com/repos/Samba-Odoo-Apps/8.0/compare/{base}...{head}', 'merges_url': 'https://api.github.com/repos/Samba-Odoo-Apps/8.0/merges', 'archive_url': 'https://api.github.com/repos/Samba-Odoo-Apps/8.0/{archive_format}{/ref}', 'downloads_url': 'https://api.github.com/repos/Samba-Odoo-Apps/8.0/downloads', 'issues_url': 'https://api.github.com/repos/Samba-Odoo-Apps/8.0/issues{/number}', 'pulls_url': 'https://api.github.com/repos/Samba-Odoo-Apps/8.0/pulls{/number}', 'milestones_url': 'https://api.github.com/repos/Samba-Odoo-Apps/8.0/milestones{/number}', 'notifications_url': 'https://api.github.com/repos/Samba-Odoo-Apps/8.0/notifications{?since,all,participating}', 'labels_url': 'https://api.github.com/repos/Samba-Odoo-Apps/8.0/labels{/name}', 'releases_url': 'https://api.github.com/repos/Samba-Odoo-Apps/8.0/releases{/id}', 'deployments_url': 'https://api.github.com/repos/Samba-Odoo-Apps/8.0/deployments', 'created_at': '2015-05-21T15:14:36Z', 'updated_at': '2015-05-21T15:20:45Z', 'pushed_at': '2015-05-21T15:20:45Z', 'git_url': 'git://github.com/Samba-Odoo-Apps/8.0.git', 'ssh_url': 'git@github.com:Samba-Odoo-Apps/8.0.git', 'clone_url': 'https://github.com/Samba-Odoo-Apps/8.0.git', 'svn_url': 'https://github.com/Samba-Odoo-Apps/8.0', 'homepage': None, 'size': 116, 'stargazers_count': 0, 'watchers_count': 0, 'language': 'Python', 'has_issues': True, 'has_projects': True, 'has_downloads': True, 'has_wiki': True, 'has_pages': False, 'forks_count': 0, 'mirror_url': None, 'archived': False, 'disabled': False, 'open_issues_count': 2, 'license': None, 'forks': 0, 'open_issues': 2, 'watchers': 0, 'default_branch': 'master', 'permissions': {'admin': True, 'push': True, 'pull': True}}, {'id': 225100992, 'node_id': 'MDEwOlJlcG9zaXRvcnkyMjUxMDA5OTI=', 'name': 'api_1', 'full_name': 'Samba-Odoo-Apps/api_1', 'private': False, 'owner': {'login': 'Samba-Odoo-Apps', 'id': 12547053, 'node_id': 'MDQ6VXNlcjEyNTQ3MDUz', 'avatar_url': 'https://avatars0.githubusercontent.com/u/12547053?v=4', 'gravatar_id': '', 'url': 'https://api.github.com/users/Samba-Odoo-Apps', 'html_url': 'https://github.com/Samba-Odoo-Apps', 'followers_url': 'https://api.github.com/users/Samba-Odoo-Apps/followers', 'following_url': 'https://api.github.com/users/Samba-Odoo-Apps/following{/other_user}', 'gists_url': 'https://api.github.com/users/Samba-Odoo-Apps/gists{/gist_id}', 'starred_url': 'https://api.github.com/users/Samba-Odoo-Apps/starred{/owner}{/repo}', 'subscriptions_url': 'https://api.github.com/users/Samba-Odoo-Apps/subscriptions', 'organizations_url': 'https://api.github.com/users/Samba-Odoo-Apps/orgs', 'repos_url': 'https://api.github.com/users/Samba-Odoo-Apps/repos', 'events_url': 'https://api.github.com/users/Samba-Odoo-Apps/events{/privacy}', 'received_events_url': 'https://api.github.com/users/Samba-Odoo-Apps/received_events', 'type': 'User', 'site_admin': False}, 'html_url': 'https://github.com/Samba-Odoo-Apps/api_1', 'description': None, 'fork': False, 'url': 'https://api.github.com/repos/Samba-Odoo-Apps/api_1', 'forks_url': 'https://api.github.com/repos/Samba-Odoo-Apps/api_1/forks', 'keys_url': 'https://api.github.com/repos/Samba-Odoo-Apps/api_1/keys{/key_id}', 'collaborators_url': 'https://api.github.com/repos/Samba-Odoo-Apps/api_1/collaborators{/collaborator}', 'teams_url': 'https://api.github.com/repos/Samba-Odoo-Apps/api_1/teams', 'hooks_url': 'https://api.github.com/repos/Samba-Odoo-Apps/api_1/hooks', 'issue_events_url': 'https://api.github.com/repos/Samba-Odoo-Apps/api_1/issues/events{/number}', 'events_url': 'https://api.github.com/repos/Samba-Odoo-Apps/api_1/events', 'assignees_url': 'https://api.github.com/repos/Samba-Odoo-Apps/api_1/assignees{/user}', 'branches_url': 'https://api.github.com/repos/Samba-Odoo-Apps/api_1/branches{/branch}', 'tags_url': 'https://api.github.com/repos/Samba-Odoo-Apps/api_1/tags', 'blobs_url': 'https://api.github.com/repos/Samba-Odoo-Apps/api_1/git/blobs{/sha}', 'git_tags_url': 'https://api.github.com/repos/Samba-Odoo-Apps/api_1/git/tags{/sha}', 'git_refs_url': 'https://api.github.com/repos/Samba-Odoo-Apps/api_1/git/refs{/sha}', 'trees_url': 'https://api.github.com/repos/Samba-Odoo-Apps/api_1/git/trees{/sha}', 'statuses_url': 'https://api.github.com/repos/Samba-Odoo-Apps/api_1/statuses/{sha}', 'languages_url': 'https://api.github.com/repos/Samba-Odoo-Apps/api_1/languages', 'stargazers_url': 'https://api.github.com/repos/Samba-Odoo-Apps/api_1/stargazers', 'contributors_url': 'https://api.github.com/repos/Samba-Odoo-Apps/api_1/contributors', 'subscribers_url': 'https://api.github.com/repos/Samba-Odoo-Apps/api_1/subscribers', 'subscription_url': 'https://api.github.com/repos/Samba-Odoo-Apps/api_1/subscription', 'commits_url': 'https://api.github.com/repos/Samba-Odoo-Apps/api_1/commits{/sha}', 'git_commits_url': 'https://api.github.com/repos/Samba-Odoo-Apps/api_1/git/commits{/sha}', 'comments_url': 'https://api.github.com/repos/Samba-Odoo-Apps/api_1/comments{/number}', 'issue_comment_url': 'https://api.github.com/repos/Samba-Odoo-Apps/api_1/issues/comments{/number}', 'contents_url': 'https://api.github.com/repos/Samba-Odoo-Apps/api_1/contents/{+path}', 'compare_url': 'https://api.github.com/repos/Samba-Odoo-Apps/api_1/compare/{base}...{head}', 'merges_url': 'https://api.github.com/repos/Samba-Odoo-Apps/api_1/merges', 'archive_url': 'https://api.github.com/repos/Samba-Odoo-Apps/api_1/{archive_format}{/ref}', 'downloads_url': 'https://api.github.com/repos/Samba-Odoo-Apps/api_1/downloads', 'issues_url': 'https://api.github.com/repos/Samba-Odoo-Apps/api_1/issues{/number}', 'pulls_url': 'https://api.github.com/repos/Samba-Odoo-Apps/api_1/pulls{/number}', 'milestones_url': 'https://api.github.com/repos/Samba-Odoo-Apps/api_1/milestones{/number}', 'notifications_url': 'https://api.github.com/repos/Samba-Odoo-Apps/api_1/notifications{?since,all,participating}', 'labels_url': 'https://api.github.com/repos/Samba-Odoo-Apps/api_1/labels{/name}', 'releases_url': 'https://api.github.com/repos/Samba-Odoo-Apps/api_1/releases{/id}', 'deployments_url': 'https://api.github.com/repos/Samba-Odoo-Apps/api_1/deployments', 'created_at': '2019-12-01T03:24:32Z', 'updated_at': '2019-12-01T03:27:03Z', 'pushed_at': '2019-12-01T03:27:01Z', 'git_url': 'git://github.com/Samba-Odoo-Apps/api_1.git', 'ssh_url': 'git@github.com:Samba-Odoo-Apps/api_1.git', 'clone_url': 'https://github.com/Samba-Odoo-Apps/api_1.git', 'svn_url': 'https://github.com/Samba-Odoo-Apps/api_1', 'homepage': None, 'size': 0, 'stargazers_count': 0, 'watchers_count': 0, 'language': None, 'has_issues': True, 'has_projects': True, 'has_downloads': True, 'has_wiki': True, 'has_pages': False, 'forks_count': 0, 'mirror_url': None, 'archived': False, 'disabled': False, 'open_issues_count': 0, 'license': None, 'forks': 0, 'open_issues': 0, 'watchers': 0, 'default_branch': 'master', 'permissions': {'admin': True, 'push': True, 'pull': True}}, {'id': 36730884, 'node_id': 'MDEwOlJlcG9zaXRvcnkzNjczMDg4NA==', 'name': 'Apps', 'full_name': 'Samba-Odoo-Apps/Apps', 'private': False, 'owner': {'login': 'Samba-Odoo-Apps', 'id': 12547053, 'node_id': 'MDQ6VXNlcjEyNTQ3MDUz', 'avatar_url': 'https://avatars0.githubusercontent.com/u/12547053?v=4', 'gravatar_id': '', 'url': 'https://api.github.com/users/Samba-Odoo-Apps', 'html_url': 'https://github.com/Samba-Odoo-Apps', 'followers_url': 'https://api.github.com/users/Samba-Odoo-Apps/followers', 'following_url': 'https://api.github.com/users/Samba-Odoo-Apps/following{/other_user}', 'gists_url': 'https://api.github.com/users/Samba-Odoo-Apps/gists{/gist_id}', 'starred_url': 'https://api.github.com/users/Samba-Odoo-Apps/starred{/owner}{/repo}', 'subscriptions_url': 'https://api.github.com/users/Samba-Odoo-Apps/subscriptions', 'organizations_url': 'https://api.github.com/users/Samba-Odoo-Apps/orgs', 'repos_url': 'https://api.github.com/users/Samba-Odoo-Apps/repos', 'events_url': 'https://api.github.com/users/Samba-Odoo-Apps/events{/privacy}', 'received_events_url': 'https://api.github.com/users/Samba-Odoo-Apps/received_events', 'type': 'User', 'site_admin': False}, 'html_url': 'https://github.com/Samba-Odoo-Apps/Apps', 'description': 'Apps belongs to 8th version', 'fork': False, 'url': 'https://api.github.com/repos/Samba-Odoo-Apps/Apps', 'forks_url': 'https://api.github.com/repos/Samba-Odoo-Apps/Apps/forks', 'keys_url': 'https://api.github.com/repos/Samba-Odoo-Apps/Apps/keys{/key_id}', 'collaborators_url': 'https://api.github.com/repos/Samba-Odoo-Apps/Apps/collaborators{/collaborator}', 'teams_url': 'https://api.github.com/repos/Samba-Odoo-Apps/Apps/teams', 'hooks_url': 'https://api.github.com/repos/Samba-Odoo-Apps/Apps/hooks', 'issue_events_url': 'https://api.github.com/repos/Samba-Odoo-Apps/Apps/issues/events{/number}', 'events_url': 'https://api.github.com/repos/Samba-Odoo-Apps/Apps/events', 'assignees_url': 'https://api.github.com/repos/Samba-Odoo-Apps/Apps/assignees{/user}', 'branches_url': 'https://api.github.com/repos/Samba-Odoo-Apps/Apps/branches{/branch}', 'tags_url': 'https://api.github.com/repos/Samba-Odoo-Apps/Apps/tags', 'blobs_url': 'https://api.github.com/repos/Samba-Odoo-Apps/Apps/git/blobs{/sha}', 'git_tags_url': 'https://api.github.com/repos/Samba-Odoo-Apps/Apps/git/tags{/sha}', 'git_refs_url': 'https://api.github.com/repos/Samba-Odoo-Apps/Apps/git/refs{/sha}', 'trees_url': 'https://api.github.com/repos/Samba-Odoo-Apps/Apps/git/trees{/sha}', 'statuses_url': 'https://api.github.com/repos/Samba-Odoo-Apps/Apps/statuses/{sha}', 'languages_url': 'https://api.github.com/repos/Samba-Odoo-Apps/Apps/languages', 'stargazers_url': 'https://api.github.com/repos/Samba-Odoo-Apps/Apps/stargazers', 'contributors_url': 'https://api.github.com/repos/Samba-Odoo-Apps/Apps/contributors', 'subscribers_url': 'https://api.github.com/repos/Samba-Odoo-Apps/Apps/subscribers', 'subscription_url': 'https://api.github.com/repos/Samba-Odoo-Apps/Apps/subscription', 'commits_url': 'https://api.github.com/repos/Samba-Odoo-Apps/Apps/commits{/sha}', 'git_commits_url': 'https://api.github.com/repos/Samba-Odoo-Apps/Apps/git/commits{/sha}', 'comments_url': 'https://api.github.com/repos/Samba-Odoo-Apps/Apps/comments{/number}', 'issue_comment_url': 'https://api.github.com/repos/Samba-Odoo-Apps/Apps/issues/comments{/number}', 'contents_url': 'https://api.github.com/repos/Samba-Odoo-Apps/Apps/contents/{+path}', 'compare_url': 'https://api.github.com/repos/Samba-Odoo-Apps/Apps/compare/{base}...{head}', 'merges_url': 'https://api.github.com/repos/Samba-Odoo-Apps/Apps/merges', 'archive_url': 'https://api.github.com/repos/Samba-Odoo-Apps/Apps/{archive_format}{/ref}', 'downloads_url': 'https://api.github.com/repos/Samba-Odoo-Apps/Apps/downloads', 'issues_url': 'https://api.github.com/repos/Samba-Odoo-Apps/Apps/issues{/number}', 'pulls_url': 'https://api.github.com/repos/Samba-Odoo-Apps/Apps/pulls{/number}', 'milestones_url': 'https://api.github.com/repos/Samba-Odoo-Apps/Apps/milestones{/number}', 'notifications_url': 'https://api.github.com/repos/Samba-Odoo-Apps/Apps/notifications{?since,all,participating}', 'labels_url': 'https://api.github.com/repos/Samba-Odoo-Apps/Apps/labels{/name}', 'releases_url': 'https://api.github.com/repos/Samba-Odoo-Apps/Apps/releases{/id}', 'deployments_url': 'https://api.github.com/repos/Samba-Odoo-Apps/Apps/deployments', 'created_at': '2015-06-02T12:16:47Z', 'updated_at': '2015-06-22T10:03:27Z', 'pushed_at': '2015-06-22T09:57:24Z', 'git_url': 'git://github.com/Samba-Odoo-Apps/Apps.git', 'ssh_url': 'git@github.com:Samba-Odoo-Apps/Apps.git', 'clone_url': 'https://github.com/Samba-Odoo-Apps/Apps.git', 'svn_url': 'https://github.com/Samba-Odoo-Apps/Apps', 'homepage': None, 'size': 100, 'stargazers_count': 0, 'watchers_count': 0, 'language': 'Python', 'has_issues': True, 'has_projects': True, 'has_downloads': True, 'has_wiki': True, 'has_pages': False, 'forks_count': 1, 'mirror_url': None, 'archived': False, 'disabled': False, 'open_issues_count': 0, 'license': None, 'forks': 1, 'open_issues': 0, 'watchers': 0, 'default_branch': 'master', 'permissions': {'admin': True, 'push': True, 'pull': True}}, {'id': 183577912, 'node_id': 'MDEwOlJlcG9zaXRvcnkxODM1Nzc5MTI=', 'name': 'automl', 'full_name': 'Samba-Odoo-Apps/automl', 'private': False, 'owner': {'login': 'Samba-Odoo-Apps', 'id': 12547053, 'node_id': 'MDQ6VXNlcjEyNTQ3MDUz', 'avatar_url': 'https://avatars0.githubusercontent.com/u/12547053?v=4', 'gravatar_id': '', 'url': 'https://api.github.com/users/Samba-Odoo-Apps', 'html_url': 'https://github.com/Samba-Odoo-Apps', 'followers_url': 'https://api.github.com/users/Samba-Odoo-Apps/followers', 'following_url': 'https://api.github.com/users/Samba-Odoo-Apps/following{/other_user}', 'gists_url': 'https://api.github.com/users/Samba-Odoo-Apps/gists{/gist_id}', 'starred_url': 'https://api.github.com/users/Samba-Odoo-Apps/starred{/owner}{/repo}', 'subscriptions_url': 'https://api.github.com/users/Samba-Odoo-Apps/subscriptions', 'organizations_url': 'https://api.github.com/users/Samba-Odoo-Apps/orgs', 'repos_url': 'https://api.github.com/users/Samba-Odoo-Apps/repos', 'events_url': 'https://api.github.com/users/Samba-Odoo-Apps/events{/privacy}', 'received_events_url': 'https://api.github.com/users/Samba-Odoo-Apps/received_events', 'type': 'User', 'site_admin': False}, 'html_url': 'https://github.com/Samba-Odoo-Apps/automl', 'description': None, 'fork': False, 'url': 'https://api.github.com/repos/Samba-Odoo-Apps/automl', 'forks_url': 'https://api.github.com/repos/Samba-Odoo-Apps/automl/forks', 'keys_url': 'https://api.github.com/repos/Samba-Odoo-Apps/automl/keys{/key_id}', 'collaborators_url': 'https://api.github.com/repos/Samba-Odoo-Apps/automl/collaborators{/collaborator}', 'teams_url': 'https://api.github.com/repos/Samba-Odoo-Apps/automl/teams', 'hooks_url': 'https://api.github.com/repos/Samba-Odoo-Apps/automl/hooks', 'issue_events_url': 'https://api.github.com/repos/Samba-Odoo-Apps/automl/issues/events{/number}', 'events_url': 'https://api.github.com/repos/Samba-Odoo-Apps/automl/events', 'assignees_url': 'https://api.github.com/repos/Samba-Odoo-Apps/automl/assignees{/user}', 'branches_url': 'https://api.github.com/repos/Samba-Odoo-Apps/automl/branches{/branch}', 'tags_url': 'https://api.github.com/repos/Samba-Odoo-Apps/automl/tags', 'blobs_url': 'https://api.github.com/repos/Samba-Odoo-Apps/automl/git/blobs{/sha}', 'git_tags_url': 'https://api.github.com/repos/Samba-Odoo-Apps/automl/git/tags{/sha}', 'git_refs_url': 'https://api.github.com/repos/Samba-Odoo-Apps/automl/git/refs{/sha}', 'trees_url': 'https://api.github.com/repos/Samba-Odoo-Apps/automl/git/trees{/sha}', 'statuses_url': 'https://api.github.com/repos/Samba-Odoo-Apps/automl/statuses/{sha}', 'languages_url': 'https://api.github.com/repos/Samba-Odoo-Apps/automl/languages', 'stargazers_url': 'https://api.github.com/repos/Samba-Odoo-Apps/automl/stargazers', 'contributors_url': 'https://api.github.com/repos/Samba-Odoo-Apps/automl/contributors', 'subscribers_url': 'https://api.github.com/repos/Samba-Odoo-Apps/automl/subscribers', 'subscription_url': 'https://api.github.com/repos/Samba-Odoo-Apps/automl/subscription', 'commits_url': 'https://api.github.com/repos/Samba-Odoo-Apps/automl/commits{/sha}', 'git_commits_url': 'https://api.github.com/repos/Samba-Odoo-Apps/automl/git/commits{/sha}', 'comments_url': 'https://api.github.com/repos/Samba-Odoo-Apps/automl/comments{/number}', 'issue_comment_url': 'https://api.github.com/repos/Samba-Odoo-Apps/automl/issues/comments{/number}', 'contents_url': 'https://api.github.com/repos/Samba-Odoo-Apps/automl/contents/{+path}', 'compare_url': 'https://api.github.com/repos/Samba-Odoo-Apps/automl/compare/{base}...{head}', 'merges_url': 'https://api.github.com/repos/Samba-Odoo-Apps/automl/merges', 'archive_url': 'https://api.github.com/repos/Samba-Odoo-Apps/automl/{archive_format}{/ref}', 'downloads_url': 'https://api.github.com/repos/Samba-Odoo-Apps/automl/downloads', 'issues_url': 'https://api.github.com/repos/Samba-Odoo-Apps/automl/issues{/number}', 'pulls_url': 'https://api.github.com/repos/Samba-Odoo-Apps/automl/pulls{/number}', 'milestones_url': 'https://api.github.com/repos/Samba-Odoo-Apps/automl/milestones{/number}', 'notifications_url': 'https://api.github.com/repos/Samba-Odoo-Apps/automl/notifications{?since,all,participating}', 'labels_url': 'https://api.github.com/repos/Samba-Odoo-Apps/automl/labels{/name}', 'releases_url': 'https://api.github.com/repos/Samba-Odoo-Apps/automl/releases{/id}', 'deployments_url': 'https://api.github.com/repos/Samba-Odoo-Apps/automl/deployments', 'created_at': '2019-04-26T07:15:41Z', 'updated_at': '2019-04-26T13:06:02Z', 'pushed_at': '2019-04-26T13:06:01Z', 'git_url': 'git://github.com/Samba-Odoo-Apps/automl.git', 'ssh_url': 'git@github.com:Samba-Odoo-Apps/automl.git', 'clone_url': 'https://github.com/Samba-Odoo-Apps/automl.git', 'svn_url': 'https://github.com/Samba-Odoo-Apps/automl', 'homepage': None, 'size': 47, 'stargazers_count': 1, 'watchers_count': 1, 'language': 'Python', 'has_issues': True, 'has_projects': True, 'has_downloads': True, 'has_wiki': True, 'has_pages': False, 'forks_count': 0, 'mirror_url': None, 'archived': False, 'disabled': False, 'open_issues_count': 0, 'license': None, 'forks': 0, 'open_issues': 0, 'watchers': 1, 'default_branch': 'master', 'permissions': {'admin': True, 'push': True, 'pull': True}}, {'id': 216627243, 'node_id': 'MDEwOlJlcG9zaXRvcnkyMTY2MjcyNDM=', 'name': 'Regression', 'full_name': 'Samba-Odoo-Apps/Regression', 'private': False, 'owner': {'login': 'Samba-Odoo-Apps', 'id': 12547053, 'node_id': 'MDQ6VXNlcjEyNTQ3MDUz', 'avatar_url': 'https://avatars0.githubusercontent.com/u/12547053?v=4', 'gravatar_id': '', 'url': 'https://api.github.com/users/Samba-Odoo-Apps', 'html_url': 'https://github.com/Samba-Odoo-Apps', 'followers_url': 'https://api.github.com/users/Samba-Odoo-Apps/followers', 'following_url': 'https://api.github.com/users/Samba-Odoo-Apps/following{/other_user}', 'gists_url': 'https://api.github.com/users/Samba-Odoo-Apps/gists{/gist_id}', 'starred_url': 'https://api.github.com/users/Samba-Odoo-Apps/starred{/owner}{/repo}', 'subscriptions_url': 'https://api.github.com/users/Samba-Odoo-Apps/subscriptions', 'organizations_url': 'https://api.github.com/users/Samba-Odoo-Apps/orgs', 'repos_url': 'https://api.github.com/users/Samba-Odoo-Apps/repos', 'events_url': 'https://api.github.com/users/Samba-Odoo-Apps/events{/privacy}', 'received_events_url': 'https://api.github.com/users/Samba-Odoo-Apps/received_events', 'type': 'User', 'site_admin': False}, 'html_url': 'https://github.com/Samba-Odoo-Apps/Regression', 'description': None, 'fork': False, 'url': 'https://api.github.com/repos/Samba-Odoo-Apps/Regression', 'forks_url': 'https://api.github.com/repos/Samba-Odoo-Apps/Regression/forks', 'keys_url': 'https://api.github.com/repos/Samba-Odoo-Apps/Regression/keys{/key_id}', 'collaborators_url': 'https://api.github.com/repos/Samba-Odoo-Apps/Regression/collaborators{/collaborator}', 'teams_url': 'https://api.github.com/repos/Samba-Odoo-Apps/Regression/teams', 'hooks_url': 'https://api.github.com/repos/Samba-Odoo-Apps/Regression/hooks', 'issue_events_url': 'https://api.github.com/repos/Samba-Odoo-Apps/Regression/issues/events{/number}', 'events_url': 'https://api.github.com/repos/Samba-Odoo-Apps/Regression/events', 'assignees_url': 'https://api.github.com/repos/Samba-Odoo-Apps/Regression/assignees{/user}', 'branches_url': 'https://api.github.com/repos/Samba-Odoo-Apps/Regression/branches{/branch}', 'tags_url': 'https://api.github.com/repos/Samba-Odoo-Apps/Regression/tags', 'blobs_url': 'https://api.github.com/repos/Samba-Odoo-Apps/Regression/git/blobs{/sha}', 'git_tags_url': 'https://api.github.com/repos/Samba-Odoo-Apps/Regression/git/tags{/sha}', 'git_refs_url': 'https://api.github.com/repos/Samba-Odoo-Apps/Regression/git/refs{/sha}', 'trees_url': 'https://api.github.com/repos/Samba-Odoo-Apps/Regression/git/trees{/sha}', 'statuses_url': 'https://api.github.com/repos/Samba-Odoo-Apps/Regression/statuses/{sha}', 'languages_url': 'https://api.github.com/repos/Samba-Odoo-Apps/Regression/languages', 'stargazers_url': 'https://api.github.com/repos/Samba-Odoo-Apps/Regression/stargazers', 'contributors_url': 'https://api.github.com/repos/Samba-Odoo-Apps/Regression/contributors', 'subscribers_url': 'https://api.github.com/repos/Samba-Odoo-Apps/Regression/subscribers', 'subscription_url': 'https://api.github.com/repos/Samba-Odoo-Apps/Regression/subscription', 'commits_url': 'https://api.github.com/repos/Samba-Odoo-Apps/Regression/commits{/sha}', 'git_commits_url': 'https://api.github.com/repos/Samba-Odoo-Apps/Regression/git/commits{/sha}', 'comments_url': 'https://api.github.com/repos/Samba-Odoo-Apps/Regression/comments{/number}', 'issue_comment_url': 'https://api.github.com/repos/Samba-Odoo-Apps/Regression/issues/comments{/number}', 'contents_url': 'https://api.github.com/repos/Samba-Odoo-Apps/Regression/contents/{+path}', 'compare_url': 'https://api.github.com/repos/Samba-Odoo-Apps/Regression/compare/{base}...{head}', 'merges_url': 'https://api.github.com/repos/Samba-Odoo-Apps/Regression/merges', 'archive_url': 'https://api.github.com/repos/Samba-Odoo-Apps/Regression/{archive_format}{/ref}', 'downloads_url': 'https://api.github.com/repos/Samba-Odoo-Apps/Regression/downloads', 'issues_url': 'https://api.github.com/repos/Samba-Odoo-Apps/Regression/issues{/number}', 'pulls_url': 'https://api.github.com/repos/Samba-Odoo-Apps/Regression/pulls{/number}', 'milestones_url': 'https://api.github.com/repos/Samba-Odoo-Apps/Regression/milestones{/number}', 'notifications_url': 'https://api.github.com/repos/Samba-Odoo-Apps/Regression/notifications{?since,all,participating}', 'labels_url': 'https://api.github.com/repos/Samba-Odoo-Apps/Regression/labels{/name}', 'releases_url': 'https://api.github.com/repos/Samba-Odoo-Apps/Regression/releases{/id}', 'deployments_url': 'https://api.github.com/repos/Samba-Odoo-Apps/Regression/deployments', 'created_at': '2019-10-21T17:33:56Z', 'updated_at': '2019-10-21T17:36:25Z', 'pushed_at': '2019-10-21T17:36:24Z', 'git_url': 'git://github.com/Samba-Odoo-Apps/Regression.git', 'ssh_url': 'git@github.com:Samba-Odoo-Apps/Regression.git', 'clone_url': 'https://github.com/Samba-Odoo-Apps/Regression.git', 'svn_url': 'https://github.com/Samba-Odoo-Apps/Regression', 'homepage': None, 'size': 235, 'stargazers_count': 0, 'watchers_count': 0, 'language': 'Jupyter Notebook', 'has_issues': True, 'has_projects': True, 'has_downloads': True, 'has_wiki': True, 'has_pages': False, 'forks_count': 0, 'mirror_url': None, 'archived': False, 'disabled': False, 'open_issues_count': 0, 'license': None, 'forks': 0, 'open_issues': 0, 'watchers': 0, 'default_branch': 'master', 'permissions': {'admin': True, 'push': True, 'pull': True}}]\n"
     ]
    }
   ],
   "source": [
    "print(resp.json())"
   ]
  },
  {
   "cell_type": "code",
   "execution_count": 32,
   "metadata": {},
   "outputs": [],
   "source": [
    "url = \"https://api.github.com/user/repos\"\n",
    "resp = requests.post(url,auth=(username,password),json={\"name\":\"api_2\"})"
   ]
  },
  {
   "cell_type": "code",
   "execution_count": 33,
   "metadata": {},
   "outputs": [
    {
     "name": "stdout",
     "output_type": "stream",
     "text": [
      "<Response [201]>\n"
     ]
    }
   ],
   "source": [
    "print(resp)"
   ]
  },
  {
   "cell_type": "code",
   "execution_count": 34,
   "metadata": {},
   "outputs": [],
   "source": [
    "# for linux paramiko/fabric\n",
    "# for windows winrm"
   ]
  },
  {
   "cell_type": "code",
   "execution_count": 37,
   "metadata": {},
   "outputs": [],
   "source": [
    "import paramiko as pmk\n",
    "import paramiko as pmk\n",
    "import re\n",
    "ssh = pmk.SSHClient()\n",
    "ssh.set_missing_host_key_policy(pmk.AutoAddPolicy())\n",
    "ssh.connect(\"localhost\",username=\"\",password=\"\")"
   ]
  },
  {
   "cell_type": "code",
   "execution_count": 39,
   "metadata": {},
   "outputs": [
    {
     "data": {
      "text/plain": [
       "(<paramiko.ChannelFile from <paramiko.Channel 1 (open) window=2097152 -> <paramiko.Transport at 0x7b8104a8 (cipher aes128-ctr, 128 bits) (active; 1 open channel(s))>>>,\n",
       " <paramiko.ChannelFile from <paramiko.Channel 1 (open) window=2097152 -> <paramiko.Transport at 0x7b8104a8 (cipher aes128-ctr, 128 bits) (active; 1 open channel(s))>>>,\n",
       " <paramiko.ChannelFile from <paramiko.Channel 1 (open) window=2097152 -> <paramiko.Transport at 0x7b8104a8 (cipher aes128-ctr, 128 bits) (active; 1 open channel(s))>>>)"
      ]
     },
     "execution_count": 39,
     "metadata": {},
     "output_type": "execute_result"
    }
   ],
   "source": [
    "ssh.exec_command(\"mkdir remote\")"
   ]
  },
  {
   "cell_type": "code",
   "execution_count": 40,
   "metadata": {},
   "outputs": [
    {
     "data": {
      "text/plain": [
       "(<paramiko.ChannelFile from <paramiko.Channel 2 (open) window=2097152 -> <paramiko.Transport at 0x7b8104a8 (cipher aes128-ctr, 128 bits) (active; 1 open channel(s))>>>,\n",
       " <paramiko.ChannelFile from <paramiko.Channel 2 (open) window=2097152 -> <paramiko.Transport at 0x7b8104a8 (cipher aes128-ctr, 128 bits) (active; 1 open channel(s))>>>,\n",
       " <paramiko.ChannelFile from <paramiko.Channel 2 (open) window=2097152 -> <paramiko.Transport at 0x7b8104a8 (cipher aes128-ctr, 128 bits) (active; 1 open channel(s))>>>)"
      ]
     },
     "execution_count": 40,
     "metadata": {},
     "output_type": "execute_result"
    }
   ],
   "source": [
    "ssh.exec_command(\"mkdir local\")"
   ]
  },
  {
   "cell_type": "code",
   "execution_count": 41,
   "metadata": {},
   "outputs": [],
   "source": [
    "inp,outp,errp = ssh.exec_command(\"mkdir local\")"
   ]
  },
  {
   "cell_type": "code",
   "execution_count": 42,
   "metadata": {},
   "outputs": [
    {
     "data": {
      "text/plain": [
       "b'mkdir: cannot create directory \\xe2\\x80\\x98local\\xe2\\x80\\x99: File exists\\n'"
      ]
     },
     "execution_count": 42,
     "metadata": {},
     "output_type": "execute_result"
    }
   ],
   "source": [
    "errp.read()"
   ]
  },
  {
   "cell_type": "code",
   "execution_count": 43,
   "metadata": {},
   "outputs": [
    {
     "name": "stdout",
     "output_type": "stream",
     "text": [
      "b''\n"
     ]
    }
   ],
   "source": [
    "inp,outp,errp = ssh.exec_command(\"mkdir local1\")\n",
    "print(errp.read())"
   ]
  },
  {
   "cell_type": "code",
   "execution_count": 44,
   "metadata": {},
   "outputs": [
    {
     "name": "stdout",
     "output_type": "stream",
     "text": [
      "b''\n"
     ]
    }
   ],
   "source": [
    "inp,outp,errp = ssh.exec_command(\"rm -rf local1\")\n",
    "print(errp.read())"
   ]
  },
  {
   "cell_type": "code",
   "execution_count": 45,
   "metadata": {},
   "outputs": [
    {
     "name": "stdout",
     "output_type": "stream",
     "text": [
      "b'[sudo] password for khyaathipyndj: '\n"
     ]
    }
   ],
   "source": [
    "inp,outp,errp = ssh.exec_command(\"echo pydj|sudo -S ls /proc\")\n",
    "print(errp.read())"
   ]
  },
  {
   "cell_type": "code",
   "execution_count": 46,
   "metadata": {},
   "outputs": [
    {
     "name": "stdout",
     "output_type": "stream",
     "text": [
      "b'1\\n10\\n1021\\n1041\\n1052\\n1054\\n1084\\n11\\n1106\\n1110\\n115\\n1173\\n1185\\n12\\n1246\\n13\\n1311\\n1365\\n14\\n1421\\n1430\\n15\\n152\\n155\\n156\\n158\\n16\\n17\\n1700\\n18\\n180\\n181\\n1822\\n1827\\n1829\\n1833\\n1835\\n1836\\n1837\\n1838\\n1839\\n1840\\n1843\\n1876\\n19\\n1992\\n1996\\n1999\\n2\\n20\\n2003\\n2013\\n2023\\n2033\\n2035\\n2036\\n2039\\n2040\\n2043\\n2046\\n2048\\n2049\\n2052\\n2056\\n2059\\n2060\\n2063\\n2066\\n2069\\n2077\\n21\\n2131\\n22\\n220\\n23\\n2350\\n2355\\n2356\\n2369\\n2373\\n2375\\n2382\\n2386\\n239\\n24\\n242\\n2479\\n2481\\n2486\\n2489\\n25\\n250\\n2507\\n251\\n2513\\n2518\\n252\\n253\\n2530\\n254\\n2540\\n2544\\n2547\\n255\\n2550\\n2560\\n2566\\n257\\n2588\\n2590\\n2593\\n26\\n2600\\n2605\\n261\\n2614\\n2619\\n2623\\n2627\\n2628\\n263\\n2631\\n2633\\n2635\\n2638\\n264\\n2640\\n2642\\n2646\\n2657\\n266\\n2660\\n2662\\n2663\\n2666\\n2668\\n2672\\n2676\\n27\\n2704\\n271\\n2740\\n2742\\n275\\n2754\\n276\\n2779\\n279\\n2792\\n28\\n280\\n2810\\n282\\n2833\\n2851\\n2858\\n2860\\n2879\\n29\\n290\\n291\\n30\\n3004\\n3136\\n3137\\n3139\\n3140\\n3249\\n3335\\n3345\\n3367\\n34\\n3469\\n35\\n3516\\n3564\\n36\\n360\\n3604\\n3663\\n3686\\n3752\\n379\\n4\\n4098\\n4112\\n4135\\n4171\\n4391\\n4426\\n4475\\n4569\\n4582\\n4611\\n4682\\n4718\\n4774\\n487\\n488\\n4907\\n4975\\n5000\\n5008\\n5032\\n5034\\n5035\\n550\\n551\\n556\\n557\\n6\\n631\\n641\\n643\\n644\\n645\\n656\\n657\\n659\\n661\\n7\\n739\\n776\\n78\\n79\\n8\\n80\\n81\\n82\\n83\\n885\\n89\\n9\\n961\\n98\\n997\\n999\\nacpi\\nasound\\nbuddyinfo\\nbus\\ncgroups\\ncmdline\\nconsoles\\ncpuinfo\\ncrypto\\ndevices\\ndiskstats\\ndma\\ndriver\\nexecdomains\\nfb\\nfilesystems\\nfs\\ninterrupts\\niomem\\nioports\\nirq\\nkallsyms\\nkcore\\nkeys\\nkey-users\\nkmsg\\nkpagecgroup\\nkpagecount\\nkpageflags\\nloadavg\\nlocks\\nmdstat\\nmeminfo\\nmisc\\nmodules\\nmounts\\nmtrr\\nnet\\npagetypeinfo\\npartitions\\nsched_debug\\nschedstat\\nscsi\\nself\\nslabinfo\\nsoftirqs\\nstat\\nswaps\\nsys\\nsysrq-trigger\\nsysvipc\\nthread-self\\ntimer_list\\ntty\\nuptime\\nversion\\nversion_signature\\nvmallocinfo\\nvmstat\\nzoneinfo\\n'\n"
     ]
    }
   ],
   "source": [
    "print(outp.read())"
   ]
  },
  {
   "cell_type": "code",
   "execution_count": 47,
   "metadata": {},
   "outputs": [
    {
     "name": "stdout",
     "output_type": "stream",
     "text": [
      "b''\n",
      "b'total 6368\\ndrwxr-xr-x 26 khyaathipyndj khyaathipyndj    4096 Sep 11 17:22 anaconda3\\n-rw-r--r--  1 khyaathipyndj khyaathipyndj     117 Oct 28 07:38 a.yaml\\ndrwxr-xr-x  3 khyaathipyndj khyaathipyndj    4096 Nov 19 10:05 batch66_2\\ndrwxr-xr-x  8 khyaathipyndj khyaathipyndj    4096 Dec  1 09:15 batch67\\n-rw-r--r--  1 khyaathipyndj khyaathipyndj      58 Oct 11 07:29 data1.csv\\ndrwxr-xr-x  7 khyaathipyndj khyaathipyndj    4096 Nov 30 12:51 db14\\ndrwxr-xr-x  8 khyaathipyndj khyaathipyndj    4096 Nov 26 10:31 db14_bkp\\n-rw-r--r--  1 khyaathipyndj khyaathipyndj 2135700 Nov 30 12:51 db14.zip\\ndrwxr-xr-x  5 khyaathipyndj khyaathipyndj    4096 Nov 26 10:21 db15\\ndrwxr-xr-x  5 khyaathipyndj khyaathipyndj    4096 Nov 19 08:33 db15_bkp\\ndrwxr-xr-x  3 khyaathipyndj khyaathipyndj    4096 Nov 26 10:32 Desktop\\ndrwxr-xr-x  7 khyaathipyndj khyaathipyndj    4096 Oct 15 10:38 DJANGO BATCHES\\n-rw-rw-r--  1 khyaathipyndj khyaathipyndj 1412265 Oct 16 09:16 DJANGO CONTENT MAIN.docx\\ndrwxr-xr-x  2 khyaathipyndj khyaathipyndj    4096 Nov  4 10:02 Documents\\ndrwxr-xr-x  7 khyaathipyndj khyaathipyndj    4096 Nov 30 08:44 Downloads\\n-rw-r--r--  1 khyaathipyndj khyaathipyndj    8980 Sep 11 16:53 examples.desktop\\n-rw-r--r--  1 khyaathipyndj khyaathipyndj      16 Oct 28 07:41 inventory\\ndrwxrwxr-x  2 khyaathipyndj khyaathipyndj    4096 Dec  1 09:14 local\\ndrwxr-xr-x  2 khyaathipyndj khyaathipyndj    4096 Sep 11 17:03 Music\\ndrwxr-xr-x  3 khyaathipyndj khyaathipyndj    4096 Sep 17 09:00 oops\\n-rw-rw-r--  1 khyaathipyndj khyaathipyndj     833 Nov 22 08:45 pgadmin.log\\ndrwxr-xr-x  2 khyaathipyndj khyaathipyndj    4096 Oct  9 17:06 Pictures\\ndrwxr-xr-x  2 khyaathipyndj khyaathipyndj    4096 Sep 11 17:03 Public\\n-rw-rw-r--  1 khyaathipyndj khyaathipyndj     201 Oct  4 07:48 pur.py\\ndrwxr-xr-x  2 khyaathipyndj khyaathipyndj    4096 Oct  4 07:55 __pycache__\\ndrwxr-xr-x 24 khyaathipyndj khyaathipyndj    4096 Nov 15 08:59 python\\ndrwxr-xr-x  7 khyaathipyndj khyaathipyndj    4096 Oct 16 09:22 PYTHON BATCHES\\n-rw-rw-r--  1 khyaathipyndj khyaathipyndj 1418031 Oct 16 09:16 PYTHON CONTENT MAIN.docx\\n-rw-r--r--  1 khyaathipyndj khyaathipyndj 1419151 Oct 16 10:48 PYTHON CONTENT MAIN.odt\\ndrwxrwxr-x  2 khyaathipyndj khyaathipyndj    4096 Dec  1 09:14 remote\\ndrwxr-xr-x  3 khyaathipyndj khyaathipyndj    4096 Oct 12 09:14 snap\\ndrwxr-xr-x  2 khyaathipyndj khyaathipyndj    4096 Sep 11 17:03 Templates\\ndrwxr-xr-x  2 khyaathipyndj khyaathipyndj    4096 Sep 11 17:03 Videos\\n'\n"
     ]
    }
   ],
   "source": [
    "inp,outp,errp = ssh.exec_command(\"ls -l\")\n",
    "print(errp.read())\n",
    "print(outp.read())"
   ]
  },
  {
   "cell_type": "code",
   "execution_count": 48,
   "metadata": {},
   "outputs": [],
   "source": [
    "sftp  = ssh.open_sftp()"
   ]
  },
  {
   "cell_type": "code",
   "execution_count": 49,
   "metadata": {},
   "outputs": [
    {
     "data": {
      "text/plain": [
       "<SFTPAttributes: [ size=14 uid=1000 gid=1000 mode=0o100664 atime=1575172187 mtime=1575172187 ]>"
      ]
     },
     "execution_count": 49,
     "metadata": {},
     "output_type": "execute_result"
    }
   ],
   "source": [
    "sftp.put(\"/home/khyaathipyndj/local/a.py\",\"/home/khyaathipyndj/remote/a1.py\")"
   ]
  },
  {
   "cell_type": "code",
   "execution_count": 50,
   "metadata": {},
   "outputs": [],
   "source": [
    "sftp.get(\"/home/khyaathipyndj/remote/a1.py\",\"/home/khyaathipyndj/local/a2.py\")"
   ]
  },
  {
   "cell_type": "code",
   "execution_count": 51,
   "metadata": {},
   "outputs": [],
   "source": [
    "#kali"
   ]
  },
  {
   "cell_type": "code",
   "execution_count": 52,
   "metadata": {},
   "outputs": [
    {
     "name": "stdout",
     "output_type": "stream",
     "text": [
      "[1, 2, 3, 4]\n"
     ]
    }
   ],
   "source": [
    "l=[1,2,3,4]\n",
    "k=l\n",
    "l=l+[5]\n",
    "print(k)\n"
   ]
  },
  {
   "cell_type": "code",
   "execution_count": 53,
   "metadata": {},
   "outputs": [
    {
     "name": "stdout",
     "output_type": "stream",
     "text": [
      "[1, 2, 3, 4, 5]\n"
     ]
    }
   ],
   "source": [
    "l=[1,2,3,4]\n",
    "k=l\n",
    "l+=[5]\n",
    "print(k)\n"
   ]
  },
  {
   "cell_type": "code",
   "execution_count": 54,
   "metadata": {},
   "outputs": [
    {
     "name": "stdout",
     "output_type": "stream",
     "text": [
      "[1, 2, 3, 4, 5]\n"
     ]
    }
   ],
   "source": [
    "l=[1,2,3,4]\n",
    "k=l\n",
    "l=l.append(5)\n",
    "print(k)\n"
   ]
  },
  {
   "cell_type": "code",
   "execution_count": 55,
   "metadata": {},
   "outputs": [
    {
     "data": {
      "text/plain": [
       "'odbclfmgaephnkji'"
      ]
     },
     "execution_count": 55,
     "metadata": {},
     "output_type": "execute_result"
    }
   ],
   "source": [
    "s=\"abcdeeffgghhiiiijjjjklmnop\"\n",
    "s1=set(s)\n",
    "\"\".join(s1)"
   ]
  },
  {
   "cell_type": "code",
   "execution_count": 56,
   "metadata": {},
   "outputs": [
    {
     "data": {
      "text/plain": [
       "'abcdefghijklmnop'"
      ]
     },
     "execution_count": 56,
     "metadata": {},
     "output_type": "execute_result"
    }
   ],
   "source": [
    "s=\"abcdeeffgghhiiiijjjjklmnop\"\n",
    "l=list(s)\n",
    "for i in l[::-1]:\n",
    "    while l.count(i)>1:\n",
    "        l.remove(i)\n",
    "\"\".join(l)"
   ]
  },
  {
   "cell_type": "code",
   "execution_count": 57,
   "metadata": {},
   "outputs": [
    {
     "data": {
      "text/plain": [
       "'abcdefiklmnopghj'"
      ]
     },
     "execution_count": 57,
     "metadata": {},
     "output_type": "execute_result"
    }
   ],
   "source": [
    "s=\"abcccdeeffgghhiiiijjjjklmnopgghhjj\"\n",
    "l=list(s)\n",
    "for i in l[::-1]:\n",
    "    while l.count(i)>1:\n",
    "        l.remove(i)\n",
    "\"\".join(l)"
   ]
  },
  {
   "cell_type": "code",
   "execution_count": null,
   "metadata": {},
   "outputs": [],
   "source": [
    "s=\"abcccdeeffgghhiiiijjjjklmnopgghhjj\"\n",
    "l=list(s)\n",
    "for i in l[::-1]:\n",
    "    while l.count(i)>1:\n",
    "        l.remove(i)\n",
    "\"\".join(l)"
   ]
  }
 ],
 "metadata": {
  "kernelspec": {
   "display_name": "Python 3",
   "language": "python",
   "name": "python3"
  },
  "language_info": {
   "codemirror_mode": {
    "name": "ipython",
    "version": 3
   },
   "file_extension": ".py",
   "mimetype": "text/x-python",
   "name": "python",
   "nbconvert_exporter": "python",
   "pygments_lexer": "ipython3",
   "version": "3.7.3"
  }
 },
 "nbformat": 4,
 "nbformat_minor": 2
}

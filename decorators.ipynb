{
 "cells": [
  {
   "cell_type": "code",
   "execution_count": 1,
   "metadata": {},
   "outputs": [
    {
     "name": "stdout",
     "output_type": "stream",
     "text": [
      "upper\n",
      "result= None\n"
     ]
    }
   ],
   "source": [
    "def upper():\n",
    "    print(\"upper\")\n",
    "    def inner():\n",
    "        print(\"this is inner\")\n",
    "res=upper()\n",
    "print(\"result=\",res)"
   ]
  },
  {
   "cell_type": "code",
   "execution_count": 2,
   "metadata": {},
   "outputs": [
    {
     "name": "stdout",
     "output_type": "stream",
     "text": [
      "upper\n",
      "result= <function upper.<locals>.inner at 0x7fc01d48ce18>\n"
     ]
    }
   ],
   "source": [
    "def upper():\n",
    "    print(\"upper\")\n",
    "    def inner():\n",
    "        print(\"this is inner\")\n",
    "    return inner\n",
    "res=upper()\n",
    "print(\"result=\",res)"
   ]
  },
  {
   "cell_type": "code",
   "execution_count": 4,
   "metadata": {},
   "outputs": [
    {
     "name": "stdout",
     "output_type": "stream",
     "text": [
      "upper\n",
      "result= <function upper.<locals>.inner at 0x7fc020dde7b8>\n",
      "this is inner\n"
     ]
    }
   ],
   "source": [
    "def upper():\n",
    "    print(\"upper\")\n",
    "    def inner():\n",
    "        print(\"this is inner\")\n",
    "    return inner\n",
    "res=upper()\n",
    "print(\"result=\",res)\n",
    "res()"
   ]
  },
  {
   "cell_type": "code",
   "execution_count": 5,
   "metadata": {},
   "outputs": [
    {
     "name": "stdout",
     "output_type": "stream",
     "text": [
      "r= <function fun at 0x7fc01cba5c80>\n"
     ]
    }
   ],
   "source": [
    "def fun():\n",
    "    print(\"hello\")\n",
    "r=fun\n",
    "print(\"r=\",r)"
   ]
  },
  {
   "cell_type": "code",
   "execution_count": 6,
   "metadata": {},
   "outputs": [
    {
     "name": "stdout",
     "output_type": "stream",
     "text": [
      "r= <function fun at 0x7fc01cba58c8>\n",
      "<class 'function'>\n"
     ]
    }
   ],
   "source": [
    "def fun():\n",
    "    print(\"hello\")\n",
    "r=fun\n",
    "print(\"r=\",r)\n",
    "print(type(r))"
   ]
  },
  {
   "cell_type": "code",
   "execution_count": 7,
   "metadata": {},
   "outputs": [
    {
     "name": "stdout",
     "output_type": "stream",
     "text": [
      "hello\n"
     ]
    }
   ],
   "source": [
    "def fun():\n",
    "    print(\"hello\")\n",
    "r=fun\n",
    "r()"
   ]
  },
  {
   "cell_type": "code",
   "execution_count": 8,
   "metadata": {},
   "outputs": [
    {
     "name": "stdout",
     "output_type": "stream",
     "text": [
      "result= 30\n"
     ]
    }
   ],
   "source": [
    "def fun(f,x,y):\n",
    "    res=f(x,y)\n",
    "    print(\"result=\",res)\n",
    "def fun1(x,y):\n",
    "    return x+y\n",
    "fun(fun1,10,20)"
   ]
  },
  {
   "cell_type": "code",
   "execution_count": 9,
   "metadata": {},
   "outputs": [
    {
     "name": "stdout",
     "output_type": "stream",
     "text": [
      "('Result=', 30)\n"
     ]
    }
   ],
   "source": [
    "def outer(f):\n",
    "    def inner(*args):\n",
    "        res=f(*args)\n",
    "        return \"Result=\",res\n",
    "    return inner\n",
    "def add(x,y):\n",
    "    return x+y\n",
    "def mul(x,y):\n",
    "    return x*y\n",
    "r1=outer(add)\n",
    "res = r1(10,20)\n",
    "print(res)"
   ]
  },
  {
   "cell_type": "code",
   "execution_count": 10,
   "metadata": {},
   "outputs": [
    {
     "name": "stdout",
     "output_type": "stream",
     "text": [
      "30\n"
     ]
    }
   ],
   "source": [
    "def outer(f):\n",
    "    def inner(*args):\n",
    "        res=f(*args)\n",
    "        return \"Result=\",res\n",
    "    return inner\n",
    "def add(x,y):\n",
    "    return x+y\n",
    "def mul(x,y):\n",
    "    return x*y\n",
    "#r1=outer(add)\n",
    "#res = r1(10,20)\n",
    "res=add(10,20)\n",
    "print(res)"
   ]
  },
  {
   "cell_type": "code",
   "execution_count": 11,
   "metadata": {},
   "outputs": [
    {
     "name": "stdout",
     "output_type": "stream",
     "text": [
      "('Result=', 30)\n"
     ]
    }
   ],
   "source": [
    "def outer(f): #closure\n",
    "    def inner(*args):\n",
    "        res=f(*args)\n",
    "        return \"Result=\",res\n",
    "    return inner\n",
    "@outer #decorator\n",
    "def add(x,y):\n",
    "    return x+y\n",
    "def mul(x,y):\n",
    "    return x*y\n",
    "#r1=outer(add)\n",
    "#res = r1(10,20)\n",
    "res=add(10,20)\n",
    "print(res)"
   ]
  },
  {
   "cell_type": "code",
   "execution_count": 13,
   "metadata": {},
   "outputs": [
    {
     "name": "stdout",
     "output_type": "stream",
     "text": [
      "['p1', 'p3', 'p2']\n",
      "['v1', 'v3', 'v2']\n",
      "['c1', 'c3', 'c2']\n"
     ]
    }
   ],
   "source": [
    "def get_products():\n",
    "    return [\"p1\",\"p3\",\"p2\"]\n",
    "def get_vendors():\n",
    "    return [\"v1\",\"v3\",\"v2\"]\n",
    "def get_customers():\n",
    "    return [\"c1\",\"c3\",\"c2\"]\n",
    "print(get_products())\n",
    "print(get_vendors())\n",
    "print(get_customers())"
   ]
  },
  {
   "cell_type": "code",
   "execution_count": 14,
   "metadata": {},
   "outputs": [
    {
     "name": "stdout",
     "output_type": "stream",
     "text": [
      "['p1', 'p2', 'p3']\n",
      "['v1', 'v2', 'v3']\n",
      "['c1', 'c2', 'c3']\n"
     ]
    }
   ],
   "source": [
    "def sort(f):\n",
    "    def inner():\n",
    "        res=f()\n",
    "        res.sort()\n",
    "        return res\n",
    "    return inner\n",
    "@sort\n",
    "def get_products():\n",
    "    return [\"p1\",\"p3\",\"p2\"]\n",
    "@sort\n",
    "def get_vendors():\n",
    "    return [\"v1\",\"v3\",\"v2\"]\n",
    "@sort\n",
    "def get_customers():\n",
    "    return [\"c1\",\"c3\",\"c2\"]\n",
    "print(get_products())\n",
    "print(get_vendors())\n",
    "print(get_customers())"
   ]
  },
  {
   "cell_type": "code",
   "execution_count": 15,
   "metadata": {},
   "outputs": [
    {
     "name": "stdout",
     "output_type": "stream",
     "text": [
      "('Jayaram', 23, 'Maithrivanam', 'KHYAATHI')\n",
      "('Maithrivanam', 'KHYAATHI')\n"
     ]
    }
   ],
   "source": [
    "class Emp:\n",
    "    company_name=\"KHYAATHI\"\n",
    "    company_address=\"Maithrivanam\"\n",
    "    def __init__(self,name,e_id):\n",
    "        self.name=name\n",
    "        self.id=e_id\n",
    "    def get(self):\n",
    "        return self.name,self.id,self.company_address,self.company_name\n",
    "    def get_company(self):\n",
    "        return self.company_address,self.company_name\n",
    "jay=Emp(\"Jayaram\",23)\n",
    "print(jay.get())\n",
    "print(jay.get_company())"
   ]
  },
  {
   "cell_type": "code",
   "execution_count": 17,
   "metadata": {},
   "outputs": [
    {
     "name": "stdout",
     "output_type": "stream",
     "text": [
      "KHYAATHI Maithrivanam\n"
     ]
    }
   ],
   "source": [
    "class Emp:\n",
    "    company_name=\"KHYAATHI\"\n",
    "    company_address=\"Maithrivanam\"\n",
    "    # company_address, company_name are class object attributes\n",
    "    def __init__(self,name,e_id):\n",
    "        self.name=name # name and id are data object attributes\n",
    "        self.id=e_id\n",
    "    def get(self):\n",
    "        return self.name,self.id,self.company_address,self.company_name\n",
    "    def get_company(self):\n",
    "        return self.company_address,self.company_name\n",
    "print(Emp.company_name,Emp.company_address)"
   ]
  },
  {
   "cell_type": "code",
   "execution_count": 18,
   "metadata": {},
   "outputs": [
    {
     "ename": "TypeError",
     "evalue": "get_company() missing 1 required positional argument: 'self'",
     "output_type": "error",
     "traceback": [
      "\u001b[0;31m---------------------------------------------------------------------------\u001b[0m",
      "\u001b[0;31mTypeError\u001b[0m                                 Traceback (most recent call last)",
      "\u001b[0;32m<ipython-input-18-324c22e1c7c6>\u001b[0m in \u001b[0;36m<module>\u001b[0;34m\u001b[0m\n\u001b[1;32m     10\u001b[0m     \u001b[0;32mdef\u001b[0m \u001b[0mget_company\u001b[0m\u001b[0;34m(\u001b[0m\u001b[0mself\u001b[0m\u001b[0;34m)\u001b[0m\u001b[0;34m:\u001b[0m\u001b[0;34m\u001b[0m\u001b[0;34m\u001b[0m\u001b[0m\n\u001b[1;32m     11\u001b[0m         \u001b[0;32mreturn\u001b[0m \u001b[0mself\u001b[0m\u001b[0;34m.\u001b[0m\u001b[0mcompany_address\u001b[0m\u001b[0;34m,\u001b[0m\u001b[0mself\u001b[0m\u001b[0;34m.\u001b[0m\u001b[0mcompany_name\u001b[0m\u001b[0;34m\u001b[0m\u001b[0;34m\u001b[0m\u001b[0m\n\u001b[0;32m---> 12\u001b[0;31m \u001b[0mprint\u001b[0m\u001b[0;34m(\u001b[0m\u001b[0mEmp\u001b[0m\u001b[0;34m.\u001b[0m\u001b[0mget_company\u001b[0m\u001b[0;34m(\u001b[0m\u001b[0;34m)\u001b[0m\u001b[0;34m)\u001b[0m\u001b[0;34m\u001b[0m\u001b[0;34m\u001b[0m\u001b[0m\n\u001b[0m",
      "\u001b[0;31mTypeError\u001b[0m: get_company() missing 1 required positional argument: 'self'"
     ]
    }
   ],
   "source": [
    "class Emp:\n",
    "    company_name=\"KHYAATHI\"\n",
    "    company_address=\"Maithrivanam\"\n",
    "    # company_address, company_name are class object attributes\n",
    "    def __init__(self,name,e_id):\n",
    "        self.name=name # name and id are data object attributes\n",
    "        self.id=e_id\n",
    "    def get(self):\n",
    "        return self.name,self.id,self.company_address,self.company_name\n",
    "    def get_company(self):\n",
    "        return self.company_address,self.company_name\n",
    "print(Emp.get_company())"
   ]
  },
  {
   "cell_type": "code",
   "execution_count": 19,
   "metadata": {},
   "outputs": [
    {
     "name": "stdout",
     "output_type": "stream",
     "text": [
      "('Maithrivanam', 'KHYAATHI')\n"
     ]
    }
   ],
   "source": [
    "class Emp:\n",
    "    company_name=\"KHYAATHI\"\n",
    "    company_address=\"Maithrivanam\"\n",
    "    # company_address, company_name are class object attributes\n",
    "    def __init__(self,name,e_id):\n",
    "        self.name=name # name and id are data object attributes\n",
    "        self.id=e_id\n",
    "    def get(self): #instance method\n",
    "        return self.name,self.id,self.company_address,self.company_name\n",
    "    @classmethod\n",
    "    def get_company(self): # class method\n",
    "        return self.company_address,self.company_name\n",
    "print(Emp.get_company())"
   ]
  },
  {
   "cell_type": "code",
   "execution_count": 20,
   "metadata": {},
   "outputs": [
    {
     "name": "stdout",
     "output_type": "stream",
     "text": [
      "('Maithrivanam', 'KHYAATHI')\n",
      "('Maithrivanam', 'KHYAATHI')\n"
     ]
    }
   ],
   "source": [
    "class Emp:\n",
    "    company_name=\"KHYAATHI\"\n",
    "    company_address=\"Maithrivanam\"\n",
    "    # company_address, company_name are class object attributes\n",
    "    def __init__(self,name,e_id):\n",
    "        self.name=name # name and id are data object attributes\n",
    "        self.id=e_id\n",
    "    def get(self): #instance method\n",
    "        return self.name,self.id,self.company_address,self.company_name\n",
    "    @classmethod\n",
    "    def get_company(self): # class method\n",
    "        return self.company_address,self.company_name\n",
    "print(Emp.get_company())\n",
    "jay=Emp(\"Jayaram\",23)\n",
    "print(jay.get_company())"
   ]
  },
  {
   "cell_type": "code",
   "execution_count": 21,
   "metadata": {},
   "outputs": [
    {
     "data": {
      "text/plain": [
       "[1, 2, 3, 4]"
      ]
     },
     "execution_count": 21,
     "metadata": {},
     "output_type": "execute_result"
    }
   ],
   "source": [
    "t=[1,2]\n",
    "t1=[3,4]\n",
    "t+t1"
   ]
  },
  {
   "cell_type": "code",
   "execution_count": 22,
   "metadata": {},
   "outputs": [
    {
     "data": {
      "text/plain": [
       "(1, 2, 3, 4)"
      ]
     },
     "execution_count": 22,
     "metadata": {},
     "output_type": "execute_result"
    }
   ],
   "source": [
    "t=(1,2)\n",
    "t1=(3,4)\n",
    "t+t1"
   ]
  },
  {
   "cell_type": "code",
   "execution_count": 24,
   "metadata": {},
   "outputs": [
    {
     "name": "stdout",
     "output_type": "stream",
     "text": [
      "('Maithrivanam', 'KHYAATHI')\n",
      "('Maithrivanam', 'KHYAATHI')\n",
      "10 20\n",
      "1000 200\n"
     ]
    }
   ],
   "source": [
    "class Emp:\n",
    "    company_name=\"KHYAATHI\"\n",
    "    company_address=\"Maithrivanam\"\n",
    "    # company_address, company_name are class object attributes\n",
    "    def __init__(self,name,e_id):\n",
    "        self.name=name # name and id are data object attributes\n",
    "        self.id=e_id\n",
    "    def get(self): #instance method\n",
    "        return self.name,self.id,self.company_address,self.company_name\n",
    "    @classmethod\n",
    "    def get_company(self): # static method\n",
    "        return self.company_address,self.company_name\n",
    "    @staticmethod\n",
    "    def sta(x,y):\n",
    "        print(x,y)\n",
    "print(Emp.get_company())\n",
    "jay=Emp(\"Jayaram\",23)\n",
    "print(jay.get_company())\n",
    "jay.sta(10,20)\n",
    "Emp.sta(1000,200)"
   ]
  },
  {
   "cell_type": "code",
   "execution_count": 25,
   "metadata": {},
   "outputs": [
    {
     "name": "stdout",
     "output_type": "stream",
     "text": [
      "jayaram guduru\n"
     ]
    }
   ],
   "source": [
    "class Emp:\n",
    "    def __init__(self,first_name,last_name):\n",
    "        self.first_name=first_name\n",
    "        self.last_name=last_name\n",
    "        self.name=\"%s %s\"%(self.first_name,self.last_name)\n",
    "jay=Emp(\"jayaram\",\"guduru\")\n",
    "print(jay.name)"
   ]
  },
  {
   "cell_type": "code",
   "execution_count": 26,
   "metadata": {},
   "outputs": [
    {
     "name": "stdout",
     "output_type": "stream",
     "text": [
      "jayaram guduru\n",
      "jayaram guduru\n"
     ]
    }
   ],
   "source": [
    "class Emp:\n",
    "    def __init__(self,first_name,last_name):\n",
    "        self.first_name=first_name\n",
    "        self.last_name=last_name\n",
    "        self.name=\"%s %s\"%(self.first_name,self.last_name)\n",
    "jay=Emp(\"jayaram\",\"guduru\")\n",
    "print(jay.name)\n",
    "jay.first_name=\"JAYARAM\"\n",
    "print(jay.name)"
   ]
  },
  {
   "cell_type": "code",
   "execution_count": 27,
   "metadata": {},
   "outputs": [
    {
     "name": "stdout",
     "output_type": "stream",
     "text": [
      "jayaram guduru\n",
      "JAYARAM guduru\n"
     ]
    }
   ],
   "source": [
    "class Emp:\n",
    "    def __init__(self,first_name,last_name):\n",
    "        self.first_name=first_name\n",
    "        self.last_name=last_name\n",
    "    def name(self):\n",
    "        return \"%s %s\"%(self.first_name,self.last_name)\n",
    "jay=Emp(\"jayaram\",\"guduru\")\n",
    "print(jay.name())\n",
    "jay.first_name=\"JAYARAM\"\n",
    "print(jay.name())"
   ]
  },
  {
   "cell_type": "code",
   "execution_count": 28,
   "metadata": {},
   "outputs": [
    {
     "name": "stdout",
     "output_type": "stream",
     "text": [
      "<bound method Emp.name of <__main__.Emp object at 0x7fc007a8bdd8>>\n",
      "<bound method Emp.name of <__main__.Emp object at 0x7fc007a8bdd8>>\n"
     ]
    }
   ],
   "source": [
    "class Emp:\n",
    "    def __init__(self,first_name,last_name):\n",
    "        self.first_name=first_name\n",
    "        self.last_name=last_name\n",
    "    def name(self):\n",
    "        return \"%s %s\"%(self.first_name,self.last_name)\n",
    "jay=Emp(\"jayaram\",\"guduru\")\n",
    "print(jay.name)\n",
    "jay.first_name=\"JAYARAM\"\n",
    "print(jay.name)"
   ]
  },
  {
   "cell_type": "code",
   "execution_count": 29,
   "metadata": {},
   "outputs": [
    {
     "name": "stdout",
     "output_type": "stream",
     "text": [
      "jayaram guduru\n",
      "JAYARAM guduru\n"
     ]
    }
   ],
   "source": [
    "class Emp:\n",
    "    def __init__(self,first_name,last_name):\n",
    "        self.first_name=first_name\n",
    "        self.last_name=last_name\n",
    "    @property\n",
    "    def name(self):\n",
    "        return \"%s %s\"%(self.first_name,self.last_name)\n",
    "jay=Emp(\"jayaram\",\"guduru\")\n",
    "print(jay.name)\n",
    "jay.first_name=\"JAYARAM\"\n",
    "print(jay.name)"
   ]
  },
  {
   "cell_type": "code",
   "execution_count": 30,
   "metadata": {},
   "outputs": [],
   "source": [
    "class Emp:\n",
    "    def __init__(self,name):\n",
    "        self.name=name\n",
    "jay=Emp(\"Jayaram\")\n",
    "vedha=Emp(\"vedhanvesh\")\n",
    "sai=Emp(\"sailaxmi\")\n",
    "dhana=Emp(\"Dhana\")\n"
   ]
  },
  {
   "cell_type": "code",
   "execution_count": 32,
   "metadata": {},
   "outputs": [
    {
     "name": "stdout",
     "output_type": "stream",
     "text": [
      "0\n"
     ]
    }
   ],
   "source": [
    "class Emp:\n",
    "    count=0\n",
    "    def __init__(self,name):\n",
    "        self.count=self.count+1\n",
    "        self.name=name\n",
    "jay=Emp(\"Jayaram\")\n",
    "vedha=Emp(\"vedhanvesh\")\n",
    "sai=Emp(\"sailaxmi\")\n",
    "dhana=Emp(\"Dhana\")\n",
    "print(Emp.count)"
   ]
  },
  {
   "cell_type": "code",
   "execution_count": 35,
   "metadata": {},
   "outputs": [
    {
     "name": "stdout",
     "output_type": "stream",
     "text": [
      "4\n"
     ]
    }
   ],
   "source": [
    "class Emp:\n",
    "    count=0\n",
    "    def __new__(cls,*args,**kwargs):\n",
    "        obj=object.__new__(cls)\n",
    "        cls.count=cls.count+1\n",
    "        return obj\n",
    "    def __init__(self,name):\n",
    "        \n",
    "        self.count=self.count+1\n",
    "        self.name=name\n",
    "jay=Emp(\"Jayaram\")\n",
    "vedha=Emp(\"vedhanvesh\")\n",
    "sai=Emp(\"sailaxmi\")\n",
    "dhana=Emp(\"Dhana\")\n",
    "print(Emp.count)"
   ]
  },
  {
   "cell_type": "code",
   "execution_count": 36,
   "metadata": {},
   "outputs": [
    {
     "name": "stdout",
     "output_type": "stream",
     "text": [
      "Jayaram\n"
     ]
    },
    {
     "ename": "Exception",
     "evalue": "can create only one object",
     "output_type": "error",
     "traceback": [
      "\u001b[0;31m---------------------------------------------------------------------------\u001b[0m",
      "\u001b[0;31mException\u001b[0m                                 Traceback (most recent call last)",
      "\u001b[0;32m<ipython-input-36-49c6cb8a54b9>\u001b[0m in \u001b[0;36m<module>\u001b[0;34m\u001b[0m\n\u001b[1;32m     14\u001b[0m \u001b[0mjay\u001b[0m\u001b[0;34m=\u001b[0m\u001b[0mEmp\u001b[0m\u001b[0;34m(\u001b[0m\u001b[0;34m\"Jayaram\"\u001b[0m\u001b[0;34m)\u001b[0m\u001b[0;34m\u001b[0m\u001b[0;34m\u001b[0m\u001b[0m\n\u001b[1;32m     15\u001b[0m \u001b[0mprint\u001b[0m\u001b[0;34m(\u001b[0m\u001b[0mjay\u001b[0m\u001b[0;34m.\u001b[0m\u001b[0mname\u001b[0m\u001b[0;34m)\u001b[0m\u001b[0;34m\u001b[0m\u001b[0;34m\u001b[0m\u001b[0m\n\u001b[0;32m---> 16\u001b[0;31m \u001b[0mvedha\u001b[0m\u001b[0;34m=\u001b[0m\u001b[0mEmp\u001b[0m\u001b[0;34m(\u001b[0m\u001b[0;34m\"vedhanvesh\"\u001b[0m\u001b[0;34m)\u001b[0m\u001b[0;34m\u001b[0m\u001b[0;34m\u001b[0m\u001b[0m\n\u001b[0m\u001b[1;32m     17\u001b[0m \u001b[0msai\u001b[0m\u001b[0;34m=\u001b[0m\u001b[0mEmp\u001b[0m\u001b[0;34m(\u001b[0m\u001b[0;34m\"sailaxmi\"\u001b[0m\u001b[0;34m)\u001b[0m\u001b[0;34m\u001b[0m\u001b[0;34m\u001b[0m\u001b[0m\n\u001b[1;32m     18\u001b[0m \u001b[0mdhana\u001b[0m\u001b[0;34m=\u001b[0m\u001b[0mEmp\u001b[0m\u001b[0;34m(\u001b[0m\u001b[0;34m\"Dhana\"\u001b[0m\u001b[0;34m)\u001b[0m\u001b[0;34m\u001b[0m\u001b[0;34m\u001b[0m\u001b[0m\n",
      "\u001b[0;32m<ipython-input-36-49c6cb8a54b9>\u001b[0m in \u001b[0;36m__new__\u001b[0;34m(cls, *args, **kwargs)\u001b[0m\n\u001b[1;32m      7\u001b[0m             \u001b[0;32mreturn\u001b[0m \u001b[0mobj\u001b[0m\u001b[0;34m\u001b[0m\u001b[0;34m\u001b[0m\u001b[0m\n\u001b[1;32m      8\u001b[0m         \u001b[0;32melse\u001b[0m\u001b[0;34m:\u001b[0m\u001b[0;34m\u001b[0m\u001b[0;34m\u001b[0m\u001b[0m\n\u001b[0;32m----> 9\u001b[0;31m             \u001b[0;32mraise\u001b[0m \u001b[0mException\u001b[0m\u001b[0;34m(\u001b[0m\u001b[0;34m\"can create only one object\"\u001b[0m\u001b[0;34m)\u001b[0m\u001b[0;34m\u001b[0m\u001b[0;34m\u001b[0m\u001b[0m\n\u001b[0m\u001b[1;32m     10\u001b[0m     \u001b[0;32mdef\u001b[0m \u001b[0m__init__\u001b[0m\u001b[0;34m(\u001b[0m\u001b[0mself\u001b[0m\u001b[0;34m,\u001b[0m\u001b[0mname\u001b[0m\u001b[0;34m)\u001b[0m\u001b[0;34m:\u001b[0m\u001b[0;34m\u001b[0m\u001b[0;34m\u001b[0m\u001b[0m\n\u001b[1;32m     11\u001b[0m \u001b[0;34m\u001b[0m\u001b[0m\n",
      "\u001b[0;31mException\u001b[0m: can create only one object"
     ]
    }
   ],
   "source": [
    "#singleton\n",
    "class Emp:\n",
    "    count=0\n",
    "    def __new__(cls,*args,**kwargs):\n",
    "        if cls.count==0:\n",
    "            obj=object.__new__(cls)\n",
    "            cls.count=cls.count+1\n",
    "            return obj\n",
    "        else:\n",
    "            raise Exception(\"can create only one object\")\n",
    "    def __init__(self,name):\n",
    "        \n",
    "        self.count=self.count+1\n",
    "        self.name=name\n",
    "jay=Emp(\"Jayaram\")\n",
    "print(jay.name)\n",
    "vedha=Emp(\"vedhanvesh\")\n",
    "sai=Emp(\"sailaxmi\")\n",
    "dhana=Emp(\"Dhana\")\n",
    "print(Emp.count)"
   ]
  },
  {
   "cell_type": "code",
   "execution_count": 37,
   "metadata": {},
   "outputs": [],
   "source": [
    "#solid"
   ]
  },
  {
   "cell_type": "code",
   "execution_count": null,
   "metadata": {},
   "outputs": [],
   "source": [
    "#learning python Edition 5 pdf"
   ]
  }
 ],
 "metadata": {
  "kernelspec": {
   "display_name": "Python 3",
   "language": "python",
   "name": "python3"
  },
  "language_info": {
   "codemirror_mode": {
    "name": "ipython",
    "version": 3
   },
   "file_extension": ".py",
   "mimetype": "text/x-python",
   "name": "python",
   "nbconvert_exporter": "python",
   "pygments_lexer": "ipython3",
   "version": "3.7.3"
  }
 },
 "nbformat": 4,
 "nbformat_minor": 2
}

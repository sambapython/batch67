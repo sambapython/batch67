{
 "cells": [
  {
   "cell_type": "code",
   "execution_count": null,
   "metadata": {},
   "outputs": [],
   "source": [
    "# slot booking(user,time,court,price)\n",
    "class Court:\n",
    "    def booking\n",
    "    \n",
    "class User:\n",
    "    name\n",
    "    phone\n",
    "    address\n",
    "    id_proof\n",
    "    \n",
    "    "
   ]
  },
  {
   "cell_type": "code",
   "execution_count": null,
   "metadata": {},
   "outputs": [],
   "source": [
    "class User:\n",
    "    name\n",
    "    phone\n",
    "    address\n",
    "    id_proof\n",
    "    \n",
    "    def create():\n",
    "        \n",
    "    "
   ]
  },
  {
   "cell_type": "code",
   "execution_count": 1,
   "metadata": {},
   "outputs": [
    {
     "ename": "NameError",
     "evalue": "name 'phone' is not defined",
     "output_type": "error",
     "traceback": [
      "\u001b[0;31m---------------------------------------------------------------------------\u001b[0m",
      "\u001b[0;31mNameError\u001b[0m                                 Traceback (most recent call last)",
      "\u001b[0;32m<ipython-input-1-3d4a0b3d0202>\u001b[0m in \u001b[0;36m<module>\u001b[0;34m\u001b[0m\n\u001b[1;32m      1\u001b[0m \u001b[0;32mclass\u001b[0m \u001b[0mUser\u001b[0m\u001b[0;34m:\u001b[0m\u001b[0;34m\u001b[0m\u001b[0;34m\u001b[0m\u001b[0m\n\u001b[1;32m      2\u001b[0m     \u001b[0mphone\u001b[0m\u001b[0;34m=\u001b[0m\u001b[0;36m9676622023\u001b[0m\u001b[0;34m\u001b[0m\u001b[0;34m\u001b[0m\u001b[0m\n\u001b[0;32m----> 3\u001b[0;31m \u001b[0mprint\u001b[0m\u001b[0;34m(\u001b[0m\u001b[0mphone\u001b[0m\u001b[0;34m)\u001b[0m\u001b[0;34m\u001b[0m\u001b[0;34m\u001b[0m\u001b[0m\n\u001b[0m",
      "\u001b[0;31mNameError\u001b[0m: name 'phone' is not defined"
     ]
    }
   ],
   "source": [
    "class User:\n",
    "    phone=9676622023\n",
    "print(phone)"
   ]
  },
  {
   "cell_type": "code",
   "execution_count": 2,
   "metadata": {},
   "outputs": [
    {
     "name": "stdout",
     "output_type": "stream",
     "text": [
      "9676622023\n"
     ]
    }
   ],
   "source": [
    "class User:\n",
    "    phone=9676622023\n",
    "\"\"\"\n",
    "User reference in the stack, it will create a class object in the heap\n",
    "User frame also in the stack. In that fram it will add phone\n",
    "\"\"\"\n",
    "print(User.phone)"
   ]
  },
  {
   "cell_type": "code",
   "execution_count": 3,
   "metadata": {},
   "outputs": [
    {
     "name": "stdout",
     "output_type": "stream",
     "text": [
      "9676622023\n",
      "verifying phone number\n",
      "None\n"
     ]
    }
   ],
   "source": [
    "class User:\n",
    "    phone=9676622023\n",
    "    def verify_phone(x):\n",
    "        print(\"verifying phone number\")\n",
    "        \n",
    "\"\"\"\n",
    "User reference in the stack, it will create a class object in the heap\n",
    "User frame also in the stack. In that frame it will add phone and verify_phone references.\n",
    "The verify_phone reference refers that <fun_main> object and phone referes the \"9676622023\"\n",
    "object\n",
    "\"\"\"\n",
    "print(User.phone)\n",
    "print(User.verify_phone(10))"
   ]
  },
  {
   "cell_type": "code",
   "execution_count": 4,
   "metadata": {},
   "outputs": [
    {
     "name": "stdout",
     "output_type": "stream",
     "text": [
      "9676622023\n",
      "verifying phone number\n",
      "None\n"
     ]
    }
   ],
   "source": [
    "class User:\n",
    "    phone=9676622023\n",
    "    def verify_phone():\n",
    "        print(\"verifying phone number\")\n",
    "        \n",
    "\"\"\"\n",
    "User reference in the stack, it will create a class object in the heap\n",
    "User frame also in the stack. In that frame it will add phone and verify_phone references.\n",
    "The verify_phone reference refers that <fun_main> object and phone referes the \"9676622023\"\n",
    "object\n",
    "\"\"\"\n",
    "print(User.phone)\n",
    "print(User.verify_phone())"
   ]
  },
  {
   "cell_type": "code",
   "execution_count": 5,
   "metadata": {},
   "outputs": [
    {
     "name": "stdout",
     "output_type": "stream",
     "text": [
      "9676622023\n",
      "verifying phone number\n",
      "None\n"
     ]
    }
   ],
   "source": [
    "class User:\n",
    "    phone=9676622023\n",
    "    def verify_phone():\n",
    "        print(\"verifying phone number\")\n",
    "        \n",
    "\"\"\"\n",
    "User reference in the stack, it will create a class object in the heap\n",
    "User frame also in the stack. In that frame it will add phone and verify_phone references.\n",
    "The verify_phone reference refers that <fun_main> object and phone referes the \"9676622023\"\n",
    "object\n",
    "\"\"\"\n",
    "print(User.phone)\n",
    "print(User.verify_phone())"
   ]
  },
  {
   "cell_type": "code",
   "execution_count": 7,
   "metadata": {},
   "outputs": [
    {
     "name": "stdout",
     "output_type": "stream",
     "text": [
      "9676622023\n"
     ]
    },
    {
     "ename": "NameError",
     "evalue": "name 'phone' is not defined",
     "output_type": "error",
     "traceback": [
      "\u001b[0;31m---------------------------------------------------------------------------\u001b[0m",
      "\u001b[0;31mNameError\u001b[0m                                 Traceback (most recent call last)",
      "\u001b[0;32m<ipython-input-7-e9d17e517b6b>\u001b[0m in \u001b[0;36m<module>\u001b[0;34m\u001b[0m\n\u001b[1;32m      5\u001b[0m \u001b[0;34m\u001b[0m\u001b[0m\n\u001b[1;32m      6\u001b[0m \u001b[0mprint\u001b[0m\u001b[0;34m(\u001b[0m\u001b[0mUser\u001b[0m\u001b[0;34m.\u001b[0m\u001b[0mphone\u001b[0m\u001b[0;34m)\u001b[0m\u001b[0;34m\u001b[0m\u001b[0;34m\u001b[0m\u001b[0m\n\u001b[0;32m----> 7\u001b[0;31m \u001b[0mprint\u001b[0m\u001b[0;34m(\u001b[0m\u001b[0mUser\u001b[0m\u001b[0;34m.\u001b[0m\u001b[0mverify_phone\u001b[0m\u001b[0;34m(\u001b[0m\u001b[0;34m)\u001b[0m\u001b[0;34m)\u001b[0m\u001b[0;34m\u001b[0m\u001b[0;34m\u001b[0m\u001b[0m\n\u001b[0m",
      "\u001b[0;32m<ipython-input-7-e9d17e517b6b>\u001b[0m in \u001b[0;36mverify_phone\u001b[0;34m()\u001b[0m\n\u001b[1;32m      2\u001b[0m     \u001b[0mphone\u001b[0m\u001b[0;34m=\u001b[0m\u001b[0;36m9676622023\u001b[0m\u001b[0;34m\u001b[0m\u001b[0;34m\u001b[0m\u001b[0m\n\u001b[1;32m      3\u001b[0m     \u001b[0;32mdef\u001b[0m \u001b[0mverify_phone\u001b[0m\u001b[0;34m(\u001b[0m\u001b[0;34m)\u001b[0m\u001b[0;34m:\u001b[0m\u001b[0;34m\u001b[0m\u001b[0;34m\u001b[0m\u001b[0m\n\u001b[0;32m----> 4\u001b[0;31m         \u001b[0mprint\u001b[0m\u001b[0;34m(\u001b[0m\u001b[0mphone\u001b[0m\u001b[0;34m)\u001b[0m\u001b[0;34m\u001b[0m\u001b[0;34m\u001b[0m\u001b[0m\n\u001b[0m\u001b[1;32m      5\u001b[0m \u001b[0;34m\u001b[0m\u001b[0m\n\u001b[1;32m      6\u001b[0m \u001b[0mprint\u001b[0m\u001b[0;34m(\u001b[0m\u001b[0mUser\u001b[0m\u001b[0;34m.\u001b[0m\u001b[0mphone\u001b[0m\u001b[0;34m)\u001b[0m\u001b[0;34m\u001b[0m\u001b[0;34m\u001b[0m\u001b[0m\n",
      "\u001b[0;31mNameError\u001b[0m: name 'phone' is not defined"
     ]
    }
   ],
   "source": [
    "class User:\n",
    "    phone=9676622023\n",
    "    def verify_phone():\n",
    "        print(phone)\n",
    "        \n",
    "print(User.phone)\n",
    "print(User.verify_phone())"
   ]
  },
  {
   "cell_type": "code",
   "execution_count": 8,
   "metadata": {},
   "outputs": [
    {
     "name": "stdout",
     "output_type": "stream",
     "text": [
      "9676622023\n",
      "9676622023\n",
      "None\n"
     ]
    }
   ],
   "source": [
    "class User:\n",
    "    phone=9676622023\n",
    "    def verify_phone(x):\n",
    "        print(x.phone)\n",
    "        \n",
    "print(User.phone)\n",
    "print(User.verify_phone(User))"
   ]
  },
  {
   "cell_type": "code",
   "execution_count": 9,
   "metadata": {},
   "outputs": [
    {
     "name": "stdout",
     "output_type": "stream",
     "text": [
      "325345\n"
     ]
    }
   ],
   "source": [
    "class User:\n",
    "    def verify_phone(x):\n",
    "        print(x.phone)\n",
    "priyanka = User() # data object\n",
    "priyanka.phone=4223423\n",
    "samba=User()\n",
    "samba.phone=9676622023\n",
    "amar=User()\n",
    "amar.phone=325345\n",
    "User.verify_phone(amar)"
   ]
  },
  {
   "cell_type": "code",
   "execution_count": 10,
   "metadata": {},
   "outputs": [
    {
     "name": "stdout",
     "output_type": "stream",
     "text": [
      "9676622023\n"
     ]
    }
   ],
   "source": [
    "class User:\n",
    "    def verify_phone(x):\n",
    "        print(x.phone)\n",
    "priyanka = User() # data object\n",
    "priyanka.phone=4223423\n",
    "samba=User()\n",
    "samba.phone=9676622023\n",
    "amar=User()\n",
    "amar.phone=325345\n",
    "User.verify_phone(samba)"
   ]
  },
  {
   "cell_type": "code",
   "execution_count": 11,
   "metadata": {},
   "outputs": [
    {
     "name": "stdout",
     "output_type": "stream",
     "text": [
      "4223423\n"
     ]
    }
   ],
   "source": [
    "class User:\n",
    "    def verify_phone(x):\n",
    "        print(x.phone)\n",
    "priyanka = User() # data object\n",
    "priyanka.phone=4223423\n",
    "samba=User()\n",
    "samba.phone=9676622023\n",
    "amar=User()\n",
    "amar.phone=325345\n",
    "User.verify_phone(priyanka)"
   ]
  },
  {
   "cell_type": "code",
   "execution_count": 14,
   "metadata": {},
   "outputs": [
    {
     "name": "stdout",
     "output_type": "stream",
     "text": [
      "9676622024\n",
      "9676622023\n"
     ]
    }
   ],
   "source": [
    "class User:\n",
    "    def setup(x,name,phone,address,id_proof):\n",
    "        x.phone=phone\n",
    "        x.name=name\n",
    "        x.address=address\n",
    "        x.id=id_proof\n",
    "        \n",
    "    def verify_phone(x):\n",
    "        print(x.phone)\n",
    "samba=User()\n",
    "User.setup(samba,\"sambasiva\",9676622023,\"devender nagar\",\"BRjgkl456\")\n",
    "amar=User()\n",
    "User.setup(amar,\"Amar\",9676622024,\"hyd\",\"asdfsdf\")\n",
    "User.verify_phone(amar)\n",
    "User.verify_phone(samba)"
   ]
  },
  {
   "cell_type": "code",
   "execution_count": 15,
   "metadata": {},
   "outputs": [
    {
     "ename": "AttributeError",
     "evalue": "type object 'User' has no attribute 'name'",
     "output_type": "error",
     "traceback": [
      "\u001b[0;31m---------------------------------------------------------------------------\u001b[0m",
      "\u001b[0;31mAttributeError\u001b[0m                            Traceback (most recent call last)",
      "\u001b[0;32m<ipython-input-15-584749c56ac9>\u001b[0m in \u001b[0;36m<module>\u001b[0;34m\u001b[0m\n\u001b[1;32m     11\u001b[0m \u001b[0mamar\u001b[0m\u001b[0;34m=\u001b[0m\u001b[0mUser\u001b[0m\u001b[0;34m(\u001b[0m\u001b[0;34m)\u001b[0m\u001b[0;34m\u001b[0m\u001b[0;34m\u001b[0m\u001b[0m\n\u001b[1;32m     12\u001b[0m \u001b[0mUser\u001b[0m\u001b[0;34m.\u001b[0m\u001b[0msetup\u001b[0m\u001b[0;34m(\u001b[0m\u001b[0mamar\u001b[0m\u001b[0;34m,\u001b[0m\u001b[0;34m\"Amar\"\u001b[0m\u001b[0;34m,\u001b[0m\u001b[0;36m9676622024\u001b[0m\u001b[0;34m,\u001b[0m\u001b[0;34m\"hyd\"\u001b[0m\u001b[0;34m,\u001b[0m\u001b[0;34m\"asdfsdf\"\u001b[0m\u001b[0;34m)\u001b[0m\u001b[0;34m\u001b[0m\u001b[0;34m\u001b[0m\u001b[0m\n\u001b[0;32m---> 13\u001b[0;31m \u001b[0mprint\u001b[0m\u001b[0;34m(\u001b[0m\u001b[0mUser\u001b[0m\u001b[0;34m.\u001b[0m\u001b[0mname\u001b[0m\u001b[0;34m)\u001b[0m\u001b[0;34m\u001b[0m\u001b[0;34m\u001b[0m\u001b[0m\n\u001b[0m",
      "\u001b[0;31mAttributeError\u001b[0m: type object 'User' has no attribute 'name'"
     ]
    }
   ],
   "source": [
    "class User:\n",
    "    def setup(x,name,phone,address,id_proof):\n",
    "        x.phone=phone\n",
    "        x.name=name\n",
    "        x.address=address\n",
    "        x.id=id_proof\n",
    "    def verify_phone(x):\n",
    "        print(x.phone)\n",
    "samba=User()\n",
    "User.setup(samba,\"sambasiva\",9676622023,\"devender nagar\",\"BRjgkl456\")\n",
    "amar=User()\n",
    "User.setup(amar,\"Amar\",9676622024,\"hyd\",\"asdfsdf\")\n",
    "print(User.name)"
   ]
  },
  {
   "cell_type": "code",
   "execution_count": 16,
   "metadata": {},
   "outputs": [
    {
     "name": "stdout",
     "output_type": "stream",
     "text": [
      "9676622024\n",
      "9676622023\n"
     ]
    },
    {
     "ename": "AttributeError",
     "evalue": "'User' object has no attribute 'name'",
     "output_type": "error",
     "traceback": [
      "\u001b[0;31m---------------------------------------------------------------------------\u001b[0m",
      "\u001b[0;31mAttributeError\u001b[0m                            Traceback (most recent call last)",
      "\u001b[0;32m<ipython-input-16-9e33958017d1>\u001b[0m in \u001b[0;36m<module>\u001b[0;34m\u001b[0m\n\u001b[1;32m     18\u001b[0m \u001b[0;31m#User.verify_phone(samba)\u001b[0m\u001b[0;34m\u001b[0m\u001b[0;34m\u001b[0m\u001b[0;34m\u001b[0m\u001b[0m\n\u001b[1;32m     19\u001b[0m \u001b[0mjay\u001b[0m\u001b[0;34m=\u001b[0m\u001b[0mUser\u001b[0m\u001b[0;34m(\u001b[0m\u001b[0;34m)\u001b[0m\u001b[0;34m\u001b[0m\u001b[0;34m\u001b[0m\u001b[0m\n\u001b[0;32m---> 20\u001b[0;31m \u001b[0mprint\u001b[0m\u001b[0;34m(\u001b[0m\u001b[0mjay\u001b[0m\u001b[0;34m.\u001b[0m\u001b[0mname\u001b[0m\u001b[0;34m)\u001b[0m\u001b[0;34m\u001b[0m\u001b[0;34m\u001b[0m\u001b[0m\n\u001b[0m",
      "\u001b[0;31mAttributeError\u001b[0m: 'User' object has no attribute 'name'"
     ]
    }
   ],
   "source": [
    "class User: # User is a reference of class object(setup,verify_phone)\n",
    "    def setup(x,name,phone,address,id_proof):\n",
    "        x.phone=phone\n",
    "        x.name=name\n",
    "        x.address=address\n",
    "        x.id=id_proof\n",
    "    def verify_phone(x):\n",
    "        print(x.phone)\n",
    "samba=User() # samba is the reference of data object(phone,name,address,id)\n",
    "samba.setup(\"sambasiva\",9676622023,\"devender nagar\",\"BRjgkl456\")\n",
    "#User.setup(samba,\"sambasiva\",9676622023,\"devender nagar\",\"BRjgkl456\")\n",
    "amar=User()\n",
    "amar.setup(\"Amar\",9676622024,\"hyd\",\"asdfsdf\")\n",
    "#User.setup(amar,\"Amar\",9676622024,\"hyd\",\"asdfsdf\")\n",
    "amar.verify_phone()\n",
    "#User.verify_phone(amar)\n",
    "samba.verify_phone()\n",
    "#User.verify_phone(samba)\n",
    "jay=User()\n",
    "print(jay.name)"
   ]
  },
  {
   "cell_type": "code",
   "execution_count": 1,
   "metadata": {},
   "outputs": [
    {
     "name": "stdout",
     "output_type": "stream",
     "text": [
      "9676622024\n",
      "9676622023\n"
     ]
    },
    {
     "ename": "AttributeError",
     "evalue": "'User' object has no attribute 'phone'",
     "output_type": "error",
     "traceback": [
      "\u001b[0;31m---------------------------------------------------------------------------\u001b[0m",
      "\u001b[0;31mAttributeError\u001b[0m                            Traceback (most recent call last)",
      "\u001b[0;32m<ipython-input-1-c348997a0aac>\u001b[0m in \u001b[0;36m<module>\u001b[0;34m\u001b[0m\n\u001b[1;32m     14\u001b[0m \u001b[0msamba\u001b[0m\u001b[0;34m.\u001b[0m\u001b[0mverify_phone\u001b[0m\u001b[0;34m(\u001b[0m\u001b[0;34m)\u001b[0m\u001b[0;34m\u001b[0m\u001b[0;34m\u001b[0m\u001b[0m\n\u001b[1;32m     15\u001b[0m \u001b[0mjay\u001b[0m\u001b[0;34m=\u001b[0m\u001b[0mUser\u001b[0m\u001b[0;34m(\u001b[0m\u001b[0;34m)\u001b[0m\u001b[0;34m\u001b[0m\u001b[0;34m\u001b[0m\u001b[0m\n\u001b[0;32m---> 16\u001b[0;31m \u001b[0mprint\u001b[0m\u001b[0;34m(\u001b[0m\u001b[0mjay\u001b[0m\u001b[0;34m.\u001b[0m\u001b[0mverify_phone\u001b[0m\u001b[0;34m(\u001b[0m\u001b[0;34m)\u001b[0m\u001b[0;34m)\u001b[0m\u001b[0;34m\u001b[0m\u001b[0;34m\u001b[0m\u001b[0m\n\u001b[0m",
      "\u001b[0;32m<ipython-input-1-c348997a0aac>\u001b[0m in \u001b[0;36mverify_phone\u001b[0;34m(x)\u001b[0m\n\u001b[1;32m      6\u001b[0m         \u001b[0mx\u001b[0m\u001b[0;34m.\u001b[0m\u001b[0mid\u001b[0m\u001b[0;34m=\u001b[0m\u001b[0mid_proof\u001b[0m\u001b[0;34m\u001b[0m\u001b[0;34m\u001b[0m\u001b[0m\n\u001b[1;32m      7\u001b[0m     \u001b[0;32mdef\u001b[0m \u001b[0mverify_phone\u001b[0m\u001b[0;34m(\u001b[0m\u001b[0mx\u001b[0m\u001b[0;34m)\u001b[0m\u001b[0;34m:\u001b[0m\u001b[0;34m\u001b[0m\u001b[0;34m\u001b[0m\u001b[0m\n\u001b[0;32m----> 8\u001b[0;31m         \u001b[0mprint\u001b[0m\u001b[0;34m(\u001b[0m\u001b[0mx\u001b[0m\u001b[0;34m.\u001b[0m\u001b[0mphone\u001b[0m\u001b[0;34m)\u001b[0m\u001b[0;34m\u001b[0m\u001b[0;34m\u001b[0m\u001b[0m\n\u001b[0m\u001b[1;32m      9\u001b[0m \u001b[0msamba\u001b[0m\u001b[0;34m=\u001b[0m\u001b[0mUser\u001b[0m\u001b[0;34m(\u001b[0m\u001b[0;34m)\u001b[0m\u001b[0;34m\u001b[0m\u001b[0;34m\u001b[0m\u001b[0m\n\u001b[1;32m     10\u001b[0m \u001b[0msamba\u001b[0m\u001b[0;34m.\u001b[0m\u001b[0msetup\u001b[0m\u001b[0;34m(\u001b[0m\u001b[0;34m\"sambasiva\"\u001b[0m\u001b[0;34m,\u001b[0m\u001b[0;36m9676622023\u001b[0m\u001b[0;34m,\u001b[0m\u001b[0;34m\"devender nagar\"\u001b[0m\u001b[0;34m,\u001b[0m\u001b[0;34m\"BRjgkl456\"\u001b[0m\u001b[0;34m)\u001b[0m\u001b[0;34m\u001b[0m\u001b[0;34m\u001b[0m\u001b[0m\n",
      "\u001b[0;31mAttributeError\u001b[0m: 'User' object has no attribute 'phone'"
     ]
    }
   ],
   "source": [
    "class User:\n",
    "    def setup(x,name,phone,address,id_proof):\n",
    "        x.phone=phone\n",
    "        x.name=name\n",
    "        x.address=address\n",
    "        x.id=id_proof\n",
    "    def verify_phone(x):\n",
    "        print(x.phone)\n",
    "samba=User() \n",
    "samba.setup(\"sambasiva\",9676622023,\"devender nagar\",\"BRjgkl456\")\n",
    "amar=User()\n",
    "amar.setup(\"Amar\",9676622024,\"hyd\",\"asdfsdf\")\n",
    "amar.verify_phone()\n",
    "samba.verify_phone()\n",
    "jay=User()\n",
    "print(jay.verify_phone())"
   ]
  },
  {
   "cell_type": "code",
   "execution_count": 2,
   "metadata": {},
   "outputs": [
    {
     "name": "stdout",
     "output_type": "stream",
     "text": [
      "hello\n"
     ]
    }
   ],
   "source": [
    "class Emp:\n",
    "    print(\"hello\")\n"
   ]
  },
  {
   "cell_type": "code",
   "execution_count": 3,
   "metadata": {},
   "outputs": [
    {
     "name": "stdout",
     "output_type": "stream",
     "text": [
      "hello\n"
     ]
    }
   ],
   "source": [
    "class Emp:\n",
    "    print(\"hello\")\n",
    "    def get(x):\n",
    "        print(\"this is get\")\n"
   ]
  },
  {
   "cell_type": "code",
   "execution_count": 5,
   "metadata": {},
   "outputs": [
    {
     "name": "stdout",
     "output_type": "stream",
     "text": [
      "hello\n",
      "this is get\n"
     ]
    }
   ],
   "source": [
    "class Emp:\n",
    "    print(\"hello\")\n",
    "    def get(x):\n",
    "        print(\"this is get\")\n",
    "Emp.get(10)"
   ]
  },
  {
   "cell_type": "code",
   "execution_count": 6,
   "metadata": {},
   "outputs": [
    {
     "name": "stdout",
     "output_type": "stream",
     "text": [
      "hello\n",
      "this is get\n",
      "this is get\n"
     ]
    }
   ],
   "source": [
    "class Emp:\n",
    "    print(\"hello\")\n",
    "    def get(x):\n",
    "        print(\"this is get\")\n",
    "a=Emp()\n",
    "b=Emp()\n",
    "a.get()\n",
    "b.get()"
   ]
  },
  {
   "cell_type": "code",
   "execution_count": 7,
   "metadata": {},
   "outputs": [
    {
     "name": "stdout",
     "output_type": "stream",
     "text": [
      "hello\n"
     ]
    }
   ],
   "source": [
    "class Emp:\n",
    "    print(\"hello\")\n",
    "    def get(x):\n",
    "        print(\"this is get\")"
   ]
  },
  {
   "cell_type": "code",
   "execution_count": 8,
   "metadata": {},
   "outputs": [
    {
     "name": "stdout",
     "output_type": "stream",
     "text": [
      "hello\n"
     ]
    }
   ],
   "source": [
    "class Emp:\n",
    "    print(\"hello\")\n",
    "    def get(x):\n",
    "        print(\"this is get\")\n",
    "    def __init__(x):\n",
    "        print(\"this is init\")"
   ]
  },
  {
   "cell_type": "code",
   "execution_count": 9,
   "metadata": {},
   "outputs": [
    {
     "name": "stdout",
     "output_type": "stream",
     "text": [
      "hello\n",
      "this is init\n"
     ]
    }
   ],
   "source": [
    "class Emp:\n",
    "    print(\"hello\")\n",
    "    def get(x):\n",
    "        print(\"this is get\")\n",
    "    def __init__(x):\n",
    "        print(\"this is init\")\n",
    "a=Emp()"
   ]
  },
  {
   "cell_type": "code",
   "execution_count": 10,
   "metadata": {},
   "outputs": [
    {
     "name": "stdout",
     "output_type": "stream",
     "text": [
      "hello\n"
     ]
    }
   ],
   "source": [
    "class Emp:\n",
    "    print(\"hello\")\n",
    "    def get(x):\n",
    "        print(\"this is get\")\n",
    "    def __init1__(x):\n",
    "        print(\"this is init\")\n",
    "a=Emp()"
   ]
  },
  {
   "cell_type": "code",
   "execution_count": 11,
   "metadata": {},
   "outputs": [
    {
     "name": "stdout",
     "output_type": "stream",
     "text": [
      "hello\n"
     ]
    }
   ],
   "source": [
    "class Emp:\n",
    "    print(\"hello\")\n",
    "    def get(x):\n",
    "        print(\"this is get\")\n",
    "    def __init_(x):\n",
    "        print(\"this is init\")\n",
    "a=Emp()"
   ]
  },
  {
   "cell_type": "code",
   "execution_count": 12,
   "metadata": {},
   "outputs": [
    {
     "name": "stdout",
     "output_type": "stream",
     "text": [
      "hello\n",
      "this is init\n"
     ]
    }
   ],
   "source": [
    "class Emp:\n",
    "    print(\"hello\")\n",
    "    def get(x):\n",
    "        print(\"this is get\")\n",
    "    def __init__(x):\n",
    "        print(\"this is init\")\n",
    "a=Emp()"
   ]
  },
  {
   "cell_type": "code",
   "execution_count": 13,
   "metadata": {},
   "outputs": [
    {
     "name": "stdout",
     "output_type": "stream",
     "text": [
      "hello\n",
      "this is init\n",
      "this is init\n",
      "this is init\n"
     ]
    }
   ],
   "source": [
    "class Emp:\n",
    "    print(\"hello\")\n",
    "    def get(x):\n",
    "        print(\"this is get\")\n",
    "    def __init__(x):\n",
    "        print(\"this is init\")\n",
    "a=Emp() # Emp.__init__(a)\n",
    "b=Emp()\n",
    "c=Emp()"
   ]
  },
  {
   "cell_type": "code",
   "execution_count": 14,
   "metadata": {},
   "outputs": [
    {
     "name": "stdout",
     "output_type": "stream",
     "text": [
      "hello\n"
     ]
    },
    {
     "ename": "TypeError",
     "evalue": "__init__() takes 1 positional argument but 2 were given",
     "output_type": "error",
     "traceback": [
      "\u001b[0;31m---------------------------------------------------------------------------\u001b[0m",
      "\u001b[0;31mTypeError\u001b[0m                                 Traceback (most recent call last)",
      "\u001b[0;32m<ipython-input-14-2edb6e756b37>\u001b[0m in \u001b[0;36m<module>\u001b[0;34m\u001b[0m\n\u001b[1;32m      5\u001b[0m     \u001b[0;32mdef\u001b[0m \u001b[0m__init__\u001b[0m\u001b[0;34m(\u001b[0m\u001b[0mx\u001b[0m\u001b[0;34m)\u001b[0m\u001b[0;34m:\u001b[0m\u001b[0;34m\u001b[0m\u001b[0;34m\u001b[0m\u001b[0m\n\u001b[1;32m      6\u001b[0m         \u001b[0mprint\u001b[0m\u001b[0;34m(\u001b[0m\u001b[0;34m\"this is init\"\u001b[0m\u001b[0;34m)\u001b[0m\u001b[0;34m\u001b[0m\u001b[0;34m\u001b[0m\u001b[0m\n\u001b[0;32m----> 7\u001b[0;31m \u001b[0ma\u001b[0m\u001b[0;34m=\u001b[0m\u001b[0mEmp\u001b[0m\u001b[0;34m(\u001b[0m\u001b[0;36m10\u001b[0m\u001b[0;34m)\u001b[0m \u001b[0;31m#Emp.__init__(a,10)\u001b[0m\u001b[0;34m\u001b[0m\u001b[0;34m\u001b[0m\u001b[0m\n\u001b[0m\u001b[1;32m      8\u001b[0m \u001b[0mb\u001b[0m\u001b[0;34m=\u001b[0m\u001b[0mEmp\u001b[0m\u001b[0;34m(\u001b[0m\u001b[0;36m20\u001b[0m\u001b[0;34m)\u001b[0m\u001b[0;34m\u001b[0m\u001b[0;34m\u001b[0m\u001b[0m\n\u001b[1;32m      9\u001b[0m \u001b[0mc\u001b[0m\u001b[0;34m=\u001b[0m\u001b[0mEmp\u001b[0m\u001b[0;34m(\u001b[0m\u001b[0;36m30\u001b[0m\u001b[0;34m)\u001b[0m\u001b[0;34m\u001b[0m\u001b[0;34m\u001b[0m\u001b[0m\n",
      "\u001b[0;31mTypeError\u001b[0m: __init__() takes 1 positional argument but 2 were given"
     ]
    }
   ],
   "source": [
    "class Emp:\n",
    "    print(\"hello\")\n",
    "    def get(x):\n",
    "        print(\"this is get\")\n",
    "    def __init__(x):\n",
    "        print(\"this is init\")\n",
    "a=Emp(10) #Emp.__init__(a,10)\n",
    "b=Emp(20)\n",
    "c=Emp(30)"
   ]
  },
  {
   "cell_type": "code",
   "execution_count": 15,
   "metadata": {},
   "outputs": [
    {
     "name": "stdout",
     "output_type": "stream",
     "text": [
      "hello\n",
      "this is init\n",
      "this is init\n",
      "this is init\n",
      "10\n",
      "20\n",
      "30\n"
     ]
    }
   ],
   "source": [
    "class Emp:\n",
    "    print(\"hello\")\n",
    "    def get(x):\n",
    "        print(x.age)\n",
    "    def __init__(x,y):\n",
    "        print(\"this is init\")\n",
    "        x.age=y\n",
    "a=Emp(10) #Emp.__init__(a,10)\n",
    "b=Emp(20)\n",
    "c=Emp(30)\n",
    "a.get()\n",
    "b.get()\n",
    "c.get()"
   ]
  },
  {
   "cell_type": "code",
   "execution_count": 16,
   "metadata": {},
   "outputs": [
    {
     "name": "stdout",
     "output_type": "stream",
     "text": [
      "hello\n",
      "this is init\n",
      "this is init\n",
      "this is init\n",
      "10\n",
      "20\n",
      "30\n"
     ]
    }
   ],
   "source": [
    "class Emp:\n",
    "    print(\"hello\")\n",
    "    def get(self):\n",
    "        print(self.age)\n",
    "    def __init__(self,y):\n",
    "        print(\"this is init\")\n",
    "        self.age=y\n",
    "a=Emp(10) #Emp.__init__(a,10)\n",
    "b=Emp(20)\n",
    "c=Emp(30)\n",
    "a.get()\n",
    "b.get()\n",
    "c.get()"
   ]
  },
  {
   "cell_type": "code",
   "execution_count": 17,
   "metadata": {},
   "outputs": [
    {
     "name": "stdout",
     "output_type": "stream",
     "text": [
      "9676622024\n",
      "9676622023\n"
     ]
    }
   ],
   "source": [
    "class User:\n",
    "    country=\"INDIA\"\n",
    "    def __init__(self,name,phone,address,id_proof):\n",
    "        self.phone=phone\n",
    "        self.name=name\n",
    "        self.address=address\n",
    "        self.id=id_proof\n",
    "    def verify_phone(self):\n",
    "        print(self.phone)\n",
    "samba=User(\"sambasiva\",9676622023,\"devender nagar\",\"BRjgkl456\") \n",
    "amar=User(\"Amar\",9676622024,\"hyd\",\"asdfsdf\")\n",
    "amar.verify_phone()\n",
    "samba.verify_phone()\n"
   ]
  },
  {
   "cell_type": "code",
   "execution_count": 19,
   "metadata": {},
   "outputs": [
    {
     "name": "stdout",
     "output_type": "stream",
     "text": [
      "Amar hyd asdfsdf 9676622024 INDIA\n",
      "sambasiva devender nagar BRjgkl456 9676622023 INDIA\n"
     ]
    }
   ],
   "source": [
    "class User:\n",
    "    country=\"INDIA\" # class object attribute\n",
    "    def __init__(self,name,phone,address,id_proof):\n",
    "        self.phone=phone  # data object attributes\n",
    "        self.name=name\n",
    "        self.address=address\n",
    "        self.id=id_proof\n",
    "    def get(self):\n",
    "        print(self.name,self.address,self.id,self.phone,self.country)\n",
    "samba=User(\"sambasiva\",9676622023,\"devender nagar\",\"BRjgkl456\") \n",
    "amar=User(\"Amar\",9676622024,\"hyd\",\"asdfsdf\")\n",
    "amar.get()\n",
    "samba.get()\n"
   ]
  },
  {
   "cell_type": "code",
   "execution_count": 20,
   "metadata": {},
   "outputs": [
    {
     "name": "stdout",
     "output_type": "stream",
     "text": [
      "{'simla apple': 14.0}\n",
      "{'Mi Not 8 pro': 10500.0}\n"
     ]
    }
   ],
   "source": [
    "# Product class with fixed discount: 30%, Every product has name,mrp, \n",
    "#need to calculate sales price\n",
    "class Product:\n",
    "    discount=30\n",
    "    def __init__(self,name,mrp):\n",
    "        self.name=name\n",
    "        self.mrp=mrp\n",
    "    def get_sales_price(self):\n",
    "        disc_value = self.mrp*(self.discount/100.0)\n",
    "        sales_price=self.mrp-disc_value\n",
    "        return {self.name:sales_price}\n",
    "apple = Product(\"simla apple\",20)\n",
    "mi=Product(\"Mi Not 8 pro\",15000)\n",
    "print(apple.get_sales_price())\n",
    "print(mi.get_sales_price())"
   ]
  },
  {
   "cell_type": "code",
   "execution_count": null,
   "metadata": {},
   "outputs": [],
   "source": [
    "#consider that you are selling the fancy items in the local online store, taking the \n",
    "# fixed delivey charges: 30, consider some amount of sales and some anount of purchange cost\n",
    "# per each good. Every order is a object of your class. Every order contains multiple products\n",
    "# REsult of your porgram should tell profit or loss based on the transactions."
   ]
  },
  {
   "cell_type": "code",
   "execution_count": 21,
   "metadata": {},
   "outputs": [
    {
     "name": "stdout",
     "output_type": "stream",
     "text": [
      "this is op1 in c1\n"
     ]
    }
   ],
   "source": [
    "class c1:\n",
    "    def op1(self):\n",
    "        print(\"this is op1 in c1\")\n",
    "o1=c1()\n",
    "o1.op1()"
   ]
  },
  {
   "cell_type": "code",
   "execution_count": 22,
   "metadata": {},
   "outputs": [
    {
     "name": "stdout",
     "output_type": "stream",
     "text": [
      "this is op1 in c1\n",
      "this is op2 in c2\n"
     ]
    }
   ],
   "source": [
    "class c1:\n",
    "    def op1(self):\n",
    "        print(\"this is op1 in c1\")\n",
    "class c2:\n",
    "    def op2(self):\n",
    "        print(\"this is op2 in c2\")\n",
    "o1=c1()\n",
    "o1.op1()\n",
    "o2=c2()\n",
    "o2.op2()"
   ]
  },
  {
   "cell_type": "code",
   "execution_count": 23,
   "metadata": {},
   "outputs": [
    {
     "name": "stdout",
     "output_type": "stream",
     "text": [
      "this is operations\n",
      "this is op1 in c1\n",
      "this is op2 in c2\n"
     ]
    }
   ],
   "source": [
    "class c1:\n",
    "    def op1(self):\n",
    "        print(\"this is op1 in c1\")\n",
    "    def op2(self):\n",
    "        print(\"this is op2 in c2\")\n",
    "    def operations(self):\n",
    "        print(\"this is operations\")\n",
    "        \n",
    "o1=c1()\n",
    "o1.operations()\n",
    "# call op1 and op2 herer\n",
    "o1.op1()\n",
    "o1.op2()"
   ]
  },
  {
   "cell_type": "code",
   "execution_count": 24,
   "metadata": {},
   "outputs": [
    {
     "name": "stdout",
     "output_type": "stream",
     "text": [
      "this is operations\n",
      "this is op1 in c1\n",
      "this is op2 in c2\n"
     ]
    }
   ],
   "source": [
    "class c1:\n",
    "    def op1(self):\n",
    "        print(\"this is op1 in c1\")\n",
    "    def op2(self):\n",
    "        print(\"this is op2 in c2\")\n",
    "    def operations(self):\n",
    "        print(\"this is operations\")\n",
    "        # call op1 and op2 herer\n",
    "        self.op1()\n",
    "        self.op2()\n",
    "        \n",
    "o1=c1()\n",
    "o1.operations()"
   ]
  },
  {
   "cell_type": "code",
   "execution_count": null,
   "metadata": {},
   "outputs": [],
   "source": [
    "x=100\n",
    "def fun(a):\n",
    "    # printt x value\n",
    "    \n",
    "fun(x)"
   ]
  },
  {
   "cell_type": "code",
   "execution_count": 26,
   "metadata": {},
   "outputs": [
    {
     "name": "stdout",
     "output_type": "stream",
     "text": [
      "this is op1 in c1\n",
      "this is op2 in c2\n"
     ]
    }
   ],
   "source": [
    "class c1:\n",
    "    def op1(self):\n",
    "        print(\"this is op1 in c1\")\n",
    "class c2:\n",
    "    def op2(self):\n",
    "        print(\"this is op2 in c2\")\n",
    "class c:\n",
    "    def operations(self):\n",
    "        # call the op1, and op2 here\n",
    "        o1=c1()\n",
    "        o1.op1()\n",
    "        o2=c2()\n",
    "        o2.op2()\n",
    "o=c()\n",
    "o.operations()"
   ]
  },
  {
   "cell_type": "code",
   "execution_count": 27,
   "metadata": {},
   "outputs": [
    {
     "ename": "AttributeError",
     "evalue": "'c' object has no attribute 'op1'",
     "output_type": "error",
     "traceback": [
      "\u001b[0;31m---------------------------------------------------------------------------\u001b[0m",
      "\u001b[0;31mAttributeError\u001b[0m                            Traceback (most recent call last)",
      "\u001b[0;32m<ipython-input-27-8262d1272dcd>\u001b[0m in \u001b[0;36m<module>\u001b[0;34m\u001b[0m\n\u001b[1;32m     13\u001b[0m         \u001b[0mself\u001b[0m\u001b[0;34m.\u001b[0m\u001b[0mop2\u001b[0m\u001b[0;34m(\u001b[0m\u001b[0;34m)\u001b[0m\u001b[0;34m\u001b[0m\u001b[0;34m\u001b[0m\u001b[0m\n\u001b[1;32m     14\u001b[0m \u001b[0mo\u001b[0m\u001b[0;34m=\u001b[0m\u001b[0mc\u001b[0m\u001b[0;34m(\u001b[0m\u001b[0;34m)\u001b[0m\u001b[0;34m\u001b[0m\u001b[0;34m\u001b[0m\u001b[0m\n\u001b[0;32m---> 15\u001b[0;31m \u001b[0mo\u001b[0m\u001b[0;34m.\u001b[0m\u001b[0moperations\u001b[0m\u001b[0;34m(\u001b[0m\u001b[0;34m)\u001b[0m\u001b[0;34m\u001b[0m\u001b[0;34m\u001b[0m\u001b[0m\n\u001b[0m",
      "\u001b[0;32m<ipython-input-27-8262d1272dcd>\u001b[0m in \u001b[0;36moperations\u001b[0;34m(self)\u001b[0m\n\u001b[1;32m      9\u001b[0m         \u001b[0;31m# call the op1, and op2 here\u001b[0m\u001b[0;34m\u001b[0m\u001b[0;34m\u001b[0m\u001b[0;34m\u001b[0m\u001b[0m\n\u001b[1;32m     10\u001b[0m         \u001b[0;31m#o1=c1()\u001b[0m\u001b[0;34m\u001b[0m\u001b[0;34m\u001b[0m\u001b[0;34m\u001b[0m\u001b[0m\n\u001b[0;32m---> 11\u001b[0;31m         \u001b[0mself\u001b[0m\u001b[0;34m.\u001b[0m\u001b[0mop1\u001b[0m\u001b[0;34m(\u001b[0m\u001b[0;34m)\u001b[0m\u001b[0;34m\u001b[0m\u001b[0;34m\u001b[0m\u001b[0m\n\u001b[0m\u001b[1;32m     12\u001b[0m         \u001b[0;31m#o2=c2()\u001b[0m\u001b[0;34m\u001b[0m\u001b[0;34m\u001b[0m\u001b[0;34m\u001b[0m\u001b[0m\n\u001b[1;32m     13\u001b[0m         \u001b[0mself\u001b[0m\u001b[0;34m.\u001b[0m\u001b[0mop2\u001b[0m\u001b[0;34m(\u001b[0m\u001b[0;34m)\u001b[0m\u001b[0;34m\u001b[0m\u001b[0;34m\u001b[0m\u001b[0m\n",
      "\u001b[0;31mAttributeError\u001b[0m: 'c' object has no attribute 'op1'"
     ]
    }
   ],
   "source": [
    "class c1:\n",
    "    def op1(self):\n",
    "        print(\"this is op1 in c1\")\n",
    "class c2:\n",
    "    def op2(self):\n",
    "        print(\"this is op2 in c2\")\n",
    "class c:\n",
    "    def operations(self):\n",
    "        # call the op1, and op2 here\n",
    "        #o1=c1()\n",
    "        self.op1()\n",
    "        #o2=c2()\n",
    "        self.op2()\n",
    "o=c()\n",
    "o.operations()"
   ]
  },
  {
   "cell_type": "code",
   "execution_count": 28,
   "metadata": {},
   "outputs": [
    {
     "ename": "AttributeError",
     "evalue": "'c' object has no attribute 'op1'",
     "output_type": "error",
     "traceback": [
      "\u001b[0;31m---------------------------------------------------------------------------\u001b[0m",
      "\u001b[0;31mAttributeError\u001b[0m                            Traceback (most recent call last)",
      "\u001b[0;32m<ipython-input-28-7349ce214abc>\u001b[0m in \u001b[0;36m<module>\u001b[0;34m\u001b[0m\n\u001b[1;32m     10\u001b[0m         \u001b[0mself\u001b[0m\u001b[0;34m.\u001b[0m\u001b[0mop2\u001b[0m\u001b[0;34m(\u001b[0m\u001b[0;34m)\u001b[0m\u001b[0;34m\u001b[0m\u001b[0;34m\u001b[0m\u001b[0m\n\u001b[1;32m     11\u001b[0m \u001b[0mo\u001b[0m\u001b[0;34m=\u001b[0m\u001b[0mc\u001b[0m\u001b[0;34m(\u001b[0m\u001b[0;34m)\u001b[0m\u001b[0;34m\u001b[0m\u001b[0;34m\u001b[0m\u001b[0m\n\u001b[0;32m---> 12\u001b[0;31m \u001b[0mo\u001b[0m\u001b[0;34m.\u001b[0m\u001b[0moperations\u001b[0m\u001b[0;34m(\u001b[0m\u001b[0;34m)\u001b[0m\u001b[0;34m\u001b[0m\u001b[0;34m\u001b[0m\u001b[0m\n\u001b[0m",
      "\u001b[0;32m<ipython-input-28-7349ce214abc>\u001b[0m in \u001b[0;36moperations\u001b[0;34m(self)\u001b[0m\n\u001b[1;32m      7\u001b[0m \u001b[0;32mclass\u001b[0m \u001b[0mc\u001b[0m\u001b[0;34m:\u001b[0m\u001b[0;34m\u001b[0m\u001b[0;34m\u001b[0m\u001b[0m\n\u001b[1;32m      8\u001b[0m     \u001b[0;32mdef\u001b[0m \u001b[0moperations\u001b[0m\u001b[0;34m(\u001b[0m\u001b[0mself\u001b[0m\u001b[0;34m)\u001b[0m\u001b[0;34m:\u001b[0m\u001b[0;34m\u001b[0m\u001b[0;34m\u001b[0m\u001b[0m\n\u001b[0;32m----> 9\u001b[0;31m         \u001b[0mself\u001b[0m\u001b[0;34m.\u001b[0m\u001b[0mop1\u001b[0m\u001b[0;34m(\u001b[0m\u001b[0;34m)\u001b[0m\u001b[0;34m\u001b[0m\u001b[0;34m\u001b[0m\u001b[0m\n\u001b[0m\u001b[1;32m     10\u001b[0m         \u001b[0mself\u001b[0m\u001b[0;34m.\u001b[0m\u001b[0mop2\u001b[0m\u001b[0;34m(\u001b[0m\u001b[0;34m)\u001b[0m\u001b[0;34m\u001b[0m\u001b[0;34m\u001b[0m\u001b[0m\n\u001b[1;32m     11\u001b[0m \u001b[0mo\u001b[0m\u001b[0;34m=\u001b[0m\u001b[0mc\u001b[0m\u001b[0;34m(\u001b[0m\u001b[0;34m)\u001b[0m\u001b[0;34m\u001b[0m\u001b[0;34m\u001b[0m\u001b[0m\n",
      "\u001b[0;31mAttributeError\u001b[0m: 'c' object has no attribute 'op1'"
     ]
    }
   ],
   "source": [
    "class c1:\n",
    "    def op1(self):\n",
    "        print(\"this is op1 in c1\")\n",
    "class c2:\n",
    "    def op2(self):\n",
    "        print(\"this is op2 in c2\")\n",
    "class c:\n",
    "    def operations(self):\n",
    "        self.op1()\n",
    "        self.op2()\n",
    "o=c()\n",
    "o.operations()"
   ]
  },
  {
   "cell_type": "code",
   "execution_count": 29,
   "metadata": {},
   "outputs": [
    {
     "name": "stdout",
     "output_type": "stream",
     "text": [
      "this is op1 in c1\n"
     ]
    },
    {
     "ename": "AttributeError",
     "evalue": "'c' object has no attribute 'op2'",
     "output_type": "error",
     "traceback": [
      "\u001b[0;31m---------------------------------------------------------------------------\u001b[0m",
      "\u001b[0;31mAttributeError\u001b[0m                            Traceback (most recent call last)",
      "\u001b[0;32m<ipython-input-29-d8c5c73006a7>\u001b[0m in \u001b[0;36m<module>\u001b[0;34m\u001b[0m\n\u001b[1;32m     10\u001b[0m         \u001b[0mself\u001b[0m\u001b[0;34m.\u001b[0m\u001b[0mop2\u001b[0m\u001b[0;34m(\u001b[0m\u001b[0;34m)\u001b[0m\u001b[0;34m\u001b[0m\u001b[0;34m\u001b[0m\u001b[0m\n\u001b[1;32m     11\u001b[0m \u001b[0mo\u001b[0m\u001b[0;34m=\u001b[0m\u001b[0mc\u001b[0m\u001b[0;34m(\u001b[0m\u001b[0;34m)\u001b[0m\u001b[0;34m\u001b[0m\u001b[0;34m\u001b[0m\u001b[0m\n\u001b[0;32m---> 12\u001b[0;31m \u001b[0mo\u001b[0m\u001b[0;34m.\u001b[0m\u001b[0moperations\u001b[0m\u001b[0;34m(\u001b[0m\u001b[0;34m)\u001b[0m\u001b[0;34m\u001b[0m\u001b[0;34m\u001b[0m\u001b[0m\n\u001b[0m",
      "\u001b[0;32m<ipython-input-29-d8c5c73006a7>\u001b[0m in \u001b[0;36moperations\u001b[0;34m(self)\u001b[0m\n\u001b[1;32m      8\u001b[0m     \u001b[0;32mdef\u001b[0m \u001b[0moperations\u001b[0m\u001b[0;34m(\u001b[0m\u001b[0mself\u001b[0m\u001b[0;34m)\u001b[0m\u001b[0;34m:\u001b[0m\u001b[0;34m\u001b[0m\u001b[0;34m\u001b[0m\u001b[0m\n\u001b[1;32m      9\u001b[0m         \u001b[0mself\u001b[0m\u001b[0;34m.\u001b[0m\u001b[0mop1\u001b[0m\u001b[0;34m(\u001b[0m\u001b[0;34m)\u001b[0m\u001b[0;34m\u001b[0m\u001b[0;34m\u001b[0m\u001b[0m\n\u001b[0;32m---> 10\u001b[0;31m         \u001b[0mself\u001b[0m\u001b[0;34m.\u001b[0m\u001b[0mop2\u001b[0m\u001b[0;34m(\u001b[0m\u001b[0;34m)\u001b[0m\u001b[0;34m\u001b[0m\u001b[0;34m\u001b[0m\u001b[0m\n\u001b[0m\u001b[1;32m     11\u001b[0m \u001b[0mo\u001b[0m\u001b[0;34m=\u001b[0m\u001b[0mc\u001b[0m\u001b[0;34m(\u001b[0m\u001b[0;34m)\u001b[0m\u001b[0;34m\u001b[0m\u001b[0;34m\u001b[0m\u001b[0m\n\u001b[1;32m     12\u001b[0m \u001b[0mo\u001b[0m\u001b[0;34m.\u001b[0m\u001b[0moperations\u001b[0m\u001b[0;34m(\u001b[0m\u001b[0;34m)\u001b[0m\u001b[0;34m\u001b[0m\u001b[0;34m\u001b[0m\u001b[0m\n",
      "\u001b[0;31mAttributeError\u001b[0m: 'c' object has no attribute 'op2'"
     ]
    }
   ],
   "source": [
    "class c1:\n",
    "    def op1(self):\n",
    "        print(\"this is op1 in c1\")\n",
    "class c2:\n",
    "    def op2(self):\n",
    "        print(\"this is op2 in c2\")\n",
    "class c(c1):\n",
    "    def operations(self):\n",
    "        self.op1()\n",
    "        self.op2()\n",
    "o=c()\n",
    "o.operations()"
   ]
  },
  {
   "cell_type": "code",
   "execution_count": 30,
   "metadata": {},
   "outputs": [
    {
     "name": "stdout",
     "output_type": "stream",
     "text": [
      "this is op1 in c1\n",
      "this is op2 in c2\n"
     ]
    }
   ],
   "source": [
    "class c1:\n",
    "    def op1(self):\n",
    "        print(\"this is op1 in c1\")\n",
    "class c2:\n",
    "    def op2(self):\n",
    "        print(\"this is op2 in c2\")\n",
    "class c(c1,c2):\n",
    "    def operations(self):\n",
    "        self.op1()\n",
    "        self.op2()\n",
    "o=c()\n",
    "o.operations()"
   ]
  },
  {
   "cell_type": "code",
   "execution_count": 31,
   "metadata": {},
   "outputs": [
    {
     "name": "stdout",
     "output_type": "stream",
     "text": [
      "this is op1 in c1\n",
      "this is op2 in c1\n"
     ]
    }
   ],
   "source": [
    "class c1:\n",
    "    def op1(self):\n",
    "        print(\"this is op1 in c1\")\n",
    "    def op2(self):\n",
    "        print(\"this is op2 in c1\")\n",
    "class c2:\n",
    "    def op2(self):\n",
    "        print(\"this is op2 in c2\")\n",
    "class c(c1,c2):\n",
    "    def operations(self):\n",
    "        self.op1()\n",
    "        self.op2()\n",
    "o=c()\n",
    "o.operations()"
   ]
  },
  {
   "cell_type": "code",
   "execution_count": 33,
   "metadata": {},
   "outputs": [
    {
     "name": "stdout",
     "output_type": "stream",
     "text": [
      "this is op1 in c1\n",
      "this is op2 in c1\n",
      "(<class '__main__.c'>, <class '__main__.c1'>, <class '__main__.c2'>, <class 'object'>)\n"
     ]
    }
   ],
   "source": [
    "class c1:\n",
    "    def op1(self):\n",
    "        print(\"this is op1 in c1\")\n",
    "    def op2(self):\n",
    "        print(\"this is op2 in c1\")\n",
    "class c2:\n",
    "    def op2(self):\n",
    "        print(\"this is op2 in c2\")\n",
    "class c(c1,c2):\n",
    "    def operations(self):\n",
    "        self.op1()\n",
    "        self.op2()\n",
    "o=c()\n",
    "o.operations()\n",
    "print(c.__mro__)"
   ]
  },
  {
   "cell_type": "code",
   "execution_count": 34,
   "metadata": {},
   "outputs": [
    {
     "name": "stdout",
     "output_type": "stream",
     "text": [
      "this is op1 in c1\n",
      "this is op2 in c1\n"
     ]
    }
   ],
   "source": [
    "class c1:\n",
    "    def op1(self):\n",
    "        print(\"this is op1 in c1\")\n",
    "    def op2(self):\n",
    "        print(\"this is op2 in c1\")\n",
    "    def operations(self):\n",
    "        self.op1()\n",
    "        self.op2()\n",
    "o=c1()\n",
    "o.operations()\n"
   ]
  },
  {
   "cell_type": "code",
   "execution_count": 1,
   "metadata": {},
   "outputs": [],
   "source": [
    "# operator overloading, methos overloading, method overriding, encapsulation."
   ]
  },
  {
   "cell_type": "code",
   "execution_count": 2,
   "metadata": {},
   "outputs": [
    {
     "name": "stdout",
     "output_type": "stream",
     "text": [
      "30\n",
      "str1str2\n"
     ]
    }
   ],
   "source": [
    "a=10\n",
    "b=20\n",
    "print(a+b)\n",
    "a=\"str1\"\n",
    "b=\"str2\"\n",
    "print(a+b)"
   ]
  },
  {
   "cell_type": "code",
   "execution_count": 3,
   "metadata": {},
   "outputs": [
    {
     "name": "stdout",
     "output_type": "stream",
     "text": [
      "30\n",
      "str1str2\n",
      "[1, 2, 3, 4, 5, 6]\n"
     ]
    }
   ],
   "source": [
    "a=10\n",
    "b=20\n",
    "print(a+b)\n",
    "a=\"str1\"\n",
    "b=\"str2\"\n",
    "print(a+b)\n",
    "a=1+2j\n",
    "l1=[1,2,3]\n",
    "l2=[4,5,6]\n",
    "print(l1+l2)"
   ]
  },
  {
   "cell_type": "code",
   "execution_count": 4,
   "metadata": {},
   "outputs": [
    {
     "data": {
      "text/plain": [
       "22.34"
      ]
     },
     "execution_count": 4,
     "metadata": {},
     "output_type": "execute_result"
    }
   ],
   "source": [
    "a=10\n",
    "b=12.34\n",
    "a+b"
   ]
  },
  {
   "cell_type": "code",
   "execution_count": 5,
   "metadata": {},
   "outputs": [
    {
     "data": {
      "text/plain": [
       "30"
      ]
     },
     "execution_count": 5,
     "metadata": {},
     "output_type": "execute_result"
    }
   ],
   "source": [
    "10+20"
   ]
  },
  {
   "cell_type": "code",
   "execution_count": 6,
   "metadata": {},
   "outputs": [
    {
     "data": {
      "text/plain": [
       "46.900000000000006"
      ]
     },
     "execution_count": 6,
     "metadata": {},
     "output_type": "execute_result"
    }
   ],
   "source": [
    "12.34+34.56"
   ]
  },
  {
   "cell_type": "code",
   "execution_count": 7,
   "metadata": {},
   "outputs": [
    {
     "data": {
      "text/plain": [
       "33.45"
      ]
     },
     "execution_count": 7,
     "metadata": {},
     "output_type": "execute_result"
    }
   ],
   "source": [
    "10+23.45"
   ]
  },
  {
   "cell_type": "code",
   "execution_count": 8,
   "metadata": {},
   "outputs": [],
   "source": [
    "a=10 #int"
   ]
  },
  {
   "cell_type": "code",
   "execution_count": 10,
   "metadata": {},
   "outputs": [
    {
     "name": "stdout",
     "output_type": "stream",
     "text": [
      "300\n"
     ]
    }
   ],
   "source": [
    "#v2.1 # released v2.3(update and delete)\n",
    "class Supplier:\n",
    "\t#*args, **kwargs\n",
    "\tdef __init__(self,name,address,phone=None,email=None,pan=None):\n",
    "\t\t#method overloading\n",
    "\t\tself.name=name\n",
    "\t\tself.address=address\n",
    "\t\tself.phone=phone\n",
    "\t\tself.email=email\n",
    "\t\tself.pan=pan\n",
    "s=Supplier(\"sup1\",\"ad1\")\n",
    "s2=Supplier(\"sup2\",\"ad2\",pan=\"sfsd\")\n",
    "a=100\n",
    "b=200\n",
    "print(a+b)"
   ]
  },
  {
   "cell_type": "code",
   "execution_count": null,
   "metadata": {},
   "outputs": [],
   "source": [
    "#v2.1 # released v2.3(update and delete)\n",
    "class Supplier:\n",
    "\t#*args, **kwargs\n",
    "\tdef __init__(self,name,address,phone=None,email=None,pan=None):\n",
    "\t\t#method overloading\n",
    "\t\tself.name=name\n",
    "\t\tself.address=address\n",
    "\t\tself.phone=phone\n",
    "\t\tself.email=email\n",
    "\t\tself.pan=pan\n",
    "s=Supplier(\"sup1\",\"ad1\")\n",
    "s2=Supplier(\"sup2\",\"ad2\",pan=\"sfsd\")\n",
    "a=100\n",
    "b=200\n",
    "print(a+b)\n",
    "print(s+s2)"
   ]
  },
  {
   "cell_type": "code",
   "execution_count": 11,
   "metadata": {},
   "outputs": [
    {
     "ename": "TypeError",
     "evalue": "unsupported operand type(s) for +: 'NoneType' and 'NoneType'",
     "output_type": "error",
     "traceback": [
      "\u001b[0;31m---------------------------------------------------------------------------\u001b[0m",
      "\u001b[0;31mTypeError\u001b[0m                                 Traceback (most recent call last)",
      "\u001b[0;32m<ipython-input-11-77afd098f06c>\u001b[0m in \u001b[0;36m<module>\u001b[0;34m\u001b[0m\n\u001b[1;32m      1\u001b[0m \u001b[0ma\u001b[0m\u001b[0;34m=\u001b[0m\u001b[0;32mNone\u001b[0m\u001b[0;34m\u001b[0m\u001b[0;34m\u001b[0m\u001b[0m\n\u001b[1;32m      2\u001b[0m \u001b[0mb\u001b[0m\u001b[0;34m=\u001b[0m\u001b[0;32mNone\u001b[0m\u001b[0;34m\u001b[0m\u001b[0;34m\u001b[0m\u001b[0m\n\u001b[0;32m----> 3\u001b[0;31m \u001b[0ma\u001b[0m\u001b[0;34m+\u001b[0m\u001b[0mb\u001b[0m\u001b[0;34m\u001b[0m\u001b[0;34m\u001b[0m\u001b[0m\n\u001b[0m",
      "\u001b[0;31mTypeError\u001b[0m: unsupported operand type(s) for +: 'NoneType' and 'NoneType'"
     ]
    }
   ],
   "source": [
    "a=None\n",
    "b=None\n",
    "a+b"
   ]
  },
  {
   "cell_type": "code",
   "execution_count": 12,
   "metadata": {},
   "outputs": [
    {
     "name": "stdout",
     "output_type": "stream",
     "text": [
      "300\n"
     ]
    },
    {
     "ename": "TypeError",
     "evalue": "unsupported operand type(s) for +: 'Supplier' and 'Supplier'",
     "output_type": "error",
     "traceback": [
      "\u001b[0;31m---------------------------------------------------------------------------\u001b[0m",
      "\u001b[0;31mTypeError\u001b[0m                                 Traceback (most recent call last)",
      "\u001b[0;32m<ipython-input-12-01442515549a>\u001b[0m in \u001b[0;36m<module>\u001b[0;34m\u001b[0m\n\u001b[1;32m     14\u001b[0m \u001b[0mb\u001b[0m\u001b[0;34m=\u001b[0m\u001b[0;36m200\u001b[0m\u001b[0;34m\u001b[0m\u001b[0;34m\u001b[0m\u001b[0m\n\u001b[1;32m     15\u001b[0m \u001b[0mprint\u001b[0m\u001b[0;34m(\u001b[0m\u001b[0ma\u001b[0m\u001b[0;34m+\u001b[0m\u001b[0mb\u001b[0m\u001b[0;34m)\u001b[0m\u001b[0;34m\u001b[0m\u001b[0;34m\u001b[0m\u001b[0m\n\u001b[0;32m---> 16\u001b[0;31m \u001b[0mprint\u001b[0m\u001b[0;34m(\u001b[0m\u001b[0ms\u001b[0m\u001b[0;34m+\u001b[0m\u001b[0ms2\u001b[0m\u001b[0;34m)\u001b[0m\u001b[0;34m\u001b[0m\u001b[0;34m\u001b[0m\u001b[0m\n\u001b[0m",
      "\u001b[0;31mTypeError\u001b[0m: unsupported operand type(s) for +: 'Supplier' and 'Supplier'"
     ]
    }
   ],
   "source": [
    "#v2.1 # released v2.3(update and delete)\n",
    "class Supplier:\n",
    "\t#*args, **kwargs\n",
    "\tdef __init__(self,name,address,phone=None,email=None,pan=None):\n",
    "\t\t#method overloading\n",
    "\t\tself.name=name\n",
    "\t\tself.address=address\n",
    "\t\tself.phone=phone\n",
    "\t\tself.email=email\n",
    "\t\tself.pan=pan\n",
    "s=Supplier(\"sup1\",\"ad1\")\n",
    "s2=Supplier(\"sup2\",\"ad2\",pan=\"sfsd\")\n",
    "a=100\n",
    "b=200\n",
    "print(a+b)\n",
    "print(s+s2)"
   ]
  },
  {
   "cell_type": "code",
   "execution_count": 15,
   "metadata": {},
   "outputs": [
    {
     "name": "stdout",
     "output_type": "stream",
     "text": [
      "300\n",
      "HELLO\n"
     ]
    }
   ],
   "source": [
    "#v2.1 # released v2.3(update and delete)\n",
    "class Supplier:\n",
    "    #*args, **kwargs\n",
    "    def __init__(self,name,address,phone=None,email=None,pan=None):\n",
    "        #method overloading\n",
    "        self.name=name\n",
    "        self.address=address\n",
    "        self.phone=phone\n",
    "        self.email=email\n",
    "        self.pan=pan\n",
    "    def __add__(self1,self2):\n",
    "        return \"HELLO\"\n",
    "s=Supplier(\"sup1\",\"ad1\")\n",
    "s2=Supplier(\"sup2\",\"ad2\",pan=\"sfsd\")\n",
    "a=100\n",
    "b=200\n",
    "print(a+b)\n",
    "print(s+s2)"
   ]
  },
  {
   "cell_type": "code",
   "execution_count": 17,
   "metadata": {},
   "outputs": [
    {
     "name": "stdout",
     "output_type": "stream",
     "text": [
      "300\n",
      "sup1,sup2\n",
      "sup1-sup2\n"
     ]
    }
   ],
   "source": [
    "#v2.1 # released v2.3(update and delete)\n",
    "class Supplier:\n",
    "    #*args, **kwargs\n",
    "    def __init__(self,name,address,phone=None,email=None,pan=None):\n",
    "        #method overloading\n",
    "        self.name=name\n",
    "        self.address=address\n",
    "        self.phone=phone\n",
    "        self.email=email\n",
    "        self.pan=pan\n",
    "    def __add__(self1,self2):\n",
    "        return self1.name+\",\"+self2.name\n",
    "    def __sub__(self1,self2):\n",
    "        return \"-\".join([self1.name,self2.name])\n",
    "        \n",
    "s=Supplier(\"sup1\",\"ad1\")\n",
    "s2=Supplier(\"sup2\",\"ad2\",pan=\"sfsd\")\n",
    "a=100\n",
    "b=200\n",
    "print(a+b)\n",
    "print(s+s2)\n",
    "print(s-s2)"
   ]
  },
  {
   "cell_type": "code",
   "execution_count": 18,
   "metadata": {},
   "outputs": [
    {
     "name": "stdout",
     "output_type": "stream",
     "text": [
      "300\n",
      "sup1,sup2\n",
      "sup1-sup2\n",
      "30\n"
     ]
    }
   ],
   "source": [
    "#v2.1 # released v2.3(update and delete)\n",
    "#operator overloading\n",
    "class Supplier:\n",
    "    #*args, **kwargs\n",
    "    def __init__(self,name,address,phone=None,email=None,pan=None):\n",
    "        #method overloading\n",
    "        self.name=name\n",
    "        self.address=address\n",
    "        self.phone=phone\n",
    "        self.email=email\n",
    "        self.pan=pan\n",
    "    def __add__(self1,self2):\n",
    "        return self1.name+\",\"+self2.name\n",
    "    def __sub__(self1,self2):\n",
    "        return \"-\".join([self1.name,self2.name])\n",
    "    def __len__(self):\n",
    "        return 30\n",
    "        \n",
    "s=Supplier(\"sup1\",\"ad1\")\n",
    "s2=Supplier(\"sup2\",\"ad2\",pan=\"sfsd\")\n",
    "a=100\n",
    "b=200\n",
    "print(a+b)\n",
    "print(s+s2)\n",
    "print(s-s2)\n",
    "print(len(s))"
   ]
  },
  {
   "cell_type": "code",
   "execution_count": 19,
   "metadata": {},
   "outputs": [
    {
     "name": "stdout",
     "output_type": "stream",
     "text": [
      "300\n"
     ]
    }
   ],
   "source": [
    "#Product class with name,cost and implement +,-,*,/,len\n",
    "class Product:\n",
    "    def __init__(self,name,cost):\n",
    "        self.name=name\n",
    "        self.cost=cost\n",
    "    def __add__(self1,self2):\n",
    "        return self1.cost+self2.cost\n",
    "p1=Product(\"p1\",100)\n",
    "p2=Product(\"p2\",200)\n",
    "print(p1+p2)"
   ]
  },
  {
   "cell_type": "code",
   "execution_count": 20,
   "metadata": {},
   "outputs": [
    {
     "name": "stdout",
     "output_type": "stream",
     "text": [
      "300\n"
     ]
    },
    {
     "ename": "TypeError",
     "evalue": "'Product' object is not iterable",
     "output_type": "error",
     "traceback": [
      "\u001b[0;31m---------------------------------------------------------------------------\u001b[0m",
      "\u001b[0;31mTypeError\u001b[0m                                 Traceback (most recent call last)",
      "\u001b[0;32m<ipython-input-20-2fb62f7c5632>\u001b[0m in \u001b[0;36m<module>\u001b[0;34m\u001b[0m\n\u001b[1;32m      9\u001b[0m \u001b[0mp2\u001b[0m\u001b[0;34m=\u001b[0m\u001b[0mProduct\u001b[0m\u001b[0;34m(\u001b[0m\u001b[0;34m\"p2\"\u001b[0m\u001b[0;34m,\u001b[0m\u001b[0;36m200\u001b[0m\u001b[0;34m)\u001b[0m\u001b[0;34m\u001b[0m\u001b[0;34m\u001b[0m\u001b[0m\n\u001b[1;32m     10\u001b[0m \u001b[0mprint\u001b[0m\u001b[0;34m(\u001b[0m\u001b[0mp1\u001b[0m\u001b[0;34m+\u001b[0m\u001b[0mp2\u001b[0m\u001b[0;34m)\u001b[0m\u001b[0;34m\u001b[0m\u001b[0;34m\u001b[0m\u001b[0m\n\u001b[0;32m---> 11\u001b[0;31m \u001b[0;32mfor\u001b[0m \u001b[0mi\u001b[0m \u001b[0;32min\u001b[0m \u001b[0mp1\u001b[0m\u001b[0;34m:\u001b[0m\u001b[0;34m\u001b[0m\u001b[0;34m\u001b[0m\u001b[0m\n\u001b[0m\u001b[1;32m     12\u001b[0m     \u001b[0mprint\u001b[0m\u001b[0;34m(\u001b[0m\u001b[0mi\u001b[0m\u001b[0;34m)\u001b[0m\u001b[0;34m\u001b[0m\u001b[0;34m\u001b[0m\u001b[0m\n",
      "\u001b[0;31mTypeError\u001b[0m: 'Product' object is not iterable"
     ]
    }
   ],
   "source": [
    "#Product class with name,cost and implement +,-,*,/,len\n",
    "class Product:\n",
    "    def __init__(self,name,cost):\n",
    "        self.name=name\n",
    "        self.cost=cost\n",
    "    def __add__(self1,self2):\n",
    "        return self1.cost+self2.cost\n",
    "p1=Product(\"p1\",100)\n",
    "p2=Product(\"p2\",200)\n",
    "print(p1+p2)\n",
    "for i in p1:\n",
    "    print(i)"
   ]
  },
  {
   "cell_type": "code",
   "execution_count": 21,
   "metadata": {},
   "outputs": [
    {
     "ename": "TypeError",
     "evalue": "'int' object is not iterable",
     "output_type": "error",
     "traceback": [
      "\u001b[0;31m---------------------------------------------------------------------------\u001b[0m",
      "\u001b[0;31mTypeError\u001b[0m                                 Traceback (most recent call last)",
      "\u001b[0;32m<ipython-input-21-665a8c31cf25>\u001b[0m in \u001b[0;36m<module>\u001b[0;34m\u001b[0m\n\u001b[0;32m----> 1\u001b[0;31m \u001b[0;32mfor\u001b[0m \u001b[0mi\u001b[0m \u001b[0;32min\u001b[0m \u001b[0;36m10\u001b[0m\u001b[0;34m:\u001b[0m\u001b[0;34m\u001b[0m\u001b[0;34m\u001b[0m\u001b[0m\n\u001b[0m\u001b[1;32m      2\u001b[0m     \u001b[0mprint\u001b[0m\u001b[0;34m(\u001b[0m\u001b[0mi\u001b[0m\u001b[0;34m)\u001b[0m\u001b[0;34m\u001b[0m\u001b[0;34m\u001b[0m\u001b[0m\n",
      "\u001b[0;31mTypeError\u001b[0m: 'int' object is not iterable"
     ]
    }
   ],
   "source": [
    "for i in 10:\n",
    "    print(i)"
   ]
  },
  {
   "cell_type": "code",
   "execution_count": 22,
   "metadata": {},
   "outputs": [
    {
     "name": "stdout",
     "output_type": "stream",
     "text": [
      "p\n",
      "y\n",
      "t\n",
      "h\n",
      "o\n",
      "n\n"
     ]
    }
   ],
   "source": [
    "for i in \"python\":\n",
    "    print(i)"
   ]
  },
  {
   "cell_type": "code",
   "execution_count": 23,
   "metadata": {},
   "outputs": [
    {
     "name": "stdout",
     "output_type": "stream",
     "text": [
      "300\n",
      "10\n",
      "20\n",
      "30\n",
      "40\n"
     ]
    }
   ],
   "source": [
    "#Product class with name,cost and implement +,-,*,/,len\n",
    "class Product:\n",
    "    def __init__(self,name,cost):\n",
    "        self.name=name\n",
    "        self.cost=cost\n",
    "    def __add__(self1,self2):\n",
    "        return self1.cost+self2.cost\n",
    "    def __iter__(self):\n",
    "        yield 10\n",
    "        yield 20\n",
    "        yield 30\n",
    "        yield 40\n",
    "p1=Product(\"p1\",100)\n",
    "p2=Product(\"p2\",200)\n",
    "print(p1+p2)\n",
    "for i in p1:\n",
    "    print(i)"
   ]
  },
  {
   "cell_type": "code",
   "execution_count": 24,
   "metadata": {},
   "outputs": [
    {
     "name": "stdout",
     "output_type": "stream",
     "text": [
      "300\n",
      "('name', 'p1')\n",
      "('cost', 100)\n"
     ]
    }
   ],
   "source": [
    "#Product class with name,cost and implement +,-,*,/,len\n",
    "class Product:\n",
    "    def __init__(self,name,cost):\n",
    "        self.name=name\n",
    "        self.cost=cost\n",
    "    #making product data object iterable\n",
    "    def __add__(self1,self2):\n",
    "        return self1.cost+self2.cost\n",
    "    def __iter__(self):\n",
    "        for i in self.__dict__.items():\n",
    "            yield i\n",
    "p1=Product(\"p1\",100)\n",
    "p2=Product(\"p2\",200)\n",
    "print(p1+p2)\n",
    "for i in p1:\n",
    "    print(i)"
   ]
  },
  {
   "cell_type": "code",
   "execution_count": 25,
   "metadata": {},
   "outputs": [
    {
     "name": "stdout",
     "output_type": "stream",
     "text": [
      "this is init in c1\n"
     ]
    }
   ],
   "source": [
    "class c1:\n",
    "    def __init__(self):\n",
    "        print(\"this is init in c1\")\n",
    "class c2(c1):\n",
    "    pass\n",
    "o2=c2()"
   ]
  },
  {
   "cell_type": "code",
   "execution_count": 26,
   "metadata": {},
   "outputs": [
    {
     "name": "stdout",
     "output_type": "stream",
     "text": [
      "this is init in c2\n"
     ]
    }
   ],
   "source": [
    "class c1:\n",
    "    def __init__(self):\n",
    "        print(\"this is init in c1\")\n",
    "class c2(c1):\n",
    "    def __init__(self):\n",
    "        print(\"this is init in c2\")\n",
    "o2=c2()"
   ]
  },
  {
   "cell_type": "code",
   "execution_count": 27,
   "metadata": {},
   "outputs": [
    {
     "ename": "TypeError",
     "evalue": "__init__() missing 1 required positional argument: 'y'",
     "output_type": "error",
     "traceback": [
      "\u001b[0;31m---------------------------------------------------------------------------\u001b[0m",
      "\u001b[0;31mTypeError\u001b[0m                                 Traceback (most recent call last)",
      "\u001b[0;32m<ipython-input-27-4411a062a70b>\u001b[0m in \u001b[0;36m<module>\u001b[0;34m\u001b[0m\n\u001b[1;32m      9\u001b[0m     \u001b[0;32mdef\u001b[0m \u001b[0mget\u001b[0m\u001b[0;34m(\u001b[0m\u001b[0mself\u001b[0m\u001b[0;34m)\u001b[0m\u001b[0;34m:\u001b[0m\u001b[0;34m\u001b[0m\u001b[0;34m\u001b[0m\u001b[0m\n\u001b[1;32m     10\u001b[0m         \u001b[0;32mreturn\u001b[0m \u001b[0mself\u001b[0m\u001b[0;34m.\u001b[0m\u001b[0my\u001b[0m\u001b[0;34m,\u001b[0m\u001b[0mself\u001b[0m\u001b[0;34m.\u001b[0m\u001b[0mx\u001b[0m\u001b[0;34m\u001b[0m\u001b[0;34m\u001b[0m\u001b[0m\n\u001b[0;32m---> 11\u001b[0;31m \u001b[0mo2\u001b[0m\u001b[0;34m=\u001b[0m\u001b[0mc2\u001b[0m\u001b[0;34m(\u001b[0m\u001b[0;34m)\u001b[0m\u001b[0;34m\u001b[0m\u001b[0;34m\u001b[0m\u001b[0m\n\u001b[0m",
      "\u001b[0;31mTypeError\u001b[0m: __init__() missing 1 required positional argument: 'y'"
     ]
    }
   ],
   "source": [
    "class c1:\n",
    "    def __init__(self,x):\n",
    "        print(\"this is init in c1\")\n",
    "        self.x=x\n",
    "class c2(c1):\n",
    "    def __init__(self,y):\n",
    "        print(\"this is init in c2\")\n",
    "        self.y=y\n",
    "    def get(self):\n",
    "        return self.y,self.x\n",
    "o2=c2()"
   ]
  },
  {
   "cell_type": "code",
   "execution_count": 28,
   "metadata": {},
   "outputs": [
    {
     "name": "stdout",
     "output_type": "stream",
     "text": [
      "this is init in c2\n"
     ]
    }
   ],
   "source": [
    "class c1:\n",
    "    def __init__(self,x):\n",
    "        print(\"this is init in c1\")\n",
    "        self.x=x\n",
    "class c2(c1):\n",
    "    def __init__(self,y):\n",
    "        print(\"this is init in c2\")\n",
    "        self.y=y\n",
    "    def get(self):\n",
    "        return self.y,self.x\n",
    "o2=c2(10)"
   ]
  },
  {
   "cell_type": "code",
   "execution_count": 29,
   "metadata": {},
   "outputs": [
    {
     "name": "stdout",
     "output_type": "stream",
     "text": [
      "this is init in c2\n",
      "this is get\n"
     ]
    },
    {
     "ename": "AttributeError",
     "evalue": "'c2' object has no attribute 'x'",
     "output_type": "error",
     "traceback": [
      "\u001b[0;31m---------------------------------------------------------------------------\u001b[0m",
      "\u001b[0;31mAttributeError\u001b[0m                            Traceback (most recent call last)",
      "\u001b[0;32m<ipython-input-29-4bf3cb50b9f4>\u001b[0m in \u001b[0;36m<module>\u001b[0;34m\u001b[0m\n\u001b[1;32m     11\u001b[0m         \u001b[0;32mreturn\u001b[0m \u001b[0mself\u001b[0m\u001b[0;34m.\u001b[0m\u001b[0my\u001b[0m\u001b[0;34m,\u001b[0m\u001b[0mself\u001b[0m\u001b[0;34m.\u001b[0m\u001b[0mx\u001b[0m\u001b[0;34m\u001b[0m\u001b[0;34m\u001b[0m\u001b[0m\n\u001b[1;32m     12\u001b[0m \u001b[0mo2\u001b[0m\u001b[0;34m=\u001b[0m\u001b[0mc2\u001b[0m\u001b[0;34m(\u001b[0m\u001b[0;36m10\u001b[0m\u001b[0;34m)\u001b[0m\u001b[0;34m\u001b[0m\u001b[0;34m\u001b[0m\u001b[0m\n\u001b[0;32m---> 13\u001b[0;31m \u001b[0mprint\u001b[0m\u001b[0;34m(\u001b[0m\u001b[0mo2\u001b[0m\u001b[0;34m.\u001b[0m\u001b[0mget\u001b[0m\u001b[0;34m(\u001b[0m\u001b[0;34m)\u001b[0m\u001b[0;34m)\u001b[0m\u001b[0;34m\u001b[0m\u001b[0;34m\u001b[0m\u001b[0m\n\u001b[0m",
      "\u001b[0;32m<ipython-input-29-4bf3cb50b9f4>\u001b[0m in \u001b[0;36mget\u001b[0;34m(self)\u001b[0m\n\u001b[1;32m      9\u001b[0m     \u001b[0;32mdef\u001b[0m \u001b[0mget\u001b[0m\u001b[0;34m(\u001b[0m\u001b[0mself\u001b[0m\u001b[0;34m)\u001b[0m\u001b[0;34m:\u001b[0m\u001b[0;34m\u001b[0m\u001b[0;34m\u001b[0m\u001b[0m\n\u001b[1;32m     10\u001b[0m         \u001b[0mprint\u001b[0m\u001b[0;34m(\u001b[0m\u001b[0;34m\"this is get\"\u001b[0m\u001b[0;34m)\u001b[0m\u001b[0;34m\u001b[0m\u001b[0;34m\u001b[0m\u001b[0m\n\u001b[0;32m---> 11\u001b[0;31m         \u001b[0;32mreturn\u001b[0m \u001b[0mself\u001b[0m\u001b[0;34m.\u001b[0m\u001b[0my\u001b[0m\u001b[0;34m,\u001b[0m\u001b[0mself\u001b[0m\u001b[0;34m.\u001b[0m\u001b[0mx\u001b[0m\u001b[0;34m\u001b[0m\u001b[0;34m\u001b[0m\u001b[0m\n\u001b[0m\u001b[1;32m     12\u001b[0m \u001b[0mo2\u001b[0m\u001b[0;34m=\u001b[0m\u001b[0mc2\u001b[0m\u001b[0;34m(\u001b[0m\u001b[0;36m10\u001b[0m\u001b[0;34m)\u001b[0m\u001b[0;34m\u001b[0m\u001b[0;34m\u001b[0m\u001b[0m\n\u001b[1;32m     13\u001b[0m \u001b[0mprint\u001b[0m\u001b[0;34m(\u001b[0m\u001b[0mo2\u001b[0m\u001b[0;34m.\u001b[0m\u001b[0mget\u001b[0m\u001b[0;34m(\u001b[0m\u001b[0;34m)\u001b[0m\u001b[0;34m)\u001b[0m\u001b[0;34m\u001b[0m\u001b[0;34m\u001b[0m\u001b[0m\n",
      "\u001b[0;31mAttributeError\u001b[0m: 'c2' object has no attribute 'x'"
     ]
    }
   ],
   "source": [
    "class c1:\n",
    "    def __init__(self,x):\n",
    "        print(\"this is init in c1\")\n",
    "        self.x=x\n",
    "class c2(c1):\n",
    "    def __init__(self,y):\n",
    "        print(\"this is init in c2\")\n",
    "        self.y=y\n",
    "    def get(self):\n",
    "        print(\"this is get\")\n",
    "        return self.y,self.x\n",
    "o2=c2(10)\n",
    "print(o2.get())"
   ]
  },
  {
   "cell_type": "code",
   "execution_count": null,
   "metadata": {},
   "outputs": [],
   "source": [
    "class c1:\n",
    "    def __init__(self,x):\n",
    "        print(\"this is init in c1\")\n",
    "        self.x=x\n",
    "class c2(c1):\n",
    "    def __init__(self,y):\n",
    "        print(\"this is init in c2\")\n",
    "        self.y=y\n",
    "        self.__init__(y+10)\n",
    "    def get(self):\n",
    "        print(\"this is get\")\n",
    "        return self.y,self.x\n",
    "o2=c2(10)\n",
    "print(o2.get())"
   ]
  },
  {
   "cell_type": "code",
   "execution_count": 30,
   "metadata": {},
   "outputs": [
    {
     "name": "stdout",
     "output_type": "stream",
     "text": [
      "this is init in c2\n",
      "this is init in c1\n",
      "this is get\n",
      "(10, 20)\n"
     ]
    }
   ],
   "source": [
    "class c1:\n",
    "    def __init__(self,x):\n",
    "        print(\"this is init in c1\")\n",
    "        self.x=x\n",
    "class c2(c1):\n",
    "    def __init__(self,y):\n",
    "        print(\"this is init in c2\")\n",
    "        self.y=y\n",
    "        c1.__init__(self,y+10)\n",
    "    def get(self):\n",
    "        print(\"this is get\")\n",
    "        return self.y,self.x\n",
    "o2=c2(10)\n",
    "print(o2.get())"
   ]
  },
  {
   "cell_type": "code",
   "execution_count": 31,
   "metadata": {},
   "outputs": [
    {
     "name": "stdout",
     "output_type": "stream",
     "text": [
      "this is init in c2\n",
      "this is init in c1\n",
      "this is get\n",
      "(20, 10)\n"
     ]
    }
   ],
   "source": [
    "class c1:\n",
    "    def __init__(self,x):\n",
    "        print(\"this is init in c1\")\n",
    "        self.x=x\n",
    "        \n",
    "class c2(c1):\n",
    "    def __init__(self,x,y):\n",
    "        print(\"this is init in c2\")\n",
    "        self.y=y\n",
    "        c1.__init__(self,x)\n",
    "    def get(self):\n",
    "        print(\"this is get\")\n",
    "        return self.y,self.x\n",
    "o2=c2(10,20)\n",
    "print(o2.get())"
   ]
  },
  {
   "cell_type": "code",
   "execution_count": 32,
   "metadata": {},
   "outputs": [
    {
     "name": "stdout",
     "output_type": "stream",
     "text": [
      "('Jayaram', 3098756, 10)\n"
     ]
    }
   ],
   "source": [
    "class Emp:\n",
    "    def __init__(self,name,sal,incp):\n",
    "        self.name=name\n",
    "        self.sal=sal\n",
    "        self.incp=incp\n",
    "    def get(self):\n",
    "        return self.name,self.sal,self.incp\n",
    "jay=Emp(\"Jayaram\",3098756,10)\n",
    "print(jay.get())"
   ]
  },
  {
   "cell_type": "code",
   "execution_count": 33,
   "metadata": {},
   "outputs": [
    {
     "name": "stdout",
     "output_type": "stream",
     "text": [
      "('Jayaram', 3098756, 100)\n"
     ]
    }
   ],
   "source": [
    "class Emp:\n",
    "    def __init__(self,name,sal,incp):\n",
    "        self.name=name\n",
    "        self.sal=sal\n",
    "        self.incp=incp\n",
    "    def get(self):\n",
    "        return self.name,self.sal,self.incp\n",
    "jay=Emp(\"Jayaram\",3098756,10)\n",
    "jay.incp=100\n",
    "print(jay.get())"
   ]
  },
  {
   "cell_type": "code",
   "execution_count": 36,
   "metadata": {},
   "outputs": [
    {
     "name": "stdout",
     "output_type": "stream",
     "text": [
      "100\n",
      "6197512.0\n"
     ]
    }
   ],
   "source": [
    "class Emp:\n",
    "    def __init__(self,name,sal,incp):\n",
    "        self.name=name\n",
    "        self.sal=sal\n",
    "        self.incp=incp\n",
    "    def get(self):\n",
    "        return self.name,self.sal,self.incp\n",
    "    def sal_cal(self):\n",
    "        print(self.incp)\n",
    "        return self.sal+self.sal*(self.incp/100.0)\n",
    "jay=Emp(\"Jayaram\",3098756,10)\n",
    "jay.incp=100\n",
    "print(jay.sal_cal())"
   ]
  },
  {
   "cell_type": "code",
   "execution_count": 38,
   "metadata": {},
   "outputs": [
    {
     "name": "stdout",
     "output_type": "stream",
     "text": [
      "10\n",
      "3408631.6\n"
     ]
    }
   ],
   "source": [
    "class Emp:\n",
    "    def __init__(self,name,sal,incp):\n",
    "        self.name=name\n",
    "        self.sal=sal\n",
    "        self.__incp=incp # secured attribute\n",
    "    def get(self):\n",
    "        return self.name,self.sal,self.__incp\n",
    "    def sal_cal(self):\n",
    "        print(self.__incp)\n",
    "        return self.sal+self.sal*(self.__incp/100.0)\n",
    "jay=Emp(\"Jayaram\",3098756,10)\n",
    "jay.__incp=100\n",
    "print(jay.sal_cal())"
   ]
  },
  {
   "cell_type": "code",
   "execution_count": 39,
   "metadata": {},
   "outputs": [
    {
     "name": "stdout",
     "output_type": "stream",
     "text": [
      "100\n",
      "6197512.0\n"
     ]
    }
   ],
   "source": [
    "class Emp:\n",
    "    def __init__(self,name,sal,incp):\n",
    "        self.name=name\n",
    "        self.sal=sal\n",
    "        self.__incp=incp # secured attribute\n",
    "    def get(self):\n",
    "        return self.name,self.sal,self.__incp\n",
    "    def update_incp(self,new_incp):\n",
    "        self.__incp=new_incp\n",
    "    def sal_cal(self):\n",
    "        print(self.__incp)\n",
    "        return self.sal+self.sal*(self.__incp/100.0)\n",
    "jay=Emp(\"Jayaram\",3098756,10)\n",
    "jay.update_incp(100)\n",
    "print(jay.sal_cal())"
   ]
  },
  {
   "cell_type": "code",
   "execution_count": 41,
   "metadata": {},
   "outputs": [
    {
     "name": "stdout",
     "output_type": "stream",
     "text": [
      "100\n",
      "6197512.0\n"
     ]
    }
   ],
   "source": [
    "#encapsulation\n",
    "class Emp:\n",
    "    def __init__(self,name,sal,incp):\n",
    "        self.name=name\n",
    "        self.sal=sal\n",
    "        self.__incp=incp # secured attribute\n",
    "    def get(self):\n",
    "        return self.name,self.sal,self.__incp\n",
    "    def change_incp(self,new_incp):\n",
    "        # code for authorization\n",
    "        self.__update_incp(new_incp)\n",
    "    def __update_incp(self,new_incp): # secured moethod\n",
    "        self.__incp=new_incp\n",
    "    def sal_cal(self):\n",
    "        print(self.__incp)\n",
    "        return self.sal+self.sal*(self.__incp/100.0)\n",
    "jay=Emp(\"Jayaram\",3098756,10)\n",
    "jay.change_incp(100)\n",
    "print(jay.sal_cal())"
   ]
  },
  {
   "cell_type": "code",
   "execution_count": 42,
   "metadata": {},
   "outputs": [
    {
     "name": "stdout",
     "output_type": "stream",
     "text": [
      "['__abs__', '__add__', '__and__', '__bool__', '__ceil__', '__class__', '__delattr__', '__dir__', '__divmod__', '__doc__', '__eq__', '__float__', '__floor__', '__floordiv__', '__format__', '__ge__', '__getattribute__', '__getnewargs__', '__gt__', '__hash__', '__index__', '__init__', '__init_subclass__', '__int__', '__invert__', '__le__', '__lshift__', '__lt__', '__mod__', '__mul__', '__ne__', '__neg__', '__new__', '__or__', '__pos__', '__pow__', '__radd__', '__rand__', '__rdivmod__', '__reduce__', '__reduce_ex__', '__repr__', '__rfloordiv__', '__rlshift__', '__rmod__', '__rmul__', '__ror__', '__round__', '__rpow__', '__rrshift__', '__rshift__', '__rsub__', '__rtruediv__', '__rxor__', '__setattr__', '__sizeof__', '__str__', '__sub__', '__subclasshook__', '__truediv__', '__trunc__', '__xor__', 'bit_length', 'conjugate', 'denominator', 'from_bytes', 'imag', 'numerator', 'real', 'to_bytes']\n"
     ]
    }
   ],
   "source": [
    "a=10\n",
    "print(dir(a))"
   ]
  },
  {
   "cell_type": "code",
   "execution_count": 43,
   "metadata": {},
   "outputs": [
    {
     "name": "stdout",
     "output_type": "stream",
     "text": [
      "['__add__', '__class__', '__contains__', '__delattr__', '__dir__', '__doc__', '__eq__', '__format__', '__ge__', '__getattribute__', '__getitem__', '__getnewargs__', '__gt__', '__hash__', '__init__', '__init_subclass__', '__iter__', '__le__', '__len__', '__lt__', '__mod__', '__mul__', '__ne__', '__new__', '__reduce__', '__reduce_ex__', '__repr__', '__rmod__', '__rmul__', '__setattr__', '__sizeof__', '__str__', '__subclasshook__', 'capitalize', 'casefold', 'center', 'count', 'encode', 'endswith', 'expandtabs', 'find', 'format', 'format_map', 'index', 'isalnum', 'isalpha', 'isascii', 'isdecimal', 'isdigit', 'isidentifier', 'islower', 'isnumeric', 'isprintable', 'isspace', 'istitle', 'isupper', 'join', 'ljust', 'lower', 'lstrip', 'maketrans', 'partition', 'replace', 'rfind', 'rindex', 'rjust', 'rpartition', 'rsplit', 'rstrip', 'split', 'splitlines', 'startswith', 'strip', 'swapcase', 'title', 'translate', 'upper', 'zfill']\n"
     ]
    }
   ],
   "source": [
    "s=\"sdfs\"\n",
    "print(dir(s))"
   ]
  },
  {
   "cell_type": "code",
   "execution_count": 44,
   "metadata": {},
   "outputs": [
    {
     "name": "stdout",
     "output_type": "stream",
     "text": [
      "Jayaram\n"
     ]
    }
   ],
   "source": [
    "#encapsulation\n",
    "class Emp:\n",
    "    def __init__(self,name,sal,incp):\n",
    "        self.name=name\n",
    "        self.sal=sal\n",
    "        self.__incp=incp # secured attribute\n",
    "    def get(self):\n",
    "        return self.name,self.sal,self.__incp\n",
    "    def change_incp(self,new_incp):\n",
    "        # code for authorization\n",
    "        self.__update_incp(new_incp)\n",
    "    def __update_incp(self,new_incp): # secured moethod\n",
    "        self.__incp=new_incp\n",
    "    def sal_cal(self):\n",
    "        print(self.__incp)\n",
    "        return self.sal+self.sal*(self.__incp/100.0)\n",
    "jay=Emp(\"Jayaram\",3098756,10)\n",
    "print(jay.name)"
   ]
  },
  {
   "cell_type": "code",
   "execution_count": 45,
   "metadata": {},
   "outputs": [
    {
     "ename": "TypeError",
     "evalue": "'Emp' object is not subscriptable",
     "output_type": "error",
     "traceback": [
      "\u001b[0;31m---------------------------------------------------------------------------\u001b[0m",
      "\u001b[0;31mTypeError\u001b[0m                                 Traceback (most recent call last)",
      "\u001b[0;32m<ipython-input-45-0a7a70c7d125>\u001b[0m in \u001b[0;36m<module>\u001b[0;34m\u001b[0m\n\u001b[1;32m     16\u001b[0m         \u001b[0;32mreturn\u001b[0m \u001b[0mself\u001b[0m\u001b[0;34m.\u001b[0m\u001b[0msal\u001b[0m\u001b[0;34m+\u001b[0m\u001b[0mself\u001b[0m\u001b[0;34m.\u001b[0m\u001b[0msal\u001b[0m\u001b[0;34m*\u001b[0m\u001b[0;34m(\u001b[0m\u001b[0mself\u001b[0m\u001b[0;34m.\u001b[0m\u001b[0m__incp\u001b[0m\u001b[0;34m/\u001b[0m\u001b[0;36m100.0\u001b[0m\u001b[0;34m)\u001b[0m\u001b[0;34m\u001b[0m\u001b[0;34m\u001b[0m\u001b[0m\n\u001b[1;32m     17\u001b[0m \u001b[0mjay\u001b[0m\u001b[0;34m=\u001b[0m\u001b[0mEmp\u001b[0m\u001b[0;34m(\u001b[0m\u001b[0;34m\"Jayaram\"\u001b[0m\u001b[0;34m,\u001b[0m\u001b[0;36m3098756\u001b[0m\u001b[0;34m,\u001b[0m\u001b[0;36m10\u001b[0m\u001b[0;34m)\u001b[0m\u001b[0;34m\u001b[0m\u001b[0;34m\u001b[0m\u001b[0m\n\u001b[0;32m---> 18\u001b[0;31m \u001b[0mprint\u001b[0m\u001b[0;34m(\u001b[0m\u001b[0mjay\u001b[0m\u001b[0;34m[\u001b[0m\u001b[0;34m'name'\u001b[0m\u001b[0;34m]\u001b[0m\u001b[0;34m)\u001b[0m\u001b[0;34m\u001b[0m\u001b[0;34m\u001b[0m\u001b[0m\n\u001b[0m",
      "\u001b[0;31mTypeError\u001b[0m: 'Emp' object is not subscriptable"
     ]
    }
   ],
   "source": [
    "#encapsulation\n",
    "class Emp:\n",
    "    def __init__(self,name,sal,incp):\n",
    "        self.name=name\n",
    "        self.sal=sal\n",
    "        self.__incp=incp # secured attribute\n",
    "    def get(self):\n",
    "        return self.name,self.sal,self.__incp\n",
    "    def change_incp(self,new_incp):\n",
    "        # code for authorization\n",
    "        self.__update_incp(new_incp)\n",
    "    def __update_incp(self,new_incp): # secured moethod\n",
    "        self.__incp=new_incp\n",
    "    def sal_cal(self):\n",
    "        print(self.__incp)\n",
    "        return self.sal+self.sal*(self.__incp/100.0)\n",
    "jay=Emp(\"Jayaram\",3098756,10)\n",
    "print(jay['name'])"
   ]
  },
  {
   "cell_type": "code",
   "execution_count": 47,
   "metadata": {},
   "outputs": [
    {
     "name": "stdout",
     "output_type": "stream",
     "text": [
      "hello\n"
     ]
    }
   ],
   "source": [
    "#encapsulation\n",
    "class Emp:\n",
    "    def __init__(self,name,sal,incp):\n",
    "        self.name=name\n",
    "        self.sal=sal\n",
    "        self.__incp=incp # secured attribute\n",
    "    def get(self):\n",
    "        return self.name,self.sal,self.__incp\n",
    "    def change_incp(self,new_incp):\n",
    "        # code for authorization\n",
    "        self.__update_incp(new_incp)\n",
    "    def __update_incp(self,new_incp): # secured moethod\n",
    "        self.__incp=new_incp\n",
    "    def sal_cal(self):\n",
    "        print(self.__incp)\n",
    "        return self.sal+self.sal*(self.__incp/100.0)\n",
    "    def __getitem__(self,key):\n",
    "        return \"hello\"\n",
    "jay=Emp(\"Jayaram\",3098756,10)\n",
    "print(jay['name'])"
   ]
  },
  {
   "cell_type": "code",
   "execution_count": 48,
   "metadata": {},
   "outputs": [
    {
     "name": "stdout",
     "output_type": "stream",
     "text": [
      "Jayaram\n"
     ]
    }
   ],
   "source": [
    "#encapsulation\n",
    "class Emp:\n",
    "    def __init__(self,name,sal,incp):\n",
    "        self.name=name\n",
    "        self.sal=sal\n",
    "        self.__incp=incp # secured attribute\n",
    "    def get(self):\n",
    "        return self.name,self.sal,self.__incp\n",
    "    def change_incp(self,new_incp):\n",
    "        # code for authorization\n",
    "        self.__update_incp(new_incp)\n",
    "    def __update_incp(self,new_incp): # secured moethod\n",
    "        self.__incp=new_incp\n",
    "    def sal_cal(self):\n",
    "        print(self.__incp)\n",
    "        return self.sal+self.sal*(self.__incp/100.0)\n",
    "    def __getitem__(self,key):\n",
    "        if key==\"name\":\n",
    "            return self.name\n",
    "jay=Emp(\"Jayaram\",3098756,10)\n",
    "print(jay['name'])"
   ]
  },
  {
   "cell_type": "code",
   "execution_count": 49,
   "metadata": {},
   "outputs": [],
   "source": [
    "class Emp:\n",
    "    pass\n",
    "jay=Emp()"
   ]
  },
  {
   "cell_type": "code",
   "execution_count": 50,
   "metadata": {},
   "outputs": [
    {
     "name": "stdout",
     "output_type": "stream",
     "text": [
      "(<class '__main__.Emp'>, <class 'object'>)\n"
     ]
    }
   ],
   "source": [
    "class Emp:\n",
    "    pass\n",
    "jay=Emp()\n",
    "print(Emp.__mro__)"
   ]
  },
  {
   "cell_type": "code",
   "execution_count": 55,
   "metadata": {},
   "outputs": [
    {
     "name": "stdout",
     "output_type": "stream",
     "text": [
      "<__main__.Emp object at 0x7f62deebbbe0>\n",
      "(<class '__main__.Emp'>, <class 'object'>)\n"
     ]
    }
   ],
   "source": [
    "class Emp:\n",
    "    def __init__(self,x):\n",
    "        print(self)\n",
    "        self.x=x\n",
    "jay=Emp(10)\n",
    "print(Emp.__mro__)"
   ]
  },
  {
   "cell_type": "code",
   "execution_count": null,
   "metadata": {},
   "outputs": [],
   "source": [
    "a=10\n",
    "b=20\n",
    "c=a+b"
   ]
  },
  {
   "cell_type": "code",
   "execution_count": 56,
   "metadata": {},
   "outputs": [
    {
     "name": "stdout",
     "output_type": "stream",
     "text": [
      "<__main__.Emp object at 0x7f62deebbf60>\n",
      "main\n"
     ]
    }
   ],
   "source": [
    "class Emp:\n",
    "    def __init__(self,x):\n",
    "        print(self)\n",
    "        self.x=x\n",
    "Emp(10)\n",
    "print(\"main\")"
   ]
  },
  {
   "cell_type": "code",
   "execution_count": null,
   "metadata": {},
   "outputs": [],
   "source": [
    "class Emp: # object is the parent class of Emp\n",
    "    def __init__(self,x):\n",
    "        print(self)\n",
    "        self.x=x\n",
    "Emp(10) # it's a process. First it will check whether __new__ method in Emp?\n",
    "        # No.. It will look for __new__ in object class. This __new__ method contains\n",
    "        # definition of data object creation. It will return that object.\n",
    "        # by taking the data object, dataobject.__init__(x)\n",
    "        # If you assign Emp(10) to any reference, that reference reffer the data object\n",
    "        # which is created in __new__ method."
   ]
  },
  {
   "cell_type": "code",
   "execution_count": 57,
   "metadata": {},
   "outputs": [
    {
     "ename": "TypeError",
     "evalue": "__init__() should return None, not 'int'",
     "output_type": "error",
     "traceback": [
      "\u001b[0;31m---------------------------------------------------------------------------\u001b[0m",
      "\u001b[0;31mTypeError\u001b[0m                                 Traceback (most recent call last)",
      "\u001b[0;32m<ipython-input-57-24f7770cc035>\u001b[0m in \u001b[0;36m<module>\u001b[0;34m\u001b[0m\n\u001b[1;32m      3\u001b[0m         \u001b[0mself\u001b[0m\u001b[0;34m.\u001b[0m\u001b[0mx\u001b[0m\u001b[0;34m=\u001b[0m\u001b[0mx\u001b[0m\u001b[0;34m\u001b[0m\u001b[0;34m\u001b[0m\u001b[0m\n\u001b[1;32m      4\u001b[0m         \u001b[0;32mreturn\u001b[0m \u001b[0;36m10\u001b[0m\u001b[0;34m\u001b[0m\u001b[0;34m\u001b[0m\u001b[0m\n\u001b[0;32m----> 5\u001b[0;31m \u001b[0mEmp\u001b[0m\u001b[0;34m(\u001b[0m\u001b[0;36m10\u001b[0m\u001b[0;34m)\u001b[0m \u001b[0;31m# it's a process. First it will check whether __new__ method in Emp?\u001b[0m\u001b[0;34m\u001b[0m\u001b[0;34m\u001b[0m\u001b[0m\n\u001b[0m\u001b[1;32m      6\u001b[0m         \u001b[0;31m# No.. It will look for __new__ in object class. This __new__ method contains\u001b[0m\u001b[0;34m\u001b[0m\u001b[0;34m\u001b[0m\u001b[0;34m\u001b[0m\u001b[0m\n\u001b[1;32m      7\u001b[0m         \u001b[0;31m# definition of data object creation. It will return that object.\u001b[0m\u001b[0;34m\u001b[0m\u001b[0;34m\u001b[0m\u001b[0;34m\u001b[0m\u001b[0m\n",
      "\u001b[0;31mTypeError\u001b[0m: __init__() should return None, not 'int'"
     ]
    }
   ],
   "source": [
    "class Emp: # object is the parent class of Emp\n",
    "    def __init__(self,x):\n",
    "        self.x=x\n",
    "        return 10\n",
    "Emp(10) # it's a process. First it will check whether __new__ method in Emp?\n",
    "        # No.. It will look for __new__ in object class. This __new__ method contains\n",
    "        # definition of data object creation. It will return that object.\n",
    "        # by taking the data object, dataobject.__init__(x)\n",
    "        # If you assign Emp(10) to any reference, that reference reffer the data object\n",
    "        # which is created in __new__ method."
   ]
  },
  {
   "cell_type": "code",
   "execution_count": 58,
   "metadata": {},
   "outputs": [
    {
     "data": {
      "text/plain": [
       "<__main__.Emp at 0x7f62deeb3630>"
      ]
     },
     "execution_count": 58,
     "metadata": {},
     "output_type": "execute_result"
    }
   ],
   "source": [
    "class Emp: # object is the parent class of Emp\n",
    "    def __init__(self,x):\n",
    "        self.x=x\n",
    "        return \n",
    "Emp(10) # it's a process. First it will check whether __new__ method in Emp?\n",
    "        # No.. It will look for __new__ in object class. This __new__ method contains\n",
    "        # definition of data object creation. It will return that object.\n",
    "        # by taking the data object, dataobject.__init__(x)\n",
    "        # If you assign Emp(10) to any reference, that reference reffer the data object\n",
    "        # which is created in __new__ method."
   ]
  },
  {
   "cell_type": "code",
   "execution_count": null,
   "metadata": {},
   "outputs": [],
   "source": [
    "class Emp: # object is the parent class of Emp\n",
    "    def __init__(self,x):\n",
    "        self.x=x\n",
    "        return \n",
    "ref = Emp(10) # it's a process. First it will check whether __new__ method in Emp?\n",
    "        # No.. It will look for __new__ in object class. This __new__ method contains\n",
    "        # definition of data object creation. It will return that object.\n",
    "        # by taking the data object, dataobject.__init__(x)\n",
    "        # If you assign Emp(10) to any reference, that reference reffer the data object\n",
    "        # which is created in __new__ method."
   ]
  },
  {
   "cell_type": "code",
   "execution_count": 62,
   "metadata": {},
   "outputs": [
    {
     "ename": "AttributeError",
     "evalue": "'NoneType' object has no attribute 'get'",
     "output_type": "error",
     "traceback": [
      "\u001b[0;31m---------------------------------------------------------------------------\u001b[0m",
      "\u001b[0;31mAttributeError\u001b[0m                            Traceback (most recent call last)",
      "\u001b[0;32m<ipython-input-62-207ec1cd1ad4>\u001b[0m in \u001b[0;36m<module>\u001b[0;34m\u001b[0m\n\u001b[1;32m      9\u001b[0m         \u001b[0;32mreturn\u001b[0m \u001b[0mself\u001b[0m\u001b[0;34m.\u001b[0m\u001b[0mx\u001b[0m\u001b[0;34m\u001b[0m\u001b[0;34m\u001b[0m\u001b[0m\n\u001b[1;32m     10\u001b[0m \u001b[0mref\u001b[0m \u001b[0;34m=\u001b[0m \u001b[0mEmp\u001b[0m\u001b[0;34m(\u001b[0m\u001b[0;36m10\u001b[0m\u001b[0;34m)\u001b[0m\u001b[0;34m\u001b[0m\u001b[0;34m\u001b[0m\u001b[0m\n\u001b[0;32m---> 11\u001b[0;31m \u001b[0mprint\u001b[0m\u001b[0;34m(\u001b[0m\u001b[0mref\u001b[0m\u001b[0;34m.\u001b[0m\u001b[0mget\u001b[0m\u001b[0;34m(\u001b[0m\u001b[0;34m)\u001b[0m\u001b[0;34m)\u001b[0m\u001b[0;34m\u001b[0m\u001b[0;34m\u001b[0m\u001b[0m\n\u001b[0m",
      "\u001b[0;31mAttributeError\u001b[0m: 'NoneType' object has no attribute 'get'"
     ]
    }
   ],
   "source": [
    "class Emp: \n",
    "    def __new__(self,*args,**kwargs):\n",
    "        \n",
    "        return None\n",
    "    def __init__(self,x):\n",
    "        self.x=x\n",
    "        return \n",
    "    def get(self):\n",
    "        return self.x\n",
    "ref = Emp(10) \n",
    "print(ref.get())"
   ]
  },
  {
   "cell_type": "code",
   "execution_count": 63,
   "metadata": {},
   "outputs": [
    {
     "name": "stdout",
     "output_type": "stream",
     "text": [
      "10\n"
     ]
    }
   ],
   "source": [
    "class Emp: \n",
    "    def __new__(cls,*args,**kwargs):\n",
    "        data_obj = object.__new__(cls)\n",
    "        return data_obj\n",
    "    \n",
    "    def __init__(self,x):\n",
    "        self.x=x\n",
    "        return \n",
    "    def get(self):\n",
    "        return self.x\n",
    "ref = Emp(10) \n",
    "print(ref.get())"
   ]
  },
  {
   "cell_type": "code",
   "execution_count": 64,
   "metadata": {},
   "outputs": [
    {
     "name": "stdout",
     "output_type": "stream",
     "text": [
      "10\n"
     ]
    }
   ],
   "source": [
    "class Emp: \n",
    "    def __init__(self,x):\n",
    "        self.x=x\n",
    "        return \n",
    "    def get(self):\n",
    "        return self.x\n",
    "ref = Emp(10) \n",
    "print(ref.get())"
   ]
  },
  {
   "cell_type": "code",
   "execution_count": null,
   "metadata": {},
   "outputs": [],
   "source": [
    "# create multiple data objects to the class and print the count."
   ]
  }
 ],
 "metadata": {
  "kernelspec": {
   "display_name": "Python 3",
   "language": "python",
   "name": "python3"
  },
  "language_info": {
   "codemirror_mode": {
    "name": "ipython",
    "version": 3
   },
   "file_extension": ".py",
   "mimetype": "text/x-python",
   "name": "python",
   "nbconvert_exporter": "python",
   "pygments_lexer": "ipython3",
   "version": "3.7.3"
  }
 },
 "nbformat": 4,
 "nbformat_minor": 2
}

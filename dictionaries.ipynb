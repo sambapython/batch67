{
 "cells": [
  {
   "cell_type": "code",
   "execution_count": 1,
   "metadata": {},
   "outputs": [
    {
     "name": "stdout",
     "output_type": "stream",
     "text": [
      "{1: 2, 3: 4, 5: 6}\n",
      "{1: 2, 3: 4, 5: 6}\n"
     ]
    }
   ],
   "source": [
    "d={1:2,3:4,5:6}\n",
    "print(d)\n",
    "d=dict([(1,2),(3,4),(5,6)])\n",
    "print(d)"
   ]
  },
  {
   "cell_type": "code",
   "execution_count": 2,
   "metadata": {},
   "outputs": [
    {
     "name": "stdout",
     "output_type": "stream",
     "text": [
      "{} <class 'dict'>\n"
     ]
    }
   ],
   "source": [
    "d={}\n",
    "print(d, type(d))"
   ]
  },
  {
   "cell_type": "code",
   "execution_count": 3,
   "metadata": {},
   "outputs": [
    {
     "name": "stdout",
     "output_type": "stream",
     "text": [
      "{} <class 'dict'>\n"
     ]
    }
   ],
   "source": [
    "d=dict()\n",
    "print(d, type(d))"
   ]
  },
  {
   "cell_type": "code",
   "execution_count": 4,
   "metadata": {},
   "outputs": [
    {
     "name": "stdout",
     "output_type": "stream",
     "text": [
      "{1, 2, 3, 4} <class 'set'>\n"
     ]
    }
   ],
   "source": [
    "s={1,2,3,4}\n",
    "print(s,type(s))"
   ]
  },
  {
   "cell_type": "code",
   "execution_count": 5,
   "metadata": {},
   "outputs": [],
   "source": [
    "d={\"samba\":{\"type\":\"instructor\",\"weight\":70,\"height\":5.4}}"
   ]
  },
  {
   "cell_type": "code",
   "execution_count": 6,
   "metadata": {},
   "outputs": [
    {
     "name": "stdout",
     "output_type": "stream",
     "text": [
      "[{'name': 'samba', 'type': 'instructor', 'weight': 70, 'height': 5.4}, {'name': 'anil', 'type': 'instructor', 'weight': 70, 'height': 5.4}]\n"
     ]
    }
   ],
   "source": [
    "d=[{\"name\":\"samba\",\"type\":\"instructor\",\"weight\":70,\"height\":5.4},\n",
    "  {\"name\":\"anil\",\"type\":\"instructor\",\"weight\":70,\"height\":5.4}]\n",
    "print(d)"
   ]
  },
  {
   "cell_type": "code",
   "execution_count": 7,
   "metadata": {},
   "outputs": [
    {
     "name": "stdout",
     "output_type": "stream",
     "text": [
      "{'name': 'samba', 'type': 'instructor', 'weight': 70, 'height': 5.4}\n",
      "{'name': 'anil', 'type': 'instructor', 'weight': 70, 'height': 5.4}\n"
     ]
    }
   ],
   "source": [
    "for i in d:\n",
    "    print(i)"
   ]
  },
  {
   "cell_type": "code",
   "execution_count": 8,
   "metadata": {},
   "outputs": [
    {
     "name": "stdout",
     "output_type": "stream",
     "text": [
      "name\n",
      "type\n",
      "weight\n",
      "height\n"
     ]
    }
   ],
   "source": [
    "d={'name': 'samba', 'type': 'instructor', 'weight': 70, 'height': 5.4}\n",
    "for i in d:\n",
    "    print(i)"
   ]
  },
  {
   "cell_type": "code",
   "execution_count": 10,
   "metadata": {},
   "outputs": [
    {
     "name": "stdout",
     "output_type": "stream",
     "text": [
      "samba\n",
      "instructor\n",
      "70\n",
      "5.4\n"
     ]
    }
   ],
   "source": [
    "d={'name': 'samba', 'type': 'instructor', 'weight': 70, 'height': 5.4}\n",
    "for i in d.values():\n",
    "    print(i)"
   ]
  },
  {
   "cell_type": "code",
   "execution_count": 11,
   "metadata": {},
   "outputs": [
    {
     "name": "stdout",
     "output_type": "stream",
     "text": [
      "('name', 'samba')\n",
      "('type', 'instructor')\n",
      "('weight', 70)\n",
      "('height', 5.4)\n"
     ]
    }
   ],
   "source": [
    "d={'name': 'samba', 'type': 'instructor', 'weight': 70, 'height': 5.4}\n",
    "for i in d.items():\n",
    "    print(i)"
   ]
  },
  {
   "cell_type": "code",
   "execution_count": 12,
   "metadata": {},
   "outputs": [
    {
     "name": "stdout",
     "output_type": "stream",
     "text": [
      "{'name': 'SAMBA', 'type': 'instructor', 'weight': 70, 'height': 5.4}\n",
      "{'name': 'SAMBA', 'type': 'instructor', 'weight': 70, 'height': 5.4}\n"
     ]
    }
   ],
   "source": [
    "d={'name': 'samba', 'type': 'instructor', 'weight': 70, 'height': 5.4}\n",
    "d1=d\n",
    "d[\"name\"]=\"SAMBA\"\n",
    "print(d)\n",
    "print(d1)"
   ]
  },
  {
   "cell_type": "code",
   "execution_count": 14,
   "metadata": {},
   "outputs": [
    {
     "name": "stdout",
     "output_type": "stream",
     "text": [
      "{'name': 'SAMBA', 'type': 'instructor', 'weight': 70, 'height': 5.4}\n",
      "{'name': 'SAMBA', 'type': 'instructor', 'weight': 70, 'height': 5.4}\n",
      "{'name': 'samba', 'type': 'instructor', 'weight': 70, 'height': 5.4}\n"
     ]
    }
   ],
   "source": [
    "d={'name': 'samba', 'type': 'instructor', 'weight': 70, 'height': 5.4}\n",
    "d1=d\n",
    "d2=d.copy()\n",
    "d[\"name\"]=\"SAMBA\"\n",
    "print(d)\n",
    "print(d1)\n",
    "print(d2)"
   ]
  },
  {
   "cell_type": "code",
   "execution_count": 15,
   "metadata": {},
   "outputs": [
    {
     "name": "stdout",
     "output_type": "stream",
     "text": [
      "{}\n"
     ]
    }
   ],
   "source": [
    "d={'name': 'samba', 'type': 'instructor', 'weight': 70, 'height': 5.4}\n",
    "d.clear()\n",
    "print(d)"
   ]
  },
  {
   "cell_type": "code",
   "execution_count": 16,
   "metadata": {},
   "outputs": [
    {
     "name": "stdout",
     "output_type": "stream",
     "text": [
      "samba\n",
      "samba\n"
     ]
    }
   ],
   "source": [
    "d={'name': 'samba', 'type': 'instructor', 'weight': 70, 'height': 5.4}\n",
    "print(d[\"name\"])\n",
    "print(d.get(\"name\"))"
   ]
  },
  {
   "cell_type": "code",
   "execution_count": 17,
   "metadata": {},
   "outputs": [
    {
     "name": "stdout",
     "output_type": "stream",
     "text": [
      "None\n"
     ]
    },
    {
     "ename": "KeyError",
     "evalue": "'phone'",
     "output_type": "error",
     "traceback": [
      "\u001b[0;31m---------------------------------------------------------------------------\u001b[0m",
      "\u001b[0;31mKeyError\u001b[0m                                  Traceback (most recent call last)",
      "\u001b[0;32m<ipython-input-17-43b978daac58>\u001b[0m in \u001b[0;36m<module>\u001b[0;34m\u001b[0m\n\u001b[1;32m      1\u001b[0m \u001b[0md\u001b[0m\u001b[0;34m=\u001b[0m\u001b[0;34m{\u001b[0m\u001b[0;34m'name'\u001b[0m\u001b[0;34m:\u001b[0m \u001b[0;34m'samba'\u001b[0m\u001b[0;34m,\u001b[0m \u001b[0;34m'type'\u001b[0m\u001b[0;34m:\u001b[0m \u001b[0;34m'instructor'\u001b[0m\u001b[0;34m,\u001b[0m \u001b[0;34m'weight'\u001b[0m\u001b[0;34m:\u001b[0m \u001b[0;36m70\u001b[0m\u001b[0;34m,\u001b[0m \u001b[0;34m'height'\u001b[0m\u001b[0;34m:\u001b[0m \u001b[0;36m5.4\u001b[0m\u001b[0;34m}\u001b[0m\u001b[0;34m\u001b[0m\u001b[0;34m\u001b[0m\u001b[0m\n\u001b[1;32m      2\u001b[0m \u001b[0mprint\u001b[0m\u001b[0;34m(\u001b[0m\u001b[0md\u001b[0m\u001b[0;34m.\u001b[0m\u001b[0mget\u001b[0m\u001b[0;34m(\u001b[0m\u001b[0;34m\"phone\"\u001b[0m\u001b[0;34m)\u001b[0m\u001b[0;34m)\u001b[0m\u001b[0;34m\u001b[0m\u001b[0;34m\u001b[0m\u001b[0m\n\u001b[0;32m----> 3\u001b[0;31m \u001b[0mprint\u001b[0m\u001b[0;34m(\u001b[0m\u001b[0md\u001b[0m\u001b[0;34m[\u001b[0m\u001b[0;34m\"phone\"\u001b[0m\u001b[0;34m]\u001b[0m\u001b[0;34m)\u001b[0m\u001b[0;34m\u001b[0m\u001b[0;34m\u001b[0m\u001b[0m\n\u001b[0m",
      "\u001b[0;31mKeyError\u001b[0m: 'phone'"
     ]
    }
   ],
   "source": [
    "d={'name': 'samba', 'type': 'instructor', 'weight': 70, 'height': 5.4}\n",
    "print(d.get(\"phone\"))\n",
    "print(d[\"phone\"])\n"
   ]
  },
  {
   "cell_type": "code",
   "execution_count": 18,
   "metadata": {},
   "outputs": [
    {
     "name": "stdout",
     "output_type": "stream",
     "text": [
      "XXXXXXXXXX\n"
     ]
    },
    {
     "ename": "KeyError",
     "evalue": "'phone'",
     "output_type": "error",
     "traceback": [
      "\u001b[0;31m---------------------------------------------------------------------------\u001b[0m",
      "\u001b[0;31mKeyError\u001b[0m                                  Traceback (most recent call last)",
      "\u001b[0;32m<ipython-input-18-65fb72186d22>\u001b[0m in \u001b[0;36m<module>\u001b[0;34m\u001b[0m\n\u001b[1;32m      1\u001b[0m \u001b[0md\u001b[0m\u001b[0;34m=\u001b[0m\u001b[0;34m{\u001b[0m\u001b[0;34m'name'\u001b[0m\u001b[0;34m:\u001b[0m \u001b[0;34m'samba'\u001b[0m\u001b[0;34m,\u001b[0m \u001b[0;34m'type'\u001b[0m\u001b[0;34m:\u001b[0m \u001b[0;34m'instructor'\u001b[0m\u001b[0;34m,\u001b[0m \u001b[0;34m'weight'\u001b[0m\u001b[0;34m:\u001b[0m \u001b[0;36m70\u001b[0m\u001b[0;34m,\u001b[0m \u001b[0;34m'height'\u001b[0m\u001b[0;34m:\u001b[0m \u001b[0;36m5.4\u001b[0m\u001b[0;34m}\u001b[0m\u001b[0;34m\u001b[0m\u001b[0;34m\u001b[0m\u001b[0m\n\u001b[1;32m      2\u001b[0m \u001b[0mprint\u001b[0m\u001b[0;34m(\u001b[0m\u001b[0md\u001b[0m\u001b[0;34m.\u001b[0m\u001b[0mget\u001b[0m\u001b[0;34m(\u001b[0m\u001b[0;34m\"phone\"\u001b[0m\u001b[0;34m,\u001b[0m\u001b[0;34m\"XXXXXXXXXX\"\u001b[0m\u001b[0;34m)\u001b[0m\u001b[0;34m)\u001b[0m\u001b[0;34m\u001b[0m\u001b[0;34m\u001b[0m\u001b[0m\n\u001b[0;32m----> 3\u001b[0;31m \u001b[0mprint\u001b[0m\u001b[0;34m(\u001b[0m\u001b[0md\u001b[0m\u001b[0;34m[\u001b[0m\u001b[0;34m\"phone\"\u001b[0m\u001b[0;34m]\u001b[0m\u001b[0;34m)\u001b[0m\u001b[0;34m\u001b[0m\u001b[0;34m\u001b[0m\u001b[0m\n\u001b[0m",
      "\u001b[0;31mKeyError\u001b[0m: 'phone'"
     ]
    }
   ],
   "source": [
    "d={'name': 'samba', 'type': 'instructor', 'weight': 70, 'height': 5.4}\n",
    "print(d.get(\"phone\",\"XXXXXXXXXX\"))\n",
    "print(d[\"phone\"])\n"
   ]
  },
  {
   "cell_type": "code",
   "execution_count": 20,
   "metadata": {},
   "outputs": [
    {
     "name": "stdout",
     "output_type": "stream",
     "text": [
      "samba\n",
      "samba\n"
     ]
    }
   ],
   "source": [
    "d={'name': 'samba', 'type': 'instructor', 'weight': 70, 'height': 5.4}\n",
    "print(d.get(\"name\",\"XXXXXXXXXX\"))\n",
    "print(d[\"name\"])\n"
   ]
  },
  {
   "cell_type": "code",
   "execution_count": 21,
   "metadata": {},
   "outputs": [
    {
     "data": {
      "text/plain": [
       "True"
      ]
     },
     "execution_count": 21,
     "metadata": {},
     "output_type": "execute_result"
    }
   ],
   "source": [
    "d={'name': 'samba', 'type': 'instructor', 'weight': 70, 'height': 5.4}\n",
    "\"name\" in d"
   ]
  },
  {
   "cell_type": "code",
   "execution_count": 22,
   "metadata": {},
   "outputs": [
    {
     "data": {
      "text/plain": [
       "False"
      ]
     },
     "execution_count": 22,
     "metadata": {},
     "output_type": "execute_result"
    }
   ],
   "source": [
    "d={'name': 'samba', 'type': 'instructor', 'weight': 70, 'height': 5.4}\n",
    "\"samba\" in d"
   ]
  },
  {
   "cell_type": "code",
   "execution_count": 23,
   "metadata": {},
   "outputs": [
    {
     "data": {
      "text/plain": [
       "True"
      ]
     },
     "execution_count": 23,
     "metadata": {},
     "output_type": "execute_result"
    }
   ],
   "source": [
    "d={'name': 'samba', 'type': 'instructor', 'weight': 70, 'height': 5.4}\n",
    "\"samba\" in d.values()"
   ]
  },
  {
   "cell_type": "code",
   "execution_count": 24,
   "metadata": {},
   "outputs": [
    {
     "name": "stdout",
     "output_type": "stream",
     "text": [
      "{'name': 'samba', 'type': 'instructor', 'weight': 70, 'height': 5.4, 'NAME': 'SAMBA'}\n"
     ]
    }
   ],
   "source": [
    "d={'name': 'samba', 'type': 'instructor', 'weight': 70, 'height': 5.4}\n",
    "d[\"NAME\"]=\"SAMBA\"\n",
    "print(d)"
   ]
  },
  {
   "cell_type": "code",
   "execution_count": 25,
   "metadata": {},
   "outputs": [
    {
     "name": "stdout",
     "output_type": "stream",
     "text": [
      "{'type': 'instructor', 'weight': 70, 'height': 5.4}\n",
      "samba\n"
     ]
    }
   ],
   "source": [
    "d={'name': 'samba', 'type': 'instructor', 'weight': 70, 'height': 5.4}\n",
    "d1 = d.pop(\"name\")\n",
    "print(d)\n",
    "print(d1)"
   ]
  },
  {
   "cell_type": "code",
   "execution_count": 26,
   "metadata": {},
   "outputs": [
    {
     "name": "stdout",
     "output_type": "stream",
     "text": [
      "{'type': 'instructor', 'weight': 70, 'height': 5.4}\n",
      "samba\n",
      "{'type': 'instructor', 'weight': 70, 'height': 5.4, 'NAME': 'samba'}\n"
     ]
    }
   ],
   "source": [
    "d={'name': 'samba', 'type': 'instructor', 'weight': 70, 'height': 5.4}\n",
    "d1 = d.pop(\"name\")\n",
    "print(d)\n",
    "print(d1)\n",
    "d[\"NAME\"]=d1\n",
    "print(d)"
   ]
  },
  {
   "cell_type": "code",
   "execution_count": 27,
   "metadata": {},
   "outputs": [
    {
     "name": "stdout",
     "output_type": "stream",
     "text": [
      "('height', 5.4)\n",
      "{'name': 'samba', 'type': 'instructor', 'weight': 70}\n"
     ]
    }
   ],
   "source": [
    "d={'name': 'samba', 'type': 'instructor', 'weight': 70, 'height': 5.4}\n",
    "d1 = d.popitem()\n",
    "print(d1)\n",
    "print(d)"
   ]
  },
  {
   "cell_type": "code",
   "execution_count": 28,
   "metadata": {},
   "outputs": [
    {
     "ename": "KeyError",
     "evalue": "0",
     "output_type": "error",
     "traceback": [
      "\u001b[0;31m---------------------------------------------------------------------------\u001b[0m",
      "\u001b[0;31mKeyError\u001b[0m                                  Traceback (most recent call last)",
      "\u001b[0;32m<ipython-input-28-77261ae5eb0b>\u001b[0m in \u001b[0;36m<module>\u001b[0;34m\u001b[0m\n\u001b[1;32m      1\u001b[0m \u001b[0md\u001b[0m\u001b[0;34m=\u001b[0m\u001b[0;34m{\u001b[0m\u001b[0;34m'name'\u001b[0m\u001b[0;34m:\u001b[0m \u001b[0;34m'samba'\u001b[0m\u001b[0;34m,\u001b[0m \u001b[0;34m'type'\u001b[0m\u001b[0;34m:\u001b[0m \u001b[0;34m'instructor'\u001b[0m\u001b[0;34m,\u001b[0m \u001b[0;34m'weight'\u001b[0m\u001b[0;34m:\u001b[0m \u001b[0;36m70\u001b[0m\u001b[0;34m,\u001b[0m \u001b[0;34m'height'\u001b[0m\u001b[0;34m:\u001b[0m \u001b[0;36m5.4\u001b[0m\u001b[0;34m}\u001b[0m\u001b[0;34m\u001b[0m\u001b[0;34m\u001b[0m\u001b[0m\n\u001b[0;32m----> 2\u001b[0;31m \u001b[0mprint\u001b[0m\u001b[0;34m(\u001b[0m\u001b[0md\u001b[0m\u001b[0;34m[\u001b[0m\u001b[0;36m0\u001b[0m\u001b[0;34m]\u001b[0m\u001b[0;34m)\u001b[0m\u001b[0;34m\u001b[0m\u001b[0;34m\u001b[0m\u001b[0m\n\u001b[0m",
      "\u001b[0;31mKeyError\u001b[0m: 0"
     ]
    }
   ],
   "source": [
    "d={'name': 'samba', 'type': 'instructor', 'weight': 70, 'height': 5.4}\n",
    "print(d[0])"
   ]
  },
  {
   "cell_type": "code",
   "execution_count": 30,
   "metadata": {},
   "outputs": [
    {
     "name": "stdout",
     "output_type": "stream",
     "text": [
      "[{'name': 1, 'type': 'instructor', 'weight': 70, 'height': 5.1}, {'name': 2, 'type': 'instructor', 'weight': 70, 'height': 5.2}, {'name': 3, 'type': 'instructor', 'weight': 70, 'height': 5.3}, {'name': 4, 'type': 'instructor', 'weight': 70, 'height': 5.4}]\n"
     ]
    }
   ],
   "source": [
    "l=[{'name': 1, 'type': 'instructor', 'weight': 70, 'height': 5.1},\n",
    "  {'name': 3, 'type': 'instructor', 'weight': 70, 'height': 5.3},\n",
    "  {'name': 4, 'type': 'instructor', 'weight': 70, 'height': 5.4},\n",
    "  {'name': 2, 'type': 'instructor', 'weight': 70, 'height': 5.2}]\n",
    "def fun(x):\n",
    "    return x[\"height\"]\n",
    "l.sort(key=fun)\n",
    "print(l)"
   ]
  },
  {
   "cell_type": "code",
   "execution_count": 31,
   "metadata": {},
   "outputs": [
    {
     "name": "stdout",
     "output_type": "stream",
     "text": [
      "[{'name': 1, 'type': 'instructor', 'weight': 70, 'height': 5.1}, {'name': 2, 'type': 'instructor', 'weight': 70, 'height': 5.2}, {'name': 3, 'type': 'instructor', 'weight': 70, 'height': 5.3}, {'name': 4, 'type': 'instructor', 'weight': 70, 'height': 5.4}]\n"
     ]
    }
   ],
   "source": [
    "l=[{'name': 1, 'type': 'instructor', 'weight': 70, 'height': 5.1},\n",
    "  {'name': 3, 'type': 'instructor', 'weight': 70, 'height': 5.3},\n",
    "  {'name': 4, 'type': 'instructor', 'weight': 70, 'height': 5.4},\n",
    "  {'name': 2, 'type': 'instructor', 'weight': 70, 'height': 5.2}]\n",
    "def fun(x):\n",
    "    return x[\"height\"]\n",
    "fun=lambda x:x[\"height\"]\n",
    "l.sort(key=fun)\n",
    "print(l)"
   ]
  },
  {
   "cell_type": "code",
   "execution_count": 32,
   "metadata": {},
   "outputs": [
    {
     "name": "stdout",
     "output_type": "stream",
     "text": [
      "[{'name': 1, 'type': 'instructor', 'weight': 70, 'height': 5.1}, {'name': 2, 'type': 'instructor', 'weight': 70, 'height': 5.2}, {'name': 3, 'type': 'instructor', 'weight': 70, 'height': 5.3}, {'name': 4, 'type': 'instructor', 'weight': 70, 'height': 5.4}]\n"
     ]
    }
   ],
   "source": [
    "l=[{'name': 1, 'type': 'instructor', 'weight': 70, 'height': 5.1},\n",
    "  {'name': 3, 'type': 'instructor', 'weight': 70, 'height': 5.3},\n",
    "  {'name': 4, 'type': 'instructor', 'weight': 70, 'height': 5.4},\n",
    "  {'name': 2, 'type': 'instructor', 'weight': 70, 'height': 5.2}]\n",
    "\n",
    "fun=lambda x:x[\"height\"]\n",
    "l.sort(key=fun)\n",
    "print(l)"
   ]
  },
  {
   "cell_type": "code",
   "execution_count": 33,
   "metadata": {},
   "outputs": [
    {
     "name": "stdout",
     "output_type": "stream",
     "text": [
      "[{'name': 1, 'type': 'instructor', 'weight': 70, 'height': 5.1}, {'name': 2, 'type': 'instructor', 'weight': 70, 'height': 5.2}, {'name': 3, 'type': 'instructor', 'weight': 70, 'height': 5.3}, {'name': 4, 'type': 'instructor', 'weight': 70, 'height': 5.4}]\n"
     ]
    }
   ],
   "source": [
    "l=[{'name': 1, 'type': 'instructor', 'weight': 70, 'height': 5.1},\n",
    "  {'name': 3, 'type': 'instructor', 'weight': 70, 'height': 5.3},\n",
    "  {'name': 4, 'type': 'instructor', 'weight': 70, 'height': 5.4},\n",
    "  {'name': 2, 'type': 'instructor', 'weight': 70, 'height': 5.2}]\n",
    "l.sort(key=lambda x:x[\"height\"])\n",
    "print(l)"
   ]
  },
  {
   "cell_type": "code",
   "execution_count": 35,
   "metadata": {},
   "outputs": [
    {
     "name": "stdout",
     "output_type": "stream",
     "text": [
      "EVEN\n"
     ]
    }
   ],
   "source": [
    "def fun(x):\n",
    "    if x%2==0:\n",
    "        return \"EVEN\"\n",
    "    else:\n",
    "        return \"ODD\"\n",
    "def fun(x):\n",
    "    return \"EVEN\" if x%2==0 else \"ODD\"\n",
    "fun=lambda x:\"EVEN\" if x%2==0 else \"ODD\"\n",
    "print(fun(2))"
   ]
  },
  {
   "cell_type": "code",
   "execution_count": 36,
   "metadata": {},
   "outputs": [
    {
     "name": "stdout",
     "output_type": "stream",
     "text": [
      "ODD\n",
      "EVEN\n",
      "ODD\n",
      "EVEN\n",
      "ODD\n",
      "EVEN\n",
      "ODD\n",
      "EVEN\n",
      "ODD\n"
     ]
    }
   ],
   "source": [
    "fun=lambda x:\"EVEN\" if x%2==0 else \"ODD\"\n",
    "l=[1,2,3,4,5,6,7,8,9]\n",
    "for i in l:\n",
    "    print(fun(i))"
   ]
  },
  {
   "cell_type": "code",
   "execution_count": 37,
   "metadata": {},
   "outputs": [
    {
     "name": "stdout",
     "output_type": "stream",
     "text": [
      "['ODD', 'EVEN', 'ODD', 'EVEN', 'ODD', 'EVEN', 'ODD', 'EVEN', 'ODD']\n"
     ]
    }
   ],
   "source": [
    "fun=lambda x:\"EVEN\" if x%2==0 else \"ODD\"\n",
    "l=[1,2,3,4,5,6,7,8,9]\n",
    "res=[]\n",
    "for i in l:\n",
    "    res.append(fun(i))\n",
    "print(res)"
   ]
  },
  {
   "cell_type": "code",
   "execution_count": 38,
   "metadata": {},
   "outputs": [
    {
     "name": "stdout",
     "output_type": "stream",
     "text": [
      "['ODD', 'EVEN', 'ODD', 'EVEN', 'ODD', 'EVEN', 'ODD', 'EVEN', 'ODD']\n"
     ]
    }
   ],
   "source": [
    "fun=lambda x:\"EVEN\" if x%2==0 else \"ODD\"\n",
    "l=[1,2,3,4,5,6,7,8,9]\n",
    "print([fun(i) for i in l]) # list comprehension"
   ]
  },
  {
   "cell_type": "code",
   "execution_count": 39,
   "metadata": {},
   "outputs": [
    {
     "name": "stdout",
     "output_type": "stream",
     "text": [
      "['ODD', 'EVEN', 'ODD', 'EVEN', 'ODD', 'EVEN', 'ODD', 'EVEN', 'ODD']\n"
     ]
    }
   ],
   "source": [
    "fun=lambda x:\"EVEN\" if x%2==0 else \"ODD\"\n",
    "l=[1,2,3,4,5,6,7,8,9]\n",
    "res=[fun(i) for i in l]\n",
    "print(res)"
   ]
  },
  {
   "cell_type": "code",
   "execution_count": 40,
   "metadata": {},
   "outputs": [
    {
     "name": "stdout",
     "output_type": "stream",
     "text": [
      "<class 'function'>\n"
     ]
    }
   ],
   "source": [
    "fun=lambda x:x**2\n",
    "print(type(fun))"
   ]
  },
  {
   "cell_type": "code",
   "execution_count": 41,
   "metadata": {},
   "outputs": [
    {
     "data": {
      "text/plain": [
       "16"
      ]
     },
     "execution_count": 41,
     "metadata": {},
     "output_type": "execute_result"
    }
   ],
   "source": [
    "fun=lambda x:x**2\n",
    "fun(4)"
   ]
  },
  {
   "cell_type": "code",
   "execution_count": 42,
   "metadata": {},
   "outputs": [
    {
     "name": "stdout",
     "output_type": "stream",
     "text": [
      "30\n"
     ]
    }
   ],
   "source": [
    "fun=lambda x,y:x+y\n",
    "print(fun(10,20))"
   ]
  },
  {
   "cell_type": "code",
   "execution_count": 44,
   "metadata": {},
   "outputs": [
    {
     "data": {
      "text/plain": [
       "(15, 5, 50, 2.0)"
      ]
     },
     "execution_count": 44,
     "metadata": {},
     "output_type": "execute_result"
    }
   ],
   "source": [
    "def fun(x,y):\n",
    "    return x+y\n",
    "fun=lambda x,y:(x+y,x-y,x*y,x/y)\n",
    "fun(10,5)"
   ]
  },
  {
   "cell_type": "code",
   "execution_count": 45,
   "metadata": {},
   "outputs": [
    {
     "data": {
      "text/plain": [
       "[2, 4, 6, 8, 10, 12]"
      ]
     },
     "execution_count": 45,
     "metadata": {},
     "output_type": "execute_result"
    }
   ],
   "source": [
    "l=[1,2,3,4,5,6]\n",
    "list(map(lambda x:x*2,l))"
   ]
  },
  {
   "cell_type": "code",
   "execution_count": 46,
   "metadata": {},
   "outputs": [
    {
     "name": "stdout",
     "output_type": "stream",
     "text": [
      "[2, 4, 6, 8, 10, 12]\n"
     ]
    }
   ],
   "source": [
    "l=[1,2,3,4,5,6]\n",
    "print([i*2 for i in l])"
   ]
  },
  {
   "cell_type": "code",
   "execution_count": 48,
   "metadata": {},
   "outputs": [
    {
     "name": "stdout",
     "output_type": "stream",
     "text": [
      "[2, 4, 6, 8, 10, 12]\n"
     ]
    }
   ],
   "source": [
    "l=[1,2,3,4,5,6]\n",
    "fun=lambda x:x*2\n",
    "print([fun(i) for i in l])"
   ]
  },
  {
   "cell_type": "code",
   "execution_count": 49,
   "metadata": {},
   "outputs": [
    {
     "name": "stdout",
     "output_type": "stream",
     "text": [
      "[2, 4, 6, 8, 10, 12]\n"
     ]
    }
   ],
   "source": [
    "l=[1,2,3,4,5,6]\n",
    "fun=lambda x:x*2\n",
    "print([fun(i) for i in l])"
   ]
  },
  {
   "cell_type": "code",
   "execution_count": 50,
   "metadata": {},
   "outputs": [
    {
     "data": {
      "text/plain": [
       "<map at 0x7fec08551a58>"
      ]
     },
     "execution_count": 50,
     "metadata": {},
     "output_type": "execute_result"
    }
   ],
   "source": [
    "l=[1,2,3,4,5,6]\n",
    "fun=lambda x:x*2\n",
    "map(fun,l)"
   ]
  },
  {
   "cell_type": "code",
   "execution_count": 51,
   "metadata": {},
   "outputs": [
    {
     "data": {
      "text/plain": [
       "[2, 4, 6, 8, 10, 12]"
      ]
     },
     "execution_count": 51,
     "metadata": {},
     "output_type": "execute_result"
    }
   ],
   "source": [
    "l=[1,2,3,4,5,6]\n",
    "fun=lambda x:x*2\n",
    "list(map(fun,l))"
   ]
  },
  {
   "cell_type": "code",
   "execution_count": 52,
   "metadata": {},
   "outputs": [
    {
     "data": {
      "text/plain": [
       "[None, None, None, None, None, None]"
      ]
     },
     "execution_count": 52,
     "metadata": {},
     "output_type": "execute_result"
    }
   ],
   "source": [
    "l=[1,2,3,4,5,6]\n",
    "fun=lambda x:None\n",
    "list(map(fun,l))"
   ]
  },
  {
   "cell_type": "code",
   "execution_count": 53,
   "metadata": {},
   "outputs": [
    {
     "data": {
      "text/plain": [
       "[8, 10, 12, 14, 16, 18]"
      ]
     },
     "execution_count": 53,
     "metadata": {},
     "output_type": "execute_result"
    }
   ],
   "source": [
    "l=[1,2,3,4,5,6]\n",
    "k=[7,8,9,10,11,12]\n",
    "fun=lambda x,y:x+y\n",
    "list(map(fun,l,k))"
   ]
  },
  {
   "cell_type": "code",
   "execution_count": 54,
   "metadata": {},
   "outputs": [
    {
     "data": {
      "text/plain": [
       "[8, 10, 12, 14, 16, 18]"
      ]
     },
     "execution_count": 54,
     "metadata": {},
     "output_type": "execute_result"
    }
   ],
   "source": [
    "l=[1,2,3,4,5,6]\n",
    "k=[7,8,9,10,11,12,13]\n",
    "fun=lambda x,y:x+y\n",
    "list(map(fun,l,k))"
   ]
  },
  {
   "cell_type": "code",
   "execution_count": 56,
   "metadata": {},
   "outputs": [
    {
     "data": {
      "text/plain": [
       "[]"
      ]
     },
     "execution_count": 56,
     "metadata": {},
     "output_type": "execute_result"
    }
   ],
   "source": [
    "l=[]\n",
    "k=[7,8,9,10,11,12,13]\n",
    "fun=lambda x,y:x+y\n",
    "list(map(fun,l,k))"
   ]
  },
  {
   "cell_type": "code",
   "execution_count": 58,
   "metadata": {},
   "outputs": [
    {
     "data": {
      "text/plain": [
       "[False, False, True, False, False, True]"
      ]
     },
     "execution_count": 58,
     "metadata": {},
     "output_type": "execute_result"
    }
   ],
   "source": [
    "l =[10,20,30,40,50,60]\n",
    "list(map(lambda x:x%3==0,l))"
   ]
  },
  {
   "cell_type": "code",
   "execution_count": 61,
   "metadata": {},
   "outputs": [
    {
     "name": "stdout",
     "output_type": "stream",
     "text": [
      "{'int': 1, 'float': 2.3, 'comp': (1+2j), 'tuple': (1, 2, 3), 'list': [1, 2, 3], 'set': {1, 2, 3, 4}, 'dict': {1: 2, 3: 4}, 'str': 'python', 'bool': True, 'none': None}\n"
     ]
    }
   ],
   "source": [
    "d={\"int\":1,\"float\":2.3,\"comp\":1+2j,\"tuple\":(1,2,3),\"list\":[1,2,3],\"set\":{1,2,3,4},\n",
    "  \"dict\":{1:2,3:4},\"str\":\"python\",\"bool\":True,\"none\":None}\n",
    "print(d)"
   ]
  },
  {
   "cell_type": "code",
   "execution_count": 62,
   "metadata": {},
   "outputs": [],
   "source": [
    "d={1:\"integer\"}"
   ]
  },
  {
   "cell_type": "code",
   "execution_count": 63,
   "metadata": {},
   "outputs": [],
   "source": [
    "d={1.02:34}"
   ]
  },
  {
   "cell_type": "code",
   "execution_count": 64,
   "metadata": {},
   "outputs": [
    {
     "name": "stdout",
     "output_type": "stream",
     "text": [
      "{True: 'bool'}\n"
     ]
    }
   ],
   "source": [
    "d={True:\"bool\"}\n",
    "print(d)"
   ]
  },
  {
   "cell_type": "code",
   "execution_count": 65,
   "metadata": {},
   "outputs": [],
   "source": [
    "d[1+2j]=\"comp\""
   ]
  },
  {
   "cell_type": "code",
   "execution_count": 66,
   "metadata": {},
   "outputs": [],
   "source": [
    "d[(1,2,3)]=\"tuple\""
   ]
  },
  {
   "cell_type": "code",
   "execution_count": 67,
   "metadata": {},
   "outputs": [
    {
     "ename": "TypeError",
     "evalue": "unhashable type: 'list'",
     "output_type": "error",
     "traceback": [
      "\u001b[0;31m---------------------------------------------------------------------------\u001b[0m",
      "\u001b[0;31mTypeError\u001b[0m                                 Traceback (most recent call last)",
      "\u001b[0;32m<ipython-input-67-12258960c650>\u001b[0m in \u001b[0;36m<module>\u001b[0;34m\u001b[0m\n\u001b[0;32m----> 1\u001b[0;31m \u001b[0md\u001b[0m\u001b[0;34m[\u001b[0m\u001b[0;34m[\u001b[0m\u001b[0;36m1\u001b[0m\u001b[0;34m,\u001b[0m\u001b[0;36m2\u001b[0m\u001b[0;34m,\u001b[0m\u001b[0;36m3\u001b[0m\u001b[0;34m,\u001b[0m\u001b[0;36m4\u001b[0m\u001b[0;34m]\u001b[0m\u001b[0;34m]\u001b[0m\u001b[0;34m=\u001b[0m\u001b[0;34m\"list\"\u001b[0m\u001b[0;34m\u001b[0m\u001b[0;34m\u001b[0m\u001b[0m\n\u001b[0m",
      "\u001b[0;31mTypeError\u001b[0m: unhashable type: 'list'"
     ]
    }
   ],
   "source": [
    "d[[1,2,3,4]]=\"list\""
   ]
  },
  {
   "cell_type": "code",
   "execution_count": 68,
   "metadata": {},
   "outputs": [
    {
     "ename": "TypeError",
     "evalue": "unhashable type: 'set'",
     "output_type": "error",
     "traceback": [
      "\u001b[0;31m---------------------------------------------------------------------------\u001b[0m",
      "\u001b[0;31mTypeError\u001b[0m                                 Traceback (most recent call last)",
      "\u001b[0;32m<ipython-input-68-cede72504c39>\u001b[0m in \u001b[0;36m<module>\u001b[0;34m\u001b[0m\n\u001b[0;32m----> 1\u001b[0;31m \u001b[0md\u001b[0m\u001b[0;34m[\u001b[0m\u001b[0;34m{\u001b[0m\u001b[0;36m1\u001b[0m\u001b[0;34m,\u001b[0m\u001b[0;36m2\u001b[0m\u001b[0;34m,\u001b[0m\u001b[0;36m3\u001b[0m\u001b[0;34m}\u001b[0m\u001b[0;34m]\u001b[0m\u001b[0;34m=\u001b[0m\u001b[0;34m\"set\"\u001b[0m\u001b[0;34m\u001b[0m\u001b[0;34m\u001b[0m\u001b[0m\n\u001b[0m",
      "\u001b[0;31mTypeError\u001b[0m: unhashable type: 'set'"
     ]
    }
   ],
   "source": [
    "d[{1,2,3}]=\"set\""
   ]
  },
  {
   "cell_type": "code",
   "execution_count": 70,
   "metadata": {},
   "outputs": [
    {
     "ename": "TypeError",
     "evalue": "unhashable type: 'dict'",
     "output_type": "error",
     "traceback": [
      "\u001b[0;31m---------------------------------------------------------------------------\u001b[0m",
      "\u001b[0;31mTypeError\u001b[0m                                 Traceback (most recent call last)",
      "\u001b[0;32m<ipython-input-70-f96b6541be17>\u001b[0m in \u001b[0;36m<module>\u001b[0;34m\u001b[0m\n\u001b[0;32m----> 1\u001b[0;31m \u001b[0md\u001b[0m\u001b[0;34m[\u001b[0m\u001b[0;34m{\u001b[0m\u001b[0;36m1\u001b[0m\u001b[0;34m:\u001b[0m\u001b[0;36m2\u001b[0m\u001b[0;34m,\u001b[0m\u001b[0;36m3\u001b[0m\u001b[0;34m:\u001b[0m\u001b[0;36m4\u001b[0m\u001b[0;34m}\u001b[0m\u001b[0;34m]\u001b[0m\u001b[0;34m=\u001b[0m\u001b[0;34m\"dict\"\u001b[0m\u001b[0;34m\u001b[0m\u001b[0;34m\u001b[0m\u001b[0m\n\u001b[0m",
      "\u001b[0;31mTypeError\u001b[0m: unhashable type: 'dict'"
     ]
    }
   ],
   "source": [
    "d[{1:2,3:4}]=\"dict\""
   ]
  },
  {
   "cell_type": "code",
   "execution_count": 71,
   "metadata": {},
   "outputs": [
    {
     "name": "stdout",
     "output_type": "stream",
     "text": [
      "{1: 'three'}\n"
     ]
    }
   ],
   "source": [
    "d={1:\"one\",1.0:\"two\",True:\"three\"}\n",
    "print(d)"
   ]
  },
  {
   "cell_type": "code",
   "execution_count": 72,
   "metadata": {},
   "outputs": [
    {
     "data": {
      "text/plain": [
       "1"
      ]
     },
     "execution_count": 72,
     "metadata": {},
     "output_type": "execute_result"
    }
   ],
   "source": [
    "hash(1)"
   ]
  },
  {
   "cell_type": "code",
   "execution_count": 73,
   "metadata": {},
   "outputs": [
    {
     "data": {
      "text/plain": [
       "1"
      ]
     },
     "execution_count": 73,
     "metadata": {},
     "output_type": "execute_result"
    }
   ],
   "source": [
    "hash(1.0)"
   ]
  },
  {
   "cell_type": "code",
   "execution_count": 74,
   "metadata": {},
   "outputs": [
    {
     "data": {
      "text/plain": [
       "1"
      ]
     },
     "execution_count": 74,
     "metadata": {},
     "output_type": "execute_result"
    }
   ],
   "source": [
    "hash(True)"
   ]
  },
  {
   "cell_type": "code",
   "execution_count": 75,
   "metadata": {},
   "outputs": [
    {
     "name": "stdout",
     "output_type": "stream",
     "text": [
      "{1: '3'}\n"
     ]
    }
   ],
   "source": [
    "d={1:\"1\",1:\"2\",1:\"3\"}\n",
    "print(d)"
   ]
  },
  {
   "cell_type": "code",
   "execution_count": 76,
   "metadata": {},
   "outputs": [
    {
     "name": "stdout",
     "output_type": "stream",
     "text": [
      "{True: 'bool'}\n"
     ]
    }
   ],
   "source": [
    "d={True:\"bool\"}\n",
    "print(d)"
   ]
  },
  {
   "cell_type": "code",
   "execution_count": 77,
   "metadata": {},
   "outputs": [
    {
     "name": "stdout",
     "output_type": "stream",
     "text": [
      "{1: '4'}\n"
     ]
    }
   ],
   "source": [
    "d={1:\"2\",True:\"4\"}\n",
    "print(d)"
   ]
  },
  {
   "cell_type": "code",
   "execution_count": 78,
   "metadata": {},
   "outputs": [
    {
     "name": "stdout",
     "output_type": "stream",
     "text": [
      "{True: '2'}\n"
     ]
    }
   ],
   "source": [
    "d={True:\"4\",1:\"2\"}\n",
    "print(d)"
   ]
  },
  {
   "cell_type": "code",
   "execution_count": 79,
   "metadata": {},
   "outputs": [
    {
     "name": "stdout",
     "output_type": "stream",
     "text": [
      "{False: 'two'}\n"
     ]
    }
   ],
   "source": [
    "d={False:\"one\",0:\"two\"}\n",
    "print(d)"
   ]
  },
  {
   "cell_type": "code",
   "execution_count": 80,
   "metadata": {},
   "outputs": [
    {
     "name": "stdout",
     "output_type": "stream",
     "text": [
      "{0: 'one'}\n"
     ]
    }
   ],
   "source": [
    "d={0:\"two\",False:\"one\"}\n",
    "print(d)"
   ]
  },
  {
   "cell_type": "code",
   "execution_count": 81,
   "metadata": {},
   "outputs": [
    {
     "name": "stdout",
     "output_type": "stream",
     "text": [
      "{1: 24}\n"
     ]
    }
   ],
   "source": [
    "d={1:23,1.0:24}\n",
    "print(d)"
   ]
  },
  {
   "cell_type": "code",
   "execution_count": 82,
   "metadata": {},
   "outputs": [
    {
     "name": "stdout",
     "output_type": "stream",
     "text": [
      "{1.0: 24}\n"
     ]
    }
   ],
   "source": [
    "d={1.0:23,1:24}\n",
    "print(d)"
   ]
  },
  {
   "cell_type": "code",
   "execution_count": 83,
   "metadata": {},
   "outputs": [
    {
     "name": "stdout",
     "output_type": "stream",
     "text": [
      "{1: 24}\n"
     ]
    }
   ],
   "source": [
    "d={1:23,1:24}\n",
    "print(d)"
   ]
  },
  {
   "cell_type": "code",
   "execution_count": 84,
   "metadata": {},
   "outputs": [
    {
     "name": "stdout",
     "output_type": "stream",
     "text": [
      "{2.0: 24}\n"
     ]
    }
   ],
   "source": [
    "d={2.0:23,2:24}\n",
    "print(d)"
   ]
  },
  {
   "cell_type": "code",
   "execution_count": 85,
   "metadata": {},
   "outputs": [
    {
     "name": "stdout",
     "output_type": "stream",
     "text": [
      "{1: 'one', '1': 23}\n"
     ]
    }
   ],
   "source": [
    "d={1:\"one\",\"1\":23}\n",
    "print(d)"
   ]
  },
  {
   "cell_type": "code",
   "execution_count": 86,
   "metadata": {},
   "outputs": [
    {
     "data": {
      "text/plain": [
       "2"
      ]
     },
     "execution_count": 86,
     "metadata": {},
     "output_type": "execute_result"
    }
   ],
   "source": [
    "hash(2.0)"
   ]
  },
  {
   "cell_type": "code",
   "execution_count": 87,
   "metadata": {},
   "outputs": [
    {
     "ename": "TypeError",
     "evalue": "unsupported operand type(s) for +: 'dict' and 'dict'",
     "output_type": "error",
     "traceback": [
      "\u001b[0;31m---------------------------------------------------------------------------\u001b[0m",
      "\u001b[0;31mTypeError\u001b[0m                                 Traceback (most recent call last)",
      "\u001b[0;32m<ipython-input-87-838ae608f23a>\u001b[0m in \u001b[0;36m<module>\u001b[0;34m\u001b[0m\n\u001b[1;32m      1\u001b[0m \u001b[0mperson\u001b[0m\u001b[0;34m=\u001b[0m\u001b[0;34m{\u001b[0m\u001b[0;34m\"name\"\u001b[0m\u001b[0;34m:\u001b[0m\u001b[0;34m\"jay\"\u001b[0m\u001b[0;34m,\u001b[0m\u001b[0;34m\"age\"\u001b[0m\u001b[0;34m:\u001b[0m\u001b[0;36m3.8\u001b[0m\u001b[0;34m,\u001b[0m\u001b[0;34m\"weight\"\u001b[0m\u001b[0;34m:\u001b[0m\u001b[0;36m12\u001b[0m\u001b[0;34m}\u001b[0m\u001b[0;34m\u001b[0m\u001b[0;34m\u001b[0m\u001b[0m\n\u001b[1;32m      2\u001b[0m \u001b[0maddres\u001b[0m \u001b[0;34m=\u001b[0m\u001b[0;34m{\u001b[0m\u001b[0;34m\"state\"\u001b[0m\u001b[0;34m:\u001b[0m\u001b[0;34m\"TS\"\u001b[0m\u001b[0;34m,\u001b[0m\u001b[0;34m\"city\"\u001b[0m\u001b[0;34m:\u001b[0m\u001b[0;34m\"hyderabad\"\u001b[0m\u001b[0;34m}\u001b[0m\u001b[0;34m\u001b[0m\u001b[0;34m\u001b[0m\u001b[0m\n\u001b[0;32m----> 3\u001b[0;31m \u001b[0mprint\u001b[0m\u001b[0;34m(\u001b[0m\u001b[0mperson\u001b[0m\u001b[0;34m+\u001b[0m\u001b[0maddres\u001b[0m\u001b[0;34m)\u001b[0m\u001b[0;34m\u001b[0m\u001b[0;34m\u001b[0m\u001b[0m\n\u001b[0m",
      "\u001b[0;31mTypeError\u001b[0m: unsupported operand type(s) for +: 'dict' and 'dict'"
     ]
    }
   ],
   "source": [
    "person={\"name\":\"jay\",\"age\":3.8,\"weight\":12}\n",
    "addres ={\"state\":\"TS\",\"city\":\"hyderabad\"}\n",
    "print(person+addres)"
   ]
  },
  {
   "cell_type": "code",
   "execution_count": 88,
   "metadata": {},
   "outputs": [
    {
     "name": "stdout",
     "output_type": "stream",
     "text": [
      "{'name': 'jay', 'age': 3.8, 'weight': 12, 'state': 'TS', 'city': 'hyderabad'}\n"
     ]
    }
   ],
   "source": [
    "person={\"name\":\"jay\",\"age\":3.8,\"weight\":12}\n",
    "addres ={\"state\":\"TS\",\"city\":\"hyderabad\"}\n",
    "person.update(addres)\n",
    "print(person)"
   ]
  },
  {
   "cell_type": "code",
   "execution_count": 89,
   "metadata": {},
   "outputs": [
    {
     "name": "stdout",
     "output_type": "stream",
     "text": [
      "{'name': 'JAYARAM', 'age': 3.8, 'weight': 12, 'state': 'TS', 'city': 'hyderabad'}\n"
     ]
    }
   ],
   "source": [
    "person={\"name\":\"jay\",\"age\":3.8,\"weight\":12}\n",
    "addres ={\"state\":\"TS\",\"city\":\"hyderabad\",\"name\":\"JAYARAM\"}\n",
    "person.update(addres)\n",
    "print(person)"
   ]
  },
  {
   "cell_type": "code",
   "execution_count": 90,
   "metadata": {},
   "outputs": [
    {
     "name": "stdout",
     "output_type": "stream",
     "text": [
      "{'name': 'jay', 'NAME': 'JAY'}\n"
     ]
    }
   ],
   "source": [
    "d={\"name\":\"jay\",\"NAME\":\"JAY\"}\n",
    "print(d)"
   ]
  },
  {
   "cell_type": "code",
   "execution_count": 92,
   "metadata": {},
   "outputs": [
    {
     "name": "stdout",
     "output_type": "stream",
     "text": [
      "{'name': 'JAY', 'age': 3.8, 'weight': 12}\n"
     ]
    }
   ],
   "source": [
    "person={\"name\":\"jay\",\"age\":3.8,\"weight\":12}\n",
    "person[\"name\"]=\"JAY\"\n",
    "print(person)"
   ]
  },
  {
   "cell_type": "code",
   "execution_count": 93,
   "metadata": {},
   "outputs": [
    {
     "name": "stdout",
     "output_type": "stream",
     "text": [
      "{'name': 'JAY', 'age': 3.8, 'weight': 12}\n"
     ]
    }
   ],
   "source": [
    "person={\"name\":\"jay\",\"age\":3.8,\"weight\":12}\n",
    "person.update({\"name\":\"JAY\"})\n",
    "print(person)"
   ]
  },
  {
   "cell_type": "code",
   "execution_count": 94,
   "metadata": {},
   "outputs": [
    {
     "name": "stdout",
     "output_type": "stream",
     "text": [
      "{'name': 'jay', 'age': 3.8, 'weight': 12, 'NAME': 'JAY'}\n"
     ]
    }
   ],
   "source": [
    "person={\"name\":\"jay\",\"age\":3.8,\"weight\":12}\n",
    "person.update({\"NAME\":\"JAY\"})\n",
    "print(person)"
   ]
  },
  {
   "cell_type": "code",
   "execution_count": 95,
   "metadata": {},
   "outputs": [
    {
     "name": "stdout",
     "output_type": "stream",
     "text": [
      "{'name': 'jay', 'age': 3.8, 'weight': 12, 'NAME': 'JAY'}\n"
     ]
    }
   ],
   "source": [
    "person={\"name\":\"jay\",\"age\":3.8,\"weight\":12}\n",
    "person.setdefault(\"NAME\",\"JAY\")\n",
    "print(person)"
   ]
  },
  {
   "cell_type": "code",
   "execution_count": 96,
   "metadata": {},
   "outputs": [
    {
     "name": "stdout",
     "output_type": "stream",
     "text": [
      "{'name': 'jay', 'age': 3.8, 'weight': 12}\n"
     ]
    }
   ],
   "source": [
    "person={\"name\":\"jay\",\"age\":3.8,\"weight\":12}\n",
    "person.setdefault(\"name\",\"JAYARAM\")\n",
    "print(person)"
   ]
  },
  {
   "cell_type": "code",
   "execution_count": 97,
   "metadata": {},
   "outputs": [
    {
     "name": "stdout",
     "output_type": "stream",
     "text": [
      "{'name': 'jay', 'age': 3.8, 'weight': 12, 'phone': 9676622023}\n"
     ]
    }
   ],
   "source": [
    "person={\"name\":\"jay\",\"age\":3.8,\"weight\":12}\n",
    "person.update({\"phone\":9676622023})\n",
    "print(person)"
   ]
  },
  {
   "cell_type": "code",
   "execution_count": 98,
   "metadata": {},
   "outputs": [
    {
     "name": "stdout",
     "output_type": "stream",
     "text": [
      "{'name': 'jay', 'age': 3.8, 'weight': 12, 'phone': 9676622023}\n"
     ]
    }
   ],
   "source": [
    "person={\"name\":\"jay\",\"age\":3.8,\"weight\":12}\n",
    "person.update({\"phone\":9676622023})\n",
    "if \"phone\" not in person:\n",
    "    person.update({\"phone\":9676622023})\n",
    "print(person)\n"
   ]
  },
  {
   "cell_type": "code",
   "execution_count": 100,
   "metadata": {},
   "outputs": [
    {
     "name": "stdout",
     "output_type": "stream",
     "text": [
      "{'name': 'jay', 'age': 3.8, 'weight': 12, 'phone': 9676622023}\n"
     ]
    }
   ],
   "source": [
    "person={\"name\":\"jay\",\"age\":3.8,\"weight\":12}\n",
    "person.update({\"phone\":9676622023})\n",
    "person.setdefault(\"phone\",9676622024)\n",
    "print(person)\n"
   ]
  },
  {
   "cell_type": "code",
   "execution_count": null,
   "metadata": {},
   "outputs": [],
   "source": []
  }
 ],
 "metadata": {
  "kernelspec": {
   "display_name": "Python 3",
   "language": "python",
   "name": "python3"
  },
  "language_info": {
   "codemirror_mode": {
    "name": "ipython",
    "version": 3
   },
   "file_extension": ".py",
   "mimetype": "text/x-python",
   "name": "python",
   "nbconvert_exporter": "python",
   "pygments_lexer": "ipython3",
   "version": "3.7.3"
  }
 },
 "nbformat": 4,
 "nbformat_minor": 2
}
